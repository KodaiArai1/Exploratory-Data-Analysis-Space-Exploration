{
 "cells": [
  {
   "cell_type": "markdown",
   "id": "02323aa7",
   "metadata": {},
   "source": [
    "# Exploratory Data Analysis: Space Exploration"
   ]
  },
  {
   "cell_type": "markdown",
   "id": "db7ff635",
   "metadata": {},
   "source": [
    "### Import libraries and formatting data "
   ]
  },
  {
   "cell_type": "code",
   "execution_count": 1,
   "id": "df0d109e",
   "metadata": {},
   "outputs": [
    {
     "data": {
      "text/html": [
       "        <script type=\"text/javascript\">\n",
       "        window.PlotlyConfig = {MathJaxConfig: 'local'};\n",
       "        if (window.MathJax && window.MathJax.Hub && window.MathJax.Hub.Config) {window.MathJax.Hub.Config({SVG: {font: \"STIX-Web\"}});}\n",
       "        if (typeof require !== 'undefined') {\n",
       "        require.undef(\"plotly\");\n",
       "        requirejs.config({\n",
       "            paths: {\n",
       "                'plotly': ['https://cdn.plot.ly/plotly-2.12.1.min']\n",
       "            }\n",
       "        });\n",
       "        require(['plotly'], function(Plotly) {\n",
       "            window._Plotly = Plotly;\n",
       "        });\n",
       "        }\n",
       "        </script>\n",
       "        "
      ]
     },
     "metadata": {},
     "output_type": "display_data"
    }
   ],
   "source": [
    "import numpy as np \n",
    "import pandas as pd \n",
    "import matplotlib.pyplot as plt\n",
    "import seaborn as sns\n",
    "sns.set_style(\"darkgrid\")\n",
    "from matplotlib import pyplot\n",
    "from iso3166 import countries\n",
    "from datetime import datetime, timedelta\n",
    "import plotly.express as px\n",
    "import plotly as py\n",
    "from plotly.offline import plot, iplot, init_notebook_mode\n",
    "import plotly.graph_objs as go\n",
    "init_notebook_mode(connected=True)\n",
    "from IPython.display import Image"
   ]
  },
  {
   "cell_type": "code",
   "execution_count": 2,
   "id": "6b4c1bd4",
   "metadata": {
    "scrolled": true
   },
   "outputs": [
    {
     "data": {
      "text/html": [
       "<div>\n",
       "<style scoped>\n",
       "    .dataframe tbody tr th:only-of-type {\n",
       "        vertical-align: middle;\n",
       "    }\n",
       "\n",
       "    .dataframe tbody tr th {\n",
       "        vertical-align: top;\n",
       "    }\n",
       "\n",
       "    .dataframe thead th {\n",
       "        text-align: right;\n",
       "    }\n",
       "</style>\n",
       "<table border=\"1\" class=\"dataframe\">\n",
       "  <thead>\n",
       "    <tr style=\"text-align: right;\">\n",
       "      <th></th>\n",
       "      <th>Company Name</th>\n",
       "      <th>Location</th>\n",
       "      <th>Datum</th>\n",
       "      <th>Detail</th>\n",
       "      <th>Status Rocket</th>\n",
       "      <th>Rocket</th>\n",
       "      <th>Status Mission</th>\n",
       "    </tr>\n",
       "  </thead>\n",
       "  <tbody>\n",
       "    <tr>\n",
       "      <th>0</th>\n",
       "      <td>SpaceX</td>\n",
       "      <td>LC-39A, Kennedy Space Center, Florida, USA</td>\n",
       "      <td>Fri Aug 07, 2020 05:12 UTC</td>\n",
       "      <td>Falcon 9 Block 5 | Starlink V1 L9 &amp; BlackSky</td>\n",
       "      <td>StatusActive</td>\n",
       "      <td>50.0</td>\n",
       "      <td>Success</td>\n",
       "    </tr>\n",
       "    <tr>\n",
       "      <th>1</th>\n",
       "      <td>CASC</td>\n",
       "      <td>Site 9401 (SLS-2), Jiuquan Satellite Launch Ce...</td>\n",
       "      <td>Thu Aug 06, 2020 04:01 UTC</td>\n",
       "      <td>Long March 2D | Gaofen-9 04 &amp; Q-SAT</td>\n",
       "      <td>StatusActive</td>\n",
       "      <td>29.75</td>\n",
       "      <td>Success</td>\n",
       "    </tr>\n",
       "    <tr>\n",
       "      <th>2</th>\n",
       "      <td>SpaceX</td>\n",
       "      <td>Pad A, Boca Chica, Texas, USA</td>\n",
       "      <td>Tue Aug 04, 2020 23:57 UTC</td>\n",
       "      <td>Starship Prototype | 150 Meter Hop</td>\n",
       "      <td>StatusActive</td>\n",
       "      <td>NaN</td>\n",
       "      <td>Success</td>\n",
       "    </tr>\n",
       "    <tr>\n",
       "      <th>3</th>\n",
       "      <td>Roscosmos</td>\n",
       "      <td>Site 200/39, Baikonur Cosmodrome, Kazakhstan</td>\n",
       "      <td>Thu Jul 30, 2020 21:25 UTC</td>\n",
       "      <td>Proton-M/Briz-M | Ekspress-80 &amp; Ekspress-103</td>\n",
       "      <td>StatusActive</td>\n",
       "      <td>65.0</td>\n",
       "      <td>Success</td>\n",
       "    </tr>\n",
       "    <tr>\n",
       "      <th>4</th>\n",
       "      <td>ULA</td>\n",
       "      <td>SLC-41, Cape Canaveral AFS, Florida, USA</td>\n",
       "      <td>Thu Jul 30, 2020 11:50 UTC</td>\n",
       "      <td>Atlas V 541 | Perseverance</td>\n",
       "      <td>StatusActive</td>\n",
       "      <td>145.0</td>\n",
       "      <td>Success</td>\n",
       "    </tr>\n",
       "  </tbody>\n",
       "</table>\n",
       "</div>"
      ],
      "text/plain": [
       "  Company Name                                           Location  \\\n",
       "0       SpaceX         LC-39A, Kennedy Space Center, Florida, USA   \n",
       "1         CASC  Site 9401 (SLS-2), Jiuquan Satellite Launch Ce...   \n",
       "2       SpaceX                      Pad A, Boca Chica, Texas, USA   \n",
       "3    Roscosmos       Site 200/39, Baikonur Cosmodrome, Kazakhstan   \n",
       "4          ULA           SLC-41, Cape Canaveral AFS, Florida, USA   \n",
       "\n",
       "                        Datum                                        Detail  \\\n",
       "0  Fri Aug 07, 2020 05:12 UTC  Falcon 9 Block 5 | Starlink V1 L9 & BlackSky   \n",
       "1  Thu Aug 06, 2020 04:01 UTC           Long March 2D | Gaofen-9 04 & Q-SAT   \n",
       "2  Tue Aug 04, 2020 23:57 UTC            Starship Prototype | 150 Meter Hop   \n",
       "3  Thu Jul 30, 2020 21:25 UTC  Proton-M/Briz-M | Ekspress-80 & Ekspress-103   \n",
       "4  Thu Jul 30, 2020 11:50 UTC                    Atlas V 541 | Perseverance   \n",
       "\n",
       "  Status Rocket  Rocket Status Mission  \n",
       "0  StatusActive   50.0         Success  \n",
       "1  StatusActive  29.75         Success  \n",
       "2  StatusActive     NaN        Success  \n",
       "3  StatusActive   65.0         Success  \n",
       "4  StatusActive  145.0         Success  "
      ]
     },
     "execution_count": 2,
     "metadata": {},
     "output_type": "execute_result"
    }
   ],
   "source": [
    "sm = pd.read_csv(\"Space_Corrected.csv\")\n",
    "sm.drop(['Unnamed: 0.1','Unnamed: 0'], axis=1, inplace=True)\n",
    "sm.head()"
   ]
  },
  {
   "cell_type": "markdown",
   "id": "02297740",
   "metadata": {},
   "source": [
    "### We can see the data contains the following information:\n",
    "- Name of Company/Organisation launching space missions\n",
    "- Location of launch\n",
    "- Date and time of launch\n",
    "- Launch details (rocket information)\n",
    "- Status of rocket\n",
    "- Rocket cost ($) for the mission\n",
    "- Status of mission (success or failure)"
   ]
  },
  {
   "cell_type": "code",
   "execution_count": 3,
   "id": "ebad8762",
   "metadata": {},
   "outputs": [],
   "source": [
    "#Retrieve country location for every launch\n",
    "sm[\"Country\"] = sm[\"Location\"].apply(lambda location: location.split(\", \")[-1])\n",
    "\n",
    "#Dictionary to help with mapping. Following locations fall under the countries listed\n",
    "countries_list = {\"Gran Canaria\": \"USA\", \n",
    "                \"Barents Sea\": \"Russian Federation\",\n",
    "                \"Russia\": \"Russian Federation\",\n",
    "                \"Pacific Missile Range Facility\": \"USA\", \n",
    "                \"Shahrud Missile Test Site\": \"Iran, Islamic Republic of\", \n",
    "                \"Yellow Sea\": \"China\", \n",
    "                \"New Mexico\": \"USA\",\n",
    "                \"Iran\": \"Iran, Islamic Republic of\",\n",
    "                \"North Korea\": \"Korea, Democratic People's Republic of\",\n",
    "                \"Pacific Ocean\": \"United States Minor Outlying Islands\",\n",
    "                \"South Korea\": \"Korea, Republic of\"}\n",
    "sm[\"Country\"] = sm[\"Country\"].replace(countries_list)"
   ]
  },
  {
   "cell_type": "code",
   "execution_count": 4,
   "id": "28e2ec25",
   "metadata": {},
   "outputs": [],
   "source": [
    "#Format dates to create desired columns respectively\n",
    "sm[\"Datum\"] = pd.to_datetime(sm[\"Datum\"])\n",
    "sm[\"Year\"] = sm[\"Datum\"].apply(lambda datetime: datetime.year)"
   ]
  },
  {
   "cell_type": "code",
   "execution_count": 5,
   "id": "fe2bbb19",
   "metadata": {},
   "outputs": [],
   "source": [
    "#Retrieve rocket names from \"Detail\" \n",
    "sm[\"Rocket Name\"] = sm[\"Detail\"].apply(lambda rocket: rocket.split(\"|\")[0])"
   ]
  },
  {
   "cell_type": "code",
   "execution_count": 6,
   "id": "760c87ba",
   "metadata": {},
   "outputs": [
    {
     "data": {
      "text/html": [
       "<div>\n",
       "<style scoped>\n",
       "    .dataframe tbody tr th:only-of-type {\n",
       "        vertical-align: middle;\n",
       "    }\n",
       "\n",
       "    .dataframe tbody tr th {\n",
       "        vertical-align: top;\n",
       "    }\n",
       "\n",
       "    .dataframe thead th {\n",
       "        text-align: right;\n",
       "    }\n",
       "</style>\n",
       "<table border=\"1\" class=\"dataframe\">\n",
       "  <thead>\n",
       "    <tr style=\"text-align: right;\">\n",
       "      <th></th>\n",
       "      <th>Company Name</th>\n",
       "      <th>Location</th>\n",
       "      <th>Datum</th>\n",
       "      <th>Detail</th>\n",
       "      <th>Status Rocket</th>\n",
       "      <th>Rocket</th>\n",
       "      <th>Status Mission</th>\n",
       "      <th>Country</th>\n",
       "      <th>Year</th>\n",
       "      <th>Rocket Name</th>\n",
       "    </tr>\n",
       "  </thead>\n",
       "  <tbody>\n",
       "    <tr>\n",
       "      <th>0</th>\n",
       "      <td>SpaceX</td>\n",
       "      <td>LC-39A, Kennedy Space Center, Florida, USA</td>\n",
       "      <td>2020-08-07 05:12:00+00:00</td>\n",
       "      <td>Falcon 9 Block 5 | Starlink V1 L9 &amp; BlackSky</td>\n",
       "      <td>StatusActive</td>\n",
       "      <td>50.0</td>\n",
       "      <td>Success</td>\n",
       "      <td>USA</td>\n",
       "      <td>2020</td>\n",
       "      <td>Falcon 9 Block 5</td>\n",
       "    </tr>\n",
       "    <tr>\n",
       "      <th>1</th>\n",
       "      <td>CASC</td>\n",
       "      <td>Site 9401 (SLS-2), Jiuquan Satellite Launch Ce...</td>\n",
       "      <td>2020-08-06 04:01:00+00:00</td>\n",
       "      <td>Long March 2D | Gaofen-9 04 &amp; Q-SAT</td>\n",
       "      <td>StatusActive</td>\n",
       "      <td>29.75</td>\n",
       "      <td>Success</td>\n",
       "      <td>China</td>\n",
       "      <td>2020</td>\n",
       "      <td>Long March 2D</td>\n",
       "    </tr>\n",
       "    <tr>\n",
       "      <th>2</th>\n",
       "      <td>SpaceX</td>\n",
       "      <td>Pad A, Boca Chica, Texas, USA</td>\n",
       "      <td>2020-08-04 23:57:00+00:00</td>\n",
       "      <td>Starship Prototype | 150 Meter Hop</td>\n",
       "      <td>StatusActive</td>\n",
       "      <td>NaN</td>\n",
       "      <td>Success</td>\n",
       "      <td>USA</td>\n",
       "      <td>2020</td>\n",
       "      <td>Starship Prototype</td>\n",
       "    </tr>\n",
       "    <tr>\n",
       "      <th>3</th>\n",
       "      <td>Roscosmos</td>\n",
       "      <td>Site 200/39, Baikonur Cosmodrome, Kazakhstan</td>\n",
       "      <td>2020-07-30 21:25:00+00:00</td>\n",
       "      <td>Proton-M/Briz-M | Ekspress-80 &amp; Ekspress-103</td>\n",
       "      <td>StatusActive</td>\n",
       "      <td>65.0</td>\n",
       "      <td>Success</td>\n",
       "      <td>Kazakhstan</td>\n",
       "      <td>2020</td>\n",
       "      <td>Proton-M/Briz-M</td>\n",
       "    </tr>\n",
       "    <tr>\n",
       "      <th>4</th>\n",
       "      <td>ULA</td>\n",
       "      <td>SLC-41, Cape Canaveral AFS, Florida, USA</td>\n",
       "      <td>2020-07-30 11:50:00+00:00</td>\n",
       "      <td>Atlas V 541 | Perseverance</td>\n",
       "      <td>StatusActive</td>\n",
       "      <td>145.0</td>\n",
       "      <td>Success</td>\n",
       "      <td>USA</td>\n",
       "      <td>2020</td>\n",
       "      <td>Atlas V 541</td>\n",
       "    </tr>\n",
       "  </tbody>\n",
       "</table>\n",
       "</div>"
      ],
      "text/plain": [
       "  Company Name                                           Location  \\\n",
       "0       SpaceX         LC-39A, Kennedy Space Center, Florida, USA   \n",
       "1         CASC  Site 9401 (SLS-2), Jiuquan Satellite Launch Ce...   \n",
       "2       SpaceX                      Pad A, Boca Chica, Texas, USA   \n",
       "3    Roscosmos       Site 200/39, Baikonur Cosmodrome, Kazakhstan   \n",
       "4          ULA           SLC-41, Cape Canaveral AFS, Florida, USA   \n",
       "\n",
       "                       Datum                                        Detail  \\\n",
       "0  2020-08-07 05:12:00+00:00  Falcon 9 Block 5 | Starlink V1 L9 & BlackSky   \n",
       "1  2020-08-06 04:01:00+00:00           Long March 2D | Gaofen-9 04 & Q-SAT   \n",
       "2  2020-08-04 23:57:00+00:00            Starship Prototype | 150 Meter Hop   \n",
       "3  2020-07-30 21:25:00+00:00  Proton-M/Briz-M | Ekspress-80 & Ekspress-103   \n",
       "4  2020-07-30 11:50:00+00:00                    Atlas V 541 | Perseverance   \n",
       "\n",
       "  Status Rocket  Rocket Status Mission     Country  Year          Rocket Name  \n",
       "0  StatusActive   50.0         Success         USA  2020    Falcon 9 Block 5   \n",
       "1  StatusActive  29.75         Success       China  2020       Long March 2D   \n",
       "2  StatusActive     NaN        Success         USA  2020  Starship Prototype   \n",
       "3  StatusActive   65.0         Success  Kazakhstan  2020     Proton-M/Briz-M   \n",
       "4  StatusActive  145.0         Success         USA  2020         Atlas V 541   "
      ]
     },
     "execution_count": 6,
     "metadata": {},
     "output_type": "execute_result"
    }
   ],
   "source": [
    "sm.head()"
   ]
  },
  {
   "cell_type": "markdown",
   "id": "422929bb",
   "metadata": {},
   "source": [
    "# Exploring Our Data"
   ]
  },
  {
   "cell_type": "markdown",
   "id": "6a554884",
   "metadata": {},
   "source": [
    "## Simple Analysis"
   ]
  },
  {
   "cell_type": "markdown",
   "id": "59483bdc",
   "metadata": {},
   "source": [
    "To start off simply, we can count the number of launches carried out by each organisation. "
   ]
  },
  {
   "cell_type": "code",
   "execution_count": 7,
   "id": "baf28e91",
   "metadata": {
    "scrolled": false
   },
   "outputs": [
    {
     "data": {
      "image/png": "[encoded data removed]",
      "text/plain": [
       "<Figure size 800x600 with 1 Axes>"
      ]
     },
     "metadata": {},
     "output_type": "display_data"
    }
   ],
   "source": [
    "plt.figure(figsize=(8,6))\n",
    "company = sm[\"Company Name\"].value_counts().head(20).index\n",
    "sns.countplot(y=\"Company Name\", data=sm, order=company)\n",
    "plt.xlabel(\"No. of Launches\", fontsize=12)\n",
    "plt.ylabel(\"Company Name\", fontsize=12)\n",
    "plt.show()"
   ]
  },
  {
   "cell_type": "markdown",
   "id": "b9f3752a",
   "metadata": {},
   "source": [
    "We can see that RVSN USSR of Russia has launched the most number of rockets by far in comparison to other companies. "
   ]
  },
  {
   "cell_type": "markdown",
   "id": "cb492bb4",
   "metadata": {},
   "source": [
    "However, if we take a look at launches by country, this tells a different story. "
   ]
  },
  {
   "cell_type": "code",
   "execution_count": 8,
   "id": "ef127187",
   "metadata": {
    "scrolled": false
   },
   "outputs": [
    {
     "data": {
      "image/png": "[encoded data removed]",
      "text/plain": [
       "<Figure size 800x600 with 1 Axes>"
      ]
     },
     "metadata": {},
     "output_type": "display_data"
    }
   ],
   "source": [
    "#Plotting a bar chart to show launches by country\n",
    "plt.figure(figsize=(8,6))\n",
    "sns.color_palette(\"rocket_r\", as_cmap=True)\n",
    "company = sm[\"Country\"].value_counts().head(8).index\n",
    "sns.countplot(y=\"Country\", data=sm, order=company, palette=(\"Spectral_r\"))\n",
    "plt.xlabel(\"No. of Launches\", fontsize=12)\n",
    "plt.ylabel(\"Launch by Country\", fontsize=12)\n",
    "plt.show()"
   ]
  },
  {
   "cell_type": "markdown",
   "id": "b0922590",
   "metadata": {},
   "source": [
    "Here we can see the USA trailing behind very closely in relation to the number of launches made by the Russian Federation, with launches in Kazakhstan also conducted by RSVN USSR. "
   ]
  },
  {
   "cell_type": "markdown",
   "id": "6cf17bfa",
   "metadata": {},
   "source": [
    "To get a stronger visual understanding, we can do the following."
   ]
  },
  {
   "cell_type": "code",
   "execution_count": 9,
   "id": "33d731ae",
   "metadata": {},
   "outputs": [],
   "source": [
    "#First to retrieve country codes\n",
    "def iso(country):\n",
    "    return countries.get(country).alpha3\n",
    "sm[\"ISO3\"] = sm[\"Country\"].apply(lambda country: iso(country))\n",
    "\n",
    "#Now to count up the countries\n",
    "iso3 = sm[\"ISO3\"].value_counts()"
   ]
  },
  {
   "cell_type": "code",
   "execution_count": 10,
   "id": "a3ab3f08",
   "metadata": {},
   "outputs": [
    {
     "data": {
      "application/vnd.plotly.v1+json": {
       "config": {
        "plotlyServerURL": "https://plot.ly"
       },
       "data": [
        {
         "coloraxis": "coloraxis",
         "geo": "geo",
         "hovertemplate": "<b>%{hovertext}</b><br><br>locations=%{location}<br>Launches=%{z}<extra></extra>",
         "hovertext": [
          "RUS",
          "USA",
          "KAZ",
          "FRA",
          "CHN",
          "JPN",
          "IND",
          "UMI",
          "IRN",
          "NZL",
          "ISR",
          "KEN",
          "AUS",
          "PRK",
          "KOR",
          "BRA"
         ],
         "locations": [
          "RUS",
          "USA",
          "KAZ",
          "FRA",
          "CHN",
          "JPN",
          "IND",
          "UMI",
          "IRN",
          "NZL",
          "ISR",
          "KEN",
          "AUS",
          "PRK",
          "KOR",
          "BRA"
         ],
         "name": "",
         "type": "choropleth",
         "z": [
          1398,
          1351,
          701,
          303,
          269,
          126,
          76,
          36,
          14,
          13,
          11,
          9,
          6,
          5,
          3,
          3
         ]
        }
       ],
       "layout": {
        "coloraxis": {
         "colorbar": {
          "title": {
           "text": "Launches"
          }
         },
         "colorscale": [
          [
           0,
           "rgb(92, 83, 165)"
          ],
          [
           0.16666666666666666,
           "rgb(160, 89, 160)"
          ],
          [
           0.3333333333333333,
           "rgb(206, 102, 147)"
          ],
          [
           0.5,
           "rgb(235, 127, 134)"
          ],
          [
           0.6666666666666666,
           "rgb(248, 160, 126)"
          ],
          [
           0.8333333333333334,
           "rgb(250, 196, 132)"
          ],
          [
           1,
           "rgb(243, 231, 155)"
          ]
         ]
        },
        "geo": {
         "center": {},
         "domain": {
          "x": [
           0,
           1
          ],
          "y": [
           0,
           1
          ]
         },
         "projection": {
          "type": "natural earth"
         }
        },
        "legend": {
         "tracegroupgap": 0
        },
        "margin": {
         "b": 5,
         "l": 80,
         "r": 80,
         "t": 30
        },
        "template": {
         "data": {
          "bar": [
           {
            "error_x": {
             "color": "#2a3f5f"
            },
            "error_y": {
             "color": "#2a3f5f"
            },
            "marker": {
             "line": {
              "color": "#E5ECF6",
              "width": 0.5
             },
             "pattern": {
              "fillmode": "overlay",
              "size": 10,
              "solidity": 0.2
             }
            },
            "type": "bar"
           }
          ],
          "barpolar": [
           {
            "marker": {
             "line": {
              "color": "#E5ECF6",
              "width": 0.5
             },
             "pattern": {
              "fillmode": "overlay",
              "size": 10,
              "solidity": 0.2
             }
            },
            "type": "barpolar"
           }
          ],
          "carpet": [
           {
            "aaxis": {
             "endlinecolor": "#2a3f5f",
             "gridcolor": "white",
             "linecolor": "white",
             "minorgridcolor": "white",
             "startlinecolor": "#2a3f5f"
            },
            "baxis": {
             "endlinecolor": "#2a3f5f",
             "gridcolor": "white",
             "linecolor": "white",
             "minorgridcolor": "white",
             "startlinecolor": "#2a3f5f"
            },
            "type": "carpet"
           }
          ],
          "choropleth": [
           {
            "colorbar": {
             "outlinewidth": 0,
             "ticks": ""
            },
            "type": "choropleth"
           }
          ],
          "contour": [
           {
            "colorbar": {
             "outlinewidth": 0,
             "ticks": ""
            },
            "colorscale": [
             [
              0,
              "#0d0887"
             ],
             [
              0.1111111111111111,
              "#46039f"
             ],
             [
              0.2222222222222222,
              "#7201a8"
             ],
             [
              0.3333333333333333,
              "#9c179e"
             ],
             [
              0.4444444444444444,
              "#bd3786"
             ],
             [
              0.5555555555555556,
              "#d8576b"
             ],
             [
              0.6666666666666666,
              "#ed7953"
             ],
             [
              0.7777777777777778,
              "#fb9f3a"
             ],
             [
              0.8888888888888888,
              "#fdca26"
             ],
             [
              1,
              "#f0f921"
             ]
            ],
            "type": "contour"
           }
          ],
          "contourcarpet": [
           {
            "colorbar": {
             "outlinewidth": 0,
             "ticks": ""
            },
            "type": "contourcarpet"
           }
          ],
          "heatmap": [
           {
            "colorbar": {
             "outlinewidth": 0,
             "ticks": ""
            },
            "colorscale": [
             [
              0,
              "#0d0887"
             ],
             [
              0.1111111111111111,
              "#46039f"
             ],
             [
              0.2222222222222222,
              "#7201a8"
             ],
             [
              0.3333333333333333,
              "#9c179e"
             ],
             [
              0.4444444444444444,
              "#bd3786"
             ],
             [
              0.5555555555555556,
              "#d8576b"
             ],
             [
              0.6666666666666666,
              "#ed7953"
             ],
             [
              0.7777777777777778,
              "#fb9f3a"
             ],
             [
              0.8888888888888888,
              "#fdca26"
             ],
             [
              1,
              "#f0f921"
             ]
            ],
            "type": "heatmap"
           }
          ],
          "heatmapgl": [
           {
            "colorbar": {
             "outlinewidth": 0,
             "ticks": ""
            },
            "colorscale": [
             [
              0,
              "#0d0887"
             ],
             [
              0.1111111111111111,
              "#46039f"
             ],
             [
              0.2222222222222222,
              "#7201a8"
             ],
             [
              0.3333333333333333,
              "#9c179e"
             ],
             [
              0.4444444444444444,
              "#bd3786"
             ],
             [
              0.5555555555555556,
              "#d8576b"
             ],
             [
              0.6666666666666666,
              "#ed7953"
             ],
             [
              0.7777777777777778,
              "#fb9f3a"
             ],
             [
              0.8888888888888888,
              "#fdca26"
             ],
             [
              1,
              "#f0f921"
             ]
            ],
            "type": "heatmapgl"
           }
          ],
          "histogram": [
           {
            "marker": {
             "pattern": {
              "fillmode": "overlay",
              "size": 10,
              "solidity": 0.2
             }
            },
            "type": "histogram"
           }
          ],
          "histogram2d": [
           {
            "colorbar": {
             "outlinewidth": 0,
             "ticks": ""
            },
            "colorscale": [
             [
              0,
              "#0d0887"
             ],
             [
              0.1111111111111111,
              "#46039f"
             ],
             [
              0.2222222222222222,
              "#7201a8"
             ],
             [
              0.3333333333333333,
              "#9c179e"
             ],
             [
              0.4444444444444444,
              "#bd3786"
             ],
             [
              0.5555555555555556,
              "#d8576b"
             ],
             [
              0.6666666666666666,
              "#ed7953"
             ],
             [
              0.7777777777777778,
              "#fb9f3a"
             ],
             [
              0.8888888888888888,
              "#fdca26"
             ],
             [
              1,
              "#f0f921"
             ]
            ],
            "type": "histogram2d"
           }
          ],
          "histogram2dcontour": [
           {
            "colorbar": {
             "outlinewidth": 0,
             "ticks": ""
            },
            "colorscale": [
             [
              0,
              "#0d0887"
             ],
             [
              0.1111111111111111,
              "#46039f"
             ],
             [
              0.2222222222222222,
              "#7201a8"
             ],
             [
              0.3333333333333333,
              "#9c179e"
             ],
             [
              0.4444444444444444,
              "#bd3786"
             ],
             [
              0.5555555555555556,
              "#d8576b"
             ],
             [
              0.6666666666666666,
              "#ed7953"
             ],
             [
              0.7777777777777778,
              "#fb9f3a"
             ],
             [
              0.8888888888888888,
              "#fdca26"
             ],
             [
              1,
              "#f0f921"
             ]
            ],
            "type": "histogram2dcontour"
           }
          ],
          "mesh3d": [
           {
            "colorbar": {
             "outlinewidth": 0,
             "ticks": ""
            },
            "type": "mesh3d"
           }
          ],
          "parcoords": [
           {
            "line": {
             "colorbar": {
              "outlinewidth": 0,
              "ticks": ""
             }
            },
            "type": "parcoords"
           }
          ],
          "pie": [
           {
            "automargin": true,
            "type": "pie"
           }
          ],
          "scatter": [
           {
            "fillpattern": {
             "fillmode": "overlay",
             "size": 10,
             "solidity": 0.2
            },
            "type": "scatter"
           }
          ],
          "scatter3d": [
           {
            "line": {
             "colorbar": {
              "outlinewidth": 0,
              "ticks": ""
             }
            },
            "marker": {
             "colorbar": {
              "outlinewidth": 0,
              "ticks": ""
             }
            },
            "type": "scatter3d"
           }
          ],
          "scattercarpet": [
           {
            "marker": {
             "colorbar": {
              "outlinewidth": 0,
              "ticks": ""
             }
            },
            "type": "scattercarpet"
           }
          ],
          "scattergeo": [
           {
            "marker": {
             "colorbar": {
              "outlinewidth": 0,
              "ticks": ""
             }
            },
            "type": "scattergeo"
           }
          ],
          "scattergl": [
           {
            "marker": {
             "colorbar": {
              "outlinewidth": 0,
              "ticks": ""
             }
            },
            "type": "scattergl"
           }
          ],
          "scattermapbox": [
           {
            "marker": {
             "colorbar": {
              "outlinewidth": 0,
              "ticks": ""
             }
            },
            "type": "scattermapbox"
           }
          ],
          "scatterpolar": [
           {
            "marker": {
             "colorbar": {
              "outlinewidth": 0,
              "ticks": ""
             }
            },
            "type": "scatterpolar"
           }
          ],
          "scatterpolargl": [
           {
            "marker": {
             "colorbar": {
              "outlinewidth": 0,
              "ticks": ""
             }
            },
            "type": "scatterpolargl"
           }
          ],
          "scatterternary": [
           {
            "marker": {
             "colorbar": {
              "outlinewidth": 0,
              "ticks": ""
             }
            },
            "type": "scatterternary"
           }
          ],
          "surface": [
           {
            "colorbar": {
             "outlinewidth": 0,
             "ticks": ""
            },
            "colorscale": [
             [
              0,
              "#0d0887"
             ],
             [
              0.1111111111111111,
              "#46039f"
             ],
             [
              0.2222222222222222,
              "#7201a8"
             ],
             [
              0.3333333333333333,
              "#9c179e"
             ],
             [
              0.4444444444444444,
              "#bd3786"
             ],
             [
              0.5555555555555556,
              "#d8576b"
             ],
             [
              0.6666666666666666,
              "#ed7953"
             ],
             [
              0.7777777777777778,
              "#fb9f3a"
             ],
             [
              0.8888888888888888,
              "#fdca26"
             ],
             [
              1,
              "#f0f921"
             ]
            ],
            "type": "surface"
           }
          ],
          "table": [
           {
            "cells": {
             "fill": {
              "color": "#EBF0F8"
             },
             "line": {
              "color": "white"
             }
            },
            "header": {
             "fill": {
              "color": "#C8D4E3"
             },
             "line": {
              "color": "white"
             }
            },
            "type": "table"
           }
          ]
         },
         "layout": {
          "annotationdefaults": {
           "arrowcolor": "#2a3f5f",
           "arrowhead": 0,
           "arrowwidth": 1
          },
          "autotypenumbers": "strict",
          "coloraxis": {
           "colorbar": {
            "outlinewidth": 0,
            "ticks": ""
           }
          },
          "colorscale": {
           "diverging": [
            [
             0,
             "#8e0152"
            ],
            [
             0.1,
             "#c51b7d"
            ],
            [
             0.2,
             "#de77ae"
            ],
            [
             0.3,
             "#f1b6da"
            ],
            [
             0.4,
             "#fde0ef"
            ],
            [
             0.5,
             "#f7f7f7"
            ],
            [
             0.6,
             "#e6f5d0"
            ],
            [
             0.7,
             "#b8e186"
            ],
            [
             0.8,
             "#7fbc41"
            ],
            [
             0.9,
             "#4d9221"
            ],
            [
             1,
             "#276419"
            ]
           ],
           "sequential": [
            [
             0,
             "#0d0887"
            ],
            [
             0.1111111111111111,
             "#46039f"
            ],
            [
             0.2222222222222222,
             "#7201a8"
            ],
            [
             0.3333333333333333,
             "#9c179e"
            ],
            [
             0.4444444444444444,
             "#bd3786"
            ],
            [
             0.5555555555555556,
             "#d8576b"
            ],
            [
             0.6666666666666666,
             "#ed7953"
            ],
            [
             0.7777777777777778,
             "#fb9f3a"
            ],
            [
             0.8888888888888888,
             "#fdca26"
            ],
            [
             1,
             "#f0f921"
            ]
           ],
           "sequentialminus": [
            [
             0,
             "#0d0887"
            ],
            [
             0.1111111111111111,
             "#46039f"
            ],
            [
             0.2222222222222222,
             "#7201a8"
            ],
            [
             0.3333333333333333,
             "#9c179e"
            ],
            [
             0.4444444444444444,
             "#bd3786"
            ],
            [
             0.5555555555555556,
             "#d8576b"
            ],
            [
             0.6666666666666666,
             "#ed7953"
            ],
            [
             0.7777777777777778,
             "#fb9f3a"
            ],
            [
             0.8888888888888888,
             "#fdca26"
            ],
            [
             1,
             "#f0f921"
            ]
           ]
          },
          "colorway": [
           "#636efa",
           "#EF553B",
           "#00cc96",
           "#ab63fa",
           "#FFA15A",
           "#19d3f3",
           "#FF6692",
           "#B6E880",
           "#FF97FF",
           "#FECB52"
          ],
          "font": {
           "color": "#2a3f5f"
          },
          "geo": {
           "bgcolor": "white",
           "lakecolor": "white",
           "landcolor": "#E5ECF6",
           "showlakes": true,
           "showland": true,
           "subunitcolor": "white"
          },
          "hoverlabel": {
           "align": "left"
          },
          "hovermode": "closest",
          "mapbox": {
           "style": "light"
          },
          "paper_bgcolor": "white",
          "plot_bgcolor": "#E5ECF6",
          "polar": {
           "angularaxis": {
            "gridcolor": "white",
            "linecolor": "white",
            "ticks": ""
           },
           "bgcolor": "#E5ECF6",
           "radialaxis": {
            "gridcolor": "white",
            "linecolor": "white",
            "ticks": ""
           }
          },
          "scene": {
           "xaxis": {
            "backgroundcolor": "#E5ECF6",
            "gridcolor": "white",
            "gridwidth": 2,
            "linecolor": "white",
            "showbackground": true,
            "ticks": "",
            "zerolinecolor": "white"
           },
           "yaxis": {
            "backgroundcolor": "#E5ECF6",
            "gridcolor": "white",
            "gridwidth": 2,
            "linecolor": "white",
            "showbackground": true,
            "ticks": "",
            "zerolinecolor": "white"
           },
           "zaxis": {
            "backgroundcolor": "#E5ECF6",
            "gridcolor": "white",
            "gridwidth": 2,
            "linecolor": "white",
            "showbackground": true,
            "ticks": "",
            "zerolinecolor": "white"
           }
          },
          "shapedefaults": {
           "line": {
            "color": "#2a3f5f"
           }
          },
          "ternary": {
           "aaxis": {
            "gridcolor": "white",
            "linecolor": "white",
            "ticks": ""
           },
           "baxis": {
            "gridcolor": "white",
            "linecolor": "white",
            "ticks": ""
           },
           "bgcolor": "#E5ECF6",
           "caxis": {
            "gridcolor": "white",
            "linecolor": "white",
            "ticks": ""
           }
          },
          "title": {
           "x": 0.05
          },
          "xaxis": {
           "automargin": true,
           "gridcolor": "white",
           "linecolor": "white",
           "ticks": "",
           "title": {
            "standoff": 15
           },
           "zerolinecolor": "white",
           "zerolinewidth": 2
          },
          "yaxis": {
           "automargin": true,
           "gridcolor": "white",
           "linecolor": "white",
           "ticks": "",
           "title": {
            "standoff": 15
           },
           "zerolinecolor": "white",
           "zerolinewidth": 2
          }
         }
        },
        "title": {
         "text": "<b>Number of launches by each country</b>",
         "x": 0.5
        }
       }
      },
      "text/html": [
       "<div>                            <div id=\"f141668e-a6b2-4703-9929-f8a3bfc9d033\" class=\"plotly-graph-div\" style=\"height:525px; width:100%;\"></div>            <script type=\"text/javascript\">                require([\"plotly\"], function(Plotly) {                    window.PLOTLYENV=window.PLOTLYENV || {};                                    if (document.getElementById(\"f141668e-a6b2-4703-9929-f8a3bfc9d033\")) {                    Plotly.newPlot(                        \"f141668e-a6b2-4703-9929-f8a3bfc9d033\",                        [{\"coloraxis\":\"coloraxis\",\"geo\":\"geo\",\"hovertemplate\":\"<b>%{hovertext}</b><br><br>locations=%{location}<br>Launches=%{z}<extra></extra>\",\"hovertext\":[\"RUS\",\"USA\",\"KAZ\",\"FRA\",\"CHN\",\"JPN\",\"IND\",\"UMI\",\"IRN\",\"NZL\",\"ISR\",\"KEN\",\"AUS\",\"PRK\",\"KOR\",\"BRA\"],\"locations\":[\"RUS\",\"USA\",\"KAZ\",\"FRA\",\"CHN\",\"JPN\",\"IND\",\"UMI\",\"IRN\",\"NZL\",\"ISR\",\"KEN\",\"AUS\",\"PRK\",\"KOR\",\"BRA\"],\"name\":\"\",\"z\":[1398,1351,701,303,269,126,76,36,14,13,11,9,6,5,3,3],\"type\":\"choropleth\"}],                        {\"template\":{\"data\":{\"histogram2dcontour\":[{\"type\":\"histogram2dcontour\",\"colorbar\":{\"outlinewidth\":0,\"ticks\":\"\"},\"colorscale\":[[0.0,\"#0d0887\"],[0.1111111111111111,\"#46039f\"],[0.2222222222222222,\"#7201a8\"],[0.3333333333333333,\"#9c179e\"],[0.4444444444444444,\"#bd3786\"],[0.5555555555555556,\"#d8576b\"],[0.6666666666666666,\"#ed7953\"],[0.7777777777777778,\"#fb9f3a\"],[0.8888888888888888,\"#fdca26\"],[1.0,\"#f0f921\"]]}],\"choropleth\":[{\"type\":\"choropleth\",\"colorbar\":{\"outlinewidth\":0,\"ticks\":\"\"}}],\"histogram2d\":[{\"type\":\"histogram2d\",\"colorbar\":{\"outlinewidth\":0,\"ticks\":\"\"},\"colorscale\":[[0.0,\"#0d0887\"],[0.1111111111111111,\"#46039f\"],[0.2222222222222222,\"#7201a8\"],[0.3333333333333333,\"#9c179e\"],[0.4444444444444444,\"#bd3786\"],[0.5555555555555556,\"#d8576b\"],[0.6666666666666666,\"#ed7953\"],[0.7777777777777778,\"#fb9f3a\"],[0.8888888888888888,\"#fdca26\"],[1.0,\"#f0f921\"]]}],\"heatmap\":[{\"type\":\"heatmap\",\"colorbar\":{\"outlinewidth\":0,\"ticks\":\"\"},\"colorscale\":[[0.0,\"#0d0887\"],[0.1111111111111111,\"#46039f\"],[0.2222222222222222,\"#7201a8\"],[0.3333333333333333,\"#9c179e\"],[0.4444444444444444,\"#bd3786\"],[0.5555555555555556,\"#d8576b\"],[0.6666666666666666,\"#ed7953\"],[0.7777777777777778,\"#fb9f3a\"],[0.8888888888888888,\"#fdca26\"],[1.0,\"#f0f921\"]]}],\"heatmapgl\":[{\"type\":\"heatmapgl\",\"colorbar\":{\"outlinewidth\":0,\"ticks\":\"\"},\"colorscale\":[[0.0,\"#0d0887\"],[0.1111111111111111,\"#46039f\"],[0.2222222222222222,\"#7201a8\"],[0.3333333333333333,\"#9c179e\"],[0.4444444444444444,\"#bd3786\"],[0.5555555555555556,\"#d8576b\"],[0.6666666666666666,\"#ed7953\"],[0.7777777777777778,\"#fb9f3a\"],[0.8888888888888888,\"#fdca26\"],[1.0,\"#f0f921\"]]}],\"contourcarpet\":[{\"type\":\"contourcarpet\",\"colorbar\":{\"outlinewidth\":0,\"ticks\":\"\"}}],\"contour\":[{\"type\":\"contour\",\"colorbar\":{\"outlinewidth\":0,\"ticks\":\"\"},\"colorscale\":[[0.0,\"#0d0887\"],[0.1111111111111111,\"#46039f\"],[0.2222222222222222,\"#7201a8\"],[0.3333333333333333,\"#9c179e\"],[0.4444444444444444,\"#bd3786\"],[0.5555555555555556,\"#d8576b\"],[0.6666666666666666,\"#ed7953\"],[0.7777777777777778,\"#fb9f3a\"],[0.8888888888888888,\"#fdca26\"],[1.0,\"#f0f921\"]]}],\"surface\":[{\"type\":\"surface\",\"colorbar\":{\"outlinewidth\":0,\"ticks\":\"\"},\"colorscale\":[[0.0,\"#0d0887\"],[0.1111111111111111,\"#46039f\"],[0.2222222222222222,\"#7201a8\"],[0.3333333333333333,\"#9c179e\"],[0.4444444444444444,\"#bd3786\"],[0.5555555555555556,\"#d8576b\"],[0.6666666666666666,\"#ed7953\"],[0.7777777777777778,\"#fb9f3a\"],[0.8888888888888888,\"#fdca26\"],[1.0,\"#f0f921\"]]}],\"mesh3d\":[{\"type\":\"mesh3d\",\"colorbar\":{\"outlinewidth\":0,\"ticks\":\"\"}}],\"scatter\":[{\"fillpattern\":{\"fillmode\":\"overlay\",\"size\":10,\"solidity\":0.2},\"type\":\"scatter\"}],\"parcoords\":[{\"type\":\"parcoords\",\"line\":{\"colorbar\":{\"outlinewidth\":0,\"ticks\":\"\"}}}],\"scatterpolargl\":[{\"type\":\"scatterpolargl\",\"marker\":{\"colorbar\":{\"outlinewidth\":0,\"ticks\":\"\"}}}],\"bar\":[{\"error_x\":{\"color\":\"#2a3f5f\"},\"error_y\":{\"color\":\"#2a3f5f\"},\"marker\":{\"line\":{\"color\":\"#E5ECF6\",\"width\":0.5},\"pattern\":{\"fillmode\":\"overlay\",\"size\":10,\"solidity\":0.2}},\"type\":\"bar\"}],\"scattergeo\":[{\"type\":\"scattergeo\",\"marker\":{\"colorbar\":{\"outlinewidth\":0,\"ticks\":\"\"}}}],\"scatterpolar\":[{\"type\":\"scatterpolar\",\"marker\":{\"colorbar\":{\"outlinewidth\":0,\"ticks\":\"\"}}}],\"histogram\":[{\"marker\":{\"pattern\":{\"fillmode\":\"overlay\",\"size\":10,\"solidity\":0.2}},\"type\":\"histogram\"}],\"scattergl\":[{\"type\":\"scattergl\",\"marker\":{\"colorbar\":{\"outlinewidth\":0,\"ticks\":\"\"}}}],\"scatter3d\":[{\"type\":\"scatter3d\",\"line\":{\"colorbar\":{\"outlinewidth\":0,\"ticks\":\"\"}},\"marker\":{\"colorbar\":{\"outlinewidth\":0,\"ticks\":\"\"}}}],\"scattermapbox\":[{\"type\":\"scattermapbox\",\"marker\":{\"colorbar\":{\"outlinewidth\":0,\"ticks\":\"\"}}}],\"scatterternary\":[{\"type\":\"scatterternary\",\"marker\":{\"colorbar\":{\"outlinewidth\":0,\"ticks\":\"\"}}}],\"scattercarpet\":[{\"type\":\"scattercarpet\",\"marker\":{\"colorbar\":{\"outlinewidth\":0,\"ticks\":\"\"}}}],\"carpet\":[{\"aaxis\":{\"endlinecolor\":\"#2a3f5f\",\"gridcolor\":\"white\",\"linecolor\":\"white\",\"minorgridcolor\":\"white\",\"startlinecolor\":\"#2a3f5f\"},\"baxis\":{\"endlinecolor\":\"#2a3f5f\",\"gridcolor\":\"white\",\"linecolor\":\"white\",\"minorgridcolor\":\"white\",\"startlinecolor\":\"#2a3f5f\"},\"type\":\"carpet\"}],\"table\":[{\"cells\":{\"fill\":{\"color\":\"#EBF0F8\"},\"line\":{\"color\":\"white\"}},\"header\":{\"fill\":{\"color\":\"#C8D4E3\"},\"line\":{\"color\":\"white\"}},\"type\":\"table\"}],\"barpolar\":[{\"marker\":{\"line\":{\"color\":\"#E5ECF6\",\"width\":0.5},\"pattern\":{\"fillmode\":\"overlay\",\"size\":10,\"solidity\":0.2}},\"type\":\"barpolar\"}],\"pie\":[{\"automargin\":true,\"type\":\"pie\"}]},\"layout\":{\"autotypenumbers\":\"strict\",\"colorway\":[\"#636efa\",\"#EF553B\",\"#00cc96\",\"#ab63fa\",\"#FFA15A\",\"#19d3f3\",\"#FF6692\",\"#B6E880\",\"#FF97FF\",\"#FECB52\"],\"font\":{\"color\":\"#2a3f5f\"},\"hovermode\":\"closest\",\"hoverlabel\":{\"align\":\"left\"},\"paper_bgcolor\":\"white\",\"plot_bgcolor\":\"#E5ECF6\",\"polar\":{\"bgcolor\":\"#E5ECF6\",\"angularaxis\":{\"gridcolor\":\"white\",\"linecolor\":\"white\",\"ticks\":\"\"},\"radialaxis\":{\"gridcolor\":\"white\",\"linecolor\":\"white\",\"ticks\":\"\"}},\"ternary\":{\"bgcolor\":\"#E5ECF6\",\"aaxis\":{\"gridcolor\":\"white\",\"linecolor\":\"white\",\"ticks\":\"\"},\"baxis\":{\"gridcolor\":\"white\",\"linecolor\":\"white\",\"ticks\":\"\"},\"caxis\":{\"gridcolor\":\"white\",\"linecolor\":\"white\",\"ticks\":\"\"}},\"coloraxis\":{\"colorbar\":{\"outlinewidth\":0,\"ticks\":\"\"}},\"colorscale\":{\"sequential\":[[0.0,\"#0d0887\"],[0.1111111111111111,\"#46039f\"],[0.2222222222222222,\"#7201a8\"],[0.3333333333333333,\"#9c179e\"],[0.4444444444444444,\"#bd3786\"],[0.5555555555555556,\"#d8576b\"],[0.6666666666666666,\"#ed7953\"],[0.7777777777777778,\"#fb9f3a\"],[0.8888888888888888,\"#fdca26\"],[1.0,\"#f0f921\"]],\"sequentialminus\":[[0.0,\"#0d0887\"],[0.1111111111111111,\"#46039f\"],[0.2222222222222222,\"#7201a8\"],[0.3333333333333333,\"#9c179e\"],[0.4444444444444444,\"#bd3786\"],[0.5555555555555556,\"#d8576b\"],[0.6666666666666666,\"#ed7953\"],[0.7777777777777778,\"#fb9f3a\"],[0.8888888888888888,\"#fdca26\"],[1.0,\"#f0f921\"]],\"diverging\":[[0,\"#8e0152\"],[0.1,\"#c51b7d\"],[0.2,\"#de77ae\"],[0.3,\"#f1b6da\"],[0.4,\"#fde0ef\"],[0.5,\"#f7f7f7\"],[0.6,\"#e6f5d0\"],[0.7,\"#b8e186\"],[0.8,\"#7fbc41\"],[0.9,\"#4d9221\"],[1,\"#276419\"]]},\"xaxis\":{\"gridcolor\":\"white\",\"linecolor\":\"white\",\"ticks\":\"\",\"title\":{\"standoff\":15},\"zerolinecolor\":\"white\",\"automargin\":true,\"zerolinewidth\":2},\"yaxis\":{\"gridcolor\":\"white\",\"linecolor\":\"white\",\"ticks\":\"\",\"title\":{\"standoff\":15},\"zerolinecolor\":\"white\",\"automargin\":true,\"zerolinewidth\":2},\"scene\":{\"xaxis\":{\"backgroundcolor\":\"#E5ECF6\",\"gridcolor\":\"white\",\"linecolor\":\"white\",\"showbackground\":true,\"ticks\":\"\",\"zerolinecolor\":\"white\",\"gridwidth\":2},\"yaxis\":{\"backgroundcolor\":\"#E5ECF6\",\"gridcolor\":\"white\",\"linecolor\":\"white\",\"showbackground\":true,\"ticks\":\"\",\"zerolinecolor\":\"white\",\"gridwidth\":2},\"zaxis\":{\"backgroundcolor\":\"#E5ECF6\",\"gridcolor\":\"white\",\"linecolor\":\"white\",\"showbackground\":true,\"ticks\":\"\",\"zerolinecolor\":\"white\",\"gridwidth\":2}},\"shapedefaults\":{\"line\":{\"color\":\"#2a3f5f\"}},\"annotationdefaults\":{\"arrowcolor\":\"#2a3f5f\",\"arrowhead\":0,\"arrowwidth\":1},\"geo\":{\"bgcolor\":\"white\",\"landcolor\":\"#E5ECF6\",\"subunitcolor\":\"white\",\"showland\":true,\"showlakes\":true,\"lakecolor\":\"white\"},\"title\":{\"x\":0.05},\"mapbox\":{\"style\":\"light\"}}},\"geo\":{\"domain\":{\"x\":[0.0,1.0],\"y\":[0.0,1.0]},\"projection\":{\"type\":\"natural earth\"},\"center\":{}},\"coloraxis\":{\"colorbar\":{\"title\":{\"text\":\"Launches\"}},\"colorscale\":[[0.0,\"rgb(92, 83, 165)\"],[0.16666666666666666,\"rgb(160, 89, 160)\"],[0.3333333333333333,\"rgb(206, 102, 147)\"],[0.5,\"rgb(235, 127, 134)\"],[0.6666666666666666,\"rgb(248, 160, 126)\"],[0.8333333333333334,\"rgb(250, 196, 132)\"],[1.0,\"rgb(243, 231, 155)\"]]},\"legend\":{\"tracegroupgap\":0},\"margin\":{\"t\":30,\"l\":80,\"r\":80,\"b\":5},\"title\":{\"text\":\"<b>Number of launches by each country</b>\",\"x\":0.5}},                        {\"responsive\": true}                    ).then(function(){\n",
       "                            \n",
       "var gd = document.getElementById('f141668e-a6b2-4703-9929-f8a3bfc9d033');\n",
       "var x = new MutationObserver(function (mutations, observer) {{\n",
       "        var display = window.getComputedStyle(gd).display;\n",
       "        if (!display || display === 'none') {{\n",
       "            console.log([gd, 'removed!']);\n",
       "            Plotly.purge(gd);\n",
       "            observer.disconnect();\n",
       "        }}\n",
       "}});\n",
       "\n",
       "// Listen for the removal of the full notebook cells\n",
       "var notebookContainer = gd.closest('#notebook-container');\n",
       "if (notebookContainer) {{\n",
       "    x.observe(notebookContainer, {childList: true});\n",
       "}}\n",
       "\n",
       "// Listen for the clearing of the current output cell\n",
       "var outputEl = gd.closest('.output');\n",
       "if (outputEl) {{\n",
       "    x.observe(outputEl, {childList: true});\n",
       "}}\n",
       "\n",
       "                        })                };                });            </script>        </div>"
      ]
     },
     "metadata": {},
     "output_type": "display_data"
    }
   ],
   "source": [
    "#Use a choropleth diagram to visualise density of number of launches on a map\n",
    "fig = px.choropleth(sm, \n",
    "                    locations=iso3.index, \n",
    "                    color=iso3.values, \n",
    "                    hover_name=iso3.index, \n",
    "                    projection=\"natural earth\", \n",
    "                    color_continuous_scale=\"Sunset_r\",\n",
    "                    labels={\"color\":\"Launches\"})\n",
    "fig.update_layout(margin=dict(l=80, r=80, t=30, b=5),\n",
    "                 title={ \"text\" : \"<b>Number of launches by each country</b>\", \"x\" : 0.5}\n",
    "                 )\n",
    "fig.show()"
   ]
  },
  {
   "cell_type": "markdown",
   "id": "58f4c2b7",
   "metadata": {},
   "source": [
    "As per the spectrum on the right, coutries in yellow represent a higher launch count where as conutries in blue represent a lower launch count. \n",
    "And we can do a similar search for the number of launches per launch site to strengthen our findings."
   ]
  },
  {
   "cell_type": "code",
   "execution_count": 11,
   "id": "258ea401",
   "metadata": {
    "scrolled": false
   },
   "outputs": [
    {
     "data": {
      "image/png": "[encoded data removed]",
      "text/plain": [
       "<Figure size 800x800 with 1 Axes>"
      ]
     },
     "metadata": {},
     "output_type": "display_data"
    }
   ],
   "source": [
    "#Plotting a bar chart of the top 30 launch sites with the most launches carried out\n",
    "plt.figure(figsize=(8,8))\n",
    "location_count= sm[\"Location\"].value_counts().head(30).index\n",
    "sns.countplot(y=\"Location\", data=sm, order=location_count)\n",
    "plt.title(\"Number of Launches by Launch Site\", fontsize=15)\n",
    "plt.xlabel(\"No. of Launches\", fontsize=12)\n",
    "plt.ylabel(\"Launch Sites by Location\", fontsize=12)\n",
    "plt.show()"
   ]
  },
  {
   "cell_type": "markdown",
   "id": "e6390ba0",
   "metadata": {},
   "source": [
    "The locations of launch sites across the years have taken place mostly from the Russian Federation(USSR) and USA. From the data we have looked at thus far, we can deduce that space exploration has predominanlty been dominated by these two countries."
   ]
  },
  {
   "cell_type": "markdown",
   "id": "0155cdcc",
   "metadata": {},
   "source": [
    "Taking a look through history, our biggest activity in space exploration came not long after we discovered the technology to send machine and man beyond Earth's atmospehere. "
   ]
  },
  {
   "cell_type": "code",
   "execution_count": 12,
   "id": "2e2ffa39",
   "metadata": {},
   "outputs": [
    {
     "data": {
      "image/png": "[encoded data removed]",
      "text/plain": [
       "<Figure size 2000x500 with 1 Axes>"
      ]
     },
     "metadata": {},
     "output_type": "display_data"
    }
   ],
   "source": [
    "plt.figure(figsize=(20,5))\n",
    "\n",
    "g = sns.countplot(x=sm[\"Year\"])\n",
    "g.set_title(\"Launch per Year\", fontsize=20)\n",
    "\n",
    "g.set_xlabel(\"Year\", fontsize=16)\n",
    "plt.xticks(rotation=45, ha=\"right\")\n",
    "\n",
    "g.set_ylabel(\"Number of Launhces\", fontsize=16)\n",
    "g.tick_params(labelsize=12)\n",
    "\n",
    "plt.show()"
   ]
  },
  {
   "cell_type": "markdown",
   "id": "e172ac2f",
   "metadata": {},
   "source": [
    "The 1960's and 1970's sees the highest number of launches in history which is when the space race took place during the Cold War. As the space race came to an end, space exploration slowed down. But as of recent, other national/international space agencies and organisations have had large success of their own. "
   ]
  },
  {
   "cell_type": "markdown",
   "id": "5c9322ca",
   "metadata": {},
   "source": [
    "## A Team Effort"
   ]
  },
  {
   "cell_type": "markdown",
   "id": "adc3e01c",
   "metadata": {},
   "source": [
    "As we saw previously, RSVN USSR made up a large portion of the number of rockets launched. However categorising them by launches per country, USA tallied a similar number of launches to the Russian Federation. We can use a sunburst diagram to illustrate the organisations within their countries and the success they've had. "
   ]
  },
  {
   "cell_type": "code",
   "execution_count": 13,
   "id": "a282ace7",
   "metadata": {
    "scrolled": false
   },
   "outputs": [
    {
     "data": {
      "application/vnd.plotly.v1+json": {
       "config": {
        "plotlyServerURL": "https://plot.ly"
       },
       "data": [
        {
         "branchvalues": "total",
         "domain": {
          "x": [
           0,
           1
          ],
          "y": [
           0,
           1
          ]
         },
         "hovertemplate": "labels=%{label}<br>count=%{value}<br>parent=%{parent}<br>id=%{id}<extra></extra>",
         "ids": [
          "Brazil/AEB/Failure",
          "USA/AMBA/Failure",
          "France/Arianespace/Failure",
          "USA/Boeing/Failure",
          "China/CASC/Failure",
          "China/CASIC/Failure",
          "Australia/CECLES/Failure",
          "France/CECLES/Failure",
          "France/CNES/Failure",
          "USA/EER/Failure",
          "France/ESA/Failure",
          "Russian Federation/Eurockot/Failure",
          "China/ExPace/Failure",
          "USA/Exos/Failure",
          "USA/General Dynamics/Failure",
          "Israel/IAI/Failure",
          "Iran, Islamic Republic of/ISA/Failure",
          "Japan/ISAS/Failure",
          "India/ISRO/Failure",
          "Japan/JAXA/Failure",
          "Korea, Republic of/KARI/Failure",
          "Korea, Democratic People's Republic of/KCST/Failure",
          "Kazakhstan/Kosmotras/Failure",
          "China/Landspace/Failure",
          "USA/Lockheed/Failure",
          "Japan/MHI/Failure",
          "Russian Federation/MITT/Failure",
          "USA/Martin Marietta/Failure",
          "USA/NASA/Failure",
          "USA/Northrop/Failure",
          "China/OneSpace/Failure",
          "Australia/RAE/Failure",
          "Kazakhstan/RVSN USSR/Failure",
          "Russian Federation/RVSN USSR/Failure",
          "New Zealand/Rocket Lab/Failure",
          "Kazakhstan/Roscosmos/Failure",
          "Russian Federation/Roscosmos/Failure",
          "Russian Federation/SRC/Failure",
          "USA/Sandia/Failure",
          "United States Minor Outlying Islands/Sea Launch/Failure",
          "USA/SpaceX/Failure",
          "USA/US Air Force/Failure",
          "USA/US Navy/Failure",
          "Japan/UT/Failure",
          "Kazakhstan/VKS RF/Failure",
          "Russian Federation/VKS RF/Failure",
          "USA/Virgin Orbit/Failure",
          "USA/AMBA/Partial Failure",
          "France/Arianespace/Partial Failure",
          "France/Arm??e de l'Air/Partial Failure",
          "USA/Boeing/Partial Failure",
          "China/CASC/Partial Failure",
          "France/ESA/Partial Failure",
          "USA/Exos/Partial Failure",
          "USA/General Dynamics/Partial Failure",
          "Kazakhstan/ILS/Partial Failure",
          "Japan/ISAS/Partial Failure",
          "India/ISRO/Partial Failure",
          "Kazakhstan/Land Launch/Partial Failure",
          "Japan/MHI/Partial Failure",
          "USA/Martin Marietta/Partial Failure",
          "USA/NASA/Partial Failure",
          "USA/Northrop/Partial Failure",
          "Kazakhstan/RVSN USSR/Partial Failure",
          "Russian Federation/RVSN USSR/Partial Failure",
          "Kazakhstan/Roscosmos/Partial Failure",
          "USA/SpaceX/Partial Failure",
          "USA/ULA/Partial Failure",
          "USA/US Air Force/Partial Failure",
          "USA/US Navy/Partial Failure",
          "Russian Federation/VKS RF/Partial Failure",
          "Brazil/AEB/Prelaunch Failure",
          "Iran, Islamic Republic of/ISA/Prelaunch Failure",
          "Kazakhstan/RVSN USSR/Prelaunch Failure",
          "USA/SpaceX/Prelaunch Failure",
          "Australia/AMBA/Success",
          "USA/AMBA/Success",
          "Kenya/ASI/Success",
          "France/Arianespace/Success",
          "Kazakhstan/Arianespace/Success",
          "France/Arm??e de l'Air/Success",
          "USA/Blue Origin/Success",
          "USA/Boeing/Success",
          "China/CASC/Success",
          "China/CASIC/Success",
          "Australia/CECLES/Success",
          "France/CNES/Success",
          "USA/Douglas/Success",
          "France/ESA/Success",
          "Russian Federation/Eurockot/Success",
          "China/ExPace/Success",
          "USA/General Dynamics/Success",
          "Israel/IAI/Success",
          "Kazakhstan/ILS/Success",
          "USA/ILS/Success",
          "Iran, Islamic Republic of/IRGC/Success",
          "Iran, Islamic Republic of/ISA/Success",
          "Japan/ISAS/Success",
          "India/ISRO/Success",
          "Japan/JAXA/Success",
          "Korea, Republic of/KARI/Success",
          "Korea, Democratic People's Republic of/KCST/Success",
          "Russian Federation/Khrunichev/Success",
          "Kazakhstan/Kosmotras/Success",
          "Russian Federation/Kosmotras/Success",
          "Kazakhstan/Land Launch/Success",
          "USA/Lockheed/Success",
          "Japan/MHI/Success",
          "Russian Federation/MITT/Success",
          "USA/Martin Marietta/Success",
          "USA/NASA/Success",
          "USA/Northrop/Success",
          "Kazakhstan/OKB-586/Success",
          "Australia/RAE/Success",
          "Kazakhstan/RVSN USSR/Success",
          "Russian Federation/RVSN USSR/Success",
          "New Zealand/Rocket Lab/Success",
          "Kazakhstan/Roscosmos/Success",
          "Russian Federation/Roscosmos/Success",
          "Russian Federation/SRC/Success",
          "United States Minor Outlying Islands/Sea Launch/Success",
          "USA/SpaceX/Success",
          "Kazakhstan/Starsem/Success",
          "USA/ULA/Success",
          "USA/US Air Force/Success",
          "USA/US Navy/Success",
          "Japan/UT/Success",
          "Kazakhstan/VKS RF/Success",
          "Russian Federation/VKS RF/Success",
          "Kazakhstan/Yuzhmash/Success",
          "Russian Federation/Yuzhmash/Success",
          "China/i-Space/Success",
          "Brazil/AEB",
          "Australia/AMBA",
          "USA/AMBA",
          "Kenya/ASI",
          "France/Arianespace",
          "Kazakhstan/Arianespace",
          "France/Arm??e de l'Air",
          "USA/Blue Origin",
          "USA/Boeing",
          "China/CASC",
          "China/CASIC",
          "Australia/CECLES",
          "France/CECLES",
          "France/CNES",
          "USA/Douglas",
          "USA/EER",
          "France/ESA",
          "Russian Federation/Eurockot",
          "China/ExPace",
          "USA/Exos",
          "USA/General Dynamics",
          "Israel/IAI",
          "Kazakhstan/ILS",
          "USA/ILS",
          "Iran, Islamic Republic of/IRGC",
          "Iran, Islamic Republic of/ISA",
          "Japan/ISAS",
          "India/ISRO",
          "Japan/JAXA",
          "Korea, Republic of/KARI",
          "Korea, Democratic People's Republic of/KCST",
          "Russian Federation/Khrunichev",
          "Kazakhstan/Kosmotras",
          "Russian Federation/Kosmotras",
          "Kazakhstan/Land Launch",
          "China/Landspace",
          "USA/Lockheed",
          "Japan/MHI",
          "Russian Federation/MITT",
          "USA/Martin Marietta",
          "USA/NASA",
          "USA/Northrop",
          "Kazakhstan/OKB-586",
          "China/OneSpace",
          "Australia/RAE",
          "Kazakhstan/RVSN USSR",
          "Russian Federation/RVSN USSR",
          "New Zealand/Rocket Lab",
          "Kazakhstan/Roscosmos",
          "Russian Federation/Roscosmos",
          "Russian Federation/SRC",
          "USA/Sandia",
          "United States Minor Outlying Islands/Sea Launch",
          "USA/SpaceX",
          "Kazakhstan/Starsem",
          "USA/ULA",
          "USA/US Air Force",
          "USA/US Navy",
          "Japan/UT",
          "Kazakhstan/VKS RF",
          "Russian Federation/VKS RF",
          "USA/Virgin Orbit",
          "Kazakhstan/Yuzhmash",
          "Russian Federation/Yuzhmash",
          "China/i-Space",
          "Australia",
          "Brazil",
          "China",
          "France",
          "India",
          "Iran, Islamic Republic of",
          "Israel",
          "Japan",
          "Kazakhstan",
          "Kenya",
          "Korea, Democratic People's Republic of",
          "Korea, Republic of",
          "New Zealand",
          "Russian Federation",
          "USA",
          "United States Minor Outlying Islands"
         ],
         "labels": [
          "Failure",
          "Failure",
          "Failure",
          "Failure",
          "Failure",
          "Failure",
          "Failure",
          "Failure",
          "Failure",
          "Failure",
          "Failure",
          "Failure",
          "Failure",
          "Failure",
          "Failure",
          "Failure",
          "Failure",
          "Failure",
          "Failure",
          "Failure",
          "Failure",
          "Failure",
          "Failure",
          "Failure",
          "Failure",
          "Failure",
          "Failure",
          "Failure",
          "Failure",
          "Failure",
          "Failure",
          "Failure",
          "Failure",
          "Failure",
          "Failure",
          "Failure",
          "Failure",
          "Failure",
          "Failure",
          "Failure",
          "Failure",
          "Failure",
          "Failure",
          "Failure",
          "Failure",
          "Failure",
          "Failure",
          "Partial Failure",
          "Partial Failure",
          "Partial Failure",
          "Partial Failure",
          "Partial Failure",
          "Partial Failure",
          "Partial Failure",
          "Partial Failure",
          "Partial Failure",
          "Partial Failure",
          "Partial Failure",
          "Partial Failure",
          "Partial Failure",
          "Partial Failure",
          "Partial Failure",
          "Partial Failure",
          "Partial Failure",
          "Partial Failure",
          "Partial Failure",
          "Partial Failure",
          "Partial Failure",
          "Partial Failure",
          "Partial Failure",
          "Partial Failure",
          "Prelaunch Failure",
          "Prelaunch Failure",
          "Prelaunch Failure",
          "Prelaunch Failure",
          "Success",
          "Success",
          "Success",
          "Success",
          "Success",
          "Success",
          "Success",
          "Success",
          "Success",
          "Success",
          "Success",
          "Success",
          "Success",
          "Success",
          "Success",
          "Success",
          "Success",
          "Success",
          "Success",
          "Success",
          "Success",
          "Success",
          "Success",
          "Success",
          "Success",
          "Success",
          "Success",
          "Success",
          "Success",
          "Success",
          "Success",
          "Success",
          "Success",
          "Success",
          "Success",
          "Success",
          "Success",
          "Success",
          "Success",
          "Success",
          "Success",
          "Success",
          "Success",
          "Success",
          "Success",
          "Success",
          "Success",
          "Success",
          "Success",
          "Success",
          "Success",
          "Success",
          "Success",
          "Success",
          "Success",
          "Success",
          "Success",
          "AEB",
          "AMBA",
          "AMBA",
          "ASI",
          "Arianespace",
          "Arianespace",
          "Arm??e de l'Air",
          "Blue Origin",
          "Boeing",
          "CASC",
          "CASIC",
          "CECLES",
          "CECLES",
          "CNES",
          "Douglas",
          "EER",
          "ESA",
          "Eurockot",
          "ExPace",
          "Exos",
          "General Dynamics",
          "IAI",
          "ILS",
          "ILS",
          "IRGC",
          "ISA",
          "ISAS",
          "ISRO",
          "JAXA",
          "KARI",
          "KCST",
          "Khrunichev",
          "Kosmotras",
          "Kosmotras",
          "Land Launch",
          "Landspace",
          "Lockheed",
          "MHI",
          "MITT",
          "Martin Marietta",
          "NASA",
          "Northrop",
          "OKB-586",
          "OneSpace",
          "RAE",
          "RVSN USSR",
          "RVSN USSR",
          "Rocket Lab",
          "Roscosmos",
          "Roscosmos",
          "SRC",
          "Sandia",
          "Sea Launch",
          "SpaceX",
          "Starsem",
          "ULA",
          "US Air Force",
          "US Navy",
          "UT",
          "VKS RF",
          "VKS RF",
          "Virgin Orbit",
          "Yuzhmash",
          "Yuzhmash",
          "i-Space",
          "Australia",
          "Brazil",
          "China",
          "France",
          "India",
          "Iran, Islamic Republic of",
          "Israel",
          "Japan",
          "Kazakhstan",
          "Kenya",
          "Korea, Democratic People's Republic of",
          "Korea, Republic of",
          "New Zealand",
          "Russian Federation",
          "USA",
          "United States Minor Outlying Islands"
         ],
         "name": "",
         "parents": [
          "Brazil/AEB",
          "USA/AMBA",
          "France/Arianespace",
          "USA/Boeing",
          "China/CASC",
          "China/CASIC",
          "Australia/CECLES",
          "France/CECLES",
          "France/CNES",
          "USA/EER",
          "France/ESA",
          "Russian Federation/Eurockot",
          "China/ExPace",
          "USA/Exos",
          "USA/General Dynamics",
          "Israel/IAI",
          "Iran, Islamic Republic of/ISA",
          "Japan/ISAS",
          "India/ISRO",
          "Japan/JAXA",
          "Korea, Republic of/KARI",
          "Korea, Democratic People's Republic of/KCST",
          "Kazakhstan/Kosmotras",
          "China/Landspace",
          "USA/Lockheed",
          "Japan/MHI",
          "Russian Federation/MITT",
          "USA/Martin Marietta",
          "USA/NASA",
          "USA/Northrop",
          "China/OneSpace",
          "Australia/RAE",
          "Kazakhstan/RVSN USSR",
          "Russian Federation/RVSN USSR",
          "New Zealand/Rocket Lab",
          "Kazakhstan/Roscosmos",
          "Russian Federation/Roscosmos",
          "Russian Federation/SRC",
          "USA/Sandia",
          "United States Minor Outlying Islands/Sea Launch",
          "USA/SpaceX",
          "USA/US Air Force",
          "USA/US Navy",
          "Japan/UT",
          "Kazakhstan/VKS RF",
          "Russian Federation/VKS RF",
          "USA/Virgin Orbit",
          "USA/AMBA",
          "France/Arianespace",
          "France/Arm??e de l'Air",
          "USA/Boeing",
          "China/CASC",
          "France/ESA",
          "USA/Exos",
          "USA/General Dynamics",
          "Kazakhstan/ILS",
          "Japan/ISAS",
          "India/ISRO",
          "Kazakhstan/Land Launch",
          "Japan/MHI",
          "USA/Martin Marietta",
          "USA/NASA",
          "USA/Northrop",
          "Kazakhstan/RVSN USSR",
          "Russian Federation/RVSN USSR",
          "Kazakhstan/Roscosmos",
          "USA/SpaceX",
          "USA/ULA",
          "USA/US Air Force",
          "USA/US Navy",
          "Russian Federation/VKS RF",
          "Brazil/AEB",
          "Iran, Islamic Republic of/ISA",
          "Kazakhstan/RVSN USSR",
          "USA/SpaceX",
          "Australia/AMBA",
          "USA/AMBA",
          "Kenya/ASI",
          "France/Arianespace",
          "Kazakhstan/Arianespace",
          "France/Arm??e de l'Air",
          "USA/Blue Origin",
          "USA/Boeing",
          "China/CASC",
          "China/CASIC",
          "Australia/CECLES",
          "France/CNES",
          "USA/Douglas",
          "France/ESA",
          "Russian Federation/Eurockot",
          "China/ExPace",
          "USA/General Dynamics",
          "Israel/IAI",
          "Kazakhstan/ILS",
          "USA/ILS",
          "Iran, Islamic Republic of/IRGC",
          "Iran, Islamic Republic of/ISA",
          "Japan/ISAS",
          "India/ISRO",
          "Japan/JAXA",
          "Korea, Republic of/KARI",
          "Korea, Democratic People's Republic of/KCST",
          "Russian Federation/Khrunichev",
          "Kazakhstan/Kosmotras",
          "Russian Federation/Kosmotras",
          "Kazakhstan/Land Launch",
          "USA/Lockheed",
          "Japan/MHI",
          "Russian Federation/MITT",
          "USA/Martin Marietta",
          "USA/NASA",
          "USA/Northrop",
          "Kazakhstan/OKB-586",
          "Australia/RAE",
          "Kazakhstan/RVSN USSR",
          "Russian Federation/RVSN USSR",
          "New Zealand/Rocket Lab",
          "Kazakhstan/Roscosmos",
          "Russian Federation/Roscosmos",
          "Russian Federation/SRC",
          "United States Minor Outlying Islands/Sea Launch",
          "USA/SpaceX",
          "Kazakhstan/Starsem",
          "USA/ULA",
          "USA/US Air Force",
          "USA/US Navy",
          "Japan/UT",
          "Kazakhstan/VKS RF",
          "Russian Federation/VKS RF",
          "Kazakhstan/Yuzhmash",
          "Russian Federation/Yuzhmash",
          "China/i-Space",
          "Brazil",
          "Australia",
          "USA",
          "Kenya",
          "France",
          "Kazakhstan",
          "France",
          "USA",
          "USA",
          "China",
          "China",
          "Australia",
          "France",
          "France",
          "USA",
          "USA",
          "France",
          "Russian Federation",
          "China",
          "USA",
          "USA",
          "Israel",
          "Kazakhstan",
          "USA",
          "Iran, Islamic Republic of",
          "Iran, Islamic Republic of",
          "Japan",
          "India",
          "Japan",
          "Korea, Republic of",
          "Korea, Democratic People's Republic of",
          "Russian Federation",
          "Kazakhstan",
          "Russian Federation",
          "Kazakhstan",
          "China",
          "USA",
          "Japan",
          "Russian Federation",
          "USA",
          "USA",
          "USA",
          "Kazakhstan",
          "China",
          "Australia",
          "Kazakhstan",
          "Russian Federation",
          "New Zealand",
          "Kazakhstan",
          "Russian Federation",
          "Russian Federation",
          "USA",
          "United States Minor Outlying Islands",
          "USA",
          "Kazakhstan",
          "USA",
          "USA",
          "USA",
          "Japan",
          "Kazakhstan",
          "Russian Federation",
          "USA",
          "Kazakhstan",
          "Russian Federation",
          "China",
          "",
          "",
          "",
          "",
          "",
          "",
          "",
          "",
          "",
          "",
          "",
          "",
          "",
          "",
          "",
          ""
         ],
         "type": "sunburst",
         "values": [
          2,
          3,
          7,
          3,
          14,
          2,
          2,
          1,
          2,
          1,
          3,
          1,
          1,
          1,
          37,
          2,
          8,
          3,
          8,
          1,
          2,
          3,
          1,
          1,
          5,
          2,
          1,
          11,
          11,
          7,
          1,
          1,
          66,
          55,
          2,
          2,
          1,
          1,
          1,
          3,
          4,
          30,
          14,
          4,
          3,
          4,
          1,
          1,
          3,
          1,
          2,
          6,
          1,
          3,
          11,
          1,
          1,
          5,
          1,
          2,
          3,
          6,
          2,
          17,
          24,
          1,
          1,
          1,
          2,
          1,
          6,
          1,
          1,
          1,
          1,
          1,
          3,
          9,
          267,
          2,
          3,
          12,
          131,
          231,
          3,
          1,
          6,
          1,
          9,
          12,
          9,
          203,
          9,
          5,
          40,
          1,
          4,
          26,
          63,
          6,
          1,
          2,
          1,
          11,
          10,
          6,
          74,
          80,
          6,
          100,
          186,
          74,
          2,
          1,
          495,
          1119,
          11,
          44,
          7,
          2,
          33,
          94,
          1,
          139,
          129,
          2,
          1,
          41,
          147,
          1,
          1,
          1,
          3,
          1,
          7,
          9,
          277,
          2,
          4,
          12,
          136,
          251,
          5,
          3,
          1,
          8,
          1,
          1,
          13,
          13,
          10,
          4,
          251,
          11,
          6,
          40,
          1,
          13,
          30,
          76,
          7,
          3,
          5,
          1,
          12,
          10,
          7,
          1,
          79,
          84,
          7,
          114,
          203,
          83,
          2,
          1,
          2,
          579,
          1198,
          13,
          47,
          8,
          3,
          1,
          36,
          100,
          1,
          140,
          161,
          17,
          5,
          44,
          157,
          1,
          1,
          1,
          1,
          6,
          3,
          269,
          303,
          76,
          14,
          11,
          126,
          701,
          9,
          5,
          3,
          13,
          1398,
          1351,
          36
         ]
        }
       ],
       "layout": {
        "legend": {
         "tracegroupgap": 0
        },
        "margin": {
         "b": 10,
         "l": 80,
         "r": 80,
         "t": 25
        },
        "template": {
         "data": {
          "bar": [
           {
            "error_x": {
             "color": "#2a3f5f"
            },
            "error_y": {
             "color": "#2a3f5f"
            },
            "marker": {
             "line": {
              "color": "#E5ECF6",
              "width": 0.5
             },
             "pattern": {
              "fillmode": "overlay",
              "size": 10,
              "solidity": 0.2
             }
            },
            "type": "bar"
           }
          ],
          "barpolar": [
           {
            "marker": {
             "line": {
              "color": "#E5ECF6",
              "width": 0.5
             },
             "pattern": {
              "fillmode": "overlay",
              "size": 10,
              "solidity": 0.2
             }
            },
            "type": "barpolar"
           }
          ],
          "carpet": [
           {
            "aaxis": {
             "endlinecolor": "#2a3f5f",
             "gridcolor": "white",
             "linecolor": "white",
             "minorgridcolor": "white",
             "startlinecolor": "#2a3f5f"
            },
            "baxis": {
             "endlinecolor": "#2a3f5f",
             "gridcolor": "white",
             "linecolor": "white",
             "minorgridcolor": "white",
             "startlinecolor": "#2a3f5f"
            },
            "type": "carpet"
           }
          ],
          "choropleth": [
           {
            "colorbar": {
             "outlinewidth": 0,
             "ticks": ""
            },
            "type": "choropleth"
           }
          ],
          "contour": [
           {
            "colorbar": {
             "outlinewidth": 0,
             "ticks": ""
            },
            "colorscale": [
             [
              0,
              "#0d0887"
             ],
             [
              0.1111111111111111,
              "#46039f"
             ],
             [
              0.2222222222222222,
              "#7201a8"
             ],
             [
              0.3333333333333333,
              "#9c179e"
             ],
             [
              0.4444444444444444,
              "#bd3786"
             ],
             [
              0.5555555555555556,
              "#d8576b"
             ],
             [
              0.6666666666666666,
              "#ed7953"
             ],
             [
              0.7777777777777778,
              "#fb9f3a"
             ],
             [
              0.8888888888888888,
              "#fdca26"
             ],
             [
              1,
              "#f0f921"
             ]
            ],
            "type": "contour"
           }
          ],
          "contourcarpet": [
           {
            "colorbar": {
             "outlinewidth": 0,
             "ticks": ""
            },
            "type": "contourcarpet"
           }
          ],
          "heatmap": [
           {
            "colorbar": {
             "outlinewidth": 0,
             "ticks": ""
            },
            "colorscale": [
             [
              0,
              "#0d0887"
             ],
             [
              0.1111111111111111,
              "#46039f"
             ],
             [
              0.2222222222222222,
              "#7201a8"
             ],
             [
              0.3333333333333333,
              "#9c179e"
             ],
             [
              0.4444444444444444,
              "#bd3786"
             ],
             [
              0.5555555555555556,
              "#d8576b"
             ],
             [
              0.6666666666666666,
              "#ed7953"
             ],
             [
              0.7777777777777778,
              "#fb9f3a"
             ],
             [
              0.8888888888888888,
              "#fdca26"
             ],
             [
              1,
              "#f0f921"
             ]
            ],
            "type": "heatmap"
           }
          ],
          "heatmapgl": [
           {
            "colorbar": {
             "outlinewidth": 0,
             "ticks": ""
            },
            "colorscale": [
             [
              0,
              "#0d0887"
             ],
             [
              0.1111111111111111,
              "#46039f"
             ],
             [
              0.2222222222222222,
              "#7201a8"
             ],
             [
              0.3333333333333333,
              "#9c179e"
             ],
             [
              0.4444444444444444,
              "#bd3786"
             ],
             [
              0.5555555555555556,
              "#d8576b"
             ],
             [
              0.6666666666666666,
              "#ed7953"
             ],
             [
              0.7777777777777778,
              "#fb9f3a"
             ],
             [
              0.8888888888888888,
              "#fdca26"
             ],
             [
              1,
              "#f0f921"
             ]
            ],
            "type": "heatmapgl"
           }
          ],
          "histogram": [
           {
            "marker": {
             "pattern": {
              "fillmode": "overlay",
              "size": 10,
              "solidity": 0.2
             }
            },
            "type": "histogram"
           }
          ],
          "histogram2d": [
           {
            "colorbar": {
             "outlinewidth": 0,
             "ticks": ""
            },
            "colorscale": [
             [
              0,
              "#0d0887"
             ],
             [
              0.1111111111111111,
              "#46039f"
             ],
             [
              0.2222222222222222,
              "#7201a8"
             ],
             [
              0.3333333333333333,
              "#9c179e"
             ],
             [
              0.4444444444444444,
              "#bd3786"
             ],
             [
              0.5555555555555556,
              "#d8576b"
             ],
             [
              0.6666666666666666,
              "#ed7953"
             ],
             [
              0.7777777777777778,
              "#fb9f3a"
             ],
             [
              0.8888888888888888,
              "#fdca26"
             ],
             [
              1,
              "#f0f921"
             ]
            ],
            "type": "histogram2d"
           }
          ],
          "histogram2dcontour": [
           {
            "colorbar": {
             "outlinewidth": 0,
             "ticks": ""
            },
            "colorscale": [
             [
              0,
              "#0d0887"
             ],
             [
              0.1111111111111111,
              "#46039f"
             ],
             [
              0.2222222222222222,
              "#7201a8"
             ],
             [
              0.3333333333333333,
              "#9c179e"
             ],
             [
              0.4444444444444444,
              "#bd3786"
             ],
             [
              0.5555555555555556,
              "#d8576b"
             ],
             [
              0.6666666666666666,
              "#ed7953"
             ],
             [
              0.7777777777777778,
              "#fb9f3a"
             ],
             [
              0.8888888888888888,
              "#fdca26"
             ],
             [
              1,
              "#f0f921"
             ]
            ],
            "type": "histogram2dcontour"
           }
          ],
          "mesh3d": [
           {
            "colorbar": {
             "outlinewidth": 0,
             "ticks": ""
            },
            "type": "mesh3d"
           }
          ],
          "parcoords": [
           {
            "line": {
             "colorbar": {
              "outlinewidth": 0,
              "ticks": ""
             }
            },
            "type": "parcoords"
           }
          ],
          "pie": [
           {
            "automargin": true,
            "type": "pie"
           }
          ],
          "scatter": [
           {
            "fillpattern": {
             "fillmode": "overlay",
             "size": 10,
             "solidity": 0.2
            },
            "type": "scatter"
           }
          ],
          "scatter3d": [
           {
            "line": {
             "colorbar": {
              "outlinewidth": 0,
              "ticks": ""
             }
            },
            "marker": {
             "colorbar": {
              "outlinewidth": 0,
              "ticks": ""
             }
            },
            "type": "scatter3d"
           }
          ],
          "scattercarpet": [
           {
            "marker": {
             "colorbar": {
              "outlinewidth": 0,
              "ticks": ""
             }
            },
            "type": "scattercarpet"
           }
          ],
          "scattergeo": [
           {
            "marker": {
             "colorbar": {
              "outlinewidth": 0,
              "ticks": ""
             }
            },
            "type": "scattergeo"
           }
          ],
          "scattergl": [
           {
            "marker": {
             "colorbar": {
              "outlinewidth": 0,
              "ticks": ""
             }
            },
            "type": "scattergl"
           }
          ],
          "scattermapbox": [
           {
            "marker": {
             "colorbar": {
              "outlinewidth": 0,
              "ticks": ""
             }
            },
            "type": "scattermapbox"
           }
          ],
          "scatterpolar": [
           {
            "marker": {
             "colorbar": {
              "outlinewidth": 0,
              "ticks": ""
             }
            },
            "type": "scatterpolar"
           }
          ],
          "scatterpolargl": [
           {
            "marker": {
             "colorbar": {
              "outlinewidth": 0,
              "ticks": ""
             }
            },
            "type": "scatterpolargl"
           }
          ],
          "scatterternary": [
           {
            "marker": {
             "colorbar": {
              "outlinewidth": 0,
              "ticks": ""
             }
            },
            "type": "scatterternary"
           }
          ],
          "surface": [
           {
            "colorbar": {
             "outlinewidth": 0,
             "ticks": ""
            },
            "colorscale": [
             [
              0,
              "#0d0887"
             ],
             [
              0.1111111111111111,
              "#46039f"
             ],
             [
              0.2222222222222222,
              "#7201a8"
             ],
             [
              0.3333333333333333,
              "#9c179e"
             ],
             [
              0.4444444444444444,
              "#bd3786"
             ],
             [
              0.5555555555555556,
              "#d8576b"
             ],
             [
              0.6666666666666666,
              "#ed7953"
             ],
             [
              0.7777777777777778,
              "#fb9f3a"
             ],
             [
              0.8888888888888888,
              "#fdca26"
             ],
             [
              1,
              "#f0f921"
             ]
            ],
            "type": "surface"
           }
          ],
          "table": [
           {
            "cells": {
             "fill": {
              "color": "#EBF0F8"
             },
             "line": {
              "color": "white"
             }
            },
            "header": {
             "fill": {
              "color": "#C8D4E3"
             },
             "line": {
              "color": "white"
             }
            },
            "type": "table"
           }
          ]
         },
         "layout": {
          "annotationdefaults": {
           "arrowcolor": "#2a3f5f",
           "arrowhead": 0,
           "arrowwidth": 1
          },
          "autotypenumbers": "strict",
          "coloraxis": {
           "colorbar": {
            "outlinewidth": 0,
            "ticks": ""
           }
          },
          "colorscale": {
           "diverging": [
            [
             0,
             "#8e0152"
            ],
            [
             0.1,
             "#c51b7d"
            ],
            [
             0.2,
             "#de77ae"
            ],
            [
             0.3,
             "#f1b6da"
            ],
            [
             0.4,
             "#fde0ef"
            ],
            [
             0.5,
             "#f7f7f7"
            ],
            [
             0.6,
             "#e6f5d0"
            ],
            [
             0.7,
             "#b8e186"
            ],
            [
             0.8,
             "#7fbc41"
            ],
            [
             0.9,
             "#4d9221"
            ],
            [
             1,
             "#276419"
            ]
           ],
           "sequential": [
            [
             0,
             "#0d0887"
            ],
            [
             0.1111111111111111,
             "#46039f"
            ],
            [
             0.2222222222222222,
             "#7201a8"
            ],
            [
             0.3333333333333333,
             "#9c179e"
            ],
            [
             0.4444444444444444,
             "#bd3786"
            ],
            [
             0.5555555555555556,
             "#d8576b"
            ],
            [
             0.6666666666666666,
             "#ed7953"
            ],
            [
             0.7777777777777778,
             "#fb9f3a"
            ],
            [
             0.8888888888888888,
             "#fdca26"
            ],
            [
             1,
             "#f0f921"
            ]
           ],
           "sequentialminus": [
            [
             0,
             "#0d0887"
            ],
            [
             0.1111111111111111,
             "#46039f"
            ],
            [
             0.2222222222222222,
             "#7201a8"
            ],
            [
             0.3333333333333333,
             "#9c179e"
            ],
            [
             0.4444444444444444,
             "#bd3786"
            ],
            [
             0.5555555555555556,
             "#d8576b"
            ],
            [
             0.6666666666666666,
             "#ed7953"
            ],
            [
             0.7777777777777778,
             "#fb9f3a"
            ],
            [
             0.8888888888888888,
             "#fdca26"
            ],
            [
             1,
             "#f0f921"
            ]
           ]
          },
          "colorway": [
           "#636efa",
           "#EF553B",
           "#00cc96",
           "#ab63fa",
           "#FFA15A",
           "#19d3f3",
           "#FF6692",
           "#B6E880",
           "#FF97FF",
           "#FECB52"
          ],
          "font": {
           "color": "#2a3f5f"
          },
          "geo": {
           "bgcolor": "white",
           "lakecolor": "white",
           "landcolor": "#E5ECF6",
           "showlakes": true,
           "showland": true,
           "subunitcolor": "white"
          },
          "hoverlabel": {
           "align": "left"
          },
          "hovermode": "closest",
          "mapbox": {
           "style": "light"
          },
          "paper_bgcolor": "white",
          "plot_bgcolor": "#E5ECF6",
          "polar": {
           "angularaxis": {
            "gridcolor": "white",
            "linecolor": "white",
            "ticks": ""
           },
           "bgcolor": "#E5ECF6",
           "radialaxis": {
            "gridcolor": "white",
            "linecolor": "white",
            "ticks": ""
           }
          },
          "scene": {
           "xaxis": {
            "backgroundcolor": "#E5ECF6",
            "gridcolor": "white",
            "gridwidth": 2,
            "linecolor": "white",
            "showbackground": true,
            "ticks": "",
            "zerolinecolor": "white"
           },
           "yaxis": {
            "backgroundcolor": "#E5ECF6",
            "gridcolor": "white",
            "gridwidth": 2,
            "linecolor": "white",
            "showbackground": true,
            "ticks": "",
            "zerolinecolor": "white"
           },
           "zaxis": {
            "backgroundcolor": "#E5ECF6",
            "gridcolor": "white",
            "gridwidth": 2,
            "linecolor": "white",
            "showbackground": true,
            "ticks": "",
            "zerolinecolor": "white"
           }
          },
          "shapedefaults": {
           "line": {
            "color": "#2a3f5f"
           }
          },
          "ternary": {
           "aaxis": {
            "gridcolor": "white",
            "linecolor": "white",
            "ticks": ""
           },
           "baxis": {
            "gridcolor": "white",
            "linecolor": "white",
            "ticks": ""
           },
           "bgcolor": "#E5ECF6",
           "caxis": {
            "gridcolor": "white",
            "linecolor": "white",
            "ticks": ""
           }
          },
          "title": {
           "x": 0.05
          },
          "xaxis": {
           "automargin": true,
           "gridcolor": "white",
           "linecolor": "white",
           "ticks": "",
           "title": {
            "standoff": 15
           },
           "zerolinecolor": "white",
           "zerolinewidth": 2
          },
          "yaxis": {
           "automargin": true,
           "gridcolor": "white",
           "linecolor": "white",
           "ticks": "",
           "title": {
            "standoff": 15
           },
           "zerolinecolor": "white",
           "zerolinewidth": 2
          }
         }
        },
        "title": {
         "text": "<b>Country Succes Rate</b>",
         "x": 0.5
        }
       }
      },
      "text/html": [
       "<div>                            <div id=\"0abc4147-65a3-4080-b143-12c460853aa7\" class=\"plotly-graph-div\" style=\"height:525px; width:100%;\"></div>            <script type=\"text/javascript\">                require([\"plotly\"], function(Plotly) {                    window.PLOTLYENV=window.PLOTLYENV || {};                                    if (document.getElementById(\"0abc4147-65a3-4080-b143-12c460853aa7\")) {                    Plotly.newPlot(                        \"0abc4147-65a3-4080-b143-12c460853aa7\",                        [{\"branchvalues\":\"total\",\"domain\":{\"x\":[0.0,1.0],\"y\":[0.0,1.0]},\"hovertemplate\":\"labels=%{label}<br>count=%{value}<br>parent=%{parent}<br>id=%{id}<extra></extra>\",\"ids\":[\"Brazil/AEB/Failure\",\"USA/AMBA/Failure\",\"France/Arianespace/Failure\",\"USA/Boeing/Failure\",\"China/CASC/Failure\",\"China/CASIC/Failure\",\"Australia/CECLES/Failure\",\"France/CECLES/Failure\",\"France/CNES/Failure\",\"USA/EER/Failure\",\"France/ESA/Failure\",\"Russian Federation/Eurockot/Failure\",\"China/ExPace/Failure\",\"USA/Exos/Failure\",\"USA/General Dynamics/Failure\",\"Israel/IAI/Failure\",\"Iran, Islamic Republic of/ISA/Failure\",\"Japan/ISAS/Failure\",\"India/ISRO/Failure\",\"Japan/JAXA/Failure\",\"Korea, Republic of/KARI/Failure\",\"Korea, Democratic People's Republic of/KCST/Failure\",\"Kazakhstan/Kosmotras/Failure\",\"China/Landspace/Failure\",\"USA/Lockheed/Failure\",\"Japan/MHI/Failure\",\"Russian Federation/MITT/Failure\",\"USA/Martin Marietta/Failure\",\"USA/NASA/Failure\",\"USA/Northrop/Failure\",\"China/OneSpace/Failure\",\"Australia/RAE/Failure\",\"Kazakhstan/RVSN USSR/Failure\",\"Russian Federation/RVSN USSR/Failure\",\"New Zealand/Rocket Lab/Failure\",\"Kazakhstan/Roscosmos/Failure\",\"Russian Federation/Roscosmos/Failure\",\"Russian Federation/SRC/Failure\",\"USA/Sandia/Failure\",\"United States Minor Outlying Islands/Sea Launch/Failure\",\"USA/SpaceX/Failure\",\"USA/US Air Force/Failure\",\"USA/US Navy/Failure\",\"Japan/UT/Failure\",\"Kazakhstan/VKS RF/Failure\",\"Russian Federation/VKS RF/Failure\",\"USA/Virgin Orbit/Failure\",\"USA/AMBA/Partial Failure\",\"France/Arianespace/Partial Failure\",\"France/Arm??e de l'Air/Partial Failure\",\"USA/Boeing/Partial Failure\",\"China/CASC/Partial Failure\",\"France/ESA/Partial Failure\",\"USA/Exos/Partial Failure\",\"USA/General Dynamics/Partial Failure\",\"Kazakhstan/ILS/Partial Failure\",\"Japan/ISAS/Partial Failure\",\"India/ISRO/Partial Failure\",\"Kazakhstan/Land Launch/Partial Failure\",\"Japan/MHI/Partial Failure\",\"USA/Martin Marietta/Partial Failure\",\"USA/NASA/Partial Failure\",\"USA/Northrop/Partial Failure\",\"Kazakhstan/RVSN USSR/Partial Failure\",\"Russian Federation/RVSN USSR/Partial Failure\",\"Kazakhstan/Roscosmos/Partial Failure\",\"USA/SpaceX/Partial Failure\",\"USA/ULA/Partial Failure\",\"USA/US Air Force/Partial Failure\",\"USA/US Navy/Partial Failure\",\"Russian Federation/VKS RF/Partial Failure\",\"Brazil/AEB/Prelaunch Failure\",\"Iran, Islamic Republic of/ISA/Prelaunch Failure\",\"Kazakhstan/RVSN USSR/Prelaunch Failure\",\"USA/SpaceX/Prelaunch Failure\",\"Australia/AMBA/Success\",\"USA/AMBA/Success\",\"Kenya/ASI/Success\",\"France/Arianespace/Success\",\"Kazakhstan/Arianespace/Success\",\"France/Arm??e de l'Air/Success\",\"USA/Blue Origin/Success\",\"USA/Boeing/Success\",\"China/CASC/Success\",\"China/CASIC/Success\",\"Australia/CECLES/Success\",\"France/CNES/Success\",\"USA/Douglas/Success\",\"France/ESA/Success\",\"Russian Federation/Eurockot/Success\",\"China/ExPace/Success\",\"USA/General Dynamics/Success\",\"Israel/IAI/Success\",\"Kazakhstan/ILS/Success\",\"USA/ILS/Success\",\"Iran, Islamic Republic of/IRGC/Success\",\"Iran, Islamic Republic of/ISA/Success\",\"Japan/ISAS/Success\",\"India/ISRO/Success\",\"Japan/JAXA/Success\",\"Korea, Republic of/KARI/Success\",\"Korea, Democratic People's Republic of/KCST/Success\",\"Russian Federation/Khrunichev/Success\",\"Kazakhstan/Kosmotras/Success\",\"Russian Federation/Kosmotras/Success\",\"Kazakhstan/Land Launch/Success\",\"USA/Lockheed/Success\",\"Japan/MHI/Success\",\"Russian Federation/MITT/Success\",\"USA/Martin Marietta/Success\",\"USA/NASA/Success\",\"USA/Northrop/Success\",\"Kazakhstan/OKB-586/Success\",\"Australia/RAE/Success\",\"Kazakhstan/RVSN USSR/Success\",\"Russian Federation/RVSN USSR/Success\",\"New Zealand/Rocket Lab/Success\",\"Kazakhstan/Roscosmos/Success\",\"Russian Federation/Roscosmos/Success\",\"Russian Federation/SRC/Success\",\"United States Minor Outlying Islands/Sea Launch/Success\",\"USA/SpaceX/Success\",\"Kazakhstan/Starsem/Success\",\"USA/ULA/Success\",\"USA/US Air Force/Success\",\"USA/US Navy/Success\",\"Japan/UT/Success\",\"Kazakhstan/VKS RF/Success\",\"Russian Federation/VKS RF/Success\",\"Kazakhstan/Yuzhmash/Success\",\"Russian Federation/Yuzhmash/Success\",\"China/i-Space/Success\",\"Brazil/AEB\",\"Australia/AMBA\",\"USA/AMBA\",\"Kenya/ASI\",\"France/Arianespace\",\"Kazakhstan/Arianespace\",\"France/Arm??e de l'Air\",\"USA/Blue Origin\",\"USA/Boeing\",\"China/CASC\",\"China/CASIC\",\"Australia/CECLES\",\"France/CECLES\",\"France/CNES\",\"USA/Douglas\",\"USA/EER\",\"France/ESA\",\"Russian Federation/Eurockot\",\"China/ExPace\",\"USA/Exos\",\"USA/General Dynamics\",\"Israel/IAI\",\"Kazakhstan/ILS\",\"USA/ILS\",\"Iran, Islamic Republic of/IRGC\",\"Iran, Islamic Republic of/ISA\",\"Japan/ISAS\",\"India/ISRO\",\"Japan/JAXA\",\"Korea, Republic of/KARI\",\"Korea, Democratic People's Republic of/KCST\",\"Russian Federation/Khrunichev\",\"Kazakhstan/Kosmotras\",\"Russian Federation/Kosmotras\",\"Kazakhstan/Land Launch\",\"China/Landspace\",\"USA/Lockheed\",\"Japan/MHI\",\"Russian Federation/MITT\",\"USA/Martin Marietta\",\"USA/NASA\",\"USA/Northrop\",\"Kazakhstan/OKB-586\",\"China/OneSpace\",\"Australia/RAE\",\"Kazakhstan/RVSN USSR\",\"Russian Federation/RVSN USSR\",\"New Zealand/Rocket Lab\",\"Kazakhstan/Roscosmos\",\"Russian Federation/Roscosmos\",\"Russian Federation/SRC\",\"USA/Sandia\",\"United States Minor Outlying Islands/Sea Launch\",\"USA/SpaceX\",\"Kazakhstan/Starsem\",\"USA/ULA\",\"USA/US Air Force\",\"USA/US Navy\",\"Japan/UT\",\"Kazakhstan/VKS RF\",\"Russian Federation/VKS RF\",\"USA/Virgin Orbit\",\"Kazakhstan/Yuzhmash\",\"Russian Federation/Yuzhmash\",\"China/i-Space\",\"Australia\",\"Brazil\",\"China\",\"France\",\"India\",\"Iran, Islamic Republic of\",\"Israel\",\"Japan\",\"Kazakhstan\",\"Kenya\",\"Korea, Democratic People's Republic of\",\"Korea, Republic of\",\"New Zealand\",\"Russian Federation\",\"USA\",\"United States Minor Outlying Islands\"],\"labels\":[\"Failure\",\"Failure\",\"Failure\",\"Failure\",\"Failure\",\"Failure\",\"Failure\",\"Failure\",\"Failure\",\"Failure\",\"Failure\",\"Failure\",\"Failure\",\"Failure\",\"Failure\",\"Failure\",\"Failure\",\"Failure\",\"Failure\",\"Failure\",\"Failure\",\"Failure\",\"Failure\",\"Failure\",\"Failure\",\"Failure\",\"Failure\",\"Failure\",\"Failure\",\"Failure\",\"Failure\",\"Failure\",\"Failure\",\"Failure\",\"Failure\",\"Failure\",\"Failure\",\"Failure\",\"Failure\",\"Failure\",\"Failure\",\"Failure\",\"Failure\",\"Failure\",\"Failure\",\"Failure\",\"Failure\",\"Partial Failure\",\"Partial Failure\",\"Partial Failure\",\"Partial Failure\",\"Partial Failure\",\"Partial Failure\",\"Partial Failure\",\"Partial Failure\",\"Partial Failure\",\"Partial Failure\",\"Partial Failure\",\"Partial Failure\",\"Partial Failure\",\"Partial Failure\",\"Partial Failure\",\"Partial Failure\",\"Partial Failure\",\"Partial Failure\",\"Partial Failure\",\"Partial Failure\",\"Partial Failure\",\"Partial Failure\",\"Partial Failure\",\"Partial Failure\",\"Prelaunch Failure\",\"Prelaunch Failure\",\"Prelaunch Failure\",\"Prelaunch Failure\",\"Success\",\"Success\",\"Success\",\"Success\",\"Success\",\"Success\",\"Success\",\"Success\",\"Success\",\"Success\",\"Success\",\"Success\",\"Success\",\"Success\",\"Success\",\"Success\",\"Success\",\"Success\",\"Success\",\"Success\",\"Success\",\"Success\",\"Success\",\"Success\",\"Success\",\"Success\",\"Success\",\"Success\",\"Success\",\"Success\",\"Success\",\"Success\",\"Success\",\"Success\",\"Success\",\"Success\",\"Success\",\"Success\",\"Success\",\"Success\",\"Success\",\"Success\",\"Success\",\"Success\",\"Success\",\"Success\",\"Success\",\"Success\",\"Success\",\"Success\",\"Success\",\"Success\",\"Success\",\"Success\",\"Success\",\"Success\",\"Success\",\"AEB\",\"AMBA\",\"AMBA\",\"ASI\",\"Arianespace\",\"Arianespace\",\"Arm??e de l'Air\",\"Blue Origin\",\"Boeing\",\"CASC\",\"CASIC\",\"CECLES\",\"CECLES\",\"CNES\",\"Douglas\",\"EER\",\"ESA\",\"Eurockot\",\"ExPace\",\"Exos\",\"General Dynamics\",\"IAI\",\"ILS\",\"ILS\",\"IRGC\",\"ISA\",\"ISAS\",\"ISRO\",\"JAXA\",\"KARI\",\"KCST\",\"Khrunichev\",\"Kosmotras\",\"Kosmotras\",\"Land Launch\",\"Landspace\",\"Lockheed\",\"MHI\",\"MITT\",\"Martin Marietta\",\"NASA\",\"Northrop\",\"OKB-586\",\"OneSpace\",\"RAE\",\"RVSN USSR\",\"RVSN USSR\",\"Rocket Lab\",\"Roscosmos\",\"Roscosmos\",\"SRC\",\"Sandia\",\"Sea Launch\",\"SpaceX\",\"Starsem\",\"ULA\",\"US Air Force\",\"US Navy\",\"UT\",\"VKS RF\",\"VKS RF\",\"Virgin Orbit\",\"Yuzhmash\",\"Yuzhmash\",\"i-Space\",\"Australia\",\"Brazil\",\"China\",\"France\",\"India\",\"Iran, Islamic Republic of\",\"Israel\",\"Japan\",\"Kazakhstan\",\"Kenya\",\"Korea, Democratic People's Republic of\",\"Korea, Republic of\",\"New Zealand\",\"Russian Federation\",\"USA\",\"United States Minor Outlying Islands\"],\"name\":\"\",\"parents\":[\"Brazil/AEB\",\"USA/AMBA\",\"France/Arianespace\",\"USA/Boeing\",\"China/CASC\",\"China/CASIC\",\"Australia/CECLES\",\"France/CECLES\",\"France/CNES\",\"USA/EER\",\"France/ESA\",\"Russian Federation/Eurockot\",\"China/ExPace\",\"USA/Exos\",\"USA/General Dynamics\",\"Israel/IAI\",\"Iran, Islamic Republic of/ISA\",\"Japan/ISAS\",\"India/ISRO\",\"Japan/JAXA\",\"Korea, Republic of/KARI\",\"Korea, Democratic People's Republic of/KCST\",\"Kazakhstan/Kosmotras\",\"China/Landspace\",\"USA/Lockheed\",\"Japan/MHI\",\"Russian Federation/MITT\",\"USA/Martin Marietta\",\"USA/NASA\",\"USA/Northrop\",\"China/OneSpace\",\"Australia/RAE\",\"Kazakhstan/RVSN USSR\",\"Russian Federation/RVSN USSR\",\"New Zealand/Rocket Lab\",\"Kazakhstan/Roscosmos\",\"Russian Federation/Roscosmos\",\"Russian Federation/SRC\",\"USA/Sandia\",\"United States Minor Outlying Islands/Sea Launch\",\"USA/SpaceX\",\"USA/US Air Force\",\"USA/US Navy\",\"Japan/UT\",\"Kazakhstan/VKS RF\",\"Russian Federation/VKS RF\",\"USA/Virgin Orbit\",\"USA/AMBA\",\"France/Arianespace\",\"France/Arm??e de l'Air\",\"USA/Boeing\",\"China/CASC\",\"France/ESA\",\"USA/Exos\",\"USA/General Dynamics\",\"Kazakhstan/ILS\",\"Japan/ISAS\",\"India/ISRO\",\"Kazakhstan/Land Launch\",\"Japan/MHI\",\"USA/Martin Marietta\",\"USA/NASA\",\"USA/Northrop\",\"Kazakhstan/RVSN USSR\",\"Russian Federation/RVSN USSR\",\"Kazakhstan/Roscosmos\",\"USA/SpaceX\",\"USA/ULA\",\"USA/US Air Force\",\"USA/US Navy\",\"Russian Federation/VKS RF\",\"Brazil/AEB\",\"Iran, Islamic Republic of/ISA\",\"Kazakhstan/RVSN USSR\",\"USA/SpaceX\",\"Australia/AMBA\",\"USA/AMBA\",\"Kenya/ASI\",\"France/Arianespace\",\"Kazakhstan/Arianespace\",\"France/Arm??e de l'Air\",\"USA/Blue Origin\",\"USA/Boeing\",\"China/CASC\",\"China/CASIC\",\"Australia/CECLES\",\"France/CNES\",\"USA/Douglas\",\"France/ESA\",\"Russian Federation/Eurockot\",\"China/ExPace\",\"USA/General Dynamics\",\"Israel/IAI\",\"Kazakhstan/ILS\",\"USA/ILS\",\"Iran, Islamic Republic of/IRGC\",\"Iran, Islamic Republic of/ISA\",\"Japan/ISAS\",\"India/ISRO\",\"Japan/JAXA\",\"Korea, Republic of/KARI\",\"Korea, Democratic People's Republic of/KCST\",\"Russian Federation/Khrunichev\",\"Kazakhstan/Kosmotras\",\"Russian Federation/Kosmotras\",\"Kazakhstan/Land Launch\",\"USA/Lockheed\",\"Japan/MHI\",\"Russian Federation/MITT\",\"USA/Martin Marietta\",\"USA/NASA\",\"USA/Northrop\",\"Kazakhstan/OKB-586\",\"Australia/RAE\",\"Kazakhstan/RVSN USSR\",\"Russian Federation/RVSN USSR\",\"New Zealand/Rocket Lab\",\"Kazakhstan/Roscosmos\",\"Russian Federation/Roscosmos\",\"Russian Federation/SRC\",\"United States Minor Outlying Islands/Sea Launch\",\"USA/SpaceX\",\"Kazakhstan/Starsem\",\"USA/ULA\",\"USA/US Air Force\",\"USA/US Navy\",\"Japan/UT\",\"Kazakhstan/VKS RF\",\"Russian Federation/VKS RF\",\"Kazakhstan/Yuzhmash\",\"Russian Federation/Yuzhmash\",\"China/i-Space\",\"Brazil\",\"Australia\",\"USA\",\"Kenya\",\"France\",\"Kazakhstan\",\"France\",\"USA\",\"USA\",\"China\",\"China\",\"Australia\",\"France\",\"France\",\"USA\",\"USA\",\"France\",\"Russian Federation\",\"China\",\"USA\",\"USA\",\"Israel\",\"Kazakhstan\",\"USA\",\"Iran, Islamic Republic of\",\"Iran, Islamic Republic of\",\"Japan\",\"India\",\"Japan\",\"Korea, Republic of\",\"Korea, Democratic People's Republic of\",\"Russian Federation\",\"Kazakhstan\",\"Russian Federation\",\"Kazakhstan\",\"China\",\"USA\",\"Japan\",\"Russian Federation\",\"USA\",\"USA\",\"USA\",\"Kazakhstan\",\"China\",\"Australia\",\"Kazakhstan\",\"Russian Federation\",\"New Zealand\",\"Kazakhstan\",\"Russian Federation\",\"Russian Federation\",\"USA\",\"United States Minor Outlying Islands\",\"USA\",\"Kazakhstan\",\"USA\",\"USA\",\"USA\",\"Japan\",\"Kazakhstan\",\"Russian Federation\",\"USA\",\"Kazakhstan\",\"Russian Federation\",\"China\",\"\",\"\",\"\",\"\",\"\",\"\",\"\",\"\",\"\",\"\",\"\",\"\",\"\",\"\",\"\",\"\"],\"values\":[2,3,7,3,14,2,2,1,2,1,3,1,1,1,37,2,8,3,8,1,2,3,1,1,5,2,1,11,11,7,1,1,66,55,2,2,1,1,1,3,4,30,14,4,3,4,1,1,3,1,2,6,1,3,11,1,1,5,1,2,3,6,2,17,24,1,1,1,2,1,6,1,1,1,1,1,3,9,267,2,3,12,131,231,3,1,6,1,9,12,9,203,9,5,40,1,4,26,63,6,1,2,1,11,10,6,74,80,6,100,186,74,2,1,495,1119,11,44,7,2,33,94,1,139,129,2,1,41,147,1,1,1,3,1,7,9,277,2,4,12,136,251,5,3,1,8,1,1,13,13,10,4,251,11,6,40,1,13,30,76,7,3,5,1,12,10,7,1,79,84,7,114,203,83,2,1,2,579,1198,13,47,8,3,1,36,100,1,140,161,17,5,44,157,1,1,1,1,6,3,269,303,76,14,11,126,701,9,5,3,13,1398,1351,36],\"type\":\"sunburst\"}],                        {\"template\":{\"data\":{\"histogram2dcontour\":[{\"type\":\"histogram2dcontour\",\"colorbar\":{\"outlinewidth\":0,\"ticks\":\"\"},\"colorscale\":[[0.0,\"#0d0887\"],[0.1111111111111111,\"#46039f\"],[0.2222222222222222,\"#7201a8\"],[0.3333333333333333,\"#9c179e\"],[0.4444444444444444,\"#bd3786\"],[0.5555555555555556,\"#d8576b\"],[0.6666666666666666,\"#ed7953\"],[0.7777777777777778,\"#fb9f3a\"],[0.8888888888888888,\"#fdca26\"],[1.0,\"#f0f921\"]]}],\"choropleth\":[{\"type\":\"choropleth\",\"colorbar\":{\"outlinewidth\":0,\"ticks\":\"\"}}],\"histogram2d\":[{\"type\":\"histogram2d\",\"colorbar\":{\"outlinewidth\":0,\"ticks\":\"\"},\"colorscale\":[[0.0,\"#0d0887\"],[0.1111111111111111,\"#46039f\"],[0.2222222222222222,\"#7201a8\"],[0.3333333333333333,\"#9c179e\"],[0.4444444444444444,\"#bd3786\"],[0.5555555555555556,\"#d8576b\"],[0.6666666666666666,\"#ed7953\"],[0.7777777777777778,\"#fb9f3a\"],[0.8888888888888888,\"#fdca26\"],[1.0,\"#f0f921\"]]}],\"heatmap\":[{\"type\":\"heatmap\",\"colorbar\":{\"outlinewidth\":0,\"ticks\":\"\"},\"colorscale\":[[0.0,\"#0d0887\"],[0.1111111111111111,\"#46039f\"],[0.2222222222222222,\"#7201a8\"],[0.3333333333333333,\"#9c179e\"],[0.4444444444444444,\"#bd3786\"],[0.5555555555555556,\"#d8576b\"],[0.6666666666666666,\"#ed7953\"],[0.7777777777777778,\"#fb9f3a\"],[0.8888888888888888,\"#fdca26\"],[1.0,\"#f0f921\"]]}],\"heatmapgl\":[{\"type\":\"heatmapgl\",\"colorbar\":{\"outlinewidth\":0,\"ticks\":\"\"},\"colorscale\":[[0.0,\"#0d0887\"],[0.1111111111111111,\"#46039f\"],[0.2222222222222222,\"#7201a8\"],[0.3333333333333333,\"#9c179e\"],[0.4444444444444444,\"#bd3786\"],[0.5555555555555556,\"#d8576b\"],[0.6666666666666666,\"#ed7953\"],[0.7777777777777778,\"#fb9f3a\"],[0.8888888888888888,\"#fdca26\"],[1.0,\"#f0f921\"]]}],\"contourcarpet\":[{\"type\":\"contourcarpet\",\"colorbar\":{\"outlinewidth\":0,\"ticks\":\"\"}}],\"contour\":[{\"type\":\"contour\",\"colorbar\":{\"outlinewidth\":0,\"ticks\":\"\"},\"colorscale\":[[0.0,\"#0d0887\"],[0.1111111111111111,\"#46039f\"],[0.2222222222222222,\"#7201a8\"],[0.3333333333333333,\"#9c179e\"],[0.4444444444444444,\"#bd3786\"],[0.5555555555555556,\"#d8576b\"],[0.6666666666666666,\"#ed7953\"],[0.7777777777777778,\"#fb9f3a\"],[0.8888888888888888,\"#fdca26\"],[1.0,\"#f0f921\"]]}],\"surface\":[{\"type\":\"surface\",\"colorbar\":{\"outlinewidth\":0,\"ticks\":\"\"},\"colorscale\":[[0.0,\"#0d0887\"],[0.1111111111111111,\"#46039f\"],[0.2222222222222222,\"#7201a8\"],[0.3333333333333333,\"#9c179e\"],[0.4444444444444444,\"#bd3786\"],[0.5555555555555556,\"#d8576b\"],[0.6666666666666666,\"#ed7953\"],[0.7777777777777778,\"#fb9f3a\"],[0.8888888888888888,\"#fdca26\"],[1.0,\"#f0f921\"]]}],\"mesh3d\":[{\"type\":\"mesh3d\",\"colorbar\":{\"outlinewidth\":0,\"ticks\":\"\"}}],\"scatter\":[{\"fillpattern\":{\"fillmode\":\"overlay\",\"size\":10,\"solidity\":0.2},\"type\":\"scatter\"}],\"parcoords\":[{\"type\":\"parcoords\",\"line\":{\"colorbar\":{\"outlinewidth\":0,\"ticks\":\"\"}}}],\"scatterpolargl\":[{\"type\":\"scatterpolargl\",\"marker\":{\"colorbar\":{\"outlinewidth\":0,\"ticks\":\"\"}}}],\"bar\":[{\"error_x\":{\"color\":\"#2a3f5f\"},\"error_y\":{\"color\":\"#2a3f5f\"},\"marker\":{\"line\":{\"color\":\"#E5ECF6\",\"width\":0.5},\"pattern\":{\"fillmode\":\"overlay\",\"size\":10,\"solidity\":0.2}},\"type\":\"bar\"}],\"scattergeo\":[{\"type\":\"scattergeo\",\"marker\":{\"colorbar\":{\"outlinewidth\":0,\"ticks\":\"\"}}}],\"scatterpolar\":[{\"type\":\"scatterpolar\",\"marker\":{\"colorbar\":{\"outlinewidth\":0,\"ticks\":\"\"}}}],\"histogram\":[{\"marker\":{\"pattern\":{\"fillmode\":\"overlay\",\"size\":10,\"solidity\":0.2}},\"type\":\"histogram\"}],\"scattergl\":[{\"type\":\"scattergl\",\"marker\":{\"colorbar\":{\"outlinewidth\":0,\"ticks\":\"\"}}}],\"scatter3d\":[{\"type\":\"scatter3d\",\"line\":{\"colorbar\":{\"outlinewidth\":0,\"ticks\":\"\"}},\"marker\":{\"colorbar\":{\"outlinewidth\":0,\"ticks\":\"\"}}}],\"scattermapbox\":[{\"type\":\"scattermapbox\",\"marker\":{\"colorbar\":{\"outlinewidth\":0,\"ticks\":\"\"}}}],\"scatterternary\":[{\"type\":\"scatterternary\",\"marker\":{\"colorbar\":{\"outlinewidth\":0,\"ticks\":\"\"}}}],\"scattercarpet\":[{\"type\":\"scattercarpet\",\"marker\":{\"colorbar\":{\"outlinewidth\":0,\"ticks\":\"\"}}}],\"carpet\":[{\"aaxis\":{\"endlinecolor\":\"#2a3f5f\",\"gridcolor\":\"white\",\"linecolor\":\"white\",\"minorgridcolor\":\"white\",\"startlinecolor\":\"#2a3f5f\"},\"baxis\":{\"endlinecolor\":\"#2a3f5f\",\"gridcolor\":\"white\",\"linecolor\":\"white\",\"minorgridcolor\":\"white\",\"startlinecolor\":\"#2a3f5f\"},\"type\":\"carpet\"}],\"table\":[{\"cells\":{\"fill\":{\"color\":\"#EBF0F8\"},\"line\":{\"color\":\"white\"}},\"header\":{\"fill\":{\"color\":\"#C8D4E3\"},\"line\":{\"color\":\"white\"}},\"type\":\"table\"}],\"barpolar\":[{\"marker\":{\"line\":{\"color\":\"#E5ECF6\",\"width\":0.5},\"pattern\":{\"fillmode\":\"overlay\",\"size\":10,\"solidity\":0.2}},\"type\":\"barpolar\"}],\"pie\":[{\"automargin\":true,\"type\":\"pie\"}]},\"layout\":{\"autotypenumbers\":\"strict\",\"colorway\":[\"#636efa\",\"#EF553B\",\"#00cc96\",\"#ab63fa\",\"#FFA15A\",\"#19d3f3\",\"#FF6692\",\"#B6E880\",\"#FF97FF\",\"#FECB52\"],\"font\":{\"color\":\"#2a3f5f\"},\"hovermode\":\"closest\",\"hoverlabel\":{\"align\":\"left\"},\"paper_bgcolor\":\"white\",\"plot_bgcolor\":\"#E5ECF6\",\"polar\":{\"bgcolor\":\"#E5ECF6\",\"angularaxis\":{\"gridcolor\":\"white\",\"linecolor\":\"white\",\"ticks\":\"\"},\"radialaxis\":{\"gridcolor\":\"white\",\"linecolor\":\"white\",\"ticks\":\"\"}},\"ternary\":{\"bgcolor\":\"#E5ECF6\",\"aaxis\":{\"gridcolor\":\"white\",\"linecolor\":\"white\",\"ticks\":\"\"},\"baxis\":{\"gridcolor\":\"white\",\"linecolor\":\"white\",\"ticks\":\"\"},\"caxis\":{\"gridcolor\":\"white\",\"linecolor\":\"white\",\"ticks\":\"\"}},\"coloraxis\":{\"colorbar\":{\"outlinewidth\":0,\"ticks\":\"\"}},\"colorscale\":{\"sequential\":[[0.0,\"#0d0887\"],[0.1111111111111111,\"#46039f\"],[0.2222222222222222,\"#7201a8\"],[0.3333333333333333,\"#9c179e\"],[0.4444444444444444,\"#bd3786\"],[0.5555555555555556,\"#d8576b\"],[0.6666666666666666,\"#ed7953\"],[0.7777777777777778,\"#fb9f3a\"],[0.8888888888888888,\"#fdca26\"],[1.0,\"#f0f921\"]],\"sequentialminus\":[[0.0,\"#0d0887\"],[0.1111111111111111,\"#46039f\"],[0.2222222222222222,\"#7201a8\"],[0.3333333333333333,\"#9c179e\"],[0.4444444444444444,\"#bd3786\"],[0.5555555555555556,\"#d8576b\"],[0.6666666666666666,\"#ed7953\"],[0.7777777777777778,\"#fb9f3a\"],[0.8888888888888888,\"#fdca26\"],[1.0,\"#f0f921\"]],\"diverging\":[[0,\"#8e0152\"],[0.1,\"#c51b7d\"],[0.2,\"#de77ae\"],[0.3,\"#f1b6da\"],[0.4,\"#fde0ef\"],[0.5,\"#f7f7f7\"],[0.6,\"#e6f5d0\"],[0.7,\"#b8e186\"],[0.8,\"#7fbc41\"],[0.9,\"#4d9221\"],[1,\"#276419\"]]},\"xaxis\":{\"gridcolor\":\"white\",\"linecolor\":\"white\",\"ticks\":\"\",\"title\":{\"standoff\":15},\"zerolinecolor\":\"white\",\"automargin\":true,\"zerolinewidth\":2},\"yaxis\":{\"gridcolor\":\"white\",\"linecolor\":\"white\",\"ticks\":\"\",\"title\":{\"standoff\":15},\"zerolinecolor\":\"white\",\"automargin\":true,\"zerolinewidth\":2},\"scene\":{\"xaxis\":{\"backgroundcolor\":\"#E5ECF6\",\"gridcolor\":\"white\",\"linecolor\":\"white\",\"showbackground\":true,\"ticks\":\"\",\"zerolinecolor\":\"white\",\"gridwidth\":2},\"yaxis\":{\"backgroundcolor\":\"#E5ECF6\",\"gridcolor\":\"white\",\"linecolor\":\"white\",\"showbackground\":true,\"ticks\":\"\",\"zerolinecolor\":\"white\",\"gridwidth\":2},\"zaxis\":{\"backgroundcolor\":\"#E5ECF6\",\"gridcolor\":\"white\",\"linecolor\":\"white\",\"showbackground\":true,\"ticks\":\"\",\"zerolinecolor\":\"white\",\"gridwidth\":2}},\"shapedefaults\":{\"line\":{\"color\":\"#2a3f5f\"}},\"annotationdefaults\":{\"arrowcolor\":\"#2a3f5f\",\"arrowhead\":0,\"arrowwidth\":1},\"geo\":{\"bgcolor\":\"white\",\"landcolor\":\"#E5ECF6\",\"subunitcolor\":\"white\",\"showland\":true,\"showlakes\":true,\"lakecolor\":\"white\"},\"title\":{\"x\":0.05},\"mapbox\":{\"style\":\"light\"}}},\"legend\":{\"tracegroupgap\":0},\"margin\":{\"t\":25,\"l\":80,\"r\":80,\"b\":10},\"title\":{\"text\":\"<b>Country Succes Rate</b>\",\"x\":0.5}},                        {\"responsive\": true}                    ).then(function(){\n",
       "                            \n",
       "var gd = document.getElementById('0abc4147-65a3-4080-b143-12c460853aa7');\n",
       "var x = new MutationObserver(function (mutations, observer) {{\n",
       "        var display = window.getComputedStyle(gd).display;\n",
       "        if (!display || display === 'none') {{\n",
       "            console.log([gd, 'removed!']);\n",
       "            Plotly.purge(gd);\n",
       "            observer.disconnect();\n",
       "        }}\n",
       "}});\n",
       "\n",
       "// Listen for the removal of the full notebook cells\n",
       "var notebookContainer = gd.closest('#notebook-container');\n",
       "if (notebookContainer) {{\n",
       "    x.observe(notebookContainer, {childList: true});\n",
       "}}\n",
       "\n",
       "// Listen for the clearing of the current output cell\n",
       "var outputEl = gd.closest('.output');\n",
       "if (outputEl) {{\n",
       "    x.observe(outputEl, {childList: true});\n",
       "}}\n",
       "\n",
       "                        })                };                });            </script>        </div>"
      ]
     },
     "metadata": {},
     "output_type": "display_data"
    }
   ],
   "source": [
    "fig = px.sunburst(sm, path = [\"Country\", \"Company Name\", \"Status Mission\"])\n",
    "fig.update_layout(margin=dict(l=80, r=80, t=25, b=10),\n",
    "                 title={ \"text\" : \"<b>Country Succes Rate</b>\", \"x\" : 0.5}\n",
    "                 )\n",
    "fig.show()"
   ]
  },
  {
   "cell_type": "markdown",
   "id": "9ce82762",
   "metadata": {},
   "source": [
    "From this diagram we can see missions by France, China, Japan and India have also had large success with notable organisations including RSVN USSR, NASA, Ariancespace, CASC, MHI and ISRO. "
   ]
  },
  {
   "cell_type": "markdown",
   "id": "4ba7102b",
   "metadata": {},
   "source": [
    "Let's take a look at what portion each organisation contributed to in respective to the number of missions launched for the following countries; Russian Federation, USA, France, China and Japan. "
   ]
  },
  {
   "cell_type": "code",
   "execution_count": 14,
   "id": "517af425",
   "metadata": {},
   "outputs": [],
   "source": [
    "#Focusing on data of the above mentioned countries\n",
    "sm_select_five = sm[(sm[\"Country\"] == \"Russian Federation\") | (sm[\"Country\"] == \"USA\") | (sm[\"Country\"] == \"France\") | (sm[\"Country\"] == \"China\") | (sm[\"Country\"] == \"Japan\")]\n",
    "\n",
    "#Group the data by Country and Organisation, and count the number of missions\n",
    "missions = pd.DataFrame(sm_select_five.groupby([\"Country\", \"Company Name\"])[\"Location\"].count())\n",
    "missions.rename({\"Location\":\"No. of Missions\"}, axis=1, inplace=True)\n"
   ]
  },
  {
   "cell_type": "code",
   "execution_count": 15,
   "id": "82596df2",
   "metadata": {},
   "outputs": [
    {
     "data": {
      "application/vnd.plotly.v1+json": {
       "config": {
        "plotlyServerURL": "https://plot.ly"
       },
       "data": [
        {
         "alignmentgroup": "True",
         "hovertemplate": "Company Name=%{text}<br>No. of Missions=%{x}<br>Country=%{y}<extra></extra>",
         "legendgroup": "CASC",
         "marker": {
          "color": "#636efa",
          "pattern": {
           "shape": ""
          }
         },
         "name": "CASC",
         "offsetgroup": "CASC",
         "orientation": "h",
         "showlegend": true,
         "text": [
          "CASC"
         ],
         "textposition": "auto",
         "type": "bar",
         "x": [
          251
         ],
         "xaxis": "x",
         "y": [
          "China"
         ],
         "yaxis": "y"
        },
        {
         "alignmentgroup": "True",
         "hovertemplate": "Company Name=%{text}<br>No. of Missions=%{x}<br>Country=%{y}<extra></extra>",
         "legendgroup": "CASIC",
         "marker": {
          "color": "#EF553B",
          "pattern": {
           "shape": ""
          }
         },
         "name": "CASIC",
         "offsetgroup": "CASIC",
         "orientation": "h",
         "showlegend": true,
         "text": [
          "CASIC"
         ],
         "textposition": "auto",
         "type": "bar",
         "x": [
          5
         ],
         "xaxis": "x",
         "y": [
          "China"
         ],
         "yaxis": "y"
        },
        {
         "alignmentgroup": "True",
         "hovertemplate": "Company Name=%{text}<br>No. of Missions=%{x}<br>Country=%{y}<extra></extra>",
         "legendgroup": "ExPace",
         "marker": {
          "color": "#00cc96",
          "pattern": {
           "shape": ""
          }
         },
         "name": "ExPace",
         "offsetgroup": "ExPace",
         "orientation": "h",
         "showlegend": true,
         "text": [
          "ExPace"
         ],
         "textposition": "auto",
         "type": "bar",
         "x": [
          10
         ],
         "xaxis": "x",
         "y": [
          "China"
         ],
         "yaxis": "y"
        },
        {
         "alignmentgroup": "True",
         "hovertemplate": "Company Name=%{text}<br>No. of Missions=%{x}<br>Country=%{y}<extra></extra>",
         "legendgroup": "Landspace",
         "marker": {
          "color": "#ab63fa",
          "pattern": {
           "shape": ""
          }
         },
         "name": "Landspace",
         "offsetgroup": "Landspace",
         "orientation": "h",
         "showlegend": true,
         "text": [
          "Landspace"
         ],
         "textposition": "auto",
         "type": "bar",
         "x": [
          1
         ],
         "xaxis": "x",
         "y": [
          "China"
         ],
         "yaxis": "y"
        },
        {
         "alignmentgroup": "True",
         "hovertemplate": "Company Name=%{text}<br>No. of Missions=%{x}<br>Country=%{y}<extra></extra>",
         "legendgroup": "OneSpace",
         "marker": {
          "color": "#FFA15A",
          "pattern": {
           "shape": ""
          }
         },
         "name": "OneSpace",
         "offsetgroup": "OneSpace",
         "orientation": "h",
         "showlegend": true,
         "text": [
          "OneSpace"
         ],
         "textposition": "auto",
         "type": "bar",
         "x": [
          1
         ],
         "xaxis": "x",
         "y": [
          "China"
         ],
         "yaxis": "y"
        },
        {
         "alignmentgroup": "True",
         "hovertemplate": "Company Name=%{text}<br>No. of Missions=%{x}<br>Country=%{y}<extra></extra>",
         "legendgroup": "i-Space",
         "marker": {
          "color": "#19d3f3",
          "pattern": {
           "shape": ""
          }
         },
         "name": "i-Space",
         "offsetgroup": "i-Space",
         "orientation": "h",
         "showlegend": true,
         "text": [
          "i-Space"
         ],
         "textposition": "auto",
         "type": "bar",
         "x": [
          1
         ],
         "xaxis": "x",
         "y": [
          "China"
         ],
         "yaxis": "y"
        },
        {
         "alignmentgroup": "True",
         "hovertemplate": "Company Name=%{text}<br>No. of Missions=%{x}<br>Country=%{y}<extra></extra>",
         "legendgroup": "Arianespace",
         "marker": {
          "color": "#FF6692",
          "pattern": {
           "shape": ""
          }
         },
         "name": "Arianespace",
         "offsetgroup": "Arianespace",
         "orientation": "h",
         "showlegend": true,
         "text": [
          "Arianespace"
         ],
         "textposition": "auto",
         "type": "bar",
         "x": [
          277
         ],
         "xaxis": "x",
         "y": [
          "France"
         ],
         "yaxis": "y"
        },
        {
         "alignmentgroup": "True",
         "hovertemplate": "Company Name=%{text}<br>No. of Missions=%{x}<br>Country=%{y}<extra></extra>",
         "legendgroup": "Arm??e de l'Air",
         "marker": {
          "color": "#B6E880",
          "pattern": {
           "shape": ""
          }
         },
         "name": "Arm??e de l'Air",
         "offsetgroup": "Arm??e de l'Air",
         "orientation": "h",
         "showlegend": true,
         "text": [
          "Arm??e de l'Air"
         ],
         "textposition": "auto",
         "type": "bar",
         "x": [
          4
         ],
         "xaxis": "x",
         "y": [
          "France"
         ],
         "yaxis": "y"
        },
        {
         "alignmentgroup": "True",
         "hovertemplate": "Company Name=%{text}<br>No. of Missions=%{x}<br>Country=%{y}<extra></extra>",
         "legendgroup": "CECLES",
         "marker": {
          "color": "#FF97FF",
          "pattern": {
           "shape": ""
          }
         },
         "name": "CECLES",
         "offsetgroup": "CECLES",
         "orientation": "h",
         "showlegend": true,
         "text": [
          "CECLES"
         ],
         "textposition": "auto",
         "type": "bar",
         "x": [
          1
         ],
         "xaxis": "x",
         "y": [
          "France"
         ],
         "yaxis": "y"
        },
        {
         "alignmentgroup": "True",
         "hovertemplate": "Company Name=%{text}<br>No. of Missions=%{x}<br>Country=%{y}<extra></extra>",
         "legendgroup": "CNES",
         "marker": {
          "color": "#FECB52",
          "pattern": {
           "shape": ""
          }
         },
         "name": "CNES",
         "offsetgroup": "CNES",
         "orientation": "h",
         "showlegend": true,
         "text": [
          "CNES"
         ],
         "textposition": "auto",
         "type": "bar",
         "x": [
          8
         ],
         "xaxis": "x",
         "y": [
          "France"
         ],
         "yaxis": "y"
        },
        {
         "alignmentgroup": "True",
         "hovertemplate": "Company Name=%{text}<br>No. of Missions=%{x}<br>Country=%{y}<extra></extra>",
         "legendgroup": "ESA",
         "marker": {
          "color": "#636efa",
          "pattern": {
           "shape": ""
          }
         },
         "name": "ESA",
         "offsetgroup": "ESA",
         "orientation": "h",
         "showlegend": true,
         "text": [
          "ESA"
         ],
         "textposition": "auto",
         "type": "bar",
         "x": [
          13
         ],
         "xaxis": "x",
         "y": [
          "France"
         ],
         "yaxis": "y"
        },
        {
         "alignmentgroup": "True",
         "hovertemplate": "Company Name=%{text}<br>No. of Missions=%{x}<br>Country=%{y}<extra></extra>",
         "legendgroup": "ISAS",
         "marker": {
          "color": "#EF553B",
          "pattern": {
           "shape": ""
          }
         },
         "name": "ISAS",
         "offsetgroup": "ISAS",
         "orientation": "h",
         "showlegend": true,
         "text": [
          "ISAS"
         ],
         "textposition": "auto",
         "type": "bar",
         "x": [
          30
         ],
         "xaxis": "x",
         "y": [
          "Japan"
         ],
         "yaxis": "y"
        },
        {
         "alignmentgroup": "True",
         "hovertemplate": "Company Name=%{text}<br>No. of Missions=%{x}<br>Country=%{y}<extra></extra>",
         "legendgroup": "JAXA",
         "marker": {
          "color": "#00cc96",
          "pattern": {
           "shape": ""
          }
         },
         "name": "JAXA",
         "offsetgroup": "JAXA",
         "orientation": "h",
         "showlegend": true,
         "text": [
          "JAXA"
         ],
         "textposition": "auto",
         "type": "bar",
         "x": [
          7
         ],
         "xaxis": "x",
         "y": [
          "Japan"
         ],
         "yaxis": "y"
        },
        {
         "alignmentgroup": "True",
         "hovertemplate": "Company Name=%{text}<br>No. of Missions=%{x}<br>Country=%{y}<extra></extra>",
         "legendgroup": "MHI",
         "marker": {
          "color": "#ab63fa",
          "pattern": {
           "shape": ""
          }
         },
         "name": "MHI",
         "offsetgroup": "MHI",
         "orientation": "h",
         "showlegend": true,
         "text": [
          "MHI"
         ],
         "textposition": "auto",
         "type": "bar",
         "x": [
          84
         ],
         "xaxis": "x",
         "y": [
          "Japan"
         ],
         "yaxis": "y"
        },
        {
         "alignmentgroup": "True",
         "hovertemplate": "Company Name=%{text}<br>No. of Missions=%{x}<br>Country=%{y}<extra></extra>",
         "legendgroup": "UT",
         "marker": {
          "color": "#FFA15A",
          "pattern": {
           "shape": ""
          }
         },
         "name": "UT",
         "offsetgroup": "UT",
         "orientation": "h",
         "showlegend": true,
         "text": [
          "UT"
         ],
         "textposition": "auto",
         "type": "bar",
         "x": [
          5
         ],
         "xaxis": "x",
         "y": [
          "Japan"
         ],
         "yaxis": "y"
        },
        {
         "alignmentgroup": "True",
         "hovertemplate": "Company Name=%{text}<br>No. of Missions=%{x}<br>Country=%{y}<extra></extra>",
         "legendgroup": "Eurockot",
         "marker": {
          "color": "#19d3f3",
          "pattern": {
           "shape": ""
          }
         },
         "name": "Eurockot",
         "offsetgroup": "Eurockot",
         "orientation": "h",
         "showlegend": true,
         "text": [
          "Eurockot"
         ],
         "textposition": "auto",
         "type": "bar",
         "x": [
          13
         ],
         "xaxis": "x",
         "y": [
          "Russian Federation"
         ],
         "yaxis": "y"
        },
        {
         "alignmentgroup": "True",
         "hovertemplate": "Company Name=%{text}<br>No. of Missions=%{x}<br>Country=%{y}<extra></extra>",
         "legendgroup": "Khrunichev",
         "marker": {
          "color": "#FF6692",
          "pattern": {
           "shape": ""
          }
         },
         "name": "Khrunichev",
         "offsetgroup": "Khrunichev",
         "orientation": "h",
         "showlegend": true,
         "text": [
          "Khrunichev"
         ],
         "textposition": "auto",
         "type": "bar",
         "x": [
          1
         ],
         "xaxis": "x",
         "y": [
          "Russian Federation"
         ],
         "yaxis": "y"
        },
        {
         "alignmentgroup": "True",
         "hovertemplate": "Company Name=%{text}<br>No. of Missions=%{x}<br>Country=%{y}<extra></extra>",
         "legendgroup": "Kosmotras",
         "marker": {
          "color": "#B6E880",
          "pattern": {
           "shape": ""
          }
         },
         "name": "Kosmotras",
         "offsetgroup": "Kosmotras",
         "orientation": "h",
         "showlegend": true,
         "text": [
          "Kosmotras"
         ],
         "textposition": "auto",
         "type": "bar",
         "x": [
          10
         ],
         "xaxis": "x",
         "y": [
          "Russian Federation"
         ],
         "yaxis": "y"
        },
        {
         "alignmentgroup": "True",
         "hovertemplate": "Company Name=%{text}<br>No. of Missions=%{x}<br>Country=%{y}<extra></extra>",
         "legendgroup": "MITT",
         "marker": {
          "color": "#FF97FF",
          "pattern": {
           "shape": ""
          }
         },
         "name": "MITT",
         "offsetgroup": "MITT",
         "orientation": "h",
         "showlegend": true,
         "text": [
          "MITT"
         ],
         "textposition": "auto",
         "type": "bar",
         "x": [
          7
         ],
         "xaxis": "x",
         "y": [
          "Russian Federation"
         ],
         "yaxis": "y"
        },
        {
         "alignmentgroup": "True",
         "hovertemplate": "Company Name=%{text}<br>No. of Missions=%{x}<br>Country=%{y}<extra></extra>",
         "legendgroup": "RVSN USSR",
         "marker": {
          "color": "#FECB52",
          "pattern": {
           "shape": ""
          }
         },
         "name": "RVSN USSR",
         "offsetgroup": "RVSN USSR",
         "orientation": "h",
         "showlegend": true,
         "text": [
          "RVSN USSR"
         ],
         "textposition": "auto",
         "type": "bar",
         "x": [
          1198
         ],
         "xaxis": "x",
         "y": [
          "Russian Federation"
         ],
         "yaxis": "y"
        },
        {
         "alignmentgroup": "True",
         "hovertemplate": "Company Name=%{text}<br>No. of Missions=%{x}<br>Country=%{y}<extra></extra>",
         "legendgroup": "Roscosmos",
         "marker": {
          "color": "#636efa",
          "pattern": {
           "shape": ""
          }
         },
         "name": "Roscosmos",
         "offsetgroup": "Roscosmos",
         "orientation": "h",
         "showlegend": true,
         "text": [
          "Roscosmos"
         ],
         "textposition": "auto",
         "type": "bar",
         "x": [
          8
         ],
         "xaxis": "x",
         "y": [
          "Russian Federation"
         ],
         "yaxis": "y"
        },
        {
         "alignmentgroup": "True",
         "hovertemplate": "Company Name=%{text}<br>No. of Missions=%{x}<br>Country=%{y}<extra></extra>",
         "legendgroup": "SRC",
         "marker": {
          "color": "#EF553B",
          "pattern": {
           "shape": ""
          }
         },
         "name": "SRC",
         "offsetgroup": "SRC",
         "orientation": "h",
         "showlegend": true,
         "text": [
          "SRC"
         ],
         "textposition": "auto",
         "type": "bar",
         "x": [
          3
         ],
         "xaxis": "x",
         "y": [
          "Russian Federation"
         ],
         "yaxis": "y"
        },
        {
         "alignmentgroup": "True",
         "hovertemplate": "Company Name=%{text}<br>No. of Missions=%{x}<br>Country=%{y}<extra></extra>",
         "legendgroup": "VKS RF",
         "marker": {
          "color": "#00cc96",
          "pattern": {
           "shape": ""
          }
         },
         "name": "VKS RF",
         "offsetgroup": "VKS RF",
         "orientation": "h",
         "showlegend": true,
         "text": [
          "VKS RF"
         ],
         "textposition": "auto",
         "type": "bar",
         "x": [
          157
         ],
         "xaxis": "x",
         "y": [
          "Russian Federation"
         ],
         "yaxis": "y"
        },
        {
         "alignmentgroup": "True",
         "hovertemplate": "Company Name=%{text}<br>No. of Missions=%{x}<br>Country=%{y}<extra></extra>",
         "legendgroup": "Yuzhmash",
         "marker": {
          "color": "#ab63fa",
          "pattern": {
           "shape": ""
          }
         },
         "name": "Yuzhmash",
         "offsetgroup": "Yuzhmash",
         "orientation": "h",
         "showlegend": true,
         "text": [
          "Yuzhmash"
         ],
         "textposition": "auto",
         "type": "bar",
         "x": [
          1
         ],
         "xaxis": "x",
         "y": [
          "Russian Federation"
         ],
         "yaxis": "y"
        },
        {
         "alignmentgroup": "True",
         "hovertemplate": "Company Name=%{text}<br>No. of Missions=%{x}<br>Country=%{y}<extra></extra>",
         "legendgroup": "AMBA",
         "marker": {
          "color": "#FFA15A",
          "pattern": {
           "shape": ""
          }
         },
         "name": "AMBA",
         "offsetgroup": "AMBA",
         "orientation": "h",
         "showlegend": true,
         "text": [
          "AMBA"
         ],
         "textposition": "auto",
         "type": "bar",
         "x": [
          7
         ],
         "xaxis": "x",
         "y": [
          "USA"
         ],
         "yaxis": "y"
        },
        {
         "alignmentgroup": "True",
         "hovertemplate": "Company Name=%{text}<br>No. of Missions=%{x}<br>Country=%{y}<extra></extra>",
         "legendgroup": "Blue Origin",
         "marker": {
          "color": "#19d3f3",
          "pattern": {
           "shape": ""
          }
         },
         "name": "Blue Origin",
         "offsetgroup": "Blue Origin",
         "orientation": "h",
         "showlegend": true,
         "text": [
          "Blue Origin"
         ],
         "textposition": "auto",
         "type": "bar",
         "x": [
          12
         ],
         "xaxis": "x",
         "y": [
          "USA"
         ],
         "yaxis": "y"
        },
        {
         "alignmentgroup": "True",
         "hovertemplate": "Company Name=%{text}<br>No. of Missions=%{x}<br>Country=%{y}<extra></extra>",
         "legendgroup": "Boeing",
         "marker": {
          "color": "#FF6692",
          "pattern": {
           "shape": ""
          }
         },
         "name": "Boeing",
         "offsetgroup": "Boeing",
         "orientation": "h",
         "showlegend": true,
         "text": [
          "Boeing"
         ],
         "textposition": "auto",
         "type": "bar",
         "x": [
          136
         ],
         "xaxis": "x",
         "y": [
          "USA"
         ],
         "yaxis": "y"
        },
        {
         "alignmentgroup": "True",
         "hovertemplate": "Company Name=%{text}<br>No. of Missions=%{x}<br>Country=%{y}<extra></extra>",
         "legendgroup": "Douglas",
         "marker": {
          "color": "#B6E880",
          "pattern": {
           "shape": ""
          }
         },
         "name": "Douglas",
         "offsetgroup": "Douglas",
         "orientation": "h",
         "showlegend": true,
         "text": [
          "Douglas"
         ],
         "textposition": "auto",
         "type": "bar",
         "x": [
          1
         ],
         "xaxis": "x",
         "y": [
          "USA"
         ],
         "yaxis": "y"
        },
        {
         "alignmentgroup": "True",
         "hovertemplate": "Company Name=%{text}<br>No. of Missions=%{x}<br>Country=%{y}<extra></extra>",
         "legendgroup": "EER",
         "marker": {
          "color": "#FF97FF",
          "pattern": {
           "shape": ""
          }
         },
         "name": "EER",
         "offsetgroup": "EER",
         "orientation": "h",
         "showlegend": true,
         "text": [
          "EER"
         ],
         "textposition": "auto",
         "type": "bar",
         "x": [
          1
         ],
         "xaxis": "x",
         "y": [
          "USA"
         ],
         "yaxis": "y"
        },
        {
         "alignmentgroup": "True",
         "hovertemplate": "Company Name=%{text}<br>No. of Missions=%{x}<br>Country=%{y}<extra></extra>",
         "legendgroup": "Exos",
         "marker": {
          "color": "#FECB52",
          "pattern": {
           "shape": ""
          }
         },
         "name": "Exos",
         "offsetgroup": "Exos",
         "orientation": "h",
         "showlegend": true,
         "text": [
          "Exos"
         ],
         "textposition": "auto",
         "type": "bar",
         "x": [
          4
         ],
         "xaxis": "x",
         "y": [
          "USA"
         ],
         "yaxis": "y"
        },
        {
         "alignmentgroup": "True",
         "hovertemplate": "Company Name=%{text}<br>No. of Missions=%{x}<br>Country=%{y}<extra></extra>",
         "legendgroup": "General Dynamics",
         "marker": {
          "color": "#636efa",
          "pattern": {
           "shape": ""
          }
         },
         "name": "General Dynamics",
         "offsetgroup": "General Dynamics",
         "orientation": "h",
         "showlegend": true,
         "text": [
          "General Dynamics"
         ],
         "textposition": "auto",
         "type": "bar",
         "x": [
          251
         ],
         "xaxis": "x",
         "y": [
          "USA"
         ],
         "yaxis": "y"
        },
        {
         "alignmentgroup": "True",
         "hovertemplate": "Company Name=%{text}<br>No. of Missions=%{x}<br>Country=%{y}<extra></extra>",
         "legendgroup": "ILS",
         "marker": {
          "color": "#EF553B",
          "pattern": {
           "shape": ""
          }
         },
         "name": "ILS",
         "offsetgroup": "ILS",
         "orientation": "h",
         "showlegend": true,
         "text": [
          "ILS"
         ],
         "textposition": "auto",
         "type": "bar",
         "x": [
          40
         ],
         "xaxis": "x",
         "y": [
          "USA"
         ],
         "yaxis": "y"
        },
        {
         "alignmentgroup": "True",
         "hovertemplate": "Company Name=%{text}<br>No. of Missions=%{x}<br>Country=%{y}<extra></extra>",
         "legendgroup": "Lockheed",
         "marker": {
          "color": "#00cc96",
          "pattern": {
           "shape": ""
          }
         },
         "name": "Lockheed",
         "offsetgroup": "Lockheed",
         "orientation": "h",
         "showlegend": true,
         "text": [
          "Lockheed"
         ],
         "textposition": "auto",
         "type": "bar",
         "x": [
          79
         ],
         "xaxis": "x",
         "y": [
          "USA"
         ],
         "yaxis": "y"
        },
        {
         "alignmentgroup": "True",
         "hovertemplate": "Company Name=%{text}<br>No. of Missions=%{x}<br>Country=%{y}<extra></extra>",
         "legendgroup": "Martin Marietta",
         "marker": {
          "color": "#ab63fa",
          "pattern": {
           "shape": ""
          }
         },
         "name": "Martin Marietta",
         "offsetgroup": "Martin Marietta",
         "orientation": "h",
         "showlegend": true,
         "text": [
          "Martin Marietta"
         ],
         "textposition": "auto",
         "type": "bar",
         "x": [
          114
         ],
         "xaxis": "x",
         "y": [
          "USA"
         ],
         "yaxis": "y"
        },
        {
         "alignmentgroup": "True",
         "hovertemplate": "Company Name=%{text}<br>No. of Missions=%{x}<br>Country=%{y}<extra></extra>",
         "legendgroup": "NASA",
         "marker": {
          "color": "#FFA15A",
          "pattern": {
           "shape": ""
          }
         },
         "name": "NASA",
         "offsetgroup": "NASA",
         "orientation": "h",
         "showlegend": true,
         "text": [
          "NASA"
         ],
         "textposition": "auto",
         "type": "bar",
         "x": [
          203
         ],
         "xaxis": "x",
         "y": [
          "USA"
         ],
         "yaxis": "y"
        },
        {
         "alignmentgroup": "True",
         "hovertemplate": "Company Name=%{text}<br>No. of Missions=%{x}<br>Country=%{y}<extra></extra>",
         "legendgroup": "Northrop",
         "marker": {
          "color": "#19d3f3",
          "pattern": {
           "shape": ""
          }
         },
         "name": "Northrop",
         "offsetgroup": "Northrop",
         "orientation": "h",
         "showlegend": true,
         "text": [
          "Northrop"
         ],
         "textposition": "auto",
         "type": "bar",
         "x": [
          83
         ],
         "xaxis": "x",
         "y": [
          "USA"
         ],
         "yaxis": "y"
        },
        {
         "alignmentgroup": "True",
         "hovertemplate": "Company Name=%{text}<br>No. of Missions=%{x}<br>Country=%{y}<extra></extra>",
         "legendgroup": "Sandia",
         "marker": {
          "color": "#FF6692",
          "pattern": {
           "shape": ""
          }
         },
         "name": "Sandia",
         "offsetgroup": "Sandia",
         "orientation": "h",
         "showlegend": true,
         "text": [
          "Sandia"
         ],
         "textposition": "auto",
         "type": "bar",
         "x": [
          1
         ],
         "xaxis": "x",
         "y": [
          "USA"
         ],
         "yaxis": "y"
        },
        {
         "alignmentgroup": "True",
         "hovertemplate": "Company Name=%{text}<br>No. of Missions=%{x}<br>Country=%{y}<extra></extra>",
         "legendgroup": "SpaceX",
         "marker": {
          "color": "#B6E880",
          "pattern": {
           "shape": ""
          }
         },
         "name": "SpaceX",
         "offsetgroup": "SpaceX",
         "orientation": "h",
         "showlegend": true,
         "text": [
          "SpaceX"
         ],
         "textposition": "auto",
         "type": "bar",
         "x": [
          100
         ],
         "xaxis": "x",
         "y": [
          "USA"
         ],
         "yaxis": "y"
        },
        {
         "alignmentgroup": "True",
         "hovertemplate": "Company Name=%{text}<br>No. of Missions=%{x}<br>Country=%{y}<extra></extra>",
         "legendgroup": "ULA",
         "marker": {
          "color": "#FF97FF",
          "pattern": {
           "shape": ""
          }
         },
         "name": "ULA",
         "offsetgroup": "ULA",
         "orientation": "h",
         "showlegend": true,
         "text": [
          "ULA"
         ],
         "textposition": "auto",
         "type": "bar",
         "x": [
          140
         ],
         "xaxis": "x",
         "y": [
          "USA"
         ],
         "yaxis": "y"
        },
        {
         "alignmentgroup": "True",
         "hovertemplate": "Company Name=%{text}<br>No. of Missions=%{x}<br>Country=%{y}<extra></extra>",
         "legendgroup": "US Air Force",
         "marker": {
          "color": "#FECB52",
          "pattern": {
           "shape": ""
          }
         },
         "name": "US Air Force",
         "offsetgroup": "US Air Force",
         "orientation": "h",
         "showlegend": true,
         "text": [
          "US Air Force"
         ],
         "textposition": "auto",
         "type": "bar",
         "x": [
          161
         ],
         "xaxis": "x",
         "y": [
          "USA"
         ],
         "yaxis": "y"
        },
        {
         "alignmentgroup": "True",
         "hovertemplate": "Company Name=%{text}<br>No. of Missions=%{x}<br>Country=%{y}<extra></extra>",
         "legendgroup": "US Navy",
         "marker": {
          "color": "#636efa",
          "pattern": {
           "shape": ""
          }
         },
         "name": "US Navy",
         "offsetgroup": "US Navy",
         "orientation": "h",
         "showlegend": true,
         "text": [
          "US Navy"
         ],
         "textposition": "auto",
         "type": "bar",
         "x": [
          17
         ],
         "xaxis": "x",
         "y": [
          "USA"
         ],
         "yaxis": "y"
        },
        {
         "alignmentgroup": "True",
         "hovertemplate": "Company Name=%{text}<br>No. of Missions=%{x}<br>Country=%{y}<extra></extra>",
         "legendgroup": "Virgin Orbit",
         "marker": {
          "color": "#EF553B",
          "pattern": {
           "shape": ""
          }
         },
         "name": "Virgin Orbit",
         "offsetgroup": "Virgin Orbit",
         "orientation": "h",
         "showlegend": true,
         "text": [
          "Virgin Orbit"
         ],
         "textposition": "auto",
         "type": "bar",
         "x": [
          1
         ],
         "xaxis": "x",
         "y": [
          "USA"
         ],
         "yaxis": "y"
        }
       ],
       "layout": {
        "barmode": "relative",
        "legend": {
         "title": {
          "text": "Company Name"
         },
         "tracegroupgap": 0
        },
        "margin": {
         "t": 60
        },
        "template": {
         "data": {
          "bar": [
           {
            "error_x": {
             "color": "#2a3f5f"
            },
            "error_y": {
             "color": "#2a3f5f"
            },
            "marker": {
             "line": {
              "color": "#E5ECF6",
              "width": 0.5
             },
             "pattern": {
              "fillmode": "overlay",
              "size": 10,
              "solidity": 0.2
             }
            },
            "type": "bar"
           }
          ],
          "barpolar": [
           {
            "marker": {
             "line": {
              "color": "#E5ECF6",
              "width": 0.5
             },
             "pattern": {
              "fillmode": "overlay",
              "size": 10,
              "solidity": 0.2
             }
            },
            "type": "barpolar"
           }
          ],
          "carpet": [
           {
            "aaxis": {
             "endlinecolor": "#2a3f5f",
             "gridcolor": "white",
             "linecolor": "white",
             "minorgridcolor": "white",
             "startlinecolor": "#2a3f5f"
            },
            "baxis": {
             "endlinecolor": "#2a3f5f",
             "gridcolor": "white",
             "linecolor": "white",
             "minorgridcolor": "white",
             "startlinecolor": "#2a3f5f"
            },
            "type": "carpet"
           }
          ],
          "choropleth": [
           {
            "colorbar": {
             "outlinewidth": 0,
             "ticks": ""
            },
            "type": "choropleth"
           }
          ],
          "contour": [
           {
            "colorbar": {
             "outlinewidth": 0,
             "ticks": ""
            },
            "colorscale": [
             [
              0,
              "#0d0887"
             ],
             [
              0.1111111111111111,
              "#46039f"
             ],
             [
              0.2222222222222222,
              "#7201a8"
             ],
             [
              0.3333333333333333,
              "#9c179e"
             ],
             [
              0.4444444444444444,
              "#bd3786"
             ],
             [
              0.5555555555555556,
              "#d8576b"
             ],
             [
              0.6666666666666666,
              "#ed7953"
             ],
             [
              0.7777777777777778,
              "#fb9f3a"
             ],
             [
              0.8888888888888888,
              "#fdca26"
             ],
             [
              1,
              "#f0f921"
             ]
            ],
            "type": "contour"
           }
          ],
          "contourcarpet": [
           {
            "colorbar": {
             "outlinewidth": 0,
             "ticks": ""
            },
            "type": "contourcarpet"
           }
          ],
          "heatmap": [
           {
            "colorbar": {
             "outlinewidth": 0,
             "ticks": ""
            },
            "colorscale": [
             [
              0,
              "#0d0887"
             ],
             [
              0.1111111111111111,
              "#46039f"
             ],
             [
              0.2222222222222222,
              "#7201a8"
             ],
             [
              0.3333333333333333,
              "#9c179e"
             ],
             [
              0.4444444444444444,
              "#bd3786"
             ],
             [
              0.5555555555555556,
              "#d8576b"
             ],
             [
              0.6666666666666666,
              "#ed7953"
             ],
             [
              0.7777777777777778,
              "#fb9f3a"
             ],
             [
              0.8888888888888888,
              "#fdca26"
             ],
             [
              1,
              "#f0f921"
             ]
            ],
            "type": "heatmap"
           }
          ],
          "heatmapgl": [
           {
            "colorbar": {
             "outlinewidth": 0,
             "ticks": ""
            },
            "colorscale": [
             [
              0,
              "#0d0887"
             ],
             [
              0.1111111111111111,
              "#46039f"
             ],
             [
              0.2222222222222222,
              "#7201a8"
             ],
             [
              0.3333333333333333,
              "#9c179e"
             ],
             [
              0.4444444444444444,
              "#bd3786"
             ],
             [
              0.5555555555555556,
              "#d8576b"
             ],
             [
              0.6666666666666666,
              "#ed7953"
             ],
             [
              0.7777777777777778,
              "#fb9f3a"
             ],
             [
              0.8888888888888888,
              "#fdca26"
             ],
             [
              1,
              "#f0f921"
             ]
            ],
            "type": "heatmapgl"
           }
          ],
          "histogram": [
           {
            "marker": {
             "pattern": {
              "fillmode": "overlay",
              "size": 10,
              "solidity": 0.2
             }
            },
            "type": "histogram"
           }
          ],
          "histogram2d": [
           {
            "colorbar": {
             "outlinewidth": 0,
             "ticks": ""
            },
            "colorscale": [
             [
              0,
              "#0d0887"
             ],
             [
              0.1111111111111111,
              "#46039f"
             ],
             [
              0.2222222222222222,
              "#7201a8"
             ],
             [
              0.3333333333333333,
              "#9c179e"
             ],
             [
              0.4444444444444444,
              "#bd3786"
             ],
             [
              0.5555555555555556,
              "#d8576b"
             ],
             [
              0.6666666666666666,
              "#ed7953"
             ],
             [
              0.7777777777777778,
              "#fb9f3a"
             ],
             [
              0.8888888888888888,
              "#fdca26"
             ],
             [
              1,
              "#f0f921"
             ]
            ],
            "type": "histogram2d"
           }
          ],
          "histogram2dcontour": [
           {
            "colorbar": {
             "outlinewidth": 0,
             "ticks": ""
            },
            "colorscale": [
             [
              0,
              "#0d0887"
             ],
             [
              0.1111111111111111,
              "#46039f"
             ],
             [
              0.2222222222222222,
              "#7201a8"
             ],
             [
              0.3333333333333333,
              "#9c179e"
             ],
             [
              0.4444444444444444,
              "#bd3786"
             ],
             [
              0.5555555555555556,
              "#d8576b"
             ],
             [
              0.6666666666666666,
              "#ed7953"
             ],
             [
              0.7777777777777778,
              "#fb9f3a"
             ],
             [
              0.8888888888888888,
              "#fdca26"
             ],
             [
              1,
              "#f0f921"
             ]
            ],
            "type": "histogram2dcontour"
           }
          ],
          "mesh3d": [
           {
            "colorbar": {
             "outlinewidth": 0,
             "ticks": ""
            },
            "type": "mesh3d"
           }
          ],
          "parcoords": [
           {
            "line": {
             "colorbar": {
              "outlinewidth": 0,
              "ticks": ""
             }
            },
            "type": "parcoords"
           }
          ],
          "pie": [
           {
            "automargin": true,
            "type": "pie"
           }
          ],
          "scatter": [
           {
            "fillpattern": {
             "fillmode": "overlay",
             "size": 10,
             "solidity": 0.2
            },
            "type": "scatter"
           }
          ],
          "scatter3d": [
           {
            "line": {
             "colorbar": {
              "outlinewidth": 0,
              "ticks": ""
             }
            },
            "marker": {
             "colorbar": {
              "outlinewidth": 0,
              "ticks": ""
             }
            },
            "type": "scatter3d"
           }
          ],
          "scattercarpet": [
           {
            "marker": {
             "colorbar": {
              "outlinewidth": 0,
              "ticks": ""
             }
            },
            "type": "scattercarpet"
           }
          ],
          "scattergeo": [
           {
            "marker": {
             "colorbar": {
              "outlinewidth": 0,
              "ticks": ""
             }
            },
            "type": "scattergeo"
           }
          ],
          "scattergl": [
           {
            "marker": {
             "colorbar": {
              "outlinewidth": 0,
              "ticks": ""
             }
            },
            "type": "scattergl"
           }
          ],
          "scattermapbox": [
           {
            "marker": {
             "colorbar": {
              "outlinewidth": 0,
              "ticks": ""
             }
            },
            "type": "scattermapbox"
           }
          ],
          "scatterpolar": [
           {
            "marker": {
             "colorbar": {
              "outlinewidth": 0,
              "ticks": ""
             }
            },
            "type": "scatterpolar"
           }
          ],
          "scatterpolargl": [
           {
            "marker": {
             "colorbar": {
              "outlinewidth": 0,
              "ticks": ""
             }
            },
            "type": "scatterpolargl"
           }
          ],
          "scatterternary": [
           {
            "marker": {
             "colorbar": {
              "outlinewidth": 0,
              "ticks": ""
             }
            },
            "type": "scatterternary"
           }
          ],
          "surface": [
           {
            "colorbar": {
             "outlinewidth": 0,
             "ticks": ""
            },
            "colorscale": [
             [
              0,
              "#0d0887"
             ],
             [
              0.1111111111111111,
              "#46039f"
             ],
             [
              0.2222222222222222,
              "#7201a8"
             ],
             [
              0.3333333333333333,
              "#9c179e"
             ],
             [
              0.4444444444444444,
              "#bd3786"
             ],
             [
              0.5555555555555556,
              "#d8576b"
             ],
             [
              0.6666666666666666,
              "#ed7953"
             ],
             [
              0.7777777777777778,
              "#fb9f3a"
             ],
             [
              0.8888888888888888,
              "#fdca26"
             ],
             [
              1,
              "#f0f921"
             ]
            ],
            "type": "surface"
           }
          ],
          "table": [
           {
            "cells": {
             "fill": {
              "color": "#EBF0F8"
             },
             "line": {
              "color": "white"
             }
            },
            "header": {
             "fill": {
              "color": "#C8D4E3"
             },
             "line": {
              "color": "white"
             }
            },
            "type": "table"
           }
          ]
         },
         "layout": {
          "annotationdefaults": {
           "arrowcolor": "#2a3f5f",
           "arrowhead": 0,
           "arrowwidth": 1
          },
          "autotypenumbers": "strict",
          "coloraxis": {
           "colorbar": {
            "outlinewidth": 0,
            "ticks": ""
           }
          },
          "colorscale": {
           "diverging": [
            [
             0,
             "#8e0152"
            ],
            [
             0.1,
             "#c51b7d"
            ],
            [
             0.2,
             "#de77ae"
            ],
            [
             0.3,
             "#f1b6da"
            ],
            [
             0.4,
             "#fde0ef"
            ],
            [
             0.5,
             "#f7f7f7"
            ],
            [
             0.6,
             "#e6f5d0"
            ],
            [
             0.7,
             "#b8e186"
            ],
            [
             0.8,
             "#7fbc41"
            ],
            [
             0.9,
             "#4d9221"
            ],
            [
             1,
             "#276419"
            ]
           ],
           "sequential": [
            [
             0,
             "#0d0887"
            ],
            [
             0.1111111111111111,
             "#46039f"
            ],
            [
             0.2222222222222222,
             "#7201a8"
            ],
            [
             0.3333333333333333,
             "#9c179e"
            ],
            [
             0.4444444444444444,
             "#bd3786"
            ],
            [
             0.5555555555555556,
             "#d8576b"
            ],
            [
             0.6666666666666666,
             "#ed7953"
            ],
            [
             0.7777777777777778,
             "#fb9f3a"
            ],
            [
             0.8888888888888888,
             "#fdca26"
            ],
            [
             1,
             "#f0f921"
            ]
           ],
           "sequentialminus": [
            [
             0,
             "#0d0887"
            ],
            [
             0.1111111111111111,
             "#46039f"
            ],
            [
             0.2222222222222222,
             "#7201a8"
            ],
            [
             0.3333333333333333,
             "#9c179e"
            ],
            [
             0.4444444444444444,
             "#bd3786"
            ],
            [
             0.5555555555555556,
             "#d8576b"
            ],
            [
             0.6666666666666666,
             "#ed7953"
            ],
            [
             0.7777777777777778,
             "#fb9f3a"
            ],
            [
             0.8888888888888888,
             "#fdca26"
            ],
            [
             1,
             "#f0f921"
            ]
           ]
          },
          "colorway": [
           "#636efa",
           "#EF553B",
           "#00cc96",
           "#ab63fa",
           "#FFA15A",
           "#19d3f3",
           "#FF6692",
           "#B6E880",
           "#FF97FF",
           "#FECB52"
          ],
          "font": {
           "color": "#2a3f5f"
          },
          "geo": {
           "bgcolor": "white",
           "lakecolor": "white",
           "landcolor": "#E5ECF6",
           "showlakes": true,
           "showland": true,
           "subunitcolor": "white"
          },
          "hoverlabel": {
           "align": "left"
          },
          "hovermode": "closest",
          "mapbox": {
           "style": "light"
          },
          "paper_bgcolor": "white",
          "plot_bgcolor": "#E5ECF6",
          "polar": {
           "angularaxis": {
            "gridcolor": "white",
            "linecolor": "white",
            "ticks": ""
           },
           "bgcolor": "#E5ECF6",
           "radialaxis": {
            "gridcolor": "white",
            "linecolor": "white",
            "ticks": ""
           }
          },
          "scene": {
           "xaxis": {
            "backgroundcolor": "#E5ECF6",
            "gridcolor": "white",
            "gridwidth": 2,
            "linecolor": "white",
            "showbackground": true,
            "ticks": "",
            "zerolinecolor": "white"
           },
           "yaxis": {
            "backgroundcolor": "#E5ECF6",
            "gridcolor": "white",
            "gridwidth": 2,
            "linecolor": "white",
            "showbackground": true,
            "ticks": "",
            "zerolinecolor": "white"
           },
           "zaxis": {
            "backgroundcolor": "#E5ECF6",
            "gridcolor": "white",
            "gridwidth": 2,
            "linecolor": "white",
            "showbackground": true,
            "ticks": "",
            "zerolinecolor": "white"
           }
          },
          "shapedefaults": {
           "line": {
            "color": "#2a3f5f"
           }
          },
          "ternary": {
           "aaxis": {
            "gridcolor": "white",
            "linecolor": "white",
            "ticks": ""
           },
           "baxis": {
            "gridcolor": "white",
            "linecolor": "white",
            "ticks": ""
           },
           "bgcolor": "#E5ECF6",
           "caxis": {
            "gridcolor": "white",
            "linecolor": "white",
            "ticks": ""
           }
          },
          "title": {
           "x": 0.05
          },
          "xaxis": {
           "automargin": true,
           "gridcolor": "white",
           "linecolor": "white",
           "ticks": "",
           "title": {
            "standoff": 15
           },
           "zerolinecolor": "white",
           "zerolinewidth": 2
          },
          "yaxis": {
           "automargin": true,
           "gridcolor": "white",
           "linecolor": "white",
           "ticks": "",
           "title": {
            "standoff": 15
           },
           "zerolinecolor": "white",
           "zerolinewidth": 2
          }
         }
        },
        "title": {
         "text": "Number of Missions by Country and Company"
        },
        "xaxis": {
         "anchor": "y",
         "domain": [
          0,
          1
         ],
         "title": {
          "text": "No. of Missions"
         }
        },
        "yaxis": {
         "anchor": "x",
         "domain": [
          0,
          1
         ],
         "title": {
          "text": "Country"
         }
        }
       }
      },
      "text/html": [
       "<div>                            <div id=\"9cc5c3a9-e814-4015-a74c-d0369ceee7f8\" class=\"plotly-graph-div\" style=\"height:525px; width:100%;\"></div>            <script type=\"text/javascript\">                require([\"plotly\"], function(Plotly) {                    window.PLOTLYENV=window.PLOTLYENV || {};                                    if (document.getElementById(\"9cc5c3a9-e814-4015-a74c-d0369ceee7f8\")) {                    Plotly.newPlot(                        \"9cc5c3a9-e814-4015-a74c-d0369ceee7f8\",                        [{\"alignmentgroup\":\"True\",\"hovertemplate\":\"Company Name=%{text}<br>No. of Missions=%{x}<br>Country=%{y}<extra></extra>\",\"legendgroup\":\"CASC\",\"marker\":{\"color\":\"#636efa\",\"pattern\":{\"shape\":\"\"}},\"name\":\"CASC\",\"offsetgroup\":\"CASC\",\"orientation\":\"h\",\"showlegend\":true,\"text\":[\"CASC\"],\"textposition\":\"auto\",\"x\":[251],\"xaxis\":\"x\",\"y\":[\"China\"],\"yaxis\":\"y\",\"type\":\"bar\"},{\"alignmentgroup\":\"True\",\"hovertemplate\":\"Company Name=%{text}<br>No. of Missions=%{x}<br>Country=%{y}<extra></extra>\",\"legendgroup\":\"CASIC\",\"marker\":{\"color\":\"#EF553B\",\"pattern\":{\"shape\":\"\"}},\"name\":\"CASIC\",\"offsetgroup\":\"CASIC\",\"orientation\":\"h\",\"showlegend\":true,\"text\":[\"CASIC\"],\"textposition\":\"auto\",\"x\":[5],\"xaxis\":\"x\",\"y\":[\"China\"],\"yaxis\":\"y\",\"type\":\"bar\"},{\"alignmentgroup\":\"True\",\"hovertemplate\":\"Company Name=%{text}<br>No. of Missions=%{x}<br>Country=%{y}<extra></extra>\",\"legendgroup\":\"ExPace\",\"marker\":{\"color\":\"#00cc96\",\"pattern\":{\"shape\":\"\"}},\"name\":\"ExPace\",\"offsetgroup\":\"ExPace\",\"orientation\":\"h\",\"showlegend\":true,\"text\":[\"ExPace\"],\"textposition\":\"auto\",\"x\":[10],\"xaxis\":\"x\",\"y\":[\"China\"],\"yaxis\":\"y\",\"type\":\"bar\"},{\"alignmentgroup\":\"True\",\"hovertemplate\":\"Company Name=%{text}<br>No. of Missions=%{x}<br>Country=%{y}<extra></extra>\",\"legendgroup\":\"Landspace\",\"marker\":{\"color\":\"#ab63fa\",\"pattern\":{\"shape\":\"\"}},\"name\":\"Landspace\",\"offsetgroup\":\"Landspace\",\"orientation\":\"h\",\"showlegend\":true,\"text\":[\"Landspace\"],\"textposition\":\"auto\",\"x\":[1],\"xaxis\":\"x\",\"y\":[\"China\"],\"yaxis\":\"y\",\"type\":\"bar\"},{\"alignmentgroup\":\"True\",\"hovertemplate\":\"Company Name=%{text}<br>No. of Missions=%{x}<br>Country=%{y}<extra></extra>\",\"legendgroup\":\"OneSpace\",\"marker\":{\"color\":\"#FFA15A\",\"pattern\":{\"shape\":\"\"}},\"name\":\"OneSpace\",\"offsetgroup\":\"OneSpace\",\"orientation\":\"h\",\"showlegend\":true,\"text\":[\"OneSpace\"],\"textposition\":\"auto\",\"x\":[1],\"xaxis\":\"x\",\"y\":[\"China\"],\"yaxis\":\"y\",\"type\":\"bar\"},{\"alignmentgroup\":\"True\",\"hovertemplate\":\"Company Name=%{text}<br>No. of Missions=%{x}<br>Country=%{y}<extra></extra>\",\"legendgroup\":\"i-Space\",\"marker\":{\"color\":\"#19d3f3\",\"pattern\":{\"shape\":\"\"}},\"name\":\"i-Space\",\"offsetgroup\":\"i-Space\",\"orientation\":\"h\",\"showlegend\":true,\"text\":[\"i-Space\"],\"textposition\":\"auto\",\"x\":[1],\"xaxis\":\"x\",\"y\":[\"China\"],\"yaxis\":\"y\",\"type\":\"bar\"},{\"alignmentgroup\":\"True\",\"hovertemplate\":\"Company Name=%{text}<br>No. of Missions=%{x}<br>Country=%{y}<extra></extra>\",\"legendgroup\":\"Arianespace\",\"marker\":{\"color\":\"#FF6692\",\"pattern\":{\"shape\":\"\"}},\"name\":\"Arianespace\",\"offsetgroup\":\"Arianespace\",\"orientation\":\"h\",\"showlegend\":true,\"text\":[\"Arianespace\"],\"textposition\":\"auto\",\"x\":[277],\"xaxis\":\"x\",\"y\":[\"France\"],\"yaxis\":\"y\",\"type\":\"bar\"},{\"alignmentgroup\":\"True\",\"hovertemplate\":\"Company Name=%{text}<br>No. of Missions=%{x}<br>Country=%{y}<extra></extra>\",\"legendgroup\":\"Arm??e de l'Air\",\"marker\":{\"color\":\"#B6E880\",\"pattern\":{\"shape\":\"\"}},\"name\":\"Arm??e de l'Air\",\"offsetgroup\":\"Arm??e de l'Air\",\"orientation\":\"h\",\"showlegend\":true,\"text\":[\"Arm??e de l'Air\"],\"textposition\":\"auto\",\"x\":[4],\"xaxis\":\"x\",\"y\":[\"France\"],\"yaxis\":\"y\",\"type\":\"bar\"},{\"alignmentgroup\":\"True\",\"hovertemplate\":\"Company Name=%{text}<br>No. of Missions=%{x}<br>Country=%{y}<extra></extra>\",\"legendgroup\":\"CECLES\",\"marker\":{\"color\":\"#FF97FF\",\"pattern\":{\"shape\":\"\"}},\"name\":\"CECLES\",\"offsetgroup\":\"CECLES\",\"orientation\":\"h\",\"showlegend\":true,\"text\":[\"CECLES\"],\"textposition\":\"auto\",\"x\":[1],\"xaxis\":\"x\",\"y\":[\"France\"],\"yaxis\":\"y\",\"type\":\"bar\"},{\"alignmentgroup\":\"True\",\"hovertemplate\":\"Company Name=%{text}<br>No. of Missions=%{x}<br>Country=%{y}<extra></extra>\",\"legendgroup\":\"CNES\",\"marker\":{\"color\":\"#FECB52\",\"pattern\":{\"shape\":\"\"}},\"name\":\"CNES\",\"offsetgroup\":\"CNES\",\"orientation\":\"h\",\"showlegend\":true,\"text\":[\"CNES\"],\"textposition\":\"auto\",\"x\":[8],\"xaxis\":\"x\",\"y\":[\"France\"],\"yaxis\":\"y\",\"type\":\"bar\"},{\"alignmentgroup\":\"True\",\"hovertemplate\":\"Company Name=%{text}<br>No. of Missions=%{x}<br>Country=%{y}<extra></extra>\",\"legendgroup\":\"ESA\",\"marker\":{\"color\":\"#636efa\",\"pattern\":{\"shape\":\"\"}},\"name\":\"ESA\",\"offsetgroup\":\"ESA\",\"orientation\":\"h\",\"showlegend\":true,\"text\":[\"ESA\"],\"textposition\":\"auto\",\"x\":[13],\"xaxis\":\"x\",\"y\":[\"France\"],\"yaxis\":\"y\",\"type\":\"bar\"},{\"alignmentgroup\":\"True\",\"hovertemplate\":\"Company Name=%{text}<br>No. of Missions=%{x}<br>Country=%{y}<extra></extra>\",\"legendgroup\":\"ISAS\",\"marker\":{\"color\":\"#EF553B\",\"pattern\":{\"shape\":\"\"}},\"name\":\"ISAS\",\"offsetgroup\":\"ISAS\",\"orientation\":\"h\",\"showlegend\":true,\"text\":[\"ISAS\"],\"textposition\":\"auto\",\"x\":[30],\"xaxis\":\"x\",\"y\":[\"Japan\"],\"yaxis\":\"y\",\"type\":\"bar\"},{\"alignmentgroup\":\"True\",\"hovertemplate\":\"Company Name=%{text}<br>No. of Missions=%{x}<br>Country=%{y}<extra></extra>\",\"legendgroup\":\"JAXA\",\"marker\":{\"color\":\"#00cc96\",\"pattern\":{\"shape\":\"\"}},\"name\":\"JAXA\",\"offsetgroup\":\"JAXA\",\"orientation\":\"h\",\"showlegend\":true,\"text\":[\"JAXA\"],\"textposition\":\"auto\",\"x\":[7],\"xaxis\":\"x\",\"y\":[\"Japan\"],\"yaxis\":\"y\",\"type\":\"bar\"},{\"alignmentgroup\":\"True\",\"hovertemplate\":\"Company Name=%{text}<br>No. of Missions=%{x}<br>Country=%{y}<extra></extra>\",\"legendgroup\":\"MHI\",\"marker\":{\"color\":\"#ab63fa\",\"pattern\":{\"shape\":\"\"}},\"name\":\"MHI\",\"offsetgroup\":\"MHI\",\"orientation\":\"h\",\"showlegend\":true,\"text\":[\"MHI\"],\"textposition\":\"auto\",\"x\":[84],\"xaxis\":\"x\",\"y\":[\"Japan\"],\"yaxis\":\"y\",\"type\":\"bar\"},{\"alignmentgroup\":\"True\",\"hovertemplate\":\"Company Name=%{text}<br>No. of Missions=%{x}<br>Country=%{y}<extra></extra>\",\"legendgroup\":\"UT\",\"marker\":{\"color\":\"#FFA15A\",\"pattern\":{\"shape\":\"\"}},\"name\":\"UT\",\"offsetgroup\":\"UT\",\"orientation\":\"h\",\"showlegend\":true,\"text\":[\"UT\"],\"textposition\":\"auto\",\"x\":[5],\"xaxis\":\"x\",\"y\":[\"Japan\"],\"yaxis\":\"y\",\"type\":\"bar\"},{\"alignmentgroup\":\"True\",\"hovertemplate\":\"Company Name=%{text}<br>No. of Missions=%{x}<br>Country=%{y}<extra></extra>\",\"legendgroup\":\"Eurockot\",\"marker\":{\"color\":\"#19d3f3\",\"pattern\":{\"shape\":\"\"}},\"name\":\"Eurockot\",\"offsetgroup\":\"Eurockot\",\"orientation\":\"h\",\"showlegend\":true,\"text\":[\"Eurockot\"],\"textposition\":\"auto\",\"x\":[13],\"xaxis\":\"x\",\"y\":[\"Russian Federation\"],\"yaxis\":\"y\",\"type\":\"bar\"},{\"alignmentgroup\":\"True\",\"hovertemplate\":\"Company Name=%{text}<br>No. of Missions=%{x}<br>Country=%{y}<extra></extra>\",\"legendgroup\":\"Khrunichev\",\"marker\":{\"color\":\"#FF6692\",\"pattern\":{\"shape\":\"\"}},\"name\":\"Khrunichev\",\"offsetgroup\":\"Khrunichev\",\"orientation\":\"h\",\"showlegend\":true,\"text\":[\"Khrunichev\"],\"textposition\":\"auto\",\"x\":[1],\"xaxis\":\"x\",\"y\":[\"Russian Federation\"],\"yaxis\":\"y\",\"type\":\"bar\"},{\"alignmentgroup\":\"True\",\"hovertemplate\":\"Company Name=%{text}<br>No. of Missions=%{x}<br>Country=%{y}<extra></extra>\",\"legendgroup\":\"Kosmotras\",\"marker\":{\"color\":\"#B6E880\",\"pattern\":{\"shape\":\"\"}},\"name\":\"Kosmotras\",\"offsetgroup\":\"Kosmotras\",\"orientation\":\"h\",\"showlegend\":true,\"text\":[\"Kosmotras\"],\"textposition\":\"auto\",\"x\":[10],\"xaxis\":\"x\",\"y\":[\"Russian Federation\"],\"yaxis\":\"y\",\"type\":\"bar\"},{\"alignmentgroup\":\"True\",\"hovertemplate\":\"Company Name=%{text}<br>No. of Missions=%{x}<br>Country=%{y}<extra></extra>\",\"legendgroup\":\"MITT\",\"marker\":{\"color\":\"#FF97FF\",\"pattern\":{\"shape\":\"\"}},\"name\":\"MITT\",\"offsetgroup\":\"MITT\",\"orientation\":\"h\",\"showlegend\":true,\"text\":[\"MITT\"],\"textposition\":\"auto\",\"x\":[7],\"xaxis\":\"x\",\"y\":[\"Russian Federation\"],\"yaxis\":\"y\",\"type\":\"bar\"},{\"alignmentgroup\":\"True\",\"hovertemplate\":\"Company Name=%{text}<br>No. of Missions=%{x}<br>Country=%{y}<extra></extra>\",\"legendgroup\":\"RVSN USSR\",\"marker\":{\"color\":\"#FECB52\",\"pattern\":{\"shape\":\"\"}},\"name\":\"RVSN USSR\",\"offsetgroup\":\"RVSN USSR\",\"orientation\":\"h\",\"showlegend\":true,\"text\":[\"RVSN USSR\"],\"textposition\":\"auto\",\"x\":[1198],\"xaxis\":\"x\",\"y\":[\"Russian Federation\"],\"yaxis\":\"y\",\"type\":\"bar\"},{\"alignmentgroup\":\"True\",\"hovertemplate\":\"Company Name=%{text}<br>No. of Missions=%{x}<br>Country=%{y}<extra></extra>\",\"legendgroup\":\"Roscosmos\",\"marker\":{\"color\":\"#636efa\",\"pattern\":{\"shape\":\"\"}},\"name\":\"Roscosmos\",\"offsetgroup\":\"Roscosmos\",\"orientation\":\"h\",\"showlegend\":true,\"text\":[\"Roscosmos\"],\"textposition\":\"auto\",\"x\":[8],\"xaxis\":\"x\",\"y\":[\"Russian Federation\"],\"yaxis\":\"y\",\"type\":\"bar\"},{\"alignmentgroup\":\"True\",\"hovertemplate\":\"Company Name=%{text}<br>No. of Missions=%{x}<br>Country=%{y}<extra></extra>\",\"legendgroup\":\"SRC\",\"marker\":{\"color\":\"#EF553B\",\"pattern\":{\"shape\":\"\"}},\"name\":\"SRC\",\"offsetgroup\":\"SRC\",\"orientation\":\"h\",\"showlegend\":true,\"text\":[\"SRC\"],\"textposition\":\"auto\",\"x\":[3],\"xaxis\":\"x\",\"y\":[\"Russian Federation\"],\"yaxis\":\"y\",\"type\":\"bar\"},{\"alignmentgroup\":\"True\",\"hovertemplate\":\"Company Name=%{text}<br>No. of Missions=%{x}<br>Country=%{y}<extra></extra>\",\"legendgroup\":\"VKS RF\",\"marker\":{\"color\":\"#00cc96\",\"pattern\":{\"shape\":\"\"}},\"name\":\"VKS RF\",\"offsetgroup\":\"VKS RF\",\"orientation\":\"h\",\"showlegend\":true,\"text\":[\"VKS RF\"],\"textposition\":\"auto\",\"x\":[157],\"xaxis\":\"x\",\"y\":[\"Russian Federation\"],\"yaxis\":\"y\",\"type\":\"bar\"},{\"alignmentgroup\":\"True\",\"hovertemplate\":\"Company Name=%{text}<br>No. of Missions=%{x}<br>Country=%{y}<extra></extra>\",\"legendgroup\":\"Yuzhmash\",\"marker\":{\"color\":\"#ab63fa\",\"pattern\":{\"shape\":\"\"}},\"name\":\"Yuzhmash\",\"offsetgroup\":\"Yuzhmash\",\"orientation\":\"h\",\"showlegend\":true,\"text\":[\"Yuzhmash\"],\"textposition\":\"auto\",\"x\":[1],\"xaxis\":\"x\",\"y\":[\"Russian Federation\"],\"yaxis\":\"y\",\"type\":\"bar\"},{\"alignmentgroup\":\"True\",\"hovertemplate\":\"Company Name=%{text}<br>No. of Missions=%{x}<br>Country=%{y}<extra></extra>\",\"legendgroup\":\"AMBA\",\"marker\":{\"color\":\"#FFA15A\",\"pattern\":{\"shape\":\"\"}},\"name\":\"AMBA\",\"offsetgroup\":\"AMBA\",\"orientation\":\"h\",\"showlegend\":true,\"text\":[\"AMBA\"],\"textposition\":\"auto\",\"x\":[7],\"xaxis\":\"x\",\"y\":[\"USA\"],\"yaxis\":\"y\",\"type\":\"bar\"},{\"alignmentgroup\":\"True\",\"hovertemplate\":\"Company Name=%{text}<br>No. of Missions=%{x}<br>Country=%{y}<extra></extra>\",\"legendgroup\":\"Blue Origin\",\"marker\":{\"color\":\"#19d3f3\",\"pattern\":{\"shape\":\"\"}},\"name\":\"Blue Origin\",\"offsetgroup\":\"Blue Origin\",\"orientation\":\"h\",\"showlegend\":true,\"text\":[\"Blue Origin\"],\"textposition\":\"auto\",\"x\":[12],\"xaxis\":\"x\",\"y\":[\"USA\"],\"yaxis\":\"y\",\"type\":\"bar\"},{\"alignmentgroup\":\"True\",\"hovertemplate\":\"Company Name=%{text}<br>No. of Missions=%{x}<br>Country=%{y}<extra></extra>\",\"legendgroup\":\"Boeing\",\"marker\":{\"color\":\"#FF6692\",\"pattern\":{\"shape\":\"\"}},\"name\":\"Boeing\",\"offsetgroup\":\"Boeing\",\"orientation\":\"h\",\"showlegend\":true,\"text\":[\"Boeing\"],\"textposition\":\"auto\",\"x\":[136],\"xaxis\":\"x\",\"y\":[\"USA\"],\"yaxis\":\"y\",\"type\":\"bar\"},{\"alignmentgroup\":\"True\",\"hovertemplate\":\"Company Name=%{text}<br>No. of Missions=%{x}<br>Country=%{y}<extra></extra>\",\"legendgroup\":\"Douglas\",\"marker\":{\"color\":\"#B6E880\",\"pattern\":{\"shape\":\"\"}},\"name\":\"Douglas\",\"offsetgroup\":\"Douglas\",\"orientation\":\"h\",\"showlegend\":true,\"text\":[\"Douglas\"],\"textposition\":\"auto\",\"x\":[1],\"xaxis\":\"x\",\"y\":[\"USA\"],\"yaxis\":\"y\",\"type\":\"bar\"},{\"alignmentgroup\":\"True\",\"hovertemplate\":\"Company Name=%{text}<br>No. of Missions=%{x}<br>Country=%{y}<extra></extra>\",\"legendgroup\":\"EER\",\"marker\":{\"color\":\"#FF97FF\",\"pattern\":{\"shape\":\"\"}},\"name\":\"EER\",\"offsetgroup\":\"EER\",\"orientation\":\"h\",\"showlegend\":true,\"text\":[\"EER\"],\"textposition\":\"auto\",\"x\":[1],\"xaxis\":\"x\",\"y\":[\"USA\"],\"yaxis\":\"y\",\"type\":\"bar\"},{\"alignmentgroup\":\"True\",\"hovertemplate\":\"Company Name=%{text}<br>No. of Missions=%{x}<br>Country=%{y}<extra></extra>\",\"legendgroup\":\"Exos\",\"marker\":{\"color\":\"#FECB52\",\"pattern\":{\"shape\":\"\"}},\"name\":\"Exos\",\"offsetgroup\":\"Exos\",\"orientation\":\"h\",\"showlegend\":true,\"text\":[\"Exos\"],\"textposition\":\"auto\",\"x\":[4],\"xaxis\":\"x\",\"y\":[\"USA\"],\"yaxis\":\"y\",\"type\":\"bar\"},{\"alignmentgroup\":\"True\",\"hovertemplate\":\"Company Name=%{text}<br>No. of Missions=%{x}<br>Country=%{y}<extra></extra>\",\"legendgroup\":\"General Dynamics\",\"marker\":{\"color\":\"#636efa\",\"pattern\":{\"shape\":\"\"}},\"name\":\"General Dynamics\",\"offsetgroup\":\"General Dynamics\",\"orientation\":\"h\",\"showlegend\":true,\"text\":[\"General Dynamics\"],\"textposition\":\"auto\",\"x\":[251],\"xaxis\":\"x\",\"y\":[\"USA\"],\"yaxis\":\"y\",\"type\":\"bar\"},{\"alignmentgroup\":\"True\",\"hovertemplate\":\"Company Name=%{text}<br>No. of Missions=%{x}<br>Country=%{y}<extra></extra>\",\"legendgroup\":\"ILS\",\"marker\":{\"color\":\"#EF553B\",\"pattern\":{\"shape\":\"\"}},\"name\":\"ILS\",\"offsetgroup\":\"ILS\",\"orientation\":\"h\",\"showlegend\":true,\"text\":[\"ILS\"],\"textposition\":\"auto\",\"x\":[40],\"xaxis\":\"x\",\"y\":[\"USA\"],\"yaxis\":\"y\",\"type\":\"bar\"},{\"alignmentgroup\":\"True\",\"hovertemplate\":\"Company Name=%{text}<br>No. of Missions=%{x}<br>Country=%{y}<extra></extra>\",\"legendgroup\":\"Lockheed\",\"marker\":{\"color\":\"#00cc96\",\"pattern\":{\"shape\":\"\"}},\"name\":\"Lockheed\",\"offsetgroup\":\"Lockheed\",\"orientation\":\"h\",\"showlegend\":true,\"text\":[\"Lockheed\"],\"textposition\":\"auto\",\"x\":[79],\"xaxis\":\"x\",\"y\":[\"USA\"],\"yaxis\":\"y\",\"type\":\"bar\"},{\"alignmentgroup\":\"True\",\"hovertemplate\":\"Company Name=%{text}<br>No. of Missions=%{x}<br>Country=%{y}<extra></extra>\",\"legendgroup\":\"Martin Marietta\",\"marker\":{\"color\":\"#ab63fa\",\"pattern\":{\"shape\":\"\"}},\"name\":\"Martin Marietta\",\"offsetgroup\":\"Martin Marietta\",\"orientation\":\"h\",\"showlegend\":true,\"text\":[\"Martin Marietta\"],\"textposition\":\"auto\",\"x\":[114],\"xaxis\":\"x\",\"y\":[\"USA\"],\"yaxis\":\"y\",\"type\":\"bar\"},{\"alignmentgroup\":\"True\",\"hovertemplate\":\"Company Name=%{text}<br>No. of Missions=%{x}<br>Country=%{y}<extra></extra>\",\"legendgroup\":\"NASA\",\"marker\":{\"color\":\"#FFA15A\",\"pattern\":{\"shape\":\"\"}},\"name\":\"NASA\",\"offsetgroup\":\"NASA\",\"orientation\":\"h\",\"showlegend\":true,\"text\":[\"NASA\"],\"textposition\":\"auto\",\"x\":[203],\"xaxis\":\"x\",\"y\":[\"USA\"],\"yaxis\":\"y\",\"type\":\"bar\"},{\"alignmentgroup\":\"True\",\"hovertemplate\":\"Company Name=%{text}<br>No. of Missions=%{x}<br>Country=%{y}<extra></extra>\",\"legendgroup\":\"Northrop\",\"marker\":{\"color\":\"#19d3f3\",\"pattern\":{\"shape\":\"\"}},\"name\":\"Northrop\",\"offsetgroup\":\"Northrop\",\"orientation\":\"h\",\"showlegend\":true,\"text\":[\"Northrop\"],\"textposition\":\"auto\",\"x\":[83],\"xaxis\":\"x\",\"y\":[\"USA\"],\"yaxis\":\"y\",\"type\":\"bar\"},{\"alignmentgroup\":\"True\",\"hovertemplate\":\"Company Name=%{text}<br>No. of Missions=%{x}<br>Country=%{y}<extra></extra>\",\"legendgroup\":\"Sandia\",\"marker\":{\"color\":\"#FF6692\",\"pattern\":{\"shape\":\"\"}},\"name\":\"Sandia\",\"offsetgroup\":\"Sandia\",\"orientation\":\"h\",\"showlegend\":true,\"text\":[\"Sandia\"],\"textposition\":\"auto\",\"x\":[1],\"xaxis\":\"x\",\"y\":[\"USA\"],\"yaxis\":\"y\",\"type\":\"bar\"},{\"alignmentgroup\":\"True\",\"hovertemplate\":\"Company Name=%{text}<br>No. of Missions=%{x}<br>Country=%{y}<extra></extra>\",\"legendgroup\":\"SpaceX\",\"marker\":{\"color\":\"#B6E880\",\"pattern\":{\"shape\":\"\"}},\"name\":\"SpaceX\",\"offsetgroup\":\"SpaceX\",\"orientation\":\"h\",\"showlegend\":true,\"text\":[\"SpaceX\"],\"textposition\":\"auto\",\"x\":[100],\"xaxis\":\"x\",\"y\":[\"USA\"],\"yaxis\":\"y\",\"type\":\"bar\"},{\"alignmentgroup\":\"True\",\"hovertemplate\":\"Company Name=%{text}<br>No. of Missions=%{x}<br>Country=%{y}<extra></extra>\",\"legendgroup\":\"ULA\",\"marker\":{\"color\":\"#FF97FF\",\"pattern\":{\"shape\":\"\"}},\"name\":\"ULA\",\"offsetgroup\":\"ULA\",\"orientation\":\"h\",\"showlegend\":true,\"text\":[\"ULA\"],\"textposition\":\"auto\",\"x\":[140],\"xaxis\":\"x\",\"y\":[\"USA\"],\"yaxis\":\"y\",\"type\":\"bar\"},{\"alignmentgroup\":\"True\",\"hovertemplate\":\"Company Name=%{text}<br>No. of Missions=%{x}<br>Country=%{y}<extra></extra>\",\"legendgroup\":\"US Air Force\",\"marker\":{\"color\":\"#FECB52\",\"pattern\":{\"shape\":\"\"}},\"name\":\"US Air Force\",\"offsetgroup\":\"US Air Force\",\"orientation\":\"h\",\"showlegend\":true,\"text\":[\"US Air Force\"],\"textposition\":\"auto\",\"x\":[161],\"xaxis\":\"x\",\"y\":[\"USA\"],\"yaxis\":\"y\",\"type\":\"bar\"},{\"alignmentgroup\":\"True\",\"hovertemplate\":\"Company Name=%{text}<br>No. of Missions=%{x}<br>Country=%{y}<extra></extra>\",\"legendgroup\":\"US Navy\",\"marker\":{\"color\":\"#636efa\",\"pattern\":{\"shape\":\"\"}},\"name\":\"US Navy\",\"offsetgroup\":\"US Navy\",\"orientation\":\"h\",\"showlegend\":true,\"text\":[\"US Navy\"],\"textposition\":\"auto\",\"x\":[17],\"xaxis\":\"x\",\"y\":[\"USA\"],\"yaxis\":\"y\",\"type\":\"bar\"},{\"alignmentgroup\":\"True\",\"hovertemplate\":\"Company Name=%{text}<br>No. of Missions=%{x}<br>Country=%{y}<extra></extra>\",\"legendgroup\":\"Virgin Orbit\",\"marker\":{\"color\":\"#EF553B\",\"pattern\":{\"shape\":\"\"}},\"name\":\"Virgin Orbit\",\"offsetgroup\":\"Virgin Orbit\",\"orientation\":\"h\",\"showlegend\":true,\"text\":[\"Virgin Orbit\"],\"textposition\":\"auto\",\"x\":[1],\"xaxis\":\"x\",\"y\":[\"USA\"],\"yaxis\":\"y\",\"type\":\"bar\"}],                        {\"template\":{\"data\":{\"histogram2dcontour\":[{\"type\":\"histogram2dcontour\",\"colorbar\":{\"outlinewidth\":0,\"ticks\":\"\"},\"colorscale\":[[0.0,\"#0d0887\"],[0.1111111111111111,\"#46039f\"],[0.2222222222222222,\"#7201a8\"],[0.3333333333333333,\"#9c179e\"],[0.4444444444444444,\"#bd3786\"],[0.5555555555555556,\"#d8576b\"],[0.6666666666666666,\"#ed7953\"],[0.7777777777777778,\"#fb9f3a\"],[0.8888888888888888,\"#fdca26\"],[1.0,\"#f0f921\"]]}],\"choropleth\":[{\"type\":\"choropleth\",\"colorbar\":{\"outlinewidth\":0,\"ticks\":\"\"}}],\"histogram2d\":[{\"type\":\"histogram2d\",\"colorbar\":{\"outlinewidth\":0,\"ticks\":\"\"},\"colorscale\":[[0.0,\"#0d0887\"],[0.1111111111111111,\"#46039f\"],[0.2222222222222222,\"#7201a8\"],[0.3333333333333333,\"#9c179e\"],[0.4444444444444444,\"#bd3786\"],[0.5555555555555556,\"#d8576b\"],[0.6666666666666666,\"#ed7953\"],[0.7777777777777778,\"#fb9f3a\"],[0.8888888888888888,\"#fdca26\"],[1.0,\"#f0f921\"]]}],\"heatmap\":[{\"type\":\"heatmap\",\"colorbar\":{\"outlinewidth\":0,\"ticks\":\"\"},\"colorscale\":[[0.0,\"#0d0887\"],[0.1111111111111111,\"#46039f\"],[0.2222222222222222,\"#7201a8\"],[0.3333333333333333,\"#9c179e\"],[0.4444444444444444,\"#bd3786\"],[0.5555555555555556,\"#d8576b\"],[0.6666666666666666,\"#ed7953\"],[0.7777777777777778,\"#fb9f3a\"],[0.8888888888888888,\"#fdca26\"],[1.0,\"#f0f921\"]]}],\"heatmapgl\":[{\"type\":\"heatmapgl\",\"colorbar\":{\"outlinewidth\":0,\"ticks\":\"\"},\"colorscale\":[[0.0,\"#0d0887\"],[0.1111111111111111,\"#46039f\"],[0.2222222222222222,\"#7201a8\"],[0.3333333333333333,\"#9c179e\"],[0.4444444444444444,\"#bd3786\"],[0.5555555555555556,\"#d8576b\"],[0.6666666666666666,\"#ed7953\"],[0.7777777777777778,\"#fb9f3a\"],[0.8888888888888888,\"#fdca26\"],[1.0,\"#f0f921\"]]}],\"contourcarpet\":[{\"type\":\"contourcarpet\",\"colorbar\":{\"outlinewidth\":0,\"ticks\":\"\"}}],\"contour\":[{\"type\":\"contour\",\"colorbar\":{\"outlinewidth\":0,\"ticks\":\"\"},\"colorscale\":[[0.0,\"#0d0887\"],[0.1111111111111111,\"#46039f\"],[0.2222222222222222,\"#7201a8\"],[0.3333333333333333,\"#9c179e\"],[0.4444444444444444,\"#bd3786\"],[0.5555555555555556,\"#d8576b\"],[0.6666666666666666,\"#ed7953\"],[0.7777777777777778,\"#fb9f3a\"],[0.8888888888888888,\"#fdca26\"],[1.0,\"#f0f921\"]]}],\"surface\":[{\"type\":\"surface\",\"colorbar\":{\"outlinewidth\":0,\"ticks\":\"\"},\"colorscale\":[[0.0,\"#0d0887\"],[0.1111111111111111,\"#46039f\"],[0.2222222222222222,\"#7201a8\"],[0.3333333333333333,\"#9c179e\"],[0.4444444444444444,\"#bd3786\"],[0.5555555555555556,\"#d8576b\"],[0.6666666666666666,\"#ed7953\"],[0.7777777777777778,\"#fb9f3a\"],[0.8888888888888888,\"#fdca26\"],[1.0,\"#f0f921\"]]}],\"mesh3d\":[{\"type\":\"mesh3d\",\"colorbar\":{\"outlinewidth\":0,\"ticks\":\"\"}}],\"scatter\":[{\"fillpattern\":{\"fillmode\":\"overlay\",\"size\":10,\"solidity\":0.2},\"type\":\"scatter\"}],\"parcoords\":[{\"type\":\"parcoords\",\"line\":{\"colorbar\":{\"outlinewidth\":0,\"ticks\":\"\"}}}],\"scatterpolargl\":[{\"type\":\"scatterpolargl\",\"marker\":{\"colorbar\":{\"outlinewidth\":0,\"ticks\":\"\"}}}],\"bar\":[{\"error_x\":{\"color\":\"#2a3f5f\"},\"error_y\":{\"color\":\"#2a3f5f\"},\"marker\":{\"line\":{\"color\":\"#E5ECF6\",\"width\":0.5},\"pattern\":{\"fillmode\":\"overlay\",\"size\":10,\"solidity\":0.2}},\"type\":\"bar\"}],\"scattergeo\":[{\"type\":\"scattergeo\",\"marker\":{\"colorbar\":{\"outlinewidth\":0,\"ticks\":\"\"}}}],\"scatterpolar\":[{\"type\":\"scatterpolar\",\"marker\":{\"colorbar\":{\"outlinewidth\":0,\"ticks\":\"\"}}}],\"histogram\":[{\"marker\":{\"pattern\":{\"fillmode\":\"overlay\",\"size\":10,\"solidity\":0.2}},\"type\":\"histogram\"}],\"scattergl\":[{\"type\":\"scattergl\",\"marker\":{\"colorbar\":{\"outlinewidth\":0,\"ticks\":\"\"}}}],\"scatter3d\":[{\"type\":\"scatter3d\",\"line\":{\"colorbar\":{\"outlinewidth\":0,\"ticks\":\"\"}},\"marker\":{\"colorbar\":{\"outlinewidth\":0,\"ticks\":\"\"}}}],\"scattermapbox\":[{\"type\":\"scattermapbox\",\"marker\":{\"colorbar\":{\"outlinewidth\":0,\"ticks\":\"\"}}}],\"scatterternary\":[{\"type\":\"scatterternary\",\"marker\":{\"colorbar\":{\"outlinewidth\":0,\"ticks\":\"\"}}}],\"scattercarpet\":[{\"type\":\"scattercarpet\",\"marker\":{\"colorbar\":{\"outlinewidth\":0,\"ticks\":\"\"}}}],\"carpet\":[{\"aaxis\":{\"endlinecolor\":\"#2a3f5f\",\"gridcolor\":\"white\",\"linecolor\":\"white\",\"minorgridcolor\":\"white\",\"startlinecolor\":\"#2a3f5f\"},\"baxis\":{\"endlinecolor\":\"#2a3f5f\",\"gridcolor\":\"white\",\"linecolor\":\"white\",\"minorgridcolor\":\"white\",\"startlinecolor\":\"#2a3f5f\"},\"type\":\"carpet\"}],\"table\":[{\"cells\":{\"fill\":{\"color\":\"#EBF0F8\"},\"line\":{\"color\":\"white\"}},\"header\":{\"fill\":{\"color\":\"#C8D4E3\"},\"line\":{\"color\":\"white\"}},\"type\":\"table\"}],\"barpolar\":[{\"marker\":{\"line\":{\"color\":\"#E5ECF6\",\"width\":0.5},\"pattern\":{\"fillmode\":\"overlay\",\"size\":10,\"solidity\":0.2}},\"type\":\"barpolar\"}],\"pie\":[{\"automargin\":true,\"type\":\"pie\"}]},\"layout\":{\"autotypenumbers\":\"strict\",\"colorway\":[\"#636efa\",\"#EF553B\",\"#00cc96\",\"#ab63fa\",\"#FFA15A\",\"#19d3f3\",\"#FF6692\",\"#B6E880\",\"#FF97FF\",\"#FECB52\"],\"font\":{\"color\":\"#2a3f5f\"},\"hovermode\":\"closest\",\"hoverlabel\":{\"align\":\"left\"},\"paper_bgcolor\":\"white\",\"plot_bgcolor\":\"#E5ECF6\",\"polar\":{\"bgcolor\":\"#E5ECF6\",\"angularaxis\":{\"gridcolor\":\"white\",\"linecolor\":\"white\",\"ticks\":\"\"},\"radialaxis\":{\"gridcolor\":\"white\",\"linecolor\":\"white\",\"ticks\":\"\"}},\"ternary\":{\"bgcolor\":\"#E5ECF6\",\"aaxis\":{\"gridcolor\":\"white\",\"linecolor\":\"white\",\"ticks\":\"\"},\"baxis\":{\"gridcolor\":\"white\",\"linecolor\":\"white\",\"ticks\":\"\"},\"caxis\":{\"gridcolor\":\"white\",\"linecolor\":\"white\",\"ticks\":\"\"}},\"coloraxis\":{\"colorbar\":{\"outlinewidth\":0,\"ticks\":\"\"}},\"colorscale\":{\"sequential\":[[0.0,\"#0d0887\"],[0.1111111111111111,\"#46039f\"],[0.2222222222222222,\"#7201a8\"],[0.3333333333333333,\"#9c179e\"],[0.4444444444444444,\"#bd3786\"],[0.5555555555555556,\"#d8576b\"],[0.6666666666666666,\"#ed7953\"],[0.7777777777777778,\"#fb9f3a\"],[0.8888888888888888,\"#fdca26\"],[1.0,\"#f0f921\"]],\"sequentialminus\":[[0.0,\"#0d0887\"],[0.1111111111111111,\"#46039f\"],[0.2222222222222222,\"#7201a8\"],[0.3333333333333333,\"#9c179e\"],[0.4444444444444444,\"#bd3786\"],[0.5555555555555556,\"#d8576b\"],[0.6666666666666666,\"#ed7953\"],[0.7777777777777778,\"#fb9f3a\"],[0.8888888888888888,\"#fdca26\"],[1.0,\"#f0f921\"]],\"diverging\":[[0,\"#8e0152\"],[0.1,\"#c51b7d\"],[0.2,\"#de77ae\"],[0.3,\"#f1b6da\"],[0.4,\"#fde0ef\"],[0.5,\"#f7f7f7\"],[0.6,\"#e6f5d0\"],[0.7,\"#b8e186\"],[0.8,\"#7fbc41\"],[0.9,\"#4d9221\"],[1,\"#276419\"]]},\"xaxis\":{\"gridcolor\":\"white\",\"linecolor\":\"white\",\"ticks\":\"\",\"title\":{\"standoff\":15},\"zerolinecolor\":\"white\",\"automargin\":true,\"zerolinewidth\":2},\"yaxis\":{\"gridcolor\":\"white\",\"linecolor\":\"white\",\"ticks\":\"\",\"title\":{\"standoff\":15},\"zerolinecolor\":\"white\",\"automargin\":true,\"zerolinewidth\":2},\"scene\":{\"xaxis\":{\"backgroundcolor\":\"#E5ECF6\",\"gridcolor\":\"white\",\"linecolor\":\"white\",\"showbackground\":true,\"ticks\":\"\",\"zerolinecolor\":\"white\",\"gridwidth\":2},\"yaxis\":{\"backgroundcolor\":\"#E5ECF6\",\"gridcolor\":\"white\",\"linecolor\":\"white\",\"showbackground\":true,\"ticks\":\"\",\"zerolinecolor\":\"white\",\"gridwidth\":2},\"zaxis\":{\"backgroundcolor\":\"#E5ECF6\",\"gridcolor\":\"white\",\"linecolor\":\"white\",\"showbackground\":true,\"ticks\":\"\",\"zerolinecolor\":\"white\",\"gridwidth\":2}},\"shapedefaults\":{\"line\":{\"color\":\"#2a3f5f\"}},\"annotationdefaults\":{\"arrowcolor\":\"#2a3f5f\",\"arrowhead\":0,\"arrowwidth\":1},\"geo\":{\"bgcolor\":\"white\",\"landcolor\":\"#E5ECF6\",\"subunitcolor\":\"white\",\"showland\":true,\"showlakes\":true,\"lakecolor\":\"white\"},\"title\":{\"x\":0.05},\"mapbox\":{\"style\":\"light\"}}},\"xaxis\":{\"anchor\":\"y\",\"domain\":[0.0,1.0],\"title\":{\"text\":\"No. of Missions\"}},\"yaxis\":{\"anchor\":\"x\",\"domain\":[0.0,1.0],\"title\":{\"text\":\"Country\"}},\"legend\":{\"title\":{\"text\":\"Company Name\"},\"tracegroupgap\":0},\"margin\":{\"t\":60},\"barmode\":\"relative\",\"title\":{\"text\":\"Number of Missions by Country and Company\"}},                        {\"responsive\": true}                    ).then(function(){\n",
       "                            \n",
       "var gd = document.getElementById('9cc5c3a9-e814-4015-a74c-d0369ceee7f8');\n",
       "var x = new MutationObserver(function (mutations, observer) {{\n",
       "        var display = window.getComputedStyle(gd).display;\n",
       "        if (!display || display === 'none') {{\n",
       "            console.log([gd, 'removed!']);\n",
       "            Plotly.purge(gd);\n",
       "            observer.disconnect();\n",
       "        }}\n",
       "}});\n",
       "\n",
       "// Listen for the removal of the full notebook cells\n",
       "var notebookContainer = gd.closest('#notebook-container');\n",
       "if (notebookContainer) {{\n",
       "    x.observe(notebookContainer, {childList: true});\n",
       "}}\n",
       "\n",
       "// Listen for the clearing of the current output cell\n",
       "var outputEl = gd.closest('.output');\n",
       "if (outputEl) {{\n",
       "    x.observe(outputEl, {childList: true});\n",
       "}}\n",
       "\n",
       "                        })                };                });            </script>        </div>"
      ]
     },
     "metadata": {},
     "output_type": "display_data"
    }
   ],
   "source": [
    "#Plotting the number of launches by companies ot tally the total launch for their respective countries\n",
    "chart = px.bar(missions.reset_index(),\n",
    "               y=\"Country\",\n",
    "               x=\"No. of Missions\",\n",
    "              color=\"Company Name\",\n",
    "              text=\"Company Name\")\n",
    "chart.update_layout(title=\"Number of Missions by Country and Company\")\n",
    "chart.show()"
   ]
  },
  {
   "cell_type": "markdown",
   "id": "b8f004ed",
   "metadata": {},
   "source": [
    "Despite a large list of organisations shown within this visualisation, the number of missions in USA is more or less evenly distrubuted amongst its independent organisation. This explains how USA as a conutry had similar launch volumes to the Russian Federation.  "
   ]
  },
  {
   "cell_type": "markdown",
   "id": "998c2590",
   "metadata": {},
   "source": [
    "Now lets take a look at the number of launches from each of the countries per year.  "
   ]
  },
  {
   "cell_type": "code",
   "execution_count": 16,
   "id": "fb085762",
   "metadata": {},
   "outputs": [],
   "source": [
    "#Group the data by Country and Year, and count the number of missions\n",
    "missions_2 = pd.DataFrame(sm_select_five.groupby([\"Country\", \"Year\"])[\"Location\"].count())"
   ]
  },
  {
   "cell_type": "code",
   "execution_count": 17,
   "id": "48edecf1",
   "metadata": {},
   "outputs": [
    {
     "data": {
      "application/vnd.plotly.v1+json": {
       "config": {
        "plotlyServerURL": "https://plot.ly"
       },
       "data": [
        {
         "alignmentgroup": "True",
         "hovertemplate": "Country=China<br>Year=%{x}<br>Location=%{y}<extra></extra>",
         "legendgroup": "China",
         "marker": {
          "color": "#636efa",
          "pattern": {
           "shape": ""
          }
         },
         "name": "China",
         "offsetgroup": "China",
         "orientation": "v",
         "showlegend": true,
         "textposition": "auto",
         "type": "bar",
         "x": [
          1969,
          1970,
          1971,
          1972,
          1973,
          1974,
          1975,
          1976,
          1977,
          1978,
          1979,
          1981,
          1982,
          1983,
          1984,
          1985,
          1986,
          1987,
          1988,
          1990,
          1991,
          1992,
          1993,
          1994,
          1995,
          1996,
          1997,
          1998,
          1999,
          2000,
          2001,
          2002,
          2003,
          2004,
          2005,
          2006,
          2007,
          2008,
          2011,
          2012,
          2013,
          2014,
          2015,
          2016,
          2017,
          2018,
          2019,
          2020
         ],
         "xaxis": "x",
         "y": [
          1,
          1,
          1,
          1,
          1,
          2,
          3,
          3,
          1,
          2,
          1,
          1,
          1,
          1,
          3,
          1,
          2,
          2,
          4,
          5,
          1,
          4,
          1,
          5,
          3,
          4,
          6,
          6,
          4,
          4,
          1,
          5,
          7,
          8,
          5,
          6,
          10,
          9,
          2,
          1,
          2,
          1,
          2,
          22,
          18,
          39,
          34,
          22
         ],
         "yaxis": "y"
        },
        {
         "alignmentgroup": "True",
         "hovertemplate": "Country=France<br>Year=%{x}<br>Location=%{y}<extra></extra>",
         "legendgroup": "France",
         "marker": {
          "color": "#EF553B",
          "pattern": {
           "shape": ""
          }
         },
         "name": "France",
         "offsetgroup": "France",
         "orientation": "v",
         "showlegend": true,
         "textposition": "auto",
         "type": "bar",
         "x": [
          1965,
          1966,
          1967,
          1970,
          1971,
          1973,
          1975,
          1979,
          1980,
          1981,
          1982,
          1983,
          1984,
          1985,
          1986,
          1987,
          1988,
          1989,
          1990,
          1991,
          1992,
          1993,
          1994,
          1995,
          1996,
          1997,
          1998,
          1999,
          2000,
          2001,
          2002,
          2003,
          2004,
          2005,
          2006,
          2007,
          2008,
          2009,
          2010,
          2011,
          2012,
          2013,
          2014,
          2015,
          2016,
          2017,
          2018,
          2019,
          2020
         ],
         "xaxis": "x",
         "y": [
          1,
          1,
          2,
          2,
          3,
          1,
          3,
          1,
          1,
          2,
          1,
          2,
          4,
          4,
          3,
          2,
          7,
          7,
          6,
          8,
          7,
          7,
          8,
          11,
          11,
          12,
          11,
          10,
          12,
          8,
          12,
          4,
          3,
          5,
          5,
          6,
          6,
          7,
          6,
          7,
          10,
          7,
          11,
          12,
          11,
          11,
          11,
          9,
          2
         ],
         "yaxis": "y"
        },
        {
         "alignmentgroup": "True",
         "hovertemplate": "Country=Japan<br>Year=%{x}<br>Location=%{y}<extra></extra>",
         "legendgroup": "Japan",
         "marker": {
          "color": "#00cc96",
          "pattern": {
           "shape": ""
          }
         },
         "name": "Japan",
         "offsetgroup": "Japan",
         "orientation": "v",
         "showlegend": true,
         "textposition": "auto",
         "type": "bar",
         "x": [
          1966,
          1967,
          1969,
          1970,
          1971,
          1972,
          1974,
          1975,
          1976,
          1977,
          1978,
          1979,
          1980,
          1981,
          1982,
          1983,
          1984,
          1985,
          1986,
          1987,
          1988,
          1989,
          1990,
          1991,
          1992,
          1993,
          1994,
          1995,
          1996,
          1997,
          1998,
          1999,
          2000,
          2001,
          2002,
          2003,
          2005,
          2006,
          2007,
          2008,
          2009,
          2010,
          2011,
          2012,
          2013,
          2014,
          2015,
          2016,
          2017,
          2018,
          2019,
          2020
         ],
         "xaxis": "x",
         "y": [
          2,
          1,
          1,
          2,
          3,
          1,
          1,
          2,
          2,
          2,
          3,
          1,
          2,
          3,
          1,
          3,
          3,
          2,
          2,
          3,
          2,
          2,
          5,
          3,
          1,
          1,
          2,
          2,
          1,
          2,
          2,
          1,
          1,
          1,
          3,
          3,
          2,
          6,
          2,
          1,
          3,
          1,
          4,
          2,
          3,
          4,
          4,
          4,
          7,
          6,
          2,
          3
         ],
         "yaxis": "y"
        },
        {
         "alignmentgroup": "True",
         "hovertemplate": "Country=Russian Federation<br>Year=%{x}<br>Location=%{y}<extra></extra>",
         "legendgroup": "Russian Federation",
         "marker": {
          "color": "#ab63fa",
          "pattern": {
           "shape": ""
          }
         },
         "name": "Russian Federation",
         "offsetgroup": "Russian Federation",
         "orientation": "v",
         "showlegend": true,
         "textposition": "auto",
         "type": "bar",
         "x": [
          1961,
          1962,
          1963,
          1964,
          1965,
          1966,
          1967,
          1968,
          1969,
          1970,
          1971,
          1972,
          1973,
          1974,
          1975,
          1976,
          1977,
          1978,
          1979,
          1980,
          1981,
          1982,
          1983,
          1984,
          1985,
          1986,
          1987,
          1988,
          1989,
          1990,
          1991,
          1992,
          1993,
          1994,
          1995,
          1996,
          1997,
          1998,
          1999,
          2000,
          2001,
          2002,
          2003,
          2004,
          2005,
          2006,
          2007,
          2008,
          2009,
          2010,
          2011,
          2012,
          2013,
          2014,
          2015,
          2016,
          2017,
          2018,
          2019,
          2020
         ],
         "xaxis": "x",
         "y": [
          2,
          8,
          8,
          8,
          10,
          15,
          37,
          40,
          45,
          59,
          62,
          57,
          67,
          60,
          66,
          66,
          72,
          62,
          33,
          34,
          41,
          43,
          40,
          38,
          39,
          42,
          30,
          27,
          22,
          30,
          25,
          20,
          21,
          15,
          10,
          8,
          7,
          8,
          4,
          6,
          5,
          8,
          7,
          5,
          7,
          6,
          5,
          6,
          5,
          5,
          2,
          1,
          7,
          6,
          4,
          6,
          6,
          8,
          9,
          3
         ],
         "yaxis": "y"
        },
        {
         "alignmentgroup": "True",
         "hovertemplate": "Country=USA<br>Year=%{x}<br>Location=%{y}<extra></extra>",
         "legendgroup": "USA",
         "marker": {
          "color": "#FFA15A",
          "pattern": {
           "shape": ""
          }
         },
         "name": "USA",
         "offsetgroup": "USA",
         "orientation": "v",
         "showlegend": true,
         "textposition": "auto",
         "type": "bar",
         "x": [
          1957,
          1958,
          1959,
          1960,
          1961,
          1962,
          1963,
          1964,
          1965,
          1966,
          1967,
          1968,
          1969,
          1970,
          1971,
          1972,
          1973,
          1974,
          1975,
          1976,
          1977,
          1978,
          1979,
          1980,
          1981,
          1982,
          1983,
          1984,
          1985,
          1986,
          1987,
          1988,
          1989,
          1990,
          1991,
          1992,
          1993,
          1994,
          1995,
          1996,
          1997,
          1998,
          1999,
          2000,
          2001,
          2002,
          2003,
          2004,
          2005,
          2006,
          2007,
          2008,
          2009,
          2010,
          2011,
          2012,
          2013,
          2014,
          2015,
          2016,
          2017,
          2018,
          2019,
          2020
         ],
         "xaxis": "x",
         "y": [
          1,
          23,
          16,
          30,
          43,
          60,
          17,
          24,
          33,
          47,
          26,
          22,
          17,
          11,
          16,
          17,
          17,
          10,
          15,
          13,
          14,
          21,
          9,
          11,
          13,
          11,
          13,
          17,
          16,
          6,
          6,
          7,
          16,
          26,
          18,
          27,
          24,
          26,
          30,
          33,
          38,
          36,
          31,
          28,
          22,
          17,
          23,
          16,
          12,
          18,
          19,
          15,
          25,
          15,
          18,
          13,
          19,
          23,
          22,
          27,
          30,
          34,
          27,
          21
         ],
         "yaxis": "y"
        }
       ],
       "layout": {
        "barmode": "relative",
        "legend": {
         "title": {
          "text": "Country"
         },
         "tracegroupgap": 0
        },
        "margin": {
         "t": 60
        },
        "template": {
         "data": {
          "bar": [
           {
            "error_x": {
             "color": "#2a3f5f"
            },
            "error_y": {
             "color": "#2a3f5f"
            },
            "marker": {
             "line": {
              "color": "#E5ECF6",
              "width": 0.5
             },
             "pattern": {
              "fillmode": "overlay",
              "size": 10,
              "solidity": 0.2
             }
            },
            "type": "bar"
           }
          ],
          "barpolar": [
           {
            "marker": {
             "line": {
              "color": "#E5ECF6",
              "width": 0.5
             },
             "pattern": {
              "fillmode": "overlay",
              "size": 10,
              "solidity": 0.2
             }
            },
            "type": "barpolar"
           }
          ],
          "carpet": [
           {
            "aaxis": {
             "endlinecolor": "#2a3f5f",
             "gridcolor": "white",
             "linecolor": "white",
             "minorgridcolor": "white",
             "startlinecolor": "#2a3f5f"
            },
            "baxis": {
             "endlinecolor": "#2a3f5f",
             "gridcolor": "white",
             "linecolor": "white",
             "minorgridcolor": "white",
             "startlinecolor": "#2a3f5f"
            },
            "type": "carpet"
           }
          ],
          "choropleth": [
           {
            "colorbar": {
             "outlinewidth": 0,
             "ticks": ""
            },
            "type": "choropleth"
           }
          ],
          "contour": [
           {
            "colorbar": {
             "outlinewidth": 0,
             "ticks": ""
            },
            "colorscale": [
             [
              0,
              "#0d0887"
             ],
             [
              0.1111111111111111,
              "#46039f"
             ],
             [
              0.2222222222222222,
              "#7201a8"
             ],
             [
              0.3333333333333333,
              "#9c179e"
             ],
             [
              0.4444444444444444,
              "#bd3786"
             ],
             [
              0.5555555555555556,
              "#d8576b"
             ],
             [
              0.6666666666666666,
              "#ed7953"
             ],
             [
              0.7777777777777778,
              "#fb9f3a"
             ],
             [
              0.8888888888888888,
              "#fdca26"
             ],
             [
              1,
              "#f0f921"
             ]
            ],
            "type": "contour"
           }
          ],
          "contourcarpet": [
           {
            "colorbar": {
             "outlinewidth": 0,
             "ticks": ""
            },
            "type": "contourcarpet"
           }
          ],
          "heatmap": [
           {
            "colorbar": {
             "outlinewidth": 0,
             "ticks": ""
            },
            "colorscale": [
             [
              0,
              "#0d0887"
             ],
             [
              0.1111111111111111,
              "#46039f"
             ],
             [
              0.2222222222222222,
              "#7201a8"
             ],
             [
              0.3333333333333333,
              "#9c179e"
             ],
             [
              0.4444444444444444,
              "#bd3786"
             ],
             [
              0.5555555555555556,
              "#d8576b"
             ],
             [
              0.6666666666666666,
              "#ed7953"
             ],
             [
              0.7777777777777778,
              "#fb9f3a"
             ],
             [
              0.8888888888888888,
              "#fdca26"
             ],
             [
              1,
              "#f0f921"
             ]
            ],
            "type": "heatmap"
           }
          ],
          "heatmapgl": [
           {
            "colorbar": {
             "outlinewidth": 0,
             "ticks": ""
            },
            "colorscale": [
             [
              0,
              "#0d0887"
             ],
             [
              0.1111111111111111,
              "#46039f"
             ],
             [
              0.2222222222222222,
              "#7201a8"
             ],
             [
              0.3333333333333333,
              "#9c179e"
             ],
             [
              0.4444444444444444,
              "#bd3786"
             ],
             [
              0.5555555555555556,
              "#d8576b"
             ],
             [
              0.6666666666666666,
              "#ed7953"
             ],
             [
              0.7777777777777778,
              "#fb9f3a"
             ],
             [
              0.8888888888888888,
              "#fdca26"
             ],
             [
              1,
              "#f0f921"
             ]
            ],
            "type": "heatmapgl"
           }
          ],
          "histogram": [
           {
            "marker": {
             "pattern": {
              "fillmode": "overlay",
              "size": 10,
              "solidity": 0.2
             }
            },
            "type": "histogram"
           }
          ],
          "histogram2d": [
           {
            "colorbar": {
             "outlinewidth": 0,
             "ticks": ""
            },
            "colorscale": [
             [
              0,
              "#0d0887"
             ],
             [
              0.1111111111111111,
              "#46039f"
             ],
             [
              0.2222222222222222,
              "#7201a8"
             ],
             [
              0.3333333333333333,
              "#9c179e"
             ],
             [
              0.4444444444444444,
              "#bd3786"
             ],
             [
              0.5555555555555556,
              "#d8576b"
             ],
             [
              0.6666666666666666,
              "#ed7953"
             ],
             [
              0.7777777777777778,
              "#fb9f3a"
             ],
             [
              0.8888888888888888,
              "#fdca26"
             ],
             [
              1,
              "#f0f921"
             ]
            ],
            "type": "histogram2d"
           }
          ],
          "histogram2dcontour": [
           {
            "colorbar": {
             "outlinewidth": 0,
             "ticks": ""
            },
            "colorscale": [
             [
              0,
              "#0d0887"
             ],
             [
              0.1111111111111111,
              "#46039f"
             ],
             [
              0.2222222222222222,
              "#7201a8"
             ],
             [
              0.3333333333333333,
              "#9c179e"
             ],
             [
              0.4444444444444444,
              "#bd3786"
             ],
             [
              0.5555555555555556,
              "#d8576b"
             ],
             [
              0.6666666666666666,
              "#ed7953"
             ],
             [
              0.7777777777777778,
              "#fb9f3a"
             ],
             [
              0.8888888888888888,
              "#fdca26"
             ],
             [
              1,
              "#f0f921"
             ]
            ],
            "type": "histogram2dcontour"
           }
          ],
          "mesh3d": [
           {
            "colorbar": {
             "outlinewidth": 0,
             "ticks": ""
            },
            "type": "mesh3d"
           }
          ],
          "parcoords": [
           {
            "line": {
             "colorbar": {
              "outlinewidth": 0,
              "ticks": ""
             }
            },
            "type": "parcoords"
           }
          ],
          "pie": [
           {
            "automargin": true,
            "type": "pie"
           }
          ],
          "scatter": [
           {
            "fillpattern": {
             "fillmode": "overlay",
             "size": 10,
             "solidity": 0.2
            },
            "type": "scatter"
           }
          ],
          "scatter3d": [
           {
            "line": {
             "colorbar": {
              "outlinewidth": 0,
              "ticks": ""
             }
            },
            "marker": {
             "colorbar": {
              "outlinewidth": 0,
              "ticks": ""
             }
            },
            "type": "scatter3d"
           }
          ],
          "scattercarpet": [
           {
            "marker": {
             "colorbar": {
              "outlinewidth": 0,
              "ticks": ""
             }
            },
            "type": "scattercarpet"
           }
          ],
          "scattergeo": [
           {
            "marker": {
             "colorbar": {
              "outlinewidth": 0,
              "ticks": ""
             }
            },
            "type": "scattergeo"
           }
          ],
          "scattergl": [
           {
            "marker": {
             "colorbar": {
              "outlinewidth": 0,
              "ticks": ""
             }
            },
            "type": "scattergl"
           }
          ],
          "scattermapbox": [
           {
            "marker": {
             "colorbar": {
              "outlinewidth": 0,
              "ticks": ""
             }
            },
            "type": "scattermapbox"
           }
          ],
          "scatterpolar": [
           {
            "marker": {
             "colorbar": {
              "outlinewidth": 0,
              "ticks": ""
             }
            },
            "type": "scatterpolar"
           }
          ],
          "scatterpolargl": [
           {
            "marker": {
             "colorbar": {
              "outlinewidth": 0,
              "ticks": ""
             }
            },
            "type": "scatterpolargl"
           }
          ],
          "scatterternary": [
           {
            "marker": {
             "colorbar": {
              "outlinewidth": 0,
              "ticks": ""
             }
            },
            "type": "scatterternary"
           }
          ],
          "surface": [
           {
            "colorbar": {
             "outlinewidth": 0,
             "ticks": ""
            },
            "colorscale": [
             [
              0,
              "#0d0887"
             ],
             [
              0.1111111111111111,
              "#46039f"
             ],
             [
              0.2222222222222222,
              "#7201a8"
             ],
             [
              0.3333333333333333,
              "#9c179e"
             ],
             [
              0.4444444444444444,
              "#bd3786"
             ],
             [
              0.5555555555555556,
              "#d8576b"
             ],
             [
              0.6666666666666666,
              "#ed7953"
             ],
             [
              0.7777777777777778,
              "#fb9f3a"
             ],
             [
              0.8888888888888888,
              "#fdca26"
             ],
             [
              1,
              "#f0f921"
             ]
            ],
            "type": "surface"
           }
          ],
          "table": [
           {
            "cells": {
             "fill": {
              "color": "#EBF0F8"
             },
             "line": {
              "color": "white"
             }
            },
            "header": {
             "fill": {
              "color": "#C8D4E3"
             },
             "line": {
              "color": "white"
             }
            },
            "type": "table"
           }
          ]
         },
         "layout": {
          "annotationdefaults": {
           "arrowcolor": "#2a3f5f",
           "arrowhead": 0,
           "arrowwidth": 1
          },
          "autotypenumbers": "strict",
          "coloraxis": {
           "colorbar": {
            "outlinewidth": 0,
            "ticks": ""
           }
          },
          "colorscale": {
           "diverging": [
            [
             0,
             "#8e0152"
            ],
            [
             0.1,
             "#c51b7d"
            ],
            [
             0.2,
             "#de77ae"
            ],
            [
             0.3,
             "#f1b6da"
            ],
            [
             0.4,
             "#fde0ef"
            ],
            [
             0.5,
             "#f7f7f7"
            ],
            [
             0.6,
             "#e6f5d0"
            ],
            [
             0.7,
             "#b8e186"
            ],
            [
             0.8,
             "#7fbc41"
            ],
            [
             0.9,
             "#4d9221"
            ],
            [
             1,
             "#276419"
            ]
           ],
           "sequential": [
            [
             0,
             "#0d0887"
            ],
            [
             0.1111111111111111,
             "#46039f"
            ],
            [
             0.2222222222222222,
             "#7201a8"
            ],
            [
             0.3333333333333333,
             "#9c179e"
            ],
            [
             0.4444444444444444,
             "#bd3786"
            ],
            [
             0.5555555555555556,
             "#d8576b"
            ],
            [
             0.6666666666666666,
             "#ed7953"
            ],
            [
             0.7777777777777778,
             "#fb9f3a"
            ],
            [
             0.8888888888888888,
             "#fdca26"
            ],
            [
             1,
             "#f0f921"
            ]
           ],
           "sequentialminus": [
            [
             0,
             "#0d0887"
            ],
            [
             0.1111111111111111,
             "#46039f"
            ],
            [
             0.2222222222222222,
             "#7201a8"
            ],
            [
             0.3333333333333333,
             "#9c179e"
            ],
            [
             0.4444444444444444,
             "#bd3786"
            ],
            [
             0.5555555555555556,
             "#d8576b"
            ],
            [
             0.6666666666666666,
             "#ed7953"
            ],
            [
             0.7777777777777778,
             "#fb9f3a"
            ],
            [
             0.8888888888888888,
             "#fdca26"
            ],
            [
             1,
             "#f0f921"
            ]
           ]
          },
          "colorway": [
           "#636efa",
           "#EF553B",
           "#00cc96",
           "#ab63fa",
           "#FFA15A",
           "#19d3f3",
           "#FF6692",
           "#B6E880",
           "#FF97FF",
           "#FECB52"
          ],
          "font": {
           "color": "#2a3f5f"
          },
          "geo": {
           "bgcolor": "white",
           "lakecolor": "white",
           "landcolor": "#E5ECF6",
           "showlakes": true,
           "showland": true,
           "subunitcolor": "white"
          },
          "hoverlabel": {
           "align": "left"
          },
          "hovermode": "closest",
          "mapbox": {
           "style": "light"
          },
          "paper_bgcolor": "white",
          "plot_bgcolor": "#E5ECF6",
          "polar": {
           "angularaxis": {
            "gridcolor": "white",
            "linecolor": "white",
            "ticks": ""
           },
           "bgcolor": "#E5ECF6",
           "radialaxis": {
            "gridcolor": "white",
            "linecolor": "white",
            "ticks": ""
           }
          },
          "scene": {
           "xaxis": {
            "backgroundcolor": "#E5ECF6",
            "gridcolor": "white",
            "gridwidth": 2,
            "linecolor": "white",
            "showbackground": true,
            "ticks": "",
            "zerolinecolor": "white"
           },
           "yaxis": {
            "backgroundcolor": "#E5ECF6",
            "gridcolor": "white",
            "gridwidth": 2,
            "linecolor": "white",
            "showbackground": true,
            "ticks": "",
            "zerolinecolor": "white"
           },
           "zaxis": {
            "backgroundcolor": "#E5ECF6",
            "gridcolor": "white",
            "gridwidth": 2,
            "linecolor": "white",
            "showbackground": true,
            "ticks": "",
            "zerolinecolor": "white"
           }
          },
          "shapedefaults": {
           "line": {
            "color": "#2a3f5f"
           }
          },
          "ternary": {
           "aaxis": {
            "gridcolor": "white",
            "linecolor": "white",
            "ticks": ""
           },
           "baxis": {
            "gridcolor": "white",
            "linecolor": "white",
            "ticks": ""
           },
           "bgcolor": "#E5ECF6",
           "caxis": {
            "gridcolor": "white",
            "linecolor": "white",
            "ticks": ""
           }
          },
          "title": {
           "x": 0.05
          },
          "xaxis": {
           "automargin": true,
           "gridcolor": "white",
           "linecolor": "white",
           "ticks": "",
           "title": {
            "standoff": 15
           },
           "zerolinecolor": "white",
           "zerolinewidth": 2
          },
          "yaxis": {
           "automargin": true,
           "gridcolor": "white",
           "linecolor": "white",
           "ticks": "",
           "title": {
            "standoff": 15
           },
           "zerolinecolor": "white",
           "zerolinewidth": 2
          }
         }
        },
        "title": {
         "text": "Number of Missions by Countries across the years"
        },
        "xaxis": {
         "anchor": "y",
         "domain": [
          0,
          1
         ],
         "title": {
          "text": "Year"
         }
        },
        "yaxis": {
         "anchor": "x",
         "domain": [
          0,
          1
         ],
         "title": {
          "text": "Number of Launches"
         }
        }
       }
      },
      "text/html": [
       "<div>                            <div id=\"51b1f602-dd44-43dc-83be-ca2be72936a3\" class=\"plotly-graph-div\" style=\"height:525px; width:100%;\"></div>            <script type=\"text/javascript\">                require([\"plotly\"], function(Plotly) {                    window.PLOTLYENV=window.PLOTLYENV || {};                                    if (document.getElementById(\"51b1f602-dd44-43dc-83be-ca2be72936a3\")) {                    Plotly.newPlot(                        \"51b1f602-dd44-43dc-83be-ca2be72936a3\",                        [{\"alignmentgroup\":\"True\",\"hovertemplate\":\"Country=China<br>Year=%{x}<br>Location=%{y}<extra></extra>\",\"legendgroup\":\"China\",\"marker\":{\"color\":\"#636efa\",\"pattern\":{\"shape\":\"\"}},\"name\":\"China\",\"offsetgroup\":\"China\",\"orientation\":\"v\",\"showlegend\":true,\"textposition\":\"auto\",\"x\":[1969,1970,1971,1972,1973,1974,1975,1976,1977,1978,1979,1981,1982,1983,1984,1985,1986,1987,1988,1990,1991,1992,1993,1994,1995,1996,1997,1998,1999,2000,2001,2002,2003,2004,2005,2006,2007,2008,2011,2012,2013,2014,2015,2016,2017,2018,2019,2020],\"xaxis\":\"x\",\"y\":[1,1,1,1,1,2,3,3,1,2,1,1,1,1,3,1,2,2,4,5,1,4,1,5,3,4,6,6,4,4,1,5,7,8,5,6,10,9,2,1,2,1,2,22,18,39,34,22],\"yaxis\":\"y\",\"type\":\"bar\"},{\"alignmentgroup\":\"True\",\"hovertemplate\":\"Country=France<br>Year=%{x}<br>Location=%{y}<extra></extra>\",\"legendgroup\":\"France\",\"marker\":{\"color\":\"#EF553B\",\"pattern\":{\"shape\":\"\"}},\"name\":\"France\",\"offsetgroup\":\"France\",\"orientation\":\"v\",\"showlegend\":true,\"textposition\":\"auto\",\"x\":[1965,1966,1967,1970,1971,1973,1975,1979,1980,1981,1982,1983,1984,1985,1986,1987,1988,1989,1990,1991,1992,1993,1994,1995,1996,1997,1998,1999,2000,2001,2002,2003,2004,2005,2006,2007,2008,2009,2010,2011,2012,2013,2014,2015,2016,2017,2018,2019,2020],\"xaxis\":\"x\",\"y\":[1,1,2,2,3,1,3,1,1,2,1,2,4,4,3,2,7,7,6,8,7,7,8,11,11,12,11,10,12,8,12,4,3,5,5,6,6,7,6,7,10,7,11,12,11,11,11,9,2],\"yaxis\":\"y\",\"type\":\"bar\"},{\"alignmentgroup\":\"True\",\"hovertemplate\":\"Country=Japan<br>Year=%{x}<br>Location=%{y}<extra></extra>\",\"legendgroup\":\"Japan\",\"marker\":{\"color\":\"#00cc96\",\"pattern\":{\"shape\":\"\"}},\"name\":\"Japan\",\"offsetgroup\":\"Japan\",\"orientation\":\"v\",\"showlegend\":true,\"textposition\":\"auto\",\"x\":[1966,1967,1969,1970,1971,1972,1974,1975,1976,1977,1978,1979,1980,1981,1982,1983,1984,1985,1986,1987,1988,1989,1990,1991,1992,1993,1994,1995,1996,1997,1998,1999,2000,2001,2002,2003,2005,2006,2007,2008,2009,2010,2011,2012,2013,2014,2015,2016,2017,2018,2019,2020],\"xaxis\":\"x\",\"y\":[2,1,1,2,3,1,1,2,2,2,3,1,2,3,1,3,3,2,2,3,2,2,5,3,1,1,2,2,1,2,2,1,1,1,3,3,2,6,2,1,3,1,4,2,3,4,4,4,7,6,2,3],\"yaxis\":\"y\",\"type\":\"bar\"},{\"alignmentgroup\":\"True\",\"hovertemplate\":\"Country=Russian Federation<br>Year=%{x}<br>Location=%{y}<extra></extra>\",\"legendgroup\":\"Russian Federation\",\"marker\":{\"color\":\"#ab63fa\",\"pattern\":{\"shape\":\"\"}},\"name\":\"Russian Federation\",\"offsetgroup\":\"Russian Federation\",\"orientation\":\"v\",\"showlegend\":true,\"textposition\":\"auto\",\"x\":[1961,1962,1963,1964,1965,1966,1967,1968,1969,1970,1971,1972,1973,1974,1975,1976,1977,1978,1979,1980,1981,1982,1983,1984,1985,1986,1987,1988,1989,1990,1991,1992,1993,1994,1995,1996,1997,1998,1999,2000,2001,2002,2003,2004,2005,2006,2007,2008,2009,2010,2011,2012,2013,2014,2015,2016,2017,2018,2019,2020],\"xaxis\":\"x\",\"y\":[2,8,8,8,10,15,37,40,45,59,62,57,67,60,66,66,72,62,33,34,41,43,40,38,39,42,30,27,22,30,25,20,21,15,10,8,7,8,4,6,5,8,7,5,7,6,5,6,5,5,2,1,7,6,4,6,6,8,9,3],\"yaxis\":\"y\",\"type\":\"bar\"},{\"alignmentgroup\":\"True\",\"hovertemplate\":\"Country=USA<br>Year=%{x}<br>Location=%{y}<extra></extra>\",\"legendgroup\":\"USA\",\"marker\":{\"color\":\"#FFA15A\",\"pattern\":{\"shape\":\"\"}},\"name\":\"USA\",\"offsetgroup\":\"USA\",\"orientation\":\"v\",\"showlegend\":true,\"textposition\":\"auto\",\"x\":[1957,1958,1959,1960,1961,1962,1963,1964,1965,1966,1967,1968,1969,1970,1971,1972,1973,1974,1975,1976,1977,1978,1979,1980,1981,1982,1983,1984,1985,1986,1987,1988,1989,1990,1991,1992,1993,1994,1995,1996,1997,1998,1999,2000,2001,2002,2003,2004,2005,2006,2007,2008,2009,2010,2011,2012,2013,2014,2015,2016,2017,2018,2019,2020],\"xaxis\":\"x\",\"y\":[1,23,16,30,43,60,17,24,33,47,26,22,17,11,16,17,17,10,15,13,14,21,9,11,13,11,13,17,16,6,6,7,16,26,18,27,24,26,30,33,38,36,31,28,22,17,23,16,12,18,19,15,25,15,18,13,19,23,22,27,30,34,27,21],\"yaxis\":\"y\",\"type\":\"bar\"}],                        {\"template\":{\"data\":{\"histogram2dcontour\":[{\"type\":\"histogram2dcontour\",\"colorbar\":{\"outlinewidth\":0,\"ticks\":\"\"},\"colorscale\":[[0.0,\"#0d0887\"],[0.1111111111111111,\"#46039f\"],[0.2222222222222222,\"#7201a8\"],[0.3333333333333333,\"#9c179e\"],[0.4444444444444444,\"#bd3786\"],[0.5555555555555556,\"#d8576b\"],[0.6666666666666666,\"#ed7953\"],[0.7777777777777778,\"#fb9f3a\"],[0.8888888888888888,\"#fdca26\"],[1.0,\"#f0f921\"]]}],\"choropleth\":[{\"type\":\"choropleth\",\"colorbar\":{\"outlinewidth\":0,\"ticks\":\"\"}}],\"histogram2d\":[{\"type\":\"histogram2d\",\"colorbar\":{\"outlinewidth\":0,\"ticks\":\"\"},\"colorscale\":[[0.0,\"#0d0887\"],[0.1111111111111111,\"#46039f\"],[0.2222222222222222,\"#7201a8\"],[0.3333333333333333,\"#9c179e\"],[0.4444444444444444,\"#bd3786\"],[0.5555555555555556,\"#d8576b\"],[0.6666666666666666,\"#ed7953\"],[0.7777777777777778,\"#fb9f3a\"],[0.8888888888888888,\"#fdca26\"],[1.0,\"#f0f921\"]]}],\"heatmap\":[{\"type\":\"heatmap\",\"colorbar\":{\"outlinewidth\":0,\"ticks\":\"\"},\"colorscale\":[[0.0,\"#0d0887\"],[0.1111111111111111,\"#46039f\"],[0.2222222222222222,\"#7201a8\"],[0.3333333333333333,\"#9c179e\"],[0.4444444444444444,\"#bd3786\"],[0.5555555555555556,\"#d8576b\"],[0.6666666666666666,\"#ed7953\"],[0.7777777777777778,\"#fb9f3a\"],[0.8888888888888888,\"#fdca26\"],[1.0,\"#f0f921\"]]}],\"heatmapgl\":[{\"type\":\"heatmapgl\",\"colorbar\":{\"outlinewidth\":0,\"ticks\":\"\"},\"colorscale\":[[0.0,\"#0d0887\"],[0.1111111111111111,\"#46039f\"],[0.2222222222222222,\"#7201a8\"],[0.3333333333333333,\"#9c179e\"],[0.4444444444444444,\"#bd3786\"],[0.5555555555555556,\"#d8576b\"],[0.6666666666666666,\"#ed7953\"],[0.7777777777777778,\"#fb9f3a\"],[0.8888888888888888,\"#fdca26\"],[1.0,\"#f0f921\"]]}],\"contourcarpet\":[{\"type\":\"contourcarpet\",\"colorbar\":{\"outlinewidth\":0,\"ticks\":\"\"}}],\"contour\":[{\"type\":\"contour\",\"colorbar\":{\"outlinewidth\":0,\"ticks\":\"\"},\"colorscale\":[[0.0,\"#0d0887\"],[0.1111111111111111,\"#46039f\"],[0.2222222222222222,\"#7201a8\"],[0.3333333333333333,\"#9c179e\"],[0.4444444444444444,\"#bd3786\"],[0.5555555555555556,\"#d8576b\"],[0.6666666666666666,\"#ed7953\"],[0.7777777777777778,\"#fb9f3a\"],[0.8888888888888888,\"#fdca26\"],[1.0,\"#f0f921\"]]}],\"surface\":[{\"type\":\"surface\",\"colorbar\":{\"outlinewidth\":0,\"ticks\":\"\"},\"colorscale\":[[0.0,\"#0d0887\"],[0.1111111111111111,\"#46039f\"],[0.2222222222222222,\"#7201a8\"],[0.3333333333333333,\"#9c179e\"],[0.4444444444444444,\"#bd3786\"],[0.5555555555555556,\"#d8576b\"],[0.6666666666666666,\"#ed7953\"],[0.7777777777777778,\"#fb9f3a\"],[0.8888888888888888,\"#fdca26\"],[1.0,\"#f0f921\"]]}],\"mesh3d\":[{\"type\":\"mesh3d\",\"colorbar\":{\"outlinewidth\":0,\"ticks\":\"\"}}],\"scatter\":[{\"fillpattern\":{\"fillmode\":\"overlay\",\"size\":10,\"solidity\":0.2},\"type\":\"scatter\"}],\"parcoords\":[{\"type\":\"parcoords\",\"line\":{\"colorbar\":{\"outlinewidth\":0,\"ticks\":\"\"}}}],\"scatterpolargl\":[{\"type\":\"scatterpolargl\",\"marker\":{\"colorbar\":{\"outlinewidth\":0,\"ticks\":\"\"}}}],\"bar\":[{\"error_x\":{\"color\":\"#2a3f5f\"},\"error_y\":{\"color\":\"#2a3f5f\"},\"marker\":{\"line\":{\"color\":\"#E5ECF6\",\"width\":0.5},\"pattern\":{\"fillmode\":\"overlay\",\"size\":10,\"solidity\":0.2}},\"type\":\"bar\"}],\"scattergeo\":[{\"type\":\"scattergeo\",\"marker\":{\"colorbar\":{\"outlinewidth\":0,\"ticks\":\"\"}}}],\"scatterpolar\":[{\"type\":\"scatterpolar\",\"marker\":{\"colorbar\":{\"outlinewidth\":0,\"ticks\":\"\"}}}],\"histogram\":[{\"marker\":{\"pattern\":{\"fillmode\":\"overlay\",\"size\":10,\"solidity\":0.2}},\"type\":\"histogram\"}],\"scattergl\":[{\"type\":\"scattergl\",\"marker\":{\"colorbar\":{\"outlinewidth\":0,\"ticks\":\"\"}}}],\"scatter3d\":[{\"type\":\"scatter3d\",\"line\":{\"colorbar\":{\"outlinewidth\":0,\"ticks\":\"\"}},\"marker\":{\"colorbar\":{\"outlinewidth\":0,\"ticks\":\"\"}}}],\"scattermapbox\":[{\"type\":\"scattermapbox\",\"marker\":{\"colorbar\":{\"outlinewidth\":0,\"ticks\":\"\"}}}],\"scatterternary\":[{\"type\":\"scatterternary\",\"marker\":{\"colorbar\":{\"outlinewidth\":0,\"ticks\":\"\"}}}],\"scattercarpet\":[{\"type\":\"scattercarpet\",\"marker\":{\"colorbar\":{\"outlinewidth\":0,\"ticks\":\"\"}}}],\"carpet\":[{\"aaxis\":{\"endlinecolor\":\"#2a3f5f\",\"gridcolor\":\"white\",\"linecolor\":\"white\",\"minorgridcolor\":\"white\",\"startlinecolor\":\"#2a3f5f\"},\"baxis\":{\"endlinecolor\":\"#2a3f5f\",\"gridcolor\":\"white\",\"linecolor\":\"white\",\"minorgridcolor\":\"white\",\"startlinecolor\":\"#2a3f5f\"},\"type\":\"carpet\"}],\"table\":[{\"cells\":{\"fill\":{\"color\":\"#EBF0F8\"},\"line\":{\"color\":\"white\"}},\"header\":{\"fill\":{\"color\":\"#C8D4E3\"},\"line\":{\"color\":\"white\"}},\"type\":\"table\"}],\"barpolar\":[{\"marker\":{\"line\":{\"color\":\"#E5ECF6\",\"width\":0.5},\"pattern\":{\"fillmode\":\"overlay\",\"size\":10,\"solidity\":0.2}},\"type\":\"barpolar\"}],\"pie\":[{\"automargin\":true,\"type\":\"pie\"}]},\"layout\":{\"autotypenumbers\":\"strict\",\"colorway\":[\"#636efa\",\"#EF553B\",\"#00cc96\",\"#ab63fa\",\"#FFA15A\",\"#19d3f3\",\"#FF6692\",\"#B6E880\",\"#FF97FF\",\"#FECB52\"],\"font\":{\"color\":\"#2a3f5f\"},\"hovermode\":\"closest\",\"hoverlabel\":{\"align\":\"left\"},\"paper_bgcolor\":\"white\",\"plot_bgcolor\":\"#E5ECF6\",\"polar\":{\"bgcolor\":\"#E5ECF6\",\"angularaxis\":{\"gridcolor\":\"white\",\"linecolor\":\"white\",\"ticks\":\"\"},\"radialaxis\":{\"gridcolor\":\"white\",\"linecolor\":\"white\",\"ticks\":\"\"}},\"ternary\":{\"bgcolor\":\"#E5ECF6\",\"aaxis\":{\"gridcolor\":\"white\",\"linecolor\":\"white\",\"ticks\":\"\"},\"baxis\":{\"gridcolor\":\"white\",\"linecolor\":\"white\",\"ticks\":\"\"},\"caxis\":{\"gridcolor\":\"white\",\"linecolor\":\"white\",\"ticks\":\"\"}},\"coloraxis\":{\"colorbar\":{\"outlinewidth\":0,\"ticks\":\"\"}},\"colorscale\":{\"sequential\":[[0.0,\"#0d0887\"],[0.1111111111111111,\"#46039f\"],[0.2222222222222222,\"#7201a8\"],[0.3333333333333333,\"#9c179e\"],[0.4444444444444444,\"#bd3786\"],[0.5555555555555556,\"#d8576b\"],[0.6666666666666666,\"#ed7953\"],[0.7777777777777778,\"#fb9f3a\"],[0.8888888888888888,\"#fdca26\"],[1.0,\"#f0f921\"]],\"sequentialminus\":[[0.0,\"#0d0887\"],[0.1111111111111111,\"#46039f\"],[0.2222222222222222,\"#7201a8\"],[0.3333333333333333,\"#9c179e\"],[0.4444444444444444,\"#bd3786\"],[0.5555555555555556,\"#d8576b\"],[0.6666666666666666,\"#ed7953\"],[0.7777777777777778,\"#fb9f3a\"],[0.8888888888888888,\"#fdca26\"],[1.0,\"#f0f921\"]],\"diverging\":[[0,\"#8e0152\"],[0.1,\"#c51b7d\"],[0.2,\"#de77ae\"],[0.3,\"#f1b6da\"],[0.4,\"#fde0ef\"],[0.5,\"#f7f7f7\"],[0.6,\"#e6f5d0\"],[0.7,\"#b8e186\"],[0.8,\"#7fbc41\"],[0.9,\"#4d9221\"],[1,\"#276419\"]]},\"xaxis\":{\"gridcolor\":\"white\",\"linecolor\":\"white\",\"ticks\":\"\",\"title\":{\"standoff\":15},\"zerolinecolor\":\"white\",\"automargin\":true,\"zerolinewidth\":2},\"yaxis\":{\"gridcolor\":\"white\",\"linecolor\":\"white\",\"ticks\":\"\",\"title\":{\"standoff\":15},\"zerolinecolor\":\"white\",\"automargin\":true,\"zerolinewidth\":2},\"scene\":{\"xaxis\":{\"backgroundcolor\":\"#E5ECF6\",\"gridcolor\":\"white\",\"linecolor\":\"white\",\"showbackground\":true,\"ticks\":\"\",\"zerolinecolor\":\"white\",\"gridwidth\":2},\"yaxis\":{\"backgroundcolor\":\"#E5ECF6\",\"gridcolor\":\"white\",\"linecolor\":\"white\",\"showbackground\":true,\"ticks\":\"\",\"zerolinecolor\":\"white\",\"gridwidth\":2},\"zaxis\":{\"backgroundcolor\":\"#E5ECF6\",\"gridcolor\":\"white\",\"linecolor\":\"white\",\"showbackground\":true,\"ticks\":\"\",\"zerolinecolor\":\"white\",\"gridwidth\":2}},\"shapedefaults\":{\"line\":{\"color\":\"#2a3f5f\"}},\"annotationdefaults\":{\"arrowcolor\":\"#2a3f5f\",\"arrowhead\":0,\"arrowwidth\":1},\"geo\":{\"bgcolor\":\"white\",\"landcolor\":\"#E5ECF6\",\"subunitcolor\":\"white\",\"showland\":true,\"showlakes\":true,\"lakecolor\":\"white\"},\"title\":{\"x\":0.05},\"mapbox\":{\"style\":\"light\"}}},\"xaxis\":{\"anchor\":\"y\",\"domain\":[0.0,1.0],\"title\":{\"text\":\"Year\"}},\"yaxis\":{\"anchor\":\"x\",\"domain\":[0.0,1.0],\"title\":{\"text\":\"Number of Launches\"}},\"legend\":{\"title\":{\"text\":\"Country\"},\"tracegroupgap\":0},\"margin\":{\"t\":60},\"barmode\":\"relative\",\"title\":{\"text\":\"Number of Missions by Countries across the years\"}},                        {\"responsive\": true}                    ).then(function(){\n",
       "                            \n",
       "var gd = document.getElementById('51b1f602-dd44-43dc-83be-ca2be72936a3');\n",
       "var x = new MutationObserver(function (mutations, observer) {{\n",
       "        var display = window.getComputedStyle(gd).display;\n",
       "        if (!display || display === 'none') {{\n",
       "            console.log([gd, 'removed!']);\n",
       "            Plotly.purge(gd);\n",
       "            observer.disconnect();\n",
       "        }}\n",
       "}});\n",
       "\n",
       "// Listen for the removal of the full notebook cells\n",
       "var notebookContainer = gd.closest('#notebook-container');\n",
       "if (notebookContainer) {{\n",
       "    x.observe(notebookContainer, {childList: true});\n",
       "}}\n",
       "\n",
       "// Listen for the clearing of the current output cell\n",
       "var outputEl = gd.closest('.output');\n",
       "if (outputEl) {{\n",
       "    x.observe(outputEl, {childList: true});\n",
       "}}\n",
       "\n",
       "                        })                };                });            </script>        </div>"
      ]
     },
     "metadata": {},
     "output_type": "display_data"
    }
   ],
   "source": [
    "#Plotting the number of launches by country that took place over the years\n",
    "chart_2 = px.bar(missions_2.reset_index(level=[0,1]), \n",
    "                 y=\"Location\", \n",
    "                 x=\"Year\", \n",
    "                 color=\"Country\")\n",
    "chart_2.update_layout(title=\"Number of Missions by Countries across the years\",\n",
    "                      yaxis_title=\"Number of Launches\")\n",
    "chart_2.show()"
   ]
  },
  {
   "cell_type": "markdown",
   "id": "822e1439",
   "metadata": {},
   "source": [
    "This breakdown allows us to visibly understand what countries contributed to the number of launches throughout the years. USA(orange) remains largely active but the contribution by the Russian Federation(purple) diminishes past the 1990's. Something worthy to note is the recent increase in launch activity by other countries, most notably France and China. "
   ]
  },
  {
   "cell_type": "markdown",
   "id": "a8e4f007",
   "metadata": {},
   "source": [
    "By analysing at this trend, the number of missions is looking to increase as we see a rise in announcements for space exploration with hopes of sending humans beyond our Earth's orbit once more. "
   ]
  },
  {
   "cell_type": "markdown",
   "id": "e708b68a",
   "metadata": {},
   "source": [
    "## Mission Cost"
   ]
  },
  {
   "cell_type": "markdown",
   "id": "c1913315",
   "metadata": {},
   "source": [
    "A question worth asking is just how expensive is it to send rockets into space. And is there a correlation between cost and recent sruge in rocket launches by private organisations.  "
   ]
  },
  {
   "cell_type": "code",
   "execution_count": 18,
   "id": "92535df2",
   "metadata": {},
   "outputs": [],
   "source": [
    "#Cleaning the data for rocket cost from object to float\n",
    "sm.rename({\" Rocket\":\"Rocket Cost\"},axis=1, inplace=True)\n",
    "sm[\"Rocket Cost\"] = sm[\"Rocket Cost\"].apply(lambda x: str(x).replace(\",\",\"\"))\n",
    "sm[\"Rocket Cost\"] = sm[\"Rocket Cost\"].astype(\"float64\")\n",
    "sm[\"Rocket Cost\"] = sm[\"Rocket Cost\"].fillna(0)"
   ]
  },
  {
   "cell_type": "code",
   "execution_count": 19,
   "id": "b1bcbc10",
   "metadata": {},
   "outputs": [
    {
     "data": {
      "text/plain": [
       "True     3360\n",
       "False     964\n",
       "Name: Rocket Cost, dtype: int64"
      ]
     },
     "execution_count": 19,
     "metadata": {},
     "output_type": "execute_result"
    }
   ],
   "source": [
    "(sm[\"Rocket Cost\"] == 0).value_counts()"
   ]
  },
  {
   "cell_type": "markdown",
   "id": "e179c413",
   "metadata": {},
   "source": [
    "Unfortunately there is a large portion of missing data for rocket cost. However we can analyse what we have and visualise this using a scatter plot. "
   ]
  },
  {
   "cell_type": "code",
   "execution_count": 20,
   "id": "19dee5a1",
   "metadata": {
    "scrolled": false
   },
   "outputs": [
    {
     "data": {
      "application/vnd.plotly.v1+json": {
       "config": {
        "plotlyServerURL": "https://plot.ly"
       },
       "data": [
        {
         "hovertemplate": "Status Mission=Success<br>Year=%{x}<br>Country=%{y}<br>Rocket Cost=%{marker.size}<extra></extra>",
         "legendgroup": "Success",
         "marker": {
          "color": "RebeccaPurple",
          "size": [
           50,
           29.75,
           65,
           145,
           64.68,
           48.5,
           50,
           90,
           46,
           29.15,
           29.75,
           64.68,
           50,
           29.15,
           29.75,
           50,
           7.5,
           30.8,
           50,
           29.75,
           50,
           5.3,
           112.5,
           120,
           48.5,
           50,
           48.5,
           153,
           30.8,
           48.5,
           50,
           29.15,
           50,
           48.5,
           29.75,
           200,
           50,
           85,
           115,
           90,
           48.5,
           7.5,
           50,
           50,
           200,
           29.75,
           29.15,
           50,
           41.8,
           65,
           64.68,
           50,
           21,
           48.5,
           48.5,
           7.5,
           50,
           64.68,
           31,
           200,
           50,
           29.15,
           64.68,
           85,
           29.15,
           7.5,
           40,
           65,
           64.68,
           48.5,
           29.75,
           112.5,
           5.3,
           64.68,
           41.8,
           164,
           48.5,
           7.5,
           29.15,
           7.5,
           153,
           50,
           200,
           65,
           48.5,
           48.5,
           30.8,
           50,
           62,
           65,
           7.5,
           90,
           29.15,
           200,
           50,
           5.3,
           65,
           50,
           21,
           7.5,
           50,
           64.68,
           29.15,
           85,
           90,
           48.5,
           21,
           29.15,
           7.5,
           37,
           29.15,
           50,
           50,
           200,
           5.3,
           350,
           39,
           50,
           29.15,
           48.5,
           50,
           5.3,
           65,
           47,
           7.5,
           29.15,
           29.75,
           50,
           200,
           50,
           41.8,
           21,
           37,
           29.75,
           85,
           50,
           62,
           7.5,
           48.5,
           29.15,
           90,
           30.8,
           35,
           64.68,
           200,
           153,
           30.8,
           50,
           200,
           112.5,
           21,
           50,
           30.8,
           37,
           350,
           50,
           64.68,
           50,
           50,
           48.5,
           69.7,
           30.8,
           62,
           30.8,
           90,
           69.7,
           62,
           29.75,
           62,
           85,
           64.68,
           50,
           64.68,
           109,
           29.15,
           5.3,
           41.8,
           62,
           65,
           153,
           31,
           64.68,
           200,
           62,
           64.68,
           62,
           47,
           29.75,
           62,
           145,
           90,
           62,
           48.5,
           90,
           29.75,
           48.5,
           62,
           30.8,
           7.5,
           115,
           5.3,
           39,
           29.75,
           31,
           29.75,
           62,
           30.8,
           29.75,
           62,
           90,
           62,
           29.15,
           29.75,
           35,
           30.8,
           64.68,
           85,
           37,
           45,
           62,
           123,
           48.5,
           41.8,
           62,
           90,
           62,
           29.75,
           200,
           30.8,
           65,
           145,
           65,
           62,
           46,
           62,
           109,
           65,
           62,
           37,
           62,
           200,
           62,
           62,
           31,
           64.68,
           48.5,
           65,
           62,
           62,
           200,
           90,
           62,
           47,
           200,
           62,
           109,
           29.15,
           62,
           90,
           62,
           37,
           109,
           62,
           31,
           200,
           109,
           62,
           29.15,
           200,
           29.75,
           130,
           40,
           29.15,
           112.5,
           31,
           37,
           145,
           29.75,
           109,
           5.3,
           90,
           85,
           200,
           25,
           37,
           115,
           47,
           200,
           164,
           29.75,
           62,
           64.68,
           29.15,
           123,
           62,
           64.68,
           153,
           31,
           200,
           62,
           350,
           65,
           41.8,
           64.68,
           48.5,
           62,
           29.75,
           62,
           31,
           62,
           29.75,
           48.5,
           69.7,
           48.5,
           109,
           65,
           35,
           31,
           200,
           62,
           90,
           41.8,
           48.5,
           109,
           65,
           200,
           31,
           56.5,
           29.15,
           62,
           21,
           109,
           37,
           200,
           109,
           109,
           123,
           200,
           31,
           5.3,
           41.8,
           153,
           47,
           200,
           112.5,
           200,
           109,
           31,
           37,
           200,
           120,
           56.5,
           200,
           56.5,
           41.8,
           31,
           90,
           29,
           164,
           123,
           56.5,
           56.5,
           37,
           90,
           153,
           56.5,
           62,
           145,
           200,
           350,
           90,
           29,
           109,
           200,
           31,
           90,
           56.5,
           109,
           200,
           56.5,
           109,
           56.5,
           109,
           164,
           56.5,
           80,
           41.8,
           21,
           29,
           90,
           41.8,
           109,
           164,
           37,
           56.5,
           145,
           31,
           109,
           200,
           90,
           164,
           200,
           109,
           80,
           56.5,
           47,
           41.8,
           120,
           56.5,
           41.8,
           29,
           40,
           109,
           31,
           56.5,
           140,
           80,
           41.8,
           55,
           200,
           350,
           29,
           112.5,
           200,
           153,
           31,
           40,
           109,
           37,
           80,
           109,
           59.5,
           21,
           109,
           200,
           109,
           90,
           200,
           120,
           80,
           200,
           164,
           200,
           109,
           21,
           109,
           200,
           41.8,
           112.5,
           200,
           350,
           109,
           40,
           59.5,
           90,
           200,
           140,
           31,
           31,
           153,
           37,
           80,
           90,
           145,
           21,
           46,
           90,
           200,
           90,
           29,
           200,
           153,
           164,
           31,
           450,
           40,
           200,
           450,
           109,
           200,
           25,
           115,
           164,
           120,
           450,
           40,
           112.5,
           350,
           200,
           59.5,
           200,
           350,
           46,
           200,
           46,
           120,
           41.8,
           140,
           200,
           21,
           200,
           29,
           29,
           59.5,
           41.8,
           164,
           200,
           450,
           90,
           120,
           29,
           450,
           164,
           109,
           450,
           90,
           130,
           450,
           41.8,
           200,
           450,
           109,
           200,
           21,
           112.5,
           109,
           450,
           200,
           29,
           450,
           7,
           41.8,
           200,
           164,
           123,
           40,
           200,
           450,
           21,
           123,
           41.8,
           450,
           200,
           90,
           350,
           200,
           450,
           29.75,
           29.75,
           29.15,
           64.68,
           31,
           40,
           29,
           7,
           29,
           200,
           200,
           200,
           450,
           64.68,
           41.8,
           21,
           20.14,
           200,
           40,
           123,
           115,
           450,
           90,
           450,
           21,
           109,
           200,
           64.68,
           350,
           450,
           123,
           64.68,
           200,
           450,
           29,
           29,
           450,
           69.7,
           29.75,
           29.15,
           200,
           40,
           40,
           21,
           29,
           69.7,
           30.8,
           200,
           109,
           69.7,
           25,
           40,
           450,
           200,
           69.7,
           133,
           64.68,
           200,
           69.7,
           90,
           450,
           30.8,
           200,
           41.8,
           29,
           450,
           164,
           200,
           164,
           64.68,
           115,
           40,
           40,
           200,
           153,
           200,
           40,
           29.75,
           41.8,
           29,
           109,
           30.8,
           450,
           29.75,
           25,
           40,
           40,
           130,
           200,
           190,
           135,
           30.8,
           48.5,
           64.68,
           69.7,
           29.75,
           47,
           64.68,
           30.8,
           30.8,
           190,
           29,
           45,
           30.8,
           190,
           30.8,
           69.7,
           29.75,
           41.8,
           64.68,
           35,
           25,
           133,
           40,
           135,
           41.8,
           40,
           69.7,
           109,
           47,
           40,
           133,
           40,
           35,
           29,
           90,
           450,
           164,
           64.68,
           450,
           25,
           109,
           35,
           41.8,
           450,
           64.68,
           450,
           41.8,
           450,
           40,
           450,
           25,
           90,
           450,
           450,
           450,
           450,
           450,
           69.7,
           450,
           69.7,
           450,
           40,
           29,
           35,
           450,
           40,
           40,
           450,
           41.8,
           45,
           450,
           40,
           69.7,
           45,
           450,
           35,
           40,
           64.68,
           450,
           35,
           30.8,
           25,
           450,
           40,
           64.68,
           29,
           40,
           30.8,
           40,
           450,
           450,
           40,
           45,
           40,
           30.8,
           40,
           450,
           35,
           30.8,
           450,
           40,
           30.8,
           40,
           45,
           450,
           40,
           30.8,
           450,
           40,
           450,
           30.8,
           40,
           450,
           40,
           450,
           450,
           69.7,
           40,
           450,
           35,
           450,
           450,
           450,
           29.75,
           450,
           40,
           40,
           450,
           450,
           40,
           450,
           25,
           40,
           450,
           450,
           450,
           450,
           450,
           450,
           450,
           40,
           450,
           450,
           450,
           25,
           450,
           450,
           40,
           450,
           29.75,
           450,
           45,
           450,
           69.7,
           450,
           35,
           450,
           450,
           30.8,
           450,
           450,
           450,
           40,
           450,
           40,
           450,
           450,
           450,
           30.8,
           136.6,
           450,
           29.75,
           450,
           450,
           450,
           35,
           450,
           450,
           450,
           450,
           450,
           450,
           450,
           450,
           450,
           450,
           450,
           30.8,
           136.6,
           450,
           40,
           450,
           450,
           136.6,
           450,
           450,
           35,
           450,
           450,
           450,
           450,
           450,
           35,
           30.8,
           30.8,
           30.8,
           30.8,
           450,
           450,
           450,
           30.8,
           450,
           450,
           450,
           450,
           450,
           450,
           450,
           450,
           450,
           30.8,
           450,
           450,
           450,
           450,
           450,
           30.8,
           450,
           450,
           450,
           30.8,
           450,
           450,
           450,
           450,
           1160,
           1160,
           1160,
           1160,
           1160,
           1160,
           1160,
           1160,
           59,
           1160,
           59,
           59,
           1160,
           59,
           1160,
           59,
           59,
           59,
           59,
           59,
           59,
           59,
           59,
           59,
           1160,
           59,
           59,
           59,
           59,
           59,
           59,
           59,
           63.23,
           63.23,
           63.23
          ],
          "sizemode": "area",
          "sizeref": 0.9469387755102041,
          "symbol": "circle"
         },
         "mode": "markers",
         "name": "Success",
         "orientation": "h",
         "showlegend": true,
         "type": "scatter",
         "x": [
          2020,
          2020,
          2020,
          2020,
          2020,
          2020,
          2020,
          2020,
          2020,
          2020,
          2020,
          2020,
          2020,
          2020,
          2020,
          2020,
          2020,
          2020,
          2020,
          2020,
          2020,
          2020,
          2020,
          2020,
          2020,
          2020,
          2020,
          2020,
          2020,
          2020,
          2020,
          2020,
          2020,
          2020,
          2020,
          2020,
          2020,
          2020,
          2020,
          2020,
          2020,
          2020,
          2020,
          2020,
          2020,
          2020,
          2020,
          2020,
          2019,
          2019,
          2019,
          2019,
          2019,
          2019,
          2019,
          2019,
          2019,
          2019,
          2019,
          2019,
          2019,
          2019,
          2019,
          2019,
          2019,
          2019,
          2019,
          2019,
          2019,
          2019,
          2019,
          2019,
          2019,
          2019,
          2019,
          2019,
          2019,
          2019,
          2019,
          2019,
          2019,
          2019,
          2019,
          2019,
          2019,
          2019,
          2019,
          2019,
          2019,
          2019,
          2019,
          2019,
          2019,
          2019,
          2019,
          2019,
          2019,
          2019,
          2019,
          2019,
          2019,
          2019,
          2019,
          2019,
          2019,
          2019,
          2019,
          2019,
          2019,
          2019,
          2019,
          2019,
          2019,
          2019,
          2019,
          2019,
          2019,
          2019,
          2019,
          2018,
          2018,
          2018,
          2018,
          2018,
          2018,
          2018,
          2018,
          2018,
          2018,
          2018,
          2018,
          2018,
          2018,
          2018,
          2018,
          2018,
          2018,
          2018,
          2018,
          2018,
          2018,
          2018,
          2018,
          2018,
          2018,
          2018,
          2018,
          2018,
          2018,
          2018,
          2018,
          2018,
          2018,
          2018,
          2018,
          2018,
          2018,
          2018,
          2018,
          2018,
          2018,
          2018,
          2018,
          2018,
          2018,
          2018,
          2018,
          2018,
          2018,
          2018,
          2018,
          2018,
          2018,
          2018,
          2018,
          2018,
          2018,
          2018,
          2018,
          2018,
          2018,
          2018,
          2018,
          2018,
          2018,
          2018,
          2018,
          2018,
          2018,
          2018,
          2018,
          2018,
          2018,
          2018,
          2018,
          2018,
          2018,
          2018,
          2018,
          2018,
          2018,
          2018,
          2018,
          2018,
          2018,
          2018,
          2017,
          2017,
          2017,
          2017,
          2017,
          2017,
          2017,
          2017,
          2017,
          2017,
          2017,
          2017,
          2017,
          2017,
          2017,
          2017,
          2017,
          2017,
          2017,
          2017,
          2017,
          2017,
          2017,
          2017,
          2017,
          2017,
          2017,
          2017,
          2017,
          2017,
          2017,
          2017,
          2017,
          2017,
          2017,
          2017,
          2017,
          2017,
          2017,
          2017,
          2017,
          2017,
          2017,
          2017,
          2017,
          2017,
          2017,
          2017,
          2017,
          2017,
          2017,
          2017,
          2017,
          2017,
          2017,
          2017,
          2017,
          2017,
          2017,
          2017,
          2017,
          2017,
          2016,
          2016,
          2016,
          2016,
          2016,
          2016,
          2016,
          2016,
          2016,
          2016,
          2016,
          2016,
          2016,
          2016,
          2016,
          2016,
          2016,
          2016,
          2016,
          2016,
          2016,
          2016,
          2016,
          2016,
          2016,
          2016,
          2016,
          2016,
          2016,
          2016,
          2016,
          2016,
          2016,
          2016,
          2016,
          2016,
          2016,
          2016,
          2016,
          2016,
          2016,
          2016,
          2016,
          2016,
          2016,
          2016,
          2016,
          2016,
          2016,
          2016,
          2016,
          2016,
          2016,
          2016,
          2016,
          2016,
          2016,
          2016,
          2016,
          2016,
          2016,
          2015,
          2015,
          2015,
          2015,
          2015,
          2015,
          2015,
          2015,
          2015,
          2015,
          2015,
          2015,
          2015,
          2015,
          2015,
          2015,
          2015,
          2015,
          2015,
          2015,
          2015,
          2015,
          2015,
          2015,
          2015,
          2015,
          2015,
          2015,
          2015,
          2015,
          2015,
          2015,
          2015,
          2015,
          2015,
          2015,
          2015,
          2014,
          2014,
          2014,
          2014,
          2014,
          2014,
          2014,
          2014,
          2014,
          2014,
          2014,
          2014,
          2014,
          2014,
          2014,
          2014,
          2014,
          2014,
          2014,
          2014,
          2014,
          2014,
          2014,
          2014,
          2014,
          2014,
          2014,
          2014,
          2014,
          2014,
          2014,
          2014,
          2014,
          2014,
          2014,
          2014,
          2014,
          2014,
          2014,
          2014,
          2013,
          2013,
          2013,
          2013,
          2013,
          2013,
          2013,
          2013,
          2013,
          2013,
          2013,
          2013,
          2013,
          2013,
          2013,
          2013,
          2013,
          2013,
          2013,
          2013,
          2013,
          2013,
          2013,
          2013,
          2013,
          2013,
          2013,
          2013,
          2013,
          2013,
          2013,
          2012,
          2012,
          2012,
          2012,
          2012,
          2012,
          2012,
          2012,
          2012,
          2012,
          2012,
          2012,
          2012,
          2012,
          2012,
          2012,
          2012,
          2012,
          2012,
          2012,
          2012,
          2012,
          2012,
          2012,
          2011,
          2011,
          2011,
          2011,
          2011,
          2011,
          2011,
          2011,
          2011,
          2011,
          2011,
          2011,
          2011,
          2011,
          2011,
          2011,
          2011,
          2011,
          2011,
          2011,
          2011,
          2011,
          2011,
          2011,
          2011,
          2011,
          2011,
          2010,
          2010,
          2010,
          2010,
          2010,
          2010,
          2010,
          2010,
          2010,
          2010,
          2010,
          2010,
          2010,
          2010,
          2010,
          2010,
          2010,
          2010,
          2010,
          2010,
          2010,
          2010,
          2010,
          2010,
          2010,
          2010,
          2010,
          2009,
          2009,
          2009,
          2009,
          2009,
          2009,
          2009,
          2009,
          2009,
          2009,
          2009,
          2009,
          2009,
          2009,
          2009,
          2009,
          2009,
          2009,
          2009,
          2009,
          2009,
          2009,
          2009,
          2009,
          2009,
          2009,
          2009,
          2009,
          2009,
          2009,
          2008,
          2008,
          2008,
          2008,
          2008,
          2008,
          2008,
          2008,
          2008,
          2008,
          2008,
          2008,
          2008,
          2008,
          2008,
          2008,
          2008,
          2008,
          2008,
          2008,
          2008,
          2008,
          2008,
          2008,
          2008,
          2008,
          2008,
          2007,
          2007,
          2007,
          2007,
          2007,
          2007,
          2007,
          2007,
          2007,
          2007,
          2007,
          2007,
          2007,
          2007,
          2007,
          2007,
          2007,
          2007,
          2007,
          2007,
          2007,
          2007,
          2007,
          2007,
          2007,
          2007,
          2006,
          2006,
          2006,
          2006,
          2006,
          2006,
          2006,
          2006,
          2006,
          2006,
          2006,
          2006,
          2006,
          2006,
          2006,
          2006,
          2006,
          2006,
          2006,
          2006,
          2006,
          2006,
          2006,
          2006,
          2005,
          2005,
          2005,
          2005,
          2005,
          2005,
          2005,
          2005,
          2005,
          2005,
          2005,
          2005,
          2005,
          2005,
          2004,
          2004,
          2004,
          2004,
          2004,
          2004,
          2004,
          2004,
          2004,
          2004,
          2004,
          2004,
          2004,
          2004,
          2004,
          2004,
          2003,
          2003,
          2003,
          2003,
          2003,
          2003,
          2003,
          2003,
          2003,
          2003,
          2003,
          2003,
          2003,
          2003,
          2003,
          2003,
          2003,
          2003,
          2003,
          2002,
          2002,
          2002,
          2002,
          2002,
          2002,
          2002,
          2002,
          2002,
          2002,
          2002,
          2002,
          2002,
          2002,
          2002,
          2002,
          2001,
          2001,
          2001,
          2001,
          2001,
          2001,
          2001,
          2001,
          2000,
          2000,
          2000,
          2000,
          2000,
          2000,
          2000,
          2000,
          2000,
          2000,
          2000,
          2000,
          2000,
          2000,
          2000,
          2000,
          1999,
          1999,
          1999,
          1999,
          1999,
          1999,
          1999,
          1999,
          1999,
          1999,
          1999,
          1999,
          1999,
          1999,
          1998,
          1998,
          1998,
          1998,
          1998,
          1998,
          1998,
          1998,
          1998,
          1998,
          1998,
          1998,
          1998,
          1998,
          1998,
          1998,
          1998,
          1998,
          1997,
          1997,
          1997,
          1997,
          1997,
          1997,
          1997,
          1997,
          1997,
          1997,
          1997,
          1997,
          1997,
          1997,
          1997,
          1997,
          1997,
          1996,
          1996,
          1996,
          1996,
          1996,
          1996,
          1996,
          1996,
          1996,
          1996,
          1996,
          1996,
          1996,
          1995,
          1995,
          1995,
          1995,
          1995,
          1995,
          1995,
          1995,
          1994,
          1994,
          1994,
          1994,
          1994,
          1994,
          1994,
          1994,
          1994,
          1994,
          1994,
          1994,
          1994,
          1993,
          1993,
          1993,
          1993,
          1993,
          1993,
          1993,
          1993,
          1993,
          1993,
          1992,
          1992,
          1992,
          1992,
          1992,
          1992,
          1992,
          1992,
          1992,
          1992,
          1992,
          1992,
          1991,
          1991,
          1991,
          1991,
          1991,
          1991,
          1990,
          1990,
          1990,
          1990,
          1990,
          1990,
          1990,
          1990,
          1990,
          1990,
          1989,
          1989,
          1989,
          1989,
          1989,
          1989,
          1988,
          1988,
          1988,
          1988,
          1987,
          1987,
          1986,
          1986,
          1985,
          1985,
          1985,
          1985,
          1985,
          1985,
          1985,
          1985,
          1985,
          1985,
          1984,
          1984,
          1984,
          1984,
          1984,
          1984,
          1983,
          1983,
          1983,
          1983,
          1983,
          1982,
          1982,
          1982,
          1982,
          1981,
          1981,
          1973,
          1972,
          1972,
          1971,
          1971,
          1970,
          1969,
          1969,
          1969,
          1969,
          1969,
          1969,
          1969,
          1969,
          1968,
          1968,
          1968,
          1968,
          1968,
          1968,
          1968,
          1968,
          1968,
          1967,
          1967,
          1967,
          1967,
          1967,
          1967,
          1966,
          1966,
          1966,
          1965,
          1965,
          1964
         ],
         "xaxis": "x",
         "y": [
          "USA",
          "China",
          "Kazakhstan",
          "USA",
          "China",
          "Kazakhstan",
          "USA",
          "Japan",
          "USA",
          "China",
          "China",
          "China",
          "USA",
          "China",
          "China",
          "USA",
          "New Zealand",
          "China",
          "USA",
          "China",
          "USA",
          "China",
          "Japan",
          "USA",
          "Kazakhstan",
          "USA",
          "Kazakhstan",
          "USA",
          "China",
          "Kazakhstan",
          "USA",
          "China",
          "USA",
          "Russian Federation",
          "China",
          "France",
          "USA",
          "USA",
          "USA",
          "Japan",
          "Kazakhstan",
          "New Zealand",
          "USA",
          "USA",
          "France",
          "China",
          "China",
          "USA",
          "Russian Federation",
          "Kazakhstan",
          "China",
          "USA",
          "India",
          "Russian Federation",
          "Kazakhstan",
          "New Zealand",
          "USA",
          "China",
          "India",
          "France",
          "USA",
          "China",
          "China",
          "USA",
          "China",
          "New Zealand",
          "USA",
          "Kazakhstan",
          "China",
          "Russian Federation",
          "China",
          "Japan",
          "China",
          "China",
          "Russian Federation",
          "USA",
          "Kazakhstan",
          "New Zealand",
          "China",
          "China",
          "USA",
          "USA",
          "France",
          "Kazakhstan",
          "Kazakhstan",
          "Russian Federation",
          "China",
          "USA",
          "India",
          "Kazakhstan",
          "New Zealand",
          "USA",
          "China",
          "France",
          "USA",
          "China",
          "Kazakhstan",
          "USA",
          "India",
          "New Zealand",
          "USA",
          "China",
          "China",
          "USA",
          "USA",
          "Kazakhstan",
          "India",
          "China",
          "New Zealand",
          "France",
          "China",
          "USA",
          "USA",
          "France",
          "China",
          "USA",
          "Japan",
          "USA",
          "China",
          "Russian Federation",
          "USA",
          "China",
          "Kazakhstan",
          "India",
          "New Zealand",
          "China",
          "China",
          "USA",
          "France",
          "USA",
          "Russian Federation",
          "India",
          "France",
          "China",
          "USA",
          "USA",
          "India",
          "New Zealand",
          "Russian Federation",
          "China",
          "Japan",
          "China",
          "Russian Federation",
          "China",
          "France",
          "USA",
          "China",
          "USA",
          "France",
          "Japan",
          "India",
          "USA",
          "China",
          "France",
          "USA",
          "USA",
          "China",
          "USA",
          "USA",
          "Kazakhstan",
          "China",
          "China",
          "USA",
          "China",
          "Japan",
          "China",
          "USA",
          "China",
          "USA",
          "USA",
          "China",
          "USA",
          "China",
          "USA",
          "China",
          "China",
          "Russian Federation",
          "USA",
          "Kazakhstan",
          "USA",
          "India",
          "China",
          "France",
          "USA",
          "China",
          "USA",
          "India",
          "China",
          "USA",
          "USA",
          "Japan",
          "USA",
          "Kazakhstan",
          "USA",
          "China",
          "Russian Federation",
          "USA",
          "China",
          "New Zealand",
          "USA",
          "China",
          "Japan",
          "China",
          "India",
          "China",
          "USA",
          "China",
          "China",
          "USA",
          "Japan",
          "USA",
          "China",
          "China",
          "Russian Federation",
          "China",
          "China",
          "USA",
          "France",
          "USA",
          "USA",
          "USA",
          "Kazakhstan",
          "Russian Federation",
          "USA",
          "Japan",
          "USA",
          "China",
          "France",
          "China",
          "Kazakhstan",
          "USA",
          "Kazakhstan",
          "USA",
          "USA",
          "USA",
          "USA",
          "Kazakhstan",
          "USA",
          "France",
          "USA",
          "France",
          "USA",
          "USA",
          "India",
          "China",
          "Kazakhstan",
          "Kazakhstan",
          "India",
          "USA",
          "France",
          "Japan",
          "USA",
          "India",
          "France",
          "USA",
          "USA",
          "China",
          "USA",
          "Japan",
          "USA",
          "France",
          "USA",
          "USA",
          "India",
          "France",
          "USA",
          "USA",
          "China",
          "France",
          "China",
          "USA",
          "USA",
          "China",
          "Japan",
          "India",
          "France",
          "USA",
          "China",
          "USA",
          "China",
          "Japan",
          "USA",
          "France",
          "India",
          "France",
          "USA",
          "India",
          "France",
          "USA",
          "China",
          "USA",
          "China",
          "China",
          "USA",
          "USA",
          "China",
          "USA",
          "India",
          "France",
          "USA",
          "USA",
          "Kazakhstan",
          "Russian Federation",
          "China",
          "Russian Federation",
          "USA",
          "China",
          "USA",
          "India",
          "USA",
          "China",
          "Kazakhstan",
          "China",
          "Russian Federation",
          "USA",
          "Kazakhstan",
          "Kazakhstan",
          "India",
          "France",
          "USA",
          "Japan",
          "Russian Federation",
          "Russian Federation",
          "USA",
          "Kazakhstan",
          "France",
          "India",
          "USA",
          "China",
          "USA",
          "India",
          "USA",
          "France",
          "France",
          "USA",
          "USA",
          "USA",
          "France",
          "India",
          "China",
          "Russian Federation",
          "USA",
          "India",
          "France",
          "Japan",
          "France",
          "USA",
          "India",
          "France",
          "France",
          "USA",
          "USA",
          "France",
          "USA",
          "Russian Federation",
          "India",
          "Japan",
          "Russian Federation",
          "USA",
          "USA",
          "USA",
          "USA",
          "France",
          "Japan",
          "USA",
          "USA",
          "India",
          "USA",
          "France",
          "USA",
          "Japan",
          "Russian Federation",
          "USA",
          "France",
          "India",
          "Japan",
          "USA",
          "USA",
          "France",
          "USA",
          "USA",
          "USA",
          "USA",
          "USA",
          "USA",
          "USA",
          "Russian Federation",
          "India",
          "Russian Federation",
          "Japan",
          "Russian Federation",
          "USA",
          "USA",
          "France",
          "USA",
          "USA",
          "India",
          "USA",
          "France",
          "Japan",
          "USA",
          "France",
          "USA",
          "USA",
          "USA",
          "India",
          "Russian Federation",
          "USA",
          "USA",
          "Russian Federation",
          "Russian Federation",
          "USA",
          "USA",
          "India",
          "USA",
          "USA",
          "USA",
          "Russian Federation",
          "USA",
          "France",
          "USA",
          "Russian Federation",
          "Japan",
          "France",
          "USA",
          "India",
          "USA",
          "USA",
          "France",
          "USA",
          "USA",
          "USA",
          "India",
          "USA",
          "France",
          "USA",
          "Japan",
          "France",
          "USA",
          "France",
          "France",
          "USA",
          "France",
          "USA",
          "India",
          "USA",
          "France",
          "Russian Federation",
          "Japan",
          "France",
          "USA",
          "USA",
          "USA",
          "USA",
          "Japan",
          "France",
          "USA",
          "India",
          "India",
          "USA",
          "France",
          "France",
          "Japan",
          "USA",
          "India",
          "USA",
          "Japan",
          "France",
          "Japan",
          "Russian Federation",
          "France",
          "USA",
          "USA",
          "India",
          "USA",
          "USA",
          "France",
          "USA",
          "USA",
          "France",
          "India",
          "USA",
          "USA",
          "USA",
          "USA",
          "USA",
          "Japan",
          "USA",
          "France",
          "USA",
          "France",
          "USA",
          "USA",
          "France",
          "USA",
          "USA",
          "Russian Federation",
          "USA",
          "France",
          "India",
          "France",
          "Kazakhstan",
          "Russian Federation",
          "USA",
          "Russian Federation",
          "USA",
          "France",
          "USA",
          "Japan",
          "USA",
          "Kazakhstan",
          "USA",
          "USA",
          "USA",
          "USA",
          "Japan",
          "USA",
          "USA",
          "Russian Federation",
          "France",
          "USA",
          "USA",
          "France",
          "India",
          "Japan",
          "USA",
          "USA",
          "France",
          "Kazakhstan",
          "USA",
          "USA",
          "Russian Federation",
          "France",
          "USA",
          "USA",
          "USA",
          "France",
          "USA",
          "India",
          "USA",
          "Russian Federation",
          "USA",
          "France",
          "Japan",
          "USA",
          "France",
          "USA",
          "China",
          "China",
          "China",
          "China",
          "India",
          "USA",
          "Russian Federation",
          "USA",
          "Kazakhstan",
          "France",
          "France",
          "France",
          "USA",
          "China",
          "Russian Federation",
          "India",
          "China",
          "France",
          "USA",
          "USA",
          "USA",
          "USA",
          "Japan",
          "USA",
          "India",
          "USA",
          "France",
          "China",
          "USA",
          "USA",
          "USA",
          "China",
          "France",
          "USA",
          "Russian Federation",
          "Kazakhstan",
          "USA",
          "China",
          "China",
          "China",
          "France",
          "USA",
          "USA",
          "India",
          "Kazakhstan",
          "China",
          "China",
          "France",
          "USA",
          "China",
          "India",
          "USA",
          "USA",
          "France",
          "China",
          "USA",
          "China",
          "France",
          "China",
          "Japan",
          "USA",
          "China",
          "France",
          "Russian Federation",
          "Russian Federation",
          "USA",
          "USA",
          "France",
          "USA",
          "China",
          "USA",
          "USA",
          "USA",
          "France",
          "USA",
          "France",
          "USA",
          "China",
          "Russian Federation",
          "Kazakhstan",
          "USA",
          "China",
          "USA",
          "China",
          "India",
          "USA",
          "USA",
          "USA",
          "France",
          "France",
          "USA",
          "China",
          "Russian Federation",
          "China",
          "China",
          "China",
          "India",
          "China",
          "China",
          "China",
          "France",
          "Kazakhstan",
          "USA",
          "China",
          "France",
          "China",
          "China",
          "China",
          "Russian Federation",
          "China",
          "USA",
          "India",
          "USA",
          "USA",
          "USA",
          "Russian Federation",
          "USA",
          "China",
          "USA",
          "India",
          "USA",
          "USA",
          "USA",
          "USA",
          "Kazakhstan",
          "Japan",
          "USA",
          "USA",
          "China",
          "USA",
          "India",
          "USA",
          "USA",
          "Russian Federation",
          "USA",
          "China",
          "USA",
          "Russian Federation",
          "USA",
          "USA",
          "USA",
          "India",
          "Japan",
          "USA",
          "USA",
          "USA",
          "USA",
          "USA",
          "China",
          "USA",
          "China",
          "USA",
          "USA",
          "Kazakhstan",
          "USA",
          "USA",
          "USA",
          "USA",
          "USA",
          "Russian Federation",
          "USA",
          "USA",
          "USA",
          "China",
          "USA",
          "USA",
          "USA",
          "USA",
          "China",
          "USA",
          "USA",
          "China",
          "India",
          "USA",
          "USA",
          "China",
          "Kazakhstan",
          "USA",
          "China",
          "USA",
          "USA",
          "USA",
          "USA",
          "USA",
          "USA",
          "China",
          "USA",
          "USA",
          "USA",
          "China",
          "USA",
          "USA",
          "China",
          "USA",
          "USA",
          "USA",
          "USA",
          "China",
          "USA",
          "USA",
          "USA",
          "China",
          "USA",
          "USA",
          "USA",
          "USA",
          "USA",
          "China",
          "USA",
          "USA",
          "USA",
          "USA",
          "USA",
          "USA",
          "China",
          "USA",
          "USA",
          "USA",
          "USA",
          "USA",
          "USA",
          "USA",
          "India",
          "USA",
          "USA",
          "USA",
          "USA",
          "USA",
          "USA",
          "USA",
          "USA",
          "USA",
          "USA",
          "USA",
          "USA",
          "India",
          "USA",
          "USA",
          "USA",
          "USA",
          "China",
          "USA",
          "USA",
          "USA",
          "China",
          "USA",
          "USA",
          "USA",
          "USA",
          "China",
          "USA",
          "USA",
          "USA",
          "USA",
          "USA",
          "USA",
          "USA",
          "USA",
          "USA",
          "China",
          "USA",
          "USA",
          "China",
          "USA",
          "USA",
          "USA",
          "USA",
          "USA",
          "USA",
          "USA",
          "USA",
          "USA",
          "USA",
          "USA",
          "USA",
          "USA",
          "USA",
          "USA",
          "China",
          "USA",
          "USA",
          "USA",
          "USA",
          "USA",
          "USA",
          "USA",
          "USA",
          "USA",
          "USA",
          "USA",
          "USA",
          "USA",
          "USA",
          "USA",
          "China",
          "China",
          "China",
          "China",
          "USA",
          "USA",
          "USA",
          "China",
          "USA",
          "USA",
          "USA",
          "USA",
          "USA",
          "USA",
          "USA",
          "USA",
          "USA",
          "China",
          "USA",
          "USA",
          "USA",
          "USA",
          "USA",
          "China",
          "USA",
          "USA",
          "USA",
          "China",
          "USA",
          "USA",
          "USA",
          "USA",
          "USA",
          "USA",
          "USA",
          "USA",
          "USA",
          "USA",
          "USA",
          "USA",
          "USA",
          "USA",
          "USA",
          "USA",
          "USA",
          "USA",
          "USA",
          "USA",
          "USA",
          "USA",
          "USA",
          "USA",
          "USA",
          "USA",
          "USA",
          "USA",
          "USA",
          "USA",
          "USA",
          "USA",
          "USA",
          "USA",
          "USA",
          "USA",
          "USA",
          "USA",
          "USA"
         ],
         "yaxis": "y"
        },
        {
         "hovertemplate": "Status Mission=Failure<br>Year=%{x}<br>Country=%{y}<br>Rocket Cost=%{marker.size}<extra></extra>",
         "legendgroup": "Failure",
         "marker": {
          "color": "Crimson",
          "size": [
           28.3,
           7.5,
           12,
           29.15,
           37,
           64.68,
           31,
           7.5,
           64.68,
           15,
           56.5,
           80,
           65,
           45,
           47,
           47,
           45,
           7,
           7,
           29,
           47,
           7,
           41.8,
           450,
           200,
           45,
           40,
           20,
           40,
           40,
           35,
           25,
           136.6,
           450,
           59,
           63.23
          ],
          "sizemode": "area",
          "sizeref": 0.9469387755102041,
          "symbol": "circle"
         },
         "mode": "markers",
         "name": "Failure",
         "orientation": "h",
         "showlegend": true,
         "type": "scatter",
         "x": [
          2020,
          2020,
          2020,
          2020,
          2019,
          2019,
          2017,
          2017,
          2016,
          2015,
          2015,
          2014,
          2013,
          2011,
          2010,
          2010,
          2009,
          2008,
          2007,
          2006,
          2006,
          2006,
          2005,
          2003,
          2002,
          2001,
          1996,
          1995,
          1995,
          1994,
          1993,
          1993,
          1990,
          1986,
          1967,
          1964
         ],
         "xaxis": "x",
         "y": [
          "China",
          "New Zealand",
          "USA",
          "China",
          "France",
          "China",
          "India",
          "New Zealand",
          "China",
          "USA",
          "USA",
          "USA",
          "Kazakhstan",
          "USA",
          "India",
          "India",
          "USA",
          "USA",
          "USA",
          "Kazakhstan",
          "India",
          "USA",
          "Russian Federation",
          "USA",
          "France",
          "USA",
          "USA",
          "USA",
          "USA",
          "USA",
          "USA",
          "India",
          "USA",
          "USA",
          "USA",
          "USA"
         ],
         "yaxis": "y"
        },
        {
         "hovertemplate": "Status Mission=Partial Failure<br>Year=%{x}<br>Country=%{y}<br>Rocket Cost=%{marker.size}<extra></extra>",
         "legendgroup": "Partial Failure",
         "marker": {
          "color": "Gold",
          "size": [
           200,
           48.5,
           29.15,
           29.75,
           41.8,
           59.5,
           41.8,
           47,
           109,
           350,
           47,
           25,
           69.7,
           40,
           40,
           1160,
           59
          ],
          "sizemode": "area",
          "sizeref": 0.9469387755102041,
          "symbol": "circle"
         },
         "mode": "markers",
         "name": "Partial Failure",
         "orientation": "h",
         "showlegend": true,
         "type": "scatter",
         "x": [
          2018,
          2017,
          2017,
          2016,
          2013,
          2012,
          2011,
          2007,
          2007,
          2004,
          2001,
          1997,
          1994,
          1994,
          1991,
          1968,
          1967
         ],
         "xaxis": "x",
         "y": [
          "France",
          "Kazakhstan",
          "China",
          "China",
          "Russian Federation",
          "USA",
          "Russian Federation",
          "India",
          "USA",
          "USA",
          "India",
          "India",
          "China",
          "USA",
          "USA",
          "USA",
          "USA"
         ],
         "yaxis": "y"
        },
        {
         "hovertemplate": "Status Mission=Prelaunch Failure<br>Year=%{x}<br>Country=%{y}<br>Rocket Cost=%{marker.size}<extra></extra>",
         "legendgroup": "Prelaunch Failure",
         "marker": {
          "color": "AquaMarine",
          "size": [
           62
          ],
          "sizemode": "area",
          "sizeref": 0.9469387755102041,
          "symbol": "circle"
         },
         "mode": "markers",
         "name": "Prelaunch Failure",
         "orientation": "h",
         "showlegend": true,
         "type": "scatter",
         "x": [
          2016
         ],
         "xaxis": "x",
         "y": [
          "USA"
         ],
         "yaxis": "y"
        }
       ],
       "layout": {
        "legend": {
         "itemsizing": "constant",
         "title": {
          "text": "Status Mission"
         },
         "tracegroupgap": 0
        },
        "margin": {
         "b": 10,
         "l": 80,
         "r": 80,
         "t": 50
        },
        "template": {
         "data": {
          "bar": [
           {
            "error_x": {
             "color": "rgb(36,36,36)"
            },
            "error_y": {
             "color": "rgb(36,36,36)"
            },
            "marker": {
             "line": {
              "color": "white",
              "width": 0.5
             },
             "pattern": {
              "fillmode": "overlay",
              "size": 10,
              "solidity": 0.2
             }
            },
            "type": "bar"
           }
          ],
          "barpolar": [
           {
            "marker": {
             "line": {
              "color": "white",
              "width": 0.5
             },
             "pattern": {
              "fillmode": "overlay",
              "size": 10,
              "solidity": 0.2
             }
            },
            "type": "barpolar"
           }
          ],
          "carpet": [
           {
            "aaxis": {
             "endlinecolor": "rgb(36,36,36)",
             "gridcolor": "white",
             "linecolor": "white",
             "minorgridcolor": "white",
             "startlinecolor": "rgb(36,36,36)"
            },
            "baxis": {
             "endlinecolor": "rgb(36,36,36)",
             "gridcolor": "white",
             "linecolor": "white",
             "minorgridcolor": "white",
             "startlinecolor": "rgb(36,36,36)"
            },
            "type": "carpet"
           }
          ],
          "choropleth": [
           {
            "colorbar": {
             "outlinewidth": 1,
             "tickcolor": "rgb(36,36,36)",
             "ticks": "outside"
            },
            "type": "choropleth"
           }
          ],
          "contour": [
           {
            "colorbar": {
             "outlinewidth": 1,
             "tickcolor": "rgb(36,36,36)",
             "ticks": "outside"
            },
            "colorscale": [
             [
              0,
              "#440154"
             ],
             [
              0.1111111111111111,
              "#482878"
             ],
             [
              0.2222222222222222,
              "#3e4989"
             ],
             [
              0.3333333333333333,
              "#31688e"
             ],
             [
              0.4444444444444444,
              "#26828e"
             ],
             [
              0.5555555555555556,
              "#1f9e89"
             ],
             [
              0.6666666666666666,
              "#35b779"
             ],
             [
              0.7777777777777778,
              "#6ece58"
             ],
             [
              0.8888888888888888,
              "#b5de2b"
             ],
             [
              1,
              "#fde725"
             ]
            ],
            "type": "contour"
           }
          ],
          "contourcarpet": [
           {
            "colorbar": {
             "outlinewidth": 1,
             "tickcolor": "rgb(36,36,36)",
             "ticks": "outside"
            },
            "type": "contourcarpet"
           }
          ],
          "heatmap": [
           {
            "colorbar": {
             "outlinewidth": 1,
             "tickcolor": "rgb(36,36,36)",
             "ticks": "outside"
            },
            "colorscale": [
             [
              0,
              "#440154"
             ],
             [
              0.1111111111111111,
              "#482878"
             ],
             [
              0.2222222222222222,
              "#3e4989"
             ],
             [
              0.3333333333333333,
              "#31688e"
             ],
             [
              0.4444444444444444,
              "#26828e"
             ],
             [
              0.5555555555555556,
              "#1f9e89"
             ],
             [
              0.6666666666666666,
              "#35b779"
             ],
             [
              0.7777777777777778,
              "#6ece58"
             ],
             [
              0.8888888888888888,
              "#b5de2b"
             ],
             [
              1,
              "#fde725"
             ]
            ],
            "type": "heatmap"
           }
          ],
          "heatmapgl": [
           {
            "colorbar": {
             "outlinewidth": 1,
             "tickcolor": "rgb(36,36,36)",
             "ticks": "outside"
            },
            "colorscale": [
             [
              0,
              "#440154"
             ],
             [
              0.1111111111111111,
              "#482878"
             ],
             [
              0.2222222222222222,
              "#3e4989"
             ],
             [
              0.3333333333333333,
              "#31688e"
             ],
             [
              0.4444444444444444,
              "#26828e"
             ],
             [
              0.5555555555555556,
              "#1f9e89"
             ],
             [
              0.6666666666666666,
              "#35b779"
             ],
             [
              0.7777777777777778,
              "#6ece58"
             ],
             [
              0.8888888888888888,
              "#b5de2b"
             ],
             [
              1,
              "#fde725"
             ]
            ],
            "type": "heatmapgl"
           }
          ],
          "histogram": [
           {
            "marker": {
             "line": {
              "color": "white",
              "width": 0.6
             }
            },
            "type": "histogram"
           }
          ],
          "histogram2d": [
           {
            "colorbar": {
             "outlinewidth": 1,
             "tickcolor": "rgb(36,36,36)",
             "ticks": "outside"
            },
            "colorscale": [
             [
              0,
              "#440154"
             ],
             [
              0.1111111111111111,
              "#482878"
             ],
             [
              0.2222222222222222,
              "#3e4989"
             ],
             [
              0.3333333333333333,
              "#31688e"
             ],
             [
              0.4444444444444444,
              "#26828e"
             ],
             [
              0.5555555555555556,
              "#1f9e89"
             ],
             [
              0.6666666666666666,
              "#35b779"
             ],
             [
              0.7777777777777778,
              "#6ece58"
             ],
             [
              0.8888888888888888,
              "#b5de2b"
             ],
             [
              1,
              "#fde725"
             ]
            ],
            "type": "histogram2d"
           }
          ],
          "histogram2dcontour": [
           {
            "colorbar": {
             "outlinewidth": 1,
             "tickcolor": "rgb(36,36,36)",
             "ticks": "outside"
            },
            "colorscale": [
             [
              0,
              "#440154"
             ],
             [
              0.1111111111111111,
              "#482878"
             ],
             [
              0.2222222222222222,
              "#3e4989"
             ],
             [
              0.3333333333333333,
              "#31688e"
             ],
             [
              0.4444444444444444,
              "#26828e"
             ],
             [
              0.5555555555555556,
              "#1f9e89"
             ],
             [
              0.6666666666666666,
              "#35b779"
             ],
             [
              0.7777777777777778,
              "#6ece58"
             ],
             [
              0.8888888888888888,
              "#b5de2b"
             ],
             [
              1,
              "#fde725"
             ]
            ],
            "type": "histogram2dcontour"
           }
          ],
          "mesh3d": [
           {
            "colorbar": {
             "outlinewidth": 1,
             "tickcolor": "rgb(36,36,36)",
             "ticks": "outside"
            },
            "type": "mesh3d"
           }
          ],
          "parcoords": [
           {
            "line": {
             "colorbar": {
              "outlinewidth": 1,
              "tickcolor": "rgb(36,36,36)",
              "ticks": "outside"
             }
            },
            "type": "parcoords"
           }
          ],
          "pie": [
           {
            "automargin": true,
            "type": "pie"
           }
          ],
          "scatter": [
           {
            "fillpattern": {
             "fillmode": "overlay",
             "size": 10,
             "solidity": 0.2
            },
            "type": "scatter"
           }
          ],
          "scatter3d": [
           {
            "line": {
             "colorbar": {
              "outlinewidth": 1,
              "tickcolor": "rgb(36,36,36)",
              "ticks": "outside"
             }
            },
            "marker": {
             "colorbar": {
              "outlinewidth": 1,
              "tickcolor": "rgb(36,36,36)",
              "ticks": "outside"
             }
            },
            "type": "scatter3d"
           }
          ],
          "scattercarpet": [
           {
            "marker": {
             "colorbar": {
              "outlinewidth": 1,
              "tickcolor": "rgb(36,36,36)",
              "ticks": "outside"
             }
            },
            "type": "scattercarpet"
           }
          ],
          "scattergeo": [
           {
            "marker": {
             "colorbar": {
              "outlinewidth": 1,
              "tickcolor": "rgb(36,36,36)",
              "ticks": "outside"
             }
            },
            "type": "scattergeo"
           }
          ],
          "scattergl": [
           {
            "marker": {
             "colorbar": {
              "outlinewidth": 1,
              "tickcolor": "rgb(36,36,36)",
              "ticks": "outside"
             }
            },
            "type": "scattergl"
           }
          ],
          "scattermapbox": [
           {
            "marker": {
             "colorbar": {
              "outlinewidth": 1,
              "tickcolor": "rgb(36,36,36)",
              "ticks": "outside"
             }
            },
            "type": "scattermapbox"
           }
          ],
          "scatterpolar": [
           {
            "marker": {
             "colorbar": {
              "outlinewidth": 1,
              "tickcolor": "rgb(36,36,36)",
              "ticks": "outside"
             }
            },
            "type": "scatterpolar"
           }
          ],
          "scatterpolargl": [
           {
            "marker": {
             "colorbar": {
              "outlinewidth": 1,
              "tickcolor": "rgb(36,36,36)",
              "ticks": "outside"
             }
            },
            "type": "scatterpolargl"
           }
          ],
          "scatterternary": [
           {
            "marker": {
             "colorbar": {
              "outlinewidth": 1,
              "tickcolor": "rgb(36,36,36)",
              "ticks": "outside"
             }
            },
            "type": "scatterternary"
           }
          ],
          "surface": [
           {
            "colorbar": {
             "outlinewidth": 1,
             "tickcolor": "rgb(36,36,36)",
             "ticks": "outside"
            },
            "colorscale": [
             [
              0,
              "#440154"
             ],
             [
              0.1111111111111111,
              "#482878"
             ],
             [
              0.2222222222222222,
              "#3e4989"
             ],
             [
              0.3333333333333333,
              "#31688e"
             ],
             [
              0.4444444444444444,
              "#26828e"
             ],
             [
              0.5555555555555556,
              "#1f9e89"
             ],
             [
              0.6666666666666666,
              "#35b779"
             ],
             [
              0.7777777777777778,
              "#6ece58"
             ],
             [
              0.8888888888888888,
              "#b5de2b"
             ],
             [
              1,
              "#fde725"
             ]
            ],
            "type": "surface"
           }
          ],
          "table": [
           {
            "cells": {
             "fill": {
              "color": "rgb(237,237,237)"
             },
             "line": {
              "color": "white"
             }
            },
            "header": {
             "fill": {
              "color": "rgb(217,217,217)"
             },
             "line": {
              "color": "white"
             }
            },
            "type": "table"
           }
          ]
         },
         "layout": {
          "annotationdefaults": {
           "arrowhead": 0,
           "arrowwidth": 1
          },
          "autotypenumbers": "strict",
          "coloraxis": {
           "colorbar": {
            "outlinewidth": 1,
            "tickcolor": "rgb(36,36,36)",
            "ticks": "outside"
           }
          },
          "colorscale": {
           "diverging": [
            [
             0,
             "rgb(103,0,31)"
            ],
            [
             0.1,
             "rgb(178,24,43)"
            ],
            [
             0.2,
             "rgb(214,96,77)"
            ],
            [
             0.3,
             "rgb(244,165,130)"
            ],
            [
             0.4,
             "rgb(253,219,199)"
            ],
            [
             0.5,
             "rgb(247,247,247)"
            ],
            [
             0.6,
             "rgb(209,229,240)"
            ],
            [
             0.7,
             "rgb(146,197,222)"
            ],
            [
             0.8,
             "rgb(67,147,195)"
            ],
            [
             0.9,
             "rgb(33,102,172)"
            ],
            [
             1,
             "rgb(5,48,97)"
            ]
           ],
           "sequential": [
            [
             0,
             "#440154"
            ],
            [
             0.1111111111111111,
             "#482878"
            ],
            [
             0.2222222222222222,
             "#3e4989"
            ],
            [
             0.3333333333333333,
             "#31688e"
            ],
            [
             0.4444444444444444,
             "#26828e"
            ],
            [
             0.5555555555555556,
             "#1f9e89"
            ],
            [
             0.6666666666666666,
             "#35b779"
            ],
            [
             0.7777777777777778,
             "#6ece58"
            ],
            [
             0.8888888888888888,
             "#b5de2b"
            ],
            [
             1,
             "#fde725"
            ]
           ],
           "sequentialminus": [
            [
             0,
             "#440154"
            ],
            [
             0.1111111111111111,
             "#482878"
            ],
            [
             0.2222222222222222,
             "#3e4989"
            ],
            [
             0.3333333333333333,
             "#31688e"
            ],
            [
             0.4444444444444444,
             "#26828e"
            ],
            [
             0.5555555555555556,
             "#1f9e89"
            ],
            [
             0.6666666666666666,
             "#35b779"
            ],
            [
             0.7777777777777778,
             "#6ece58"
            ],
            [
             0.8888888888888888,
             "#b5de2b"
            ],
            [
             1,
             "#fde725"
            ]
           ]
          },
          "colorway": [
           "#1F77B4",
           "#FF7F0E",
           "#2CA02C",
           "#D62728",
           "#9467BD",
           "#8C564B",
           "#E377C2",
           "#7F7F7F",
           "#BCBD22",
           "#17BECF"
          ],
          "font": {
           "color": "rgb(36,36,36)"
          },
          "geo": {
           "bgcolor": "white",
           "lakecolor": "white",
           "landcolor": "white",
           "showlakes": true,
           "showland": true,
           "subunitcolor": "white"
          },
          "hoverlabel": {
           "align": "left"
          },
          "hovermode": "closest",
          "mapbox": {
           "style": "light"
          },
          "paper_bgcolor": "white",
          "plot_bgcolor": "white",
          "polar": {
           "angularaxis": {
            "gridcolor": "rgb(232,232,232)",
            "linecolor": "rgb(36,36,36)",
            "showgrid": false,
            "showline": true,
            "ticks": "outside"
           },
           "bgcolor": "white",
           "radialaxis": {
            "gridcolor": "rgb(232,232,232)",
            "linecolor": "rgb(36,36,36)",
            "showgrid": false,
            "showline": true,
            "ticks": "outside"
           }
          },
          "scene": {
           "xaxis": {
            "backgroundcolor": "white",
            "gridcolor": "rgb(232,232,232)",
            "gridwidth": 2,
            "linecolor": "rgb(36,36,36)",
            "showbackground": true,
            "showgrid": false,
            "showline": true,
            "ticks": "outside",
            "zeroline": false,
            "zerolinecolor": "rgb(36,36,36)"
           },
           "yaxis": {
            "backgroundcolor": "white",
            "gridcolor": "rgb(232,232,232)",
            "gridwidth": 2,
            "linecolor": "rgb(36,36,36)",
            "showbackground": true,
            "showgrid": false,
            "showline": true,
            "ticks": "outside",
            "zeroline": false,
            "zerolinecolor": "rgb(36,36,36)"
           },
           "zaxis": {
            "backgroundcolor": "white",
            "gridcolor": "rgb(232,232,232)",
            "gridwidth": 2,
            "linecolor": "rgb(36,36,36)",
            "showbackground": true,
            "showgrid": false,
            "showline": true,
            "ticks": "outside",
            "zeroline": false,
            "zerolinecolor": "rgb(36,36,36)"
           }
          },
          "shapedefaults": {
           "fillcolor": "black",
           "line": {
            "width": 0
           },
           "opacity": 0.3
          },
          "ternary": {
           "aaxis": {
            "gridcolor": "rgb(232,232,232)",
            "linecolor": "rgb(36,36,36)",
            "showgrid": false,
            "showline": true,
            "ticks": "outside"
           },
           "baxis": {
            "gridcolor": "rgb(232,232,232)",
            "linecolor": "rgb(36,36,36)",
            "showgrid": false,
            "showline": true,
            "ticks": "outside"
           },
           "bgcolor": "white",
           "caxis": {
            "gridcolor": "rgb(232,232,232)",
            "linecolor": "rgb(36,36,36)",
            "showgrid": false,
            "showline": true,
            "ticks": "outside"
           }
          },
          "title": {
           "x": 0.05
          },
          "xaxis": {
           "automargin": true,
           "gridcolor": "rgb(232,232,232)",
           "linecolor": "rgb(36,36,36)",
           "showgrid": false,
           "showline": true,
           "ticks": "outside",
           "title": {
            "standoff": 15
           },
           "zeroline": false,
           "zerolinecolor": "rgb(36,36,36)"
          },
          "yaxis": {
           "automargin": true,
           "gridcolor": "rgb(232,232,232)",
           "linecolor": "rgb(36,36,36)",
           "showgrid": false,
           "showline": true,
           "ticks": "outside",
           "title": {
            "standoff": 15
           },
           "zeroline": false,
           "zerolinecolor": "rgb(36,36,36)"
          }
         }
        },
        "title": {
         "text": "<b>Total Mission Cost (millions) by Country</b>",
         "x": 0.5
        },
        "xaxis": {
         "anchor": "y",
         "domain": [
          0,
          1
         ],
         "title": {
          "text": "Year"
         }
        },
        "yaxis": {
         "anchor": "x",
         "domain": [
          0,
          1
         ],
         "title": {
          "text": "Country"
         }
        }
       }
      },
      "text/html": [
       "<div>                            <div id=\"0eec8ccc-f928-4689-b6eb-63904162801b\" class=\"plotly-graph-div\" style=\"height:525px; width:100%;\"></div>            <script type=\"text/javascript\">                require([\"plotly\"], function(Plotly) {                    window.PLOTLYENV=window.PLOTLYENV || {};                                    if (document.getElementById(\"0eec8ccc-f928-4689-b6eb-63904162801b\")) {                    Plotly.newPlot(                        \"0eec8ccc-f928-4689-b6eb-63904162801b\",                        [{\"hovertemplate\":\"Status Mission=Success<br>Year=%{x}<br>Country=%{y}<br>Rocket Cost=%{marker.size}<extra></extra>\",\"legendgroup\":\"Success\",\"marker\":{\"color\":\"RebeccaPurple\",\"size\":[50.0,29.75,65.0,145.0,64.68,48.5,50.0,90.0,46.0,29.15,29.75,64.68,50.0,29.15,29.75,50.0,7.5,30.8,50.0,29.75,50.0,5.3,112.5,120.0,48.5,50.0,48.5,153.0,30.8,48.5,50.0,29.15,50.0,48.5,29.75,200.0,50.0,85.0,115.0,90.0,48.5,7.5,50.0,50.0,200.0,29.75,29.15,50.0,41.8,65.0,64.68,50.0,21.0,48.5,48.5,7.5,50.0,64.68,31.0,200.0,50.0,29.15,64.68,85.0,29.15,7.5,40.0,65.0,64.68,48.5,29.75,112.5,5.3,64.68,41.8,164.0,48.5,7.5,29.15,7.5,153.0,50.0,200.0,65.0,48.5,48.5,30.8,50.0,62.0,65.0,7.5,90.0,29.15,200.0,50.0,5.3,65.0,50.0,21.0,7.5,50.0,64.68,29.15,85.0,90.0,48.5,21.0,29.15,7.5,37.0,29.15,50.0,50.0,200.0,5.3,350.0,39.0,50.0,29.15,48.5,50.0,5.3,65.0,47.0,7.5,29.15,29.75,50.0,200.0,50.0,41.8,21.0,37.0,29.75,85.0,50.0,62.0,7.5,48.5,29.15,90.0,30.8,35.0,64.68,200.0,153.0,30.8,50.0,200.0,112.5,21.0,50.0,30.8,37.0,350.0,50.0,64.68,50.0,50.0,48.5,69.7,30.8,62.0,30.8,90.0,69.7,62.0,29.75,62.0,85.0,64.68,50.0,64.68,109.0,29.15,5.3,41.8,62.0,65.0,153.0,31.0,64.68,200.0,62.0,64.68,62.0,47.0,29.75,62.0,145.0,90.0,62.0,48.5,90.0,29.75,48.5,62.0,30.8,7.5,115.0,5.3,39.0,29.75,31.0,29.75,62.0,30.8,29.75,62.0,90.0,62.0,29.15,29.75,35.0,30.8,64.68,85.0,37.0,45.0,62.0,123.0,48.5,41.8,62.0,90.0,62.0,29.75,200.0,30.8,65.0,145.0,65.0,62.0,46.0,62.0,109.0,65.0,62.0,37.0,62.0,200.0,62.0,62.0,31.0,64.68,48.5,65.0,62.0,62.0,200.0,90.0,62.0,47.0,200.0,62.0,109.0,29.15,62.0,90.0,62.0,37.0,109.0,62.0,31.0,200.0,109.0,62.0,29.15,200.0,29.75,130.0,40.0,29.15,112.5,31.0,37.0,145.0,29.75,109.0,5.3,90.0,85.0,200.0,25.0,37.0,115.0,47.0,200.0,164.0,29.75,62.0,64.68,29.15,123.0,62.0,64.68,153.0,31.0,200.0,62.0,350.0,65.0,41.8,64.68,48.5,62.0,29.75,62.0,31.0,62.0,29.75,48.5,69.7,48.5,109.0,65.0,35.0,31.0,200.0,62.0,90.0,41.8,48.5,109.0,65.0,200.0,31.0,56.5,29.15,62.0,21.0,109.0,37.0,200.0,109.0,109.0,123.0,200.0,31.0,5.3,41.8,153.0,47.0,200.0,112.5,200.0,109.0,31.0,37.0,200.0,120.0,56.5,200.0,56.5,41.8,31.0,90.0,29.0,164.0,123.0,56.5,56.5,37.0,90.0,153.0,56.5,62.0,145.0,200.0,350.0,90.0,29.0,109.0,200.0,31.0,90.0,56.5,109.0,200.0,56.5,109.0,56.5,109.0,164.0,56.5,80.0,41.8,21.0,29.0,90.0,41.8,109.0,164.0,37.0,56.5,145.0,31.0,109.0,200.0,90.0,164.0,200.0,109.0,80.0,56.5,47.0,41.8,120.0,56.5,41.8,29.0,40.0,109.0,31.0,56.5,140.0,80.0,41.8,55.0,200.0,350.0,29.0,112.5,200.0,153.0,31.0,40.0,109.0,37.0,80.0,109.0,59.5,21.0,109.0,200.0,109.0,90.0,200.0,120.0,80.0,200.0,164.0,200.0,109.0,21.0,109.0,200.0,41.8,112.5,200.0,350.0,109.0,40.0,59.5,90.0,200.0,140.0,31.0,31.0,153.0,37.0,80.0,90.0,145.0,21.0,46.0,90.0,200.0,90.0,29.0,200.0,153.0,164.0,31.0,450.0,40.0,200.0,450.0,109.0,200.0,25.0,115.0,164.0,120.0,450.0,40.0,112.5,350.0,200.0,59.5,200.0,350.0,46.0,200.0,46.0,120.0,41.8,140.0,200.0,21.0,200.0,29.0,29.0,59.5,41.8,164.0,200.0,450.0,90.0,120.0,29.0,450.0,164.0,109.0,450.0,90.0,130.0,450.0,41.8,200.0,450.0,109.0,200.0,21.0,112.5,109.0,450.0,200.0,29.0,450.0,7.0,41.8,200.0,164.0,123.0,40.0,200.0,450.0,21.0,123.0,41.8,450.0,200.0,90.0,350.0,200.0,450.0,29.75,29.75,29.15,64.68,31.0,40.0,29.0,7.0,29.0,200.0,200.0,200.0,450.0,64.68,41.8,21.0,20.14,200.0,40.0,123.0,115.0,450.0,90.0,450.0,21.0,109.0,200.0,64.68,350.0,450.0,123.0,64.68,200.0,450.0,29.0,29.0,450.0,69.7,29.75,29.15,200.0,40.0,40.0,21.0,29.0,69.7,30.8,200.0,109.0,69.7,25.0,40.0,450.0,200.0,69.7,133.0,64.68,200.0,69.7,90.0,450.0,30.8,200.0,41.8,29.0,450.0,164.0,200.0,164.0,64.68,115.0,40.0,40.0,200.0,153.0,200.0,40.0,29.75,41.8,29.0,109.0,30.8,450.0,29.75,25.0,40.0,40.0,130.0,200.0,190.0,135.0,30.8,48.5,64.68,69.7,29.75,47.0,64.68,30.8,30.8,190.0,29.0,45.0,30.8,190.0,30.8,69.7,29.75,41.8,64.68,35.0,25.0,133.0,40.0,135.0,41.8,40.0,69.7,109.0,47.0,40.0,133.0,40.0,35.0,29.0,90.0,450.0,164.0,64.68,450.0,25.0,109.0,35.0,41.8,450.0,64.68,450.0,41.8,450.0,40.0,450.0,25.0,90.0,450.0,450.0,450.0,450.0,450.0,69.7,450.0,69.7,450.0,40.0,29.0,35.0,450.0,40.0,40.0,450.0,41.8,45.0,450.0,40.0,69.7,45.0,450.0,35.0,40.0,64.68,450.0,35.0,30.8,25.0,450.0,40.0,64.68,29.0,40.0,30.8,40.0,450.0,450.0,40.0,45.0,40.0,30.8,40.0,450.0,35.0,30.8,450.0,40.0,30.8,40.0,45.0,450.0,40.0,30.8,450.0,40.0,450.0,30.8,40.0,450.0,40.0,450.0,450.0,69.7,40.0,450.0,35.0,450.0,450.0,450.0,29.75,450.0,40.0,40.0,450.0,450.0,40.0,450.0,25.0,40.0,450.0,450.0,450.0,450.0,450.0,450.0,450.0,40.0,450.0,450.0,450.0,25.0,450.0,450.0,40.0,450.0,29.75,450.0,45.0,450.0,69.7,450.0,35.0,450.0,450.0,30.8,450.0,450.0,450.0,40.0,450.0,40.0,450.0,450.0,450.0,30.8,136.6,450.0,29.75,450.0,450.0,450.0,35.0,450.0,450.0,450.0,450.0,450.0,450.0,450.0,450.0,450.0,450.0,450.0,30.8,136.6,450.0,40.0,450.0,450.0,136.6,450.0,450.0,35.0,450.0,450.0,450.0,450.0,450.0,35.0,30.8,30.8,30.8,30.8,450.0,450.0,450.0,30.8,450.0,450.0,450.0,450.0,450.0,450.0,450.0,450.0,450.0,30.8,450.0,450.0,450.0,450.0,450.0,30.8,450.0,450.0,450.0,30.8,450.0,450.0,450.0,450.0,1160.0,1160.0,1160.0,1160.0,1160.0,1160.0,1160.0,1160.0,59.0,1160.0,59.0,59.0,1160.0,59.0,1160.0,59.0,59.0,59.0,59.0,59.0,59.0,59.0,59.0,59.0,1160.0,59.0,59.0,59.0,59.0,59.0,59.0,59.0,63.23,63.23,63.23],\"sizemode\":\"area\",\"sizeref\":0.9469387755102041,\"symbol\":\"circle\"},\"mode\":\"markers\",\"name\":\"Success\",\"orientation\":\"h\",\"showlegend\":true,\"x\":[2020,2020,2020,2020,2020,2020,2020,2020,2020,2020,2020,2020,2020,2020,2020,2020,2020,2020,2020,2020,2020,2020,2020,2020,2020,2020,2020,2020,2020,2020,2020,2020,2020,2020,2020,2020,2020,2020,2020,2020,2020,2020,2020,2020,2020,2020,2020,2020,2019,2019,2019,2019,2019,2019,2019,2019,2019,2019,2019,2019,2019,2019,2019,2019,2019,2019,2019,2019,2019,2019,2019,2019,2019,2019,2019,2019,2019,2019,2019,2019,2019,2019,2019,2019,2019,2019,2019,2019,2019,2019,2019,2019,2019,2019,2019,2019,2019,2019,2019,2019,2019,2019,2019,2019,2019,2019,2019,2019,2019,2019,2019,2019,2019,2019,2019,2019,2019,2019,2019,2018,2018,2018,2018,2018,2018,2018,2018,2018,2018,2018,2018,2018,2018,2018,2018,2018,2018,2018,2018,2018,2018,2018,2018,2018,2018,2018,2018,2018,2018,2018,2018,2018,2018,2018,2018,2018,2018,2018,2018,2018,2018,2018,2018,2018,2018,2018,2018,2018,2018,2018,2018,2018,2018,2018,2018,2018,2018,2018,2018,2018,2018,2018,2018,2018,2018,2018,2018,2018,2018,2018,2018,2018,2018,2018,2018,2018,2018,2018,2018,2018,2018,2018,2018,2018,2018,2018,2017,2017,2017,2017,2017,2017,2017,2017,2017,2017,2017,2017,2017,2017,2017,2017,2017,2017,2017,2017,2017,2017,2017,2017,2017,2017,2017,2017,2017,2017,2017,2017,2017,2017,2017,2017,2017,2017,2017,2017,2017,2017,2017,2017,2017,2017,2017,2017,2017,2017,2017,2017,2017,2017,2017,2017,2017,2017,2017,2017,2017,2017,2016,2016,2016,2016,2016,2016,2016,2016,2016,2016,2016,2016,2016,2016,2016,2016,2016,2016,2016,2016,2016,2016,2016,2016,2016,2016,2016,2016,2016,2016,2016,2016,2016,2016,2016,2016,2016,2016,2016,2016,2016,2016,2016,2016,2016,2016,2016,2016,2016,2016,2016,2016,2016,2016,2016,2016,2016,2016,2016,2016,2016,2015,2015,2015,2015,2015,2015,2015,2015,2015,2015,2015,2015,2015,2015,2015,2015,2015,2015,2015,2015,2015,2015,2015,2015,2015,2015,2015,2015,2015,2015,2015,2015,2015,2015,2015,2015,2015,2014,2014,2014,2014,2014,2014,2014,2014,2014,2014,2014,2014,2014,2014,2014,2014,2014,2014,2014,2014,2014,2014,2014,2014,2014,2014,2014,2014,2014,2014,2014,2014,2014,2014,2014,2014,2014,2014,2014,2014,2013,2013,2013,2013,2013,2013,2013,2013,2013,2013,2013,2013,2013,2013,2013,2013,2013,2013,2013,2013,2013,2013,2013,2013,2013,2013,2013,2013,2013,2013,2013,2012,2012,2012,2012,2012,2012,2012,2012,2012,2012,2012,2012,2012,2012,2012,2012,2012,2012,2012,2012,2012,2012,2012,2012,2011,2011,2011,2011,2011,2011,2011,2011,2011,2011,2011,2011,2011,2011,2011,2011,2011,2011,2011,2011,2011,2011,2011,2011,2011,2011,2011,2010,2010,2010,2010,2010,2010,2010,2010,2010,2010,2010,2010,2010,2010,2010,2010,2010,2010,2010,2010,2010,2010,2010,2010,2010,2010,2010,2009,2009,2009,2009,2009,2009,2009,2009,2009,2009,2009,2009,2009,2009,2009,2009,2009,2009,2009,2009,2009,2009,2009,2009,2009,2009,2009,2009,2009,2009,2008,2008,2008,2008,2008,2008,2008,2008,2008,2008,2008,2008,2008,2008,2008,2008,2008,2008,2008,2008,2008,2008,2008,2008,2008,2008,2008,2007,2007,2007,2007,2007,2007,2007,2007,2007,2007,2007,2007,2007,2007,2007,2007,2007,2007,2007,2007,2007,2007,2007,2007,2007,2007,2006,2006,2006,2006,2006,2006,2006,2006,2006,2006,2006,2006,2006,2006,2006,2006,2006,2006,2006,2006,2006,2006,2006,2006,2005,2005,2005,2005,2005,2005,2005,2005,2005,2005,2005,2005,2005,2005,2004,2004,2004,2004,2004,2004,2004,2004,2004,2004,2004,2004,2004,2004,2004,2004,2003,2003,2003,2003,2003,2003,2003,2003,2003,2003,2003,2003,2003,2003,2003,2003,2003,2003,2003,2002,2002,2002,2002,2002,2002,2002,2002,2002,2002,2002,2002,2002,2002,2002,2002,2001,2001,2001,2001,2001,2001,2001,2001,2000,2000,2000,2000,2000,2000,2000,2000,2000,2000,2000,2000,2000,2000,2000,2000,1999,1999,1999,1999,1999,1999,1999,1999,1999,1999,1999,1999,1999,1999,1998,1998,1998,1998,1998,1998,1998,1998,1998,1998,1998,1998,1998,1998,1998,1998,1998,1998,1997,1997,1997,1997,1997,1997,1997,1997,1997,1997,1997,1997,1997,1997,1997,1997,1997,1996,1996,1996,1996,1996,1996,1996,1996,1996,1996,1996,1996,1996,1995,1995,1995,1995,1995,1995,1995,1995,1994,1994,1994,1994,1994,1994,1994,1994,1994,1994,1994,1994,1994,1993,1993,1993,1993,1993,1993,1993,1993,1993,1993,1992,1992,1992,1992,1992,1992,1992,1992,1992,1992,1992,1992,1991,1991,1991,1991,1991,1991,1990,1990,1990,1990,1990,1990,1990,1990,1990,1990,1989,1989,1989,1989,1989,1989,1988,1988,1988,1988,1987,1987,1986,1986,1985,1985,1985,1985,1985,1985,1985,1985,1985,1985,1984,1984,1984,1984,1984,1984,1983,1983,1983,1983,1983,1982,1982,1982,1982,1981,1981,1973,1972,1972,1971,1971,1970,1969,1969,1969,1969,1969,1969,1969,1969,1968,1968,1968,1968,1968,1968,1968,1968,1968,1967,1967,1967,1967,1967,1967,1966,1966,1966,1965,1965,1964],\"xaxis\":\"x\",\"y\":[\"USA\",\"China\",\"Kazakhstan\",\"USA\",\"China\",\"Kazakhstan\",\"USA\",\"Japan\",\"USA\",\"China\",\"China\",\"China\",\"USA\",\"China\",\"China\",\"USA\",\"New Zealand\",\"China\",\"USA\",\"China\",\"USA\",\"China\",\"Japan\",\"USA\",\"Kazakhstan\",\"USA\",\"Kazakhstan\",\"USA\",\"China\",\"Kazakhstan\",\"USA\",\"China\",\"USA\",\"Russian Federation\",\"China\",\"France\",\"USA\",\"USA\",\"USA\",\"Japan\",\"Kazakhstan\",\"New Zealand\",\"USA\",\"USA\",\"France\",\"China\",\"China\",\"USA\",\"Russian Federation\",\"Kazakhstan\",\"China\",\"USA\",\"India\",\"Russian Federation\",\"Kazakhstan\",\"New Zealand\",\"USA\",\"China\",\"India\",\"France\",\"USA\",\"China\",\"China\",\"USA\",\"China\",\"New Zealand\",\"USA\",\"Kazakhstan\",\"China\",\"Russian Federation\",\"China\",\"Japan\",\"China\",\"China\",\"Russian Federation\",\"USA\",\"Kazakhstan\",\"New Zealand\",\"China\",\"China\",\"USA\",\"USA\",\"France\",\"Kazakhstan\",\"Kazakhstan\",\"Russian Federation\",\"China\",\"USA\",\"India\",\"Kazakhstan\",\"New Zealand\",\"USA\",\"China\",\"France\",\"USA\",\"China\",\"Kazakhstan\",\"USA\",\"India\",\"New Zealand\",\"USA\",\"China\",\"China\",\"USA\",\"USA\",\"Kazakhstan\",\"India\",\"China\",\"New Zealand\",\"France\",\"China\",\"USA\",\"USA\",\"France\",\"China\",\"USA\",\"Japan\",\"USA\",\"China\",\"Russian Federation\",\"USA\",\"China\",\"Kazakhstan\",\"India\",\"New Zealand\",\"China\",\"China\",\"USA\",\"France\",\"USA\",\"Russian Federation\",\"India\",\"France\",\"China\",\"USA\",\"USA\",\"India\",\"New Zealand\",\"Russian Federation\",\"China\",\"Japan\",\"China\",\"Russian Federation\",\"China\",\"France\",\"USA\",\"China\",\"USA\",\"France\",\"Japan\",\"India\",\"USA\",\"China\",\"France\",\"USA\",\"USA\",\"China\",\"USA\",\"USA\",\"Kazakhstan\",\"China\",\"China\",\"USA\",\"China\",\"Japan\",\"China\",\"USA\",\"China\",\"USA\",\"USA\",\"China\",\"USA\",\"China\",\"USA\",\"China\",\"China\",\"Russian Federation\",\"USA\",\"Kazakhstan\",\"USA\",\"India\",\"China\",\"France\",\"USA\",\"China\",\"USA\",\"India\",\"China\",\"USA\",\"USA\",\"Japan\",\"USA\",\"Kazakhstan\",\"USA\",\"China\",\"Russian Federation\",\"USA\",\"China\",\"New Zealand\",\"USA\",\"China\",\"Japan\",\"China\",\"India\",\"China\",\"USA\",\"China\",\"China\",\"USA\",\"Japan\",\"USA\",\"China\",\"China\",\"Russian Federation\",\"China\",\"China\",\"USA\",\"France\",\"USA\",\"USA\",\"USA\",\"Kazakhstan\",\"Russian Federation\",\"USA\",\"Japan\",\"USA\",\"China\",\"France\",\"China\",\"Kazakhstan\",\"USA\",\"Kazakhstan\",\"USA\",\"USA\",\"USA\",\"USA\",\"Kazakhstan\",\"USA\",\"France\",\"USA\",\"France\",\"USA\",\"USA\",\"India\",\"China\",\"Kazakhstan\",\"Kazakhstan\",\"India\",\"USA\",\"France\",\"Japan\",\"USA\",\"India\",\"France\",\"USA\",\"USA\",\"China\",\"USA\",\"Japan\",\"USA\",\"France\",\"USA\",\"USA\",\"India\",\"France\",\"USA\",\"USA\",\"China\",\"France\",\"China\",\"USA\",\"USA\",\"China\",\"Japan\",\"India\",\"France\",\"USA\",\"China\",\"USA\",\"China\",\"Japan\",\"USA\",\"France\",\"India\",\"France\",\"USA\",\"India\",\"France\",\"USA\",\"China\",\"USA\",\"China\",\"China\",\"USA\",\"USA\",\"China\",\"USA\",\"India\",\"France\",\"USA\",\"USA\",\"Kazakhstan\",\"Russian Federation\",\"China\",\"Russian Federation\",\"USA\",\"China\",\"USA\",\"India\",\"USA\",\"China\",\"Kazakhstan\",\"China\",\"Russian Federation\",\"USA\",\"Kazakhstan\",\"Kazakhstan\",\"India\",\"France\",\"USA\",\"Japan\",\"Russian Federation\",\"Russian Federation\",\"USA\",\"Kazakhstan\",\"France\",\"India\",\"USA\",\"China\",\"USA\",\"India\",\"USA\",\"France\",\"France\",\"USA\",\"USA\",\"USA\",\"France\",\"India\",\"China\",\"Russian Federation\",\"USA\",\"India\",\"France\",\"Japan\",\"France\",\"USA\",\"India\",\"France\",\"France\",\"USA\",\"USA\",\"France\",\"USA\",\"Russian Federation\",\"India\",\"Japan\",\"Russian Federation\",\"USA\",\"USA\",\"USA\",\"USA\",\"France\",\"Japan\",\"USA\",\"USA\",\"India\",\"USA\",\"France\",\"USA\",\"Japan\",\"Russian Federation\",\"USA\",\"France\",\"India\",\"Japan\",\"USA\",\"USA\",\"France\",\"USA\",\"USA\",\"USA\",\"USA\",\"USA\",\"USA\",\"USA\",\"Russian Federation\",\"India\",\"Russian Federation\",\"Japan\",\"Russian Federation\",\"USA\",\"USA\",\"France\",\"USA\",\"USA\",\"India\",\"USA\",\"France\",\"Japan\",\"USA\",\"France\",\"USA\",\"USA\",\"USA\",\"India\",\"Russian Federation\",\"USA\",\"USA\",\"Russian Federation\",\"Russian Federation\",\"USA\",\"USA\",\"India\",\"USA\",\"USA\",\"USA\",\"Russian Federation\",\"USA\",\"France\",\"USA\",\"Russian Federation\",\"Japan\",\"France\",\"USA\",\"India\",\"USA\",\"USA\",\"France\",\"USA\",\"USA\",\"USA\",\"India\",\"USA\",\"France\",\"USA\",\"Japan\",\"France\",\"USA\",\"France\",\"France\",\"USA\",\"France\",\"USA\",\"India\",\"USA\",\"France\",\"Russian Federation\",\"Japan\",\"France\",\"USA\",\"USA\",\"USA\",\"USA\",\"Japan\",\"France\",\"USA\",\"India\",\"India\",\"USA\",\"France\",\"France\",\"Japan\",\"USA\",\"India\",\"USA\",\"Japan\",\"France\",\"Japan\",\"Russian Federation\",\"France\",\"USA\",\"USA\",\"India\",\"USA\",\"USA\",\"France\",\"USA\",\"USA\",\"France\",\"India\",\"USA\",\"USA\",\"USA\",\"USA\",\"USA\",\"Japan\",\"USA\",\"France\",\"USA\",\"France\",\"USA\",\"USA\",\"France\",\"USA\",\"USA\",\"Russian Federation\",\"USA\",\"France\",\"India\",\"France\",\"Kazakhstan\",\"Russian Federation\",\"USA\",\"Russian Federation\",\"USA\",\"France\",\"USA\",\"Japan\",\"USA\",\"Kazakhstan\",\"USA\",\"USA\",\"USA\",\"USA\",\"Japan\",\"USA\",\"USA\",\"Russian Federation\",\"France\",\"USA\",\"USA\",\"France\",\"India\",\"Japan\",\"USA\",\"USA\",\"France\",\"Kazakhstan\",\"USA\",\"USA\",\"Russian Federation\",\"France\",\"USA\",\"USA\",\"USA\",\"France\",\"USA\",\"India\",\"USA\",\"Russian Federation\",\"USA\",\"France\",\"Japan\",\"USA\",\"France\",\"USA\",\"China\",\"China\",\"China\",\"China\",\"India\",\"USA\",\"Russian Federation\",\"USA\",\"Kazakhstan\",\"France\",\"France\",\"France\",\"USA\",\"China\",\"Russian Federation\",\"India\",\"China\",\"France\",\"USA\",\"USA\",\"USA\",\"USA\",\"Japan\",\"USA\",\"India\",\"USA\",\"France\",\"China\",\"USA\",\"USA\",\"USA\",\"China\",\"France\",\"USA\",\"Russian Federation\",\"Kazakhstan\",\"USA\",\"China\",\"China\",\"China\",\"France\",\"USA\",\"USA\",\"India\",\"Kazakhstan\",\"China\",\"China\",\"France\",\"USA\",\"China\",\"India\",\"USA\",\"USA\",\"France\",\"China\",\"USA\",\"China\",\"France\",\"China\",\"Japan\",\"USA\",\"China\",\"France\",\"Russian Federation\",\"Russian Federation\",\"USA\",\"USA\",\"France\",\"USA\",\"China\",\"USA\",\"USA\",\"USA\",\"France\",\"USA\",\"France\",\"USA\",\"China\",\"Russian Federation\",\"Kazakhstan\",\"USA\",\"China\",\"USA\",\"China\",\"India\",\"USA\",\"USA\",\"USA\",\"France\",\"France\",\"USA\",\"China\",\"Russian Federation\",\"China\",\"China\",\"China\",\"India\",\"China\",\"China\",\"China\",\"France\",\"Kazakhstan\",\"USA\",\"China\",\"France\",\"China\",\"China\",\"China\",\"Russian Federation\",\"China\",\"USA\",\"India\",\"USA\",\"USA\",\"USA\",\"Russian Federation\",\"USA\",\"China\",\"USA\",\"India\",\"USA\",\"USA\",\"USA\",\"USA\",\"Kazakhstan\",\"Japan\",\"USA\",\"USA\",\"China\",\"USA\",\"India\",\"USA\",\"USA\",\"Russian Federation\",\"USA\",\"China\",\"USA\",\"Russian Federation\",\"USA\",\"USA\",\"USA\",\"India\",\"Japan\",\"USA\",\"USA\",\"USA\",\"USA\",\"USA\",\"China\",\"USA\",\"China\",\"USA\",\"USA\",\"Kazakhstan\",\"USA\",\"USA\",\"USA\",\"USA\",\"USA\",\"Russian Federation\",\"USA\",\"USA\",\"USA\",\"China\",\"USA\",\"USA\",\"USA\",\"USA\",\"China\",\"USA\",\"USA\",\"China\",\"India\",\"USA\",\"USA\",\"China\",\"Kazakhstan\",\"USA\",\"China\",\"USA\",\"USA\",\"USA\",\"USA\",\"USA\",\"USA\",\"China\",\"USA\",\"USA\",\"USA\",\"China\",\"USA\",\"USA\",\"China\",\"USA\",\"USA\",\"USA\",\"USA\",\"China\",\"USA\",\"USA\",\"USA\",\"China\",\"USA\",\"USA\",\"USA\",\"USA\",\"USA\",\"China\",\"USA\",\"USA\",\"USA\",\"USA\",\"USA\",\"USA\",\"China\",\"USA\",\"USA\",\"USA\",\"USA\",\"USA\",\"USA\",\"USA\",\"India\",\"USA\",\"USA\",\"USA\",\"USA\",\"USA\",\"USA\",\"USA\",\"USA\",\"USA\",\"USA\",\"USA\",\"USA\",\"India\",\"USA\",\"USA\",\"USA\",\"USA\",\"China\",\"USA\",\"USA\",\"USA\",\"China\",\"USA\",\"USA\",\"USA\",\"USA\",\"China\",\"USA\",\"USA\",\"USA\",\"USA\",\"USA\",\"USA\",\"USA\",\"USA\",\"USA\",\"China\",\"USA\",\"USA\",\"China\",\"USA\",\"USA\",\"USA\",\"USA\",\"USA\",\"USA\",\"USA\",\"USA\",\"USA\",\"USA\",\"USA\",\"USA\",\"USA\",\"USA\",\"USA\",\"China\",\"USA\",\"USA\",\"USA\",\"USA\",\"USA\",\"USA\",\"USA\",\"USA\",\"USA\",\"USA\",\"USA\",\"USA\",\"USA\",\"USA\",\"USA\",\"China\",\"China\",\"China\",\"China\",\"USA\",\"USA\",\"USA\",\"China\",\"USA\",\"USA\",\"USA\",\"USA\",\"USA\",\"USA\",\"USA\",\"USA\",\"USA\",\"China\",\"USA\",\"USA\",\"USA\",\"USA\",\"USA\",\"China\",\"USA\",\"USA\",\"USA\",\"China\",\"USA\",\"USA\",\"USA\",\"USA\",\"USA\",\"USA\",\"USA\",\"USA\",\"USA\",\"USA\",\"USA\",\"USA\",\"USA\",\"USA\",\"USA\",\"USA\",\"USA\",\"USA\",\"USA\",\"USA\",\"USA\",\"USA\",\"USA\",\"USA\",\"USA\",\"USA\",\"USA\",\"USA\",\"USA\",\"USA\",\"USA\",\"USA\",\"USA\",\"USA\",\"USA\",\"USA\",\"USA\",\"USA\",\"USA\"],\"yaxis\":\"y\",\"type\":\"scatter\"},{\"hovertemplate\":\"Status Mission=Failure<br>Year=%{x}<br>Country=%{y}<br>Rocket Cost=%{marker.size}<extra></extra>\",\"legendgroup\":\"Failure\",\"marker\":{\"color\":\"Crimson\",\"size\":[28.3,7.5,12.0,29.15,37.0,64.68,31.0,7.5,64.68,15.0,56.5,80.0,65.0,45.0,47.0,47.0,45.0,7.0,7.0,29.0,47.0,7.0,41.8,450.0,200.0,45.0,40.0,20.0,40.0,40.0,35.0,25.0,136.6,450.0,59.0,63.23],\"sizemode\":\"area\",\"sizeref\":0.9469387755102041,\"symbol\":\"circle\"},\"mode\":\"markers\",\"name\":\"Failure\",\"orientation\":\"h\",\"showlegend\":true,\"x\":[2020,2020,2020,2020,2019,2019,2017,2017,2016,2015,2015,2014,2013,2011,2010,2010,2009,2008,2007,2006,2006,2006,2005,2003,2002,2001,1996,1995,1995,1994,1993,1993,1990,1986,1967,1964],\"xaxis\":\"x\",\"y\":[\"China\",\"New Zealand\",\"USA\",\"China\",\"France\",\"China\",\"India\",\"New Zealand\",\"China\",\"USA\",\"USA\",\"USA\",\"Kazakhstan\",\"USA\",\"India\",\"India\",\"USA\",\"USA\",\"USA\",\"Kazakhstan\",\"India\",\"USA\",\"Russian Federation\",\"USA\",\"France\",\"USA\",\"USA\",\"USA\",\"USA\",\"USA\",\"USA\",\"India\",\"USA\",\"USA\",\"USA\",\"USA\"],\"yaxis\":\"y\",\"type\":\"scatter\"},{\"hovertemplate\":\"Status Mission=Partial Failure<br>Year=%{x}<br>Country=%{y}<br>Rocket Cost=%{marker.size}<extra></extra>\",\"legendgroup\":\"Partial Failure\",\"marker\":{\"color\":\"Gold\",\"size\":[200.0,48.5,29.15,29.75,41.8,59.5,41.8,47.0,109.0,350.0,47.0,25.0,69.7,40.0,40.0,1160.0,59.0],\"sizemode\":\"area\",\"sizeref\":0.9469387755102041,\"symbol\":\"circle\"},\"mode\":\"markers\",\"name\":\"Partial Failure\",\"orientation\":\"h\",\"showlegend\":true,\"x\":[2018,2017,2017,2016,2013,2012,2011,2007,2007,2004,2001,1997,1994,1994,1991,1968,1967],\"xaxis\":\"x\",\"y\":[\"France\",\"Kazakhstan\",\"China\",\"China\",\"Russian Federation\",\"USA\",\"Russian Federation\",\"India\",\"USA\",\"USA\",\"India\",\"India\",\"China\",\"USA\",\"USA\",\"USA\",\"USA\"],\"yaxis\":\"y\",\"type\":\"scatter\"},{\"hovertemplate\":\"Status Mission=Prelaunch Failure<br>Year=%{x}<br>Country=%{y}<br>Rocket Cost=%{marker.size}<extra></extra>\",\"legendgroup\":\"Prelaunch Failure\",\"marker\":{\"color\":\"AquaMarine\",\"size\":[62.0],\"sizemode\":\"area\",\"sizeref\":0.9469387755102041,\"symbol\":\"circle\"},\"mode\":\"markers\",\"name\":\"Prelaunch Failure\",\"orientation\":\"h\",\"showlegend\":true,\"x\":[2016],\"xaxis\":\"x\",\"y\":[\"USA\"],\"yaxis\":\"y\",\"type\":\"scatter\"}],                        {\"template\":{\"data\":{\"barpolar\":[{\"marker\":{\"line\":{\"color\":\"white\",\"width\":0.5},\"pattern\":{\"fillmode\":\"overlay\",\"size\":10,\"solidity\":0.2}},\"type\":\"barpolar\"}],\"bar\":[{\"error_x\":{\"color\":\"rgb(36,36,36)\"},\"error_y\":{\"color\":\"rgb(36,36,36)\"},\"marker\":{\"line\":{\"color\":\"white\",\"width\":0.5},\"pattern\":{\"fillmode\":\"overlay\",\"size\":10,\"solidity\":0.2}},\"type\":\"bar\"}],\"carpet\":[{\"aaxis\":{\"endlinecolor\":\"rgb(36,36,36)\",\"gridcolor\":\"white\",\"linecolor\":\"white\",\"minorgridcolor\":\"white\",\"startlinecolor\":\"rgb(36,36,36)\"},\"baxis\":{\"endlinecolor\":\"rgb(36,36,36)\",\"gridcolor\":\"white\",\"linecolor\":\"white\",\"minorgridcolor\":\"white\",\"startlinecolor\":\"rgb(36,36,36)\"},\"type\":\"carpet\"}],\"choropleth\":[{\"colorbar\":{\"outlinewidth\":1,\"tickcolor\":\"rgb(36,36,36)\",\"ticks\":\"outside\"},\"type\":\"choropleth\"}],\"contourcarpet\":[{\"colorbar\":{\"outlinewidth\":1,\"tickcolor\":\"rgb(36,36,36)\",\"ticks\":\"outside\"},\"type\":\"contourcarpet\"}],\"contour\":[{\"colorbar\":{\"outlinewidth\":1,\"tickcolor\":\"rgb(36,36,36)\",\"ticks\":\"outside\"},\"colorscale\":[[0.0,\"#440154\"],[0.1111111111111111,\"#482878\"],[0.2222222222222222,\"#3e4989\"],[0.3333333333333333,\"#31688e\"],[0.4444444444444444,\"#26828e\"],[0.5555555555555556,\"#1f9e89\"],[0.6666666666666666,\"#35b779\"],[0.7777777777777778,\"#6ece58\"],[0.8888888888888888,\"#b5de2b\"],[1.0,\"#fde725\"]],\"type\":\"contour\"}],\"heatmapgl\":[{\"colorbar\":{\"outlinewidth\":1,\"tickcolor\":\"rgb(36,36,36)\",\"ticks\":\"outside\"},\"colorscale\":[[0.0,\"#440154\"],[0.1111111111111111,\"#482878\"],[0.2222222222222222,\"#3e4989\"],[0.3333333333333333,\"#31688e\"],[0.4444444444444444,\"#26828e\"],[0.5555555555555556,\"#1f9e89\"],[0.6666666666666666,\"#35b779\"],[0.7777777777777778,\"#6ece58\"],[0.8888888888888888,\"#b5de2b\"],[1.0,\"#fde725\"]],\"type\":\"heatmapgl\"}],\"heatmap\":[{\"colorbar\":{\"outlinewidth\":1,\"tickcolor\":\"rgb(36,36,36)\",\"ticks\":\"outside\"},\"colorscale\":[[0.0,\"#440154\"],[0.1111111111111111,\"#482878\"],[0.2222222222222222,\"#3e4989\"],[0.3333333333333333,\"#31688e\"],[0.4444444444444444,\"#26828e\"],[0.5555555555555556,\"#1f9e89\"],[0.6666666666666666,\"#35b779\"],[0.7777777777777778,\"#6ece58\"],[0.8888888888888888,\"#b5de2b\"],[1.0,\"#fde725\"]],\"type\":\"heatmap\"}],\"histogram2dcontour\":[{\"colorbar\":{\"outlinewidth\":1,\"tickcolor\":\"rgb(36,36,36)\",\"ticks\":\"outside\"},\"colorscale\":[[0.0,\"#440154\"],[0.1111111111111111,\"#482878\"],[0.2222222222222222,\"#3e4989\"],[0.3333333333333333,\"#31688e\"],[0.4444444444444444,\"#26828e\"],[0.5555555555555556,\"#1f9e89\"],[0.6666666666666666,\"#35b779\"],[0.7777777777777778,\"#6ece58\"],[0.8888888888888888,\"#b5de2b\"],[1.0,\"#fde725\"]],\"type\":\"histogram2dcontour\"}],\"histogram2d\":[{\"colorbar\":{\"outlinewidth\":1,\"tickcolor\":\"rgb(36,36,36)\",\"ticks\":\"outside\"},\"colorscale\":[[0.0,\"#440154\"],[0.1111111111111111,\"#482878\"],[0.2222222222222222,\"#3e4989\"],[0.3333333333333333,\"#31688e\"],[0.4444444444444444,\"#26828e\"],[0.5555555555555556,\"#1f9e89\"],[0.6666666666666666,\"#35b779\"],[0.7777777777777778,\"#6ece58\"],[0.8888888888888888,\"#b5de2b\"],[1.0,\"#fde725\"]],\"type\":\"histogram2d\"}],\"histogram\":[{\"marker\":{\"line\":{\"color\":\"white\",\"width\":0.6}},\"type\":\"histogram\"}],\"mesh3d\":[{\"colorbar\":{\"outlinewidth\":1,\"tickcolor\":\"rgb(36,36,36)\",\"ticks\":\"outside\"},\"type\":\"mesh3d\"}],\"parcoords\":[{\"line\":{\"colorbar\":{\"outlinewidth\":1,\"tickcolor\":\"rgb(36,36,36)\",\"ticks\":\"outside\"}},\"type\":\"parcoords\"}],\"pie\":[{\"automargin\":true,\"type\":\"pie\"}],\"scatter3d\":[{\"line\":{\"colorbar\":{\"outlinewidth\":1,\"tickcolor\":\"rgb(36,36,36)\",\"ticks\":\"outside\"}},\"marker\":{\"colorbar\":{\"outlinewidth\":1,\"tickcolor\":\"rgb(36,36,36)\",\"ticks\":\"outside\"}},\"type\":\"scatter3d\"}],\"scattercarpet\":[{\"marker\":{\"colorbar\":{\"outlinewidth\":1,\"tickcolor\":\"rgb(36,36,36)\",\"ticks\":\"outside\"}},\"type\":\"scattercarpet\"}],\"scattergeo\":[{\"marker\":{\"colorbar\":{\"outlinewidth\":1,\"tickcolor\":\"rgb(36,36,36)\",\"ticks\":\"outside\"}},\"type\":\"scattergeo\"}],\"scattergl\":[{\"marker\":{\"colorbar\":{\"outlinewidth\":1,\"tickcolor\":\"rgb(36,36,36)\",\"ticks\":\"outside\"}},\"type\":\"scattergl\"}],\"scattermapbox\":[{\"marker\":{\"colorbar\":{\"outlinewidth\":1,\"tickcolor\":\"rgb(36,36,36)\",\"ticks\":\"outside\"}},\"type\":\"scattermapbox\"}],\"scatterpolargl\":[{\"marker\":{\"colorbar\":{\"outlinewidth\":1,\"tickcolor\":\"rgb(36,36,36)\",\"ticks\":\"outside\"}},\"type\":\"scatterpolargl\"}],\"scatterpolar\":[{\"marker\":{\"colorbar\":{\"outlinewidth\":1,\"tickcolor\":\"rgb(36,36,36)\",\"ticks\":\"outside\"}},\"type\":\"scatterpolar\"}],\"scatter\":[{\"fillpattern\":{\"fillmode\":\"overlay\",\"size\":10,\"solidity\":0.2},\"type\":\"scatter\"}],\"scatterternary\":[{\"marker\":{\"colorbar\":{\"outlinewidth\":1,\"tickcolor\":\"rgb(36,36,36)\",\"ticks\":\"outside\"}},\"type\":\"scatterternary\"}],\"surface\":[{\"colorbar\":{\"outlinewidth\":1,\"tickcolor\":\"rgb(36,36,36)\",\"ticks\":\"outside\"},\"colorscale\":[[0.0,\"#440154\"],[0.1111111111111111,\"#482878\"],[0.2222222222222222,\"#3e4989\"],[0.3333333333333333,\"#31688e\"],[0.4444444444444444,\"#26828e\"],[0.5555555555555556,\"#1f9e89\"],[0.6666666666666666,\"#35b779\"],[0.7777777777777778,\"#6ece58\"],[0.8888888888888888,\"#b5de2b\"],[1.0,\"#fde725\"]],\"type\":\"surface\"}],\"table\":[{\"cells\":{\"fill\":{\"color\":\"rgb(237,237,237)\"},\"line\":{\"color\":\"white\"}},\"header\":{\"fill\":{\"color\":\"rgb(217,217,217)\"},\"line\":{\"color\":\"white\"}},\"type\":\"table\"}]},\"layout\":{\"annotationdefaults\":{\"arrowhead\":0,\"arrowwidth\":1},\"autotypenumbers\":\"strict\",\"coloraxis\":{\"colorbar\":{\"outlinewidth\":1,\"tickcolor\":\"rgb(36,36,36)\",\"ticks\":\"outside\"}},\"colorscale\":{\"diverging\":[[0.0,\"rgb(103,0,31)\"],[0.1,\"rgb(178,24,43)\"],[0.2,\"rgb(214,96,77)\"],[0.3,\"rgb(244,165,130)\"],[0.4,\"rgb(253,219,199)\"],[0.5,\"rgb(247,247,247)\"],[0.6,\"rgb(209,229,240)\"],[0.7,\"rgb(146,197,222)\"],[0.8,\"rgb(67,147,195)\"],[0.9,\"rgb(33,102,172)\"],[1.0,\"rgb(5,48,97)\"]],\"sequential\":[[0.0,\"#440154\"],[0.1111111111111111,\"#482878\"],[0.2222222222222222,\"#3e4989\"],[0.3333333333333333,\"#31688e\"],[0.4444444444444444,\"#26828e\"],[0.5555555555555556,\"#1f9e89\"],[0.6666666666666666,\"#35b779\"],[0.7777777777777778,\"#6ece58\"],[0.8888888888888888,\"#b5de2b\"],[1.0,\"#fde725\"]],\"sequentialminus\":[[0.0,\"#440154\"],[0.1111111111111111,\"#482878\"],[0.2222222222222222,\"#3e4989\"],[0.3333333333333333,\"#31688e\"],[0.4444444444444444,\"#26828e\"],[0.5555555555555556,\"#1f9e89\"],[0.6666666666666666,\"#35b779\"],[0.7777777777777778,\"#6ece58\"],[0.8888888888888888,\"#b5de2b\"],[1.0,\"#fde725\"]]},\"colorway\":[\"#1F77B4\",\"#FF7F0E\",\"#2CA02C\",\"#D62728\",\"#9467BD\",\"#8C564B\",\"#E377C2\",\"#7F7F7F\",\"#BCBD22\",\"#17BECF\"],\"font\":{\"color\":\"rgb(36,36,36)\"},\"geo\":{\"bgcolor\":\"white\",\"lakecolor\":\"white\",\"landcolor\":\"white\",\"showlakes\":true,\"showland\":true,\"subunitcolor\":\"white\"},\"hoverlabel\":{\"align\":\"left\"},\"hovermode\":\"closest\",\"mapbox\":{\"style\":\"light\"},\"paper_bgcolor\":\"white\",\"plot_bgcolor\":\"white\",\"polar\":{\"angularaxis\":{\"gridcolor\":\"rgb(232,232,232)\",\"linecolor\":\"rgb(36,36,36)\",\"showgrid\":false,\"showline\":true,\"ticks\":\"outside\"},\"bgcolor\":\"white\",\"radialaxis\":{\"gridcolor\":\"rgb(232,232,232)\",\"linecolor\":\"rgb(36,36,36)\",\"showgrid\":false,\"showline\":true,\"ticks\":\"outside\"}},\"scene\":{\"xaxis\":{\"backgroundcolor\":\"white\",\"gridcolor\":\"rgb(232,232,232)\",\"gridwidth\":2,\"linecolor\":\"rgb(36,36,36)\",\"showbackground\":true,\"showgrid\":false,\"showline\":true,\"ticks\":\"outside\",\"zeroline\":false,\"zerolinecolor\":\"rgb(36,36,36)\"},\"yaxis\":{\"backgroundcolor\":\"white\",\"gridcolor\":\"rgb(232,232,232)\",\"gridwidth\":2,\"linecolor\":\"rgb(36,36,36)\",\"showbackground\":true,\"showgrid\":false,\"showline\":true,\"ticks\":\"outside\",\"zeroline\":false,\"zerolinecolor\":\"rgb(36,36,36)\"},\"zaxis\":{\"backgroundcolor\":\"white\",\"gridcolor\":\"rgb(232,232,232)\",\"gridwidth\":2,\"linecolor\":\"rgb(36,36,36)\",\"showbackground\":true,\"showgrid\":false,\"showline\":true,\"ticks\":\"outside\",\"zeroline\":false,\"zerolinecolor\":\"rgb(36,36,36)\"}},\"shapedefaults\":{\"fillcolor\":\"black\",\"line\":{\"width\":0},\"opacity\":0.3},\"ternary\":{\"aaxis\":{\"gridcolor\":\"rgb(232,232,232)\",\"linecolor\":\"rgb(36,36,36)\",\"showgrid\":false,\"showline\":true,\"ticks\":\"outside\"},\"baxis\":{\"gridcolor\":\"rgb(232,232,232)\",\"linecolor\":\"rgb(36,36,36)\",\"showgrid\":false,\"showline\":true,\"ticks\":\"outside\"},\"bgcolor\":\"white\",\"caxis\":{\"gridcolor\":\"rgb(232,232,232)\",\"linecolor\":\"rgb(36,36,36)\",\"showgrid\":false,\"showline\":true,\"ticks\":\"outside\"}},\"title\":{\"x\":0.05},\"xaxis\":{\"automargin\":true,\"gridcolor\":\"rgb(232,232,232)\",\"linecolor\":\"rgb(36,36,36)\",\"showgrid\":false,\"showline\":true,\"ticks\":\"outside\",\"title\":{\"standoff\":15},\"zeroline\":false,\"zerolinecolor\":\"rgb(36,36,36)\"},\"yaxis\":{\"automargin\":true,\"gridcolor\":\"rgb(232,232,232)\",\"linecolor\":\"rgb(36,36,36)\",\"showgrid\":false,\"showline\":true,\"ticks\":\"outside\",\"title\":{\"standoff\":15},\"zeroline\":false,\"zerolinecolor\":\"rgb(36,36,36)\"}}},\"xaxis\":{\"anchor\":\"y\",\"domain\":[0.0,1.0],\"title\":{\"text\":\"Year\"}},\"yaxis\":{\"anchor\":\"x\",\"domain\":[0.0,1.0],\"title\":{\"text\":\"Country\"}},\"legend\":{\"title\":{\"text\":\"Status Mission\"},\"tracegroupgap\":0,\"itemsizing\":\"constant\"},\"margin\":{\"t\":50,\"l\":80,\"r\":80,\"b\":10},\"title\":{\"text\":\"<b>Total Mission Cost (millions) by Country</b>\",\"x\":0.5}},                        {\"responsive\": true}                    ).then(function(){\n",
       "                            \n",
       "var gd = document.getElementById('0eec8ccc-f928-4689-b6eb-63904162801b');\n",
       "var x = new MutationObserver(function (mutations, observer) {{\n",
       "        var display = window.getComputedStyle(gd).display;\n",
       "        if (!display || display === 'none') {{\n",
       "            console.log([gd, 'removed!']);\n",
       "            Plotly.purge(gd);\n",
       "            observer.disconnect();\n",
       "        }}\n",
       "}});\n",
       "\n",
       "// Listen for the removal of the full notebook cells\n",
       "var notebookContainer = gd.closest('#notebook-container');\n",
       "if (notebookContainer) {{\n",
       "    x.observe(notebookContainer, {childList: true});\n",
       "}}\n",
       "\n",
       "// Listen for the clearing of the current output cell\n",
       "var outputEl = gd.closest('.output');\n",
       "if (outputEl) {{\n",
       "    x.observe(outputEl, {childList: true});\n",
       "}}\n",
       "\n",
       "                        })                };                });            </script>        </div>"
      ]
     },
     "metadata": {},
     "output_type": "display_data"
    }
   ],
   "source": [
    "#Use a scattter plot to show the relationship between cost per country over the years\n",
    "fig = px.scatter(sm[sm[\"Rocket Cost\"].between(1,4999)], \n",
    "                x=\"Year\", \n",
    "                y=\"Country\", \n",
    "                color=\"Status Mission\",\n",
    "                color_discrete_map={\n",
    "                    \"Success\":\"RebeccaPurple\",\n",
    "                    \"Failure\":\"Crimson\",\n",
    "                    \"Partial Failure\":\"Gold\",\n",
    "                    \"Prelaunch Failure\":\"AquaMarine\"},\n",
    "                size=\"Rocket Cost\", \n",
    "                size_max=35)\n",
    "fig.update_layout(margin = dict(l=80, r=80, t=50, b=10), template = \"simple_white\", \n",
    "                  title = { \"text\" : \"<b>Total Mission Cost (millions) by Country</b>\", \"x\" : 0.5})\n",
    "fig.show()"
   ]
  },
  {
   "cell_type": "markdown",
   "id": "0e5ff7b3",
   "metadata": {},
   "source": [
    "As we can tell, the cost for rockets in the early years were significantly higher than now. Recently, rockets have become more efficient and reliable with advances in technology. As a result we have been able to reduce costs and make it easier for organisations to launch rockets with higher frequencies., allowing room for trial and error.  "
   ]
  },
  {
   "cell_type": "code",
   "execution_count": 21,
   "id": "8619b5ca",
   "metadata": {},
   "outputs": [
    {
     "data": {
      "application/vnd.plotly.v1+json": {
       "config": {
        "plotlyServerURL": "https://plot.ly"
       },
       "data": [
        {
         "hovertemplate": "Status Mission=Success<br>Year=%{x}<br>Company Name=%{y}<br>Rocket Cost=%{marker.size}<extra></extra>",
         "legendgroup": "Success",
         "marker": {
          "color": "RebeccaPurple",
          "size": [
           50,
           29.75,
           65,
           145,
           64.68,
           48.5,
           50,
           90,
           46,
           29.15,
           29.75,
           64.68,
           50,
           29.15,
           29.75,
           50,
           7.5,
           30.8,
           50,
           29.75,
           50,
           5.3,
           112.5,
           120,
           48.5,
           50,
           48.5,
           153,
           30.8,
           48.5,
           50,
           29.15,
           50,
           48.5,
           29.75,
           200,
           50,
           85,
           115,
           90,
           48.5,
           7.5,
           50,
           50,
           200,
           29.75,
           29.15,
           50,
           41.8,
           65,
           64.68,
           50,
           21,
           48.5,
           48.5,
           7.5,
           50,
           64.68,
           31,
           200,
           50,
           29.15,
           64.68,
           85,
           29.15,
           7.5,
           40,
           65,
           64.68,
           48.5,
           29.75,
           112.5,
           5.3,
           64.68,
           41.8,
           164,
           48.5,
           7.5,
           29.15,
           7.5,
           153,
           50,
           200,
           65,
           48.5,
           48.5,
           30.8,
           50,
           62,
           65,
           7.5,
           90,
           29.15,
           200,
           50,
           5.3,
           65,
           50,
           21,
           7.5,
           50,
           64.68,
           29.15,
           85,
           90,
           48.5,
           21,
           29.15,
           7.5,
           37,
           29.15,
           50,
           50,
           200,
           5.3,
           350,
           39,
           50,
           29.15,
           48.5,
           50,
           5.3,
           65,
           47,
           7.5,
           29.15,
           29.75,
           50,
           200,
           50,
           41.8,
           21,
           37,
           29.75,
           85,
           50,
           62,
           7.5,
           48.5,
           29.15,
           90,
           30.8,
           35,
           64.68,
           200,
           153,
           30.8,
           50,
           200,
           112.5,
           21,
           50,
           30.8,
           37,
           350,
           50,
           64.68,
           50,
           50,
           48.5,
           69.7,
           30.8,
           62,
           30.8,
           90,
           69.7,
           62,
           29.75,
           62,
           85,
           64.68,
           50,
           64.68,
           109,
           29.15,
           5.3,
           41.8,
           62,
           65,
           153,
           31,
           64.68,
           200,
           62,
           64.68,
           62,
           47,
           29.75,
           62,
           145,
           90,
           62,
           48.5,
           90,
           29.75,
           48.5,
           62,
           30.8,
           7.5,
           115,
           5.3,
           39,
           29.75,
           31,
           29.75,
           62,
           30.8,
           29.75,
           62,
           90,
           62,
           29.15,
           29.75,
           35,
           30.8,
           64.68,
           85,
           37,
           45,
           62,
           123,
           48.5,
           41.8,
           62,
           90,
           62,
           29.75,
           200,
           30.8,
           65,
           145,
           65,
           62,
           46,
           62,
           109,
           65,
           62,
           37,
           62,
           200,
           62,
           62,
           31,
           64.68,
           48.5,
           65,
           62,
           62,
           200,
           90,
           62,
           47,
           200,
           62,
           109,
           29.15,
           62,
           90,
           62,
           37,
           109,
           62,
           31,
           200,
           109,
           62,
           29.15,
           200,
           29.75,
           130,
           40,
           29.15,
           112.5,
           31,
           37,
           145,
           29.75,
           109,
           5.3,
           90,
           85,
           200,
           25,
           37,
           115,
           47,
           200,
           164,
           29.75,
           62,
           64.68,
           29.15,
           123,
           62,
           64.68,
           153,
           31,
           200,
           62,
           350,
           65,
           41.8,
           64.68,
           48.5,
           62,
           29.75,
           62,
           31,
           62,
           29.75,
           48.5,
           69.7,
           48.5,
           109,
           65,
           35,
           31,
           200,
           62,
           90,
           41.8,
           48.5,
           109,
           65,
           200,
           31,
           56.5,
           29.15,
           62,
           21,
           109,
           37,
           200,
           109,
           109,
           123,
           200,
           31,
           5.3,
           41.8,
           153,
           47,
           200,
           112.5,
           200,
           109,
           31,
           37,
           200,
           120,
           56.5,
           200,
           56.5,
           41.8,
           31,
           90,
           29,
           164,
           123,
           56.5,
           56.5,
           37,
           90,
           153,
           56.5,
           62,
           145,
           200,
           350,
           90,
           29,
           109,
           200,
           31,
           90,
           56.5,
           109,
           200,
           56.5,
           109,
           56.5,
           109,
           164,
           56.5,
           80,
           41.8,
           21,
           29,
           90,
           41.8,
           109,
           164,
           37,
           56.5,
           145,
           31,
           109,
           200,
           90,
           164,
           200,
           109,
           80,
           56.5,
           47,
           41.8,
           120,
           56.5,
           41.8,
           29,
           40,
           109,
           31,
           56.5,
           140,
           80,
           41.8,
           55,
           200,
           350,
           29,
           112.5,
           200,
           153,
           31,
           40,
           109,
           37,
           80,
           109,
           59.5,
           21,
           109,
           200,
           109,
           90,
           200,
           120,
           80,
           200,
           164,
           200,
           109,
           21,
           109,
           200,
           41.8,
           112.5,
           200,
           350,
           109,
           40,
           59.5,
           90,
           200,
           140,
           31,
           31,
           153,
           37,
           80,
           90,
           145,
           21,
           46,
           90,
           200,
           90,
           29,
           200,
           153,
           164,
           31,
           450,
           40,
           200,
           450,
           109,
           200,
           25,
           115,
           164,
           120,
           450,
           40,
           112.5,
           350,
           200,
           59.5,
           200,
           350,
           46,
           200,
           46,
           120,
           41.8,
           140,
           200,
           21,
           200,
           29,
           29,
           59.5,
           41.8,
           164,
           200,
           450,
           90,
           120,
           29,
           450,
           164,
           109,
           450,
           90,
           130,
           450,
           41.8,
           200,
           450,
           109,
           200,
           21,
           112.5,
           109,
           450,
           200,
           29,
           450,
           7,
           41.8,
           200,
           164,
           123,
           40,
           200,
           450,
           21,
           123,
           41.8,
           450,
           200,
           90,
           350,
           200,
           450,
           29.75,
           29.75,
           29.15,
           64.68,
           31,
           40,
           29,
           7,
           29,
           200,
           200,
           200,
           450,
           64.68,
           41.8,
           21,
           20.14,
           200,
           40,
           123,
           115,
           450,
           90,
           450,
           21,
           109,
           200,
           64.68,
           350,
           450,
           123,
           64.68,
           200,
           450,
           29,
           29,
           450,
           69.7,
           29.75,
           29.15,
           200,
           40,
           40,
           21,
           29,
           69.7,
           30.8,
           200,
           109,
           69.7,
           25,
           40,
           450,
           200,
           69.7,
           133,
           64.68,
           200,
           69.7,
           90,
           450,
           30.8,
           200,
           41.8,
           29,
           450,
           164,
           200,
           164,
           64.68,
           115,
           40,
           40,
           200,
           153,
           200,
           40,
           29.75,
           41.8,
           29,
           109,
           30.8,
           450,
           29.75,
           25,
           40,
           40,
           130,
           200,
           190,
           135,
           30.8,
           48.5,
           64.68,
           69.7,
           29.75,
           47,
           64.68,
           30.8,
           30.8,
           190,
           29,
           45,
           30.8,
           190,
           30.8,
           69.7,
           29.75,
           41.8,
           64.68,
           35,
           25,
           133,
           40,
           135,
           41.8,
           40,
           69.7,
           109,
           47,
           40,
           133,
           40,
           35,
           29,
           90,
           450,
           164,
           64.68,
           450,
           25,
           109,
           35,
           41.8,
           450,
           64.68,
           450,
           41.8,
           450,
           40,
           450,
           25,
           90,
           450,
           450,
           450,
           450,
           450,
           69.7,
           450,
           69.7,
           450,
           40,
           29,
           35,
           450,
           40,
           40,
           450,
           41.8,
           45,
           450,
           40,
           69.7,
           45,
           450,
           35,
           40,
           64.68,
           450,
           35,
           30.8,
           25,
           450,
           40,
           64.68,
           29,
           40,
           30.8,
           40,
           450,
           450,
           40,
           45,
           40,
           30.8,
           40,
           450,
           35,
           30.8,
           450,
           40,
           30.8,
           40,
           45,
           450,
           40,
           30.8,
           450,
           40,
           450,
           30.8,
           40,
           450,
           40,
           450,
           450,
           69.7,
           40,
           450,
           35,
           450,
           450,
           450,
           29.75,
           450,
           40,
           40,
           450,
           450,
           40,
           450,
           25,
           40,
           450,
           450,
           450,
           450,
           450,
           450,
           450,
           40,
           450,
           450,
           450,
           25,
           450,
           450,
           40,
           450,
           29.75,
           450,
           45,
           450,
           69.7,
           450,
           35,
           450,
           450,
           30.8,
           450,
           450,
           450,
           40,
           450,
           40,
           450,
           450,
           450,
           30.8,
           136.6,
           450,
           29.75,
           450,
           450,
           450,
           35,
           450,
           450,
           450,
           450,
           450,
           450,
           450,
           450,
           450,
           450,
           450,
           30.8,
           136.6,
           450,
           40,
           450,
           450,
           136.6,
           450,
           450,
           35,
           450,
           450,
           450,
           450,
           450,
           35,
           30.8,
           30.8,
           30.8,
           30.8,
           450,
           450,
           450,
           30.8,
           450,
           450,
           450,
           450,
           450,
           450,
           450,
           450,
           450,
           30.8,
           450,
           450,
           450,
           450,
           450,
           30.8,
           450,
           450,
           450,
           30.8,
           450,
           450,
           450,
           450,
           1160,
           1160,
           1160,
           1160,
           1160,
           1160,
           1160,
           1160,
           59,
           1160,
           59,
           59,
           1160,
           59,
           1160,
           59,
           59,
           59,
           59,
           59,
           59,
           59,
           59,
           59,
           1160,
           59,
           59,
           59,
           59,
           59,
           59,
           59,
           63.23,
           63.23,
           63.23
          ],
          "sizemode": "area",
          "sizeref": 1.5912208504801097,
          "symbol": "circle"
         },
         "mode": "markers",
         "name": "Success",
         "orientation": "h",
         "showlegend": true,
         "type": "scatter",
         "x": [
          2020,
          2020,
          2020,
          2020,
          2020,
          2020,
          2020,
          2020,
          2020,
          2020,
          2020,
          2020,
          2020,
          2020,
          2020,
          2020,
          2020,
          2020,
          2020,
          2020,
          2020,
          2020,
          2020,
          2020,
          2020,
          2020,
          2020,
          2020,
          2020,
          2020,
          2020,
          2020,
          2020,
          2020,
          2020,
          2020,
          2020,
          2020,
          2020,
          2020,
          2020,
          2020,
          2020,
          2020,
          2020,
          2020,
          2020,
          2020,
          2019,
          2019,
          2019,
          2019,
          2019,
          2019,
          2019,
          2019,
          2019,
          2019,
          2019,
          2019,
          2019,
          2019,
          2019,
          2019,
          2019,
          2019,
          2019,
          2019,
          2019,
          2019,
          2019,
          2019,
          2019,
          2019,
          2019,
          2019,
          2019,
          2019,
          2019,
          2019,
          2019,
          2019,
          2019,
          2019,
          2019,
          2019,
          2019,
          2019,
          2019,
          2019,
          2019,
          2019,
          2019,
          2019,
          2019,
          2019,
          2019,
          2019,
          2019,
          2019,
          2019,
          2019,
          2019,
          2019,
          2019,
          2019,
          2019,
          2019,
          2019,
          2019,
          2019,
          2019,
          2019,
          2019,
          2019,
          2019,
          2019,
          2019,
          2019,
          2018,
          2018,
          2018,
          2018,
          2018,
          2018,
          2018,
          2018,
          2018,
          2018,
          2018,
          2018,
          2018,
          2018,
          2018,
          2018,
          2018,
          2018,
          2018,
          2018,
          2018,
          2018,
          2018,
          2018,
          2018,
          2018,
          2018,
          2018,
          2018,
          2018,
          2018,
          2018,
          2018,
          2018,
          2018,
          2018,
          2018,
          2018,
          2018,
          2018,
          2018,
          2018,
          2018,
          2018,
          2018,
          2018,
          2018,
          2018,
          2018,
          2018,
          2018,
          2018,
          2018,
          2018,
          2018,
          2018,
          2018,
          2018,
          2018,
          2018,
          2018,
          2018,
          2018,
          2018,
          2018,
          2018,
          2018,
          2018,
          2018,
          2018,
          2018,
          2018,
          2018,
          2018,
          2018,
          2018,
          2018,
          2018,
          2018,
          2018,
          2018,
          2018,
          2018,
          2018,
          2018,
          2018,
          2018,
          2017,
          2017,
          2017,
          2017,
          2017,
          2017,
          2017,
          2017,
          2017,
          2017,
          2017,
          2017,
          2017,
          2017,
          2017,
          2017,
          2017,
          2017,
          2017,
          2017,
          2017,
          2017,
          2017,
          2017,
          2017,
          2017,
          2017,
          2017,
          2017,
          2017,
          2017,
          2017,
          2017,
          2017,
          2017,
          2017,
          2017,
          2017,
          2017,
          2017,
          2017,
          2017,
          2017,
          2017,
          2017,
          2017,
          2017,
          2017,
          2017,
          2017,
          2017,
          2017,
          2017,
          2017,
          2017,
          2017,
          2017,
          2017,
          2017,
          2017,
          2017,
          2017,
          2016,
          2016,
          2016,
          2016,
          2016,
          2016,
          2016,
          2016,
          2016,
          2016,
          2016,
          2016,
          2016,
          2016,
          2016,
          2016,
          2016,
          2016,
          2016,
          2016,
          2016,
          2016,
          2016,
          2016,
          2016,
          2016,
          2016,
          2016,
          2016,
          2016,
          2016,
          2016,
          2016,
          2016,
          2016,
          2016,
          2016,
          2016,
          2016,
          2016,
          2016,
          2016,
          2016,
          2016,
          2016,
          2016,
          2016,
          2016,
          2016,
          2016,
          2016,
          2016,
          2016,
          2016,
          2016,
          2016,
          2016,
          2016,
          2016,
          2016,
          2016,
          2015,
          2015,
          2015,
          2015,
          2015,
          2015,
          2015,
          2015,
          2015,
          2015,
          2015,
          2015,
          2015,
          2015,
          2015,
          2015,
          2015,
          2015,
          2015,
          2015,
          2015,
          2015,
          2015,
          2015,
          2015,
          2015,
          2015,
          2015,
          2015,
          2015,
          2015,
          2015,
          2015,
          2015,
          2015,
          2015,
          2015,
          2014,
          2014,
          2014,
          2014,
          2014,
          2014,
          2014,
          2014,
          2014,
          2014,
          2014,
          2014,
          2014,
          2014,
          2014,
          2014,
          2014,
          2014,
          2014,
          2014,
          2014,
          2014,
          2014,
          2014,
          2014,
          2014,
          2014,
          2014,
          2014,
          2014,
          2014,
          2014,
          2014,
          2014,
          2014,
          2014,
          2014,
          2014,
          2014,
          2014,
          2013,
          2013,
          2013,
          2013,
          2013,
          2013,
          2013,
          2013,
          2013,
          2013,
          2013,
          2013,
          2013,
          2013,
          2013,
          2013,
          2013,
          2013,
          2013,
          2013,
          2013,
          2013,
          2013,
          2013,
          2013,
          2013,
          2013,
          2013,
          2013,
          2013,
          2013,
          2012,
          2012,
          2012,
          2012,
          2012,
          2012,
          2012,
          2012,
          2012,
          2012,
          2012,
          2012,
          2012,
          2012,
          2012,
          2012,
          2012,
          2012,
          2012,
          2012,
          2012,
          2012,
          2012,
          2012,
          2011,
          2011,
          2011,
          2011,
          2011,
          2011,
          2011,
          2011,
          2011,
          2011,
          2011,
          2011,
          2011,
          2011,
          2011,
          2011,
          2011,
          2011,
          2011,
          2011,
          2011,
          2011,
          2011,
          2011,
          2011,
          2011,
          2011,
          2010,
          2010,
          2010,
          2010,
          2010,
          2010,
          2010,
          2010,
          2010,
          2010,
          2010,
          2010,
          2010,
          2010,
          2010,
          2010,
          2010,
          2010,
          2010,
          2010,
          2010,
          2010,
          2010,
          2010,
          2010,
          2010,
          2010,
          2009,
          2009,
          2009,
          2009,
          2009,
          2009,
          2009,
          2009,
          2009,
          2009,
          2009,
          2009,
          2009,
          2009,
          2009,
          2009,
          2009,
          2009,
          2009,
          2009,
          2009,
          2009,
          2009,
          2009,
          2009,
          2009,
          2009,
          2009,
          2009,
          2009,
          2008,
          2008,
          2008,
          2008,
          2008,
          2008,
          2008,
          2008,
          2008,
          2008,
          2008,
          2008,
          2008,
          2008,
          2008,
          2008,
          2008,
          2008,
          2008,
          2008,
          2008,
          2008,
          2008,
          2008,
          2008,
          2008,
          2008,
          2007,
          2007,
          2007,
          2007,
          2007,
          2007,
          2007,
          2007,
          2007,
          2007,
          2007,
          2007,
          2007,
          2007,
          2007,
          2007,
          2007,
          2007,
          2007,
          2007,
          2007,
          2007,
          2007,
          2007,
          2007,
          2007,
          2006,
          2006,
          2006,
          2006,
          2006,
          2006,
          2006,
          2006,
          2006,
          2006,
          2006,
          2006,
          2006,
          2006,
          2006,
          2006,
          2006,
          2006,
          2006,
          2006,
          2006,
          2006,
          2006,
          2006,
          2005,
          2005,
          2005,
          2005,
          2005,
          2005,
          2005,
          2005,
          2005,
          2005,
          2005,
          2005,
          2005,
          2005,
          2004,
          2004,
          2004,
          2004,
          2004,
          2004,
          2004,
          2004,
          2004,
          2004,
          2004,
          2004,
          2004,
          2004,
          2004,
          2004,
          2003,
          2003,
          2003,
          2003,
          2003,
          2003,
          2003,
          2003,
          2003,
          2003,
          2003,
          2003,
          2003,
          2003,
          2003,
          2003,
          2003,
          2003,
          2003,
          2002,
          2002,
          2002,
          2002,
          2002,
          2002,
          2002,
          2002,
          2002,
          2002,
          2002,
          2002,
          2002,
          2002,
          2002,
          2002,
          2001,
          2001,
          2001,
          2001,
          2001,
          2001,
          2001,
          2001,
          2000,
          2000,
          2000,
          2000,
          2000,
          2000,
          2000,
          2000,
          2000,
          2000,
          2000,
          2000,
          2000,
          2000,
          2000,
          2000,
          1999,
          1999,
          1999,
          1999,
          1999,
          1999,
          1999,
          1999,
          1999,
          1999,
          1999,
          1999,
          1999,
          1999,
          1998,
          1998,
          1998,
          1998,
          1998,
          1998,
          1998,
          1998,
          1998,
          1998,
          1998,
          1998,
          1998,
          1998,
          1998,
          1998,
          1998,
          1998,
          1997,
          1997,
          1997,
          1997,
          1997,
          1997,
          1997,
          1997,
          1997,
          1997,
          1997,
          1997,
          1997,
          1997,
          1997,
          1997,
          1997,
          1996,
          1996,
          1996,
          1996,
          1996,
          1996,
          1996,
          1996,
          1996,
          1996,
          1996,
          1996,
          1996,
          1995,
          1995,
          1995,
          1995,
          1995,
          1995,
          1995,
          1995,
          1994,
          1994,
          1994,
          1994,
          1994,
          1994,
          1994,
          1994,
          1994,
          1994,
          1994,
          1994,
          1994,
          1993,
          1993,
          1993,
          1993,
          1993,
          1993,
          1993,
          1993,
          1993,
          1993,
          1992,
          1992,
          1992,
          1992,
          1992,
          1992,
          1992,
          1992,
          1992,
          1992,
          1992,
          1992,
          1991,
          1991,
          1991,
          1991,
          1991,
          1991,
          1990,
          1990,
          1990,
          1990,
          1990,
          1990,
          1990,
          1990,
          1990,
          1990,
          1989,
          1989,
          1989,
          1989,
          1989,
          1989,
          1988,
          1988,
          1988,
          1988,
          1987,
          1987,
          1986,
          1986,
          1985,
          1985,
          1985,
          1985,
          1985,
          1985,
          1985,
          1985,
          1985,
          1985,
          1984,
          1984,
          1984,
          1984,
          1984,
          1984,
          1983,
          1983,
          1983,
          1983,
          1983,
          1982,
          1982,
          1982,
          1982,
          1981,
          1981,
          1973,
          1972,
          1972,
          1971,
          1971,
          1970,
          1969,
          1969,
          1969,
          1969,
          1969,
          1969,
          1969,
          1969,
          1968,
          1968,
          1968,
          1968,
          1968,
          1968,
          1968,
          1968,
          1968,
          1967,
          1967,
          1967,
          1967,
          1967,
          1967,
          1966,
          1966,
          1966,
          1965,
          1965,
          1964
         ],
         "xaxis": "x",
         "y": [
          "SpaceX",
          "CASC",
          "Roscosmos",
          "ULA",
          "CASC",
          "Roscosmos",
          "SpaceX",
          "JAXA",
          "Northrop",
          "CASC",
          "CASC",
          "CASC",
          "SpaceX",
          "CASC",
          "CASC",
          "SpaceX",
          "Rocket Lab",
          "CASC",
          "SpaceX",
          "CASC",
          "SpaceX",
          "CASC",
          "MHI",
          "ULA",
          "Roscosmos",
          "SpaceX",
          "Roscosmos",
          "ULA",
          "CASC",
          "Arianespace",
          "SpaceX",
          "CASC",
          "SpaceX",
          "VKS RF",
          "CASC",
          "Arianespace",
          "SpaceX",
          "Northrop",
          "ULA",
          "MHI",
          "Arianespace",
          "Rocket Lab",
          "SpaceX",
          "SpaceX",
          "Arianespace",
          "CASC",
          "CASC",
          "SpaceX",
          "VKS RF",
          "Roscosmos",
          "CASC",
          "SpaceX",
          "ISRO",
          "VKS RF",
          "Roscosmos",
          "Rocket Lab",
          "SpaceX",
          "CASC",
          "ISRO",
          "Arianespace",
          "SpaceX",
          "CASC",
          "CASC",
          "Northrop",
          "CASC",
          "Rocket Lab",
          "Northrop",
          "ILS",
          "CASC",
          "VKS RF",
          "CASC",
          "MHI",
          "CASC",
          "CASC",
          "VKS RF",
          "ULA",
          "Roscosmos",
          "Rocket Lab",
          "CASC",
          "CASC",
          "ULA",
          "SpaceX",
          "Arianespace",
          "Roscosmos",
          "Roscosmos",
          "VKS RF",
          "CASC",
          "SpaceX",
          "ISRO",
          "Roscosmos",
          "Rocket Lab",
          "SpaceX",
          "CASC",
          "Arianespace",
          "SpaceX",
          "CASC",
          "Roscosmos",
          "SpaceX",
          "ISRO",
          "Rocket Lab",
          "SpaceX",
          "CASC",
          "CASC",
          "Northrop",
          "SpaceX",
          "Roscosmos",
          "ISRO",
          "CASC",
          "Rocket Lab",
          "Arianespace",
          "CASC",
          "SpaceX",
          "SpaceX",
          "Arianespace",
          "CASC",
          "ULA",
          "JAXA",
          "SpaceX",
          "CASC",
          "Roscosmos",
          "SpaceX",
          "CASC",
          "VKS RF",
          "ISRO",
          "Rocket Lab",
          "CASC",
          "CASC",
          "SpaceX",
          "Arianespace",
          "SpaceX",
          "VKS RF",
          "ISRO",
          "Arianespace",
          "CASC",
          "Northrop",
          "SpaceX",
          "ISRO",
          "Rocket Lab",
          "VKS RF",
          "CASC",
          "MHI",
          "CASC",
          "Roscosmos",
          "CASC",
          "Arianespace",
          "ULA",
          "CASC",
          "SpaceX",
          "Arianespace",
          "MHI",
          "ISRO",
          "SpaceX",
          "CASC",
          "Arianespace",
          "ULA",
          "SpaceX",
          "CASC",
          "SpaceX",
          "SpaceX",
          "Roscosmos",
          "CASC",
          "CASC",
          "SpaceX",
          "CASC",
          "MHI",
          "CASC",
          "SpaceX",
          "CASC",
          "SpaceX",
          "Northrop",
          "CASC",
          "SpaceX",
          "CASC",
          "ULA",
          "CASC",
          "CASC",
          "Eurockot",
          "SpaceX",
          "VKS RF",
          "ULA",
          "ISRO",
          "CASC",
          "Arianespace",
          "SpaceX",
          "CASC",
          "SpaceX",
          "ISRO",
          "CASC",
          "SpaceX",
          "ULA",
          "MHI",
          "SpaceX",
          "Roscosmos",
          "SpaceX",
          "CASC",
          "Roscosmos",
          "SpaceX",
          "CASC",
          "Rocket Lab",
          "ULA",
          "CASC",
          "JAXA",
          "CASC",
          "ISRO",
          "CASC",
          "SpaceX",
          "CASC",
          "CASC",
          "SpaceX",
          "MHI",
          "SpaceX",
          "CASC",
          "CASC",
          "VKS RF",
          "CASC",
          "CASC",
          "Northrop",
          "Arianespace",
          "Northrop",
          "SpaceX",
          "ULA",
          "Roscosmos",
          "Eurockot",
          "SpaceX",
          "MHI",
          "SpaceX",
          "CASC",
          "Arianespace",
          "CASC",
          "VKS RF",
          "ULA",
          "ILS",
          "SpaceX",
          "Northrop",
          "SpaceX",
          "ULA",
          "VKS RF",
          "SpaceX",
          "Arianespace",
          "SpaceX",
          "Arianespace",
          "SpaceX",
          "SpaceX",
          "ISRO",
          "CASC",
          "Roscosmos",
          "ILS",
          "ISRO",
          "SpaceX",
          "Arianespace",
          "MHI",
          "SpaceX",
          "ISRO",
          "Arianespace",
          "SpaceX",
          "ULA",
          "CASC",
          "SpaceX",
          "MHI",
          "SpaceX",
          "Arianespace",
          "ULA",
          "SpaceX",
          "ISRO",
          "Arianespace",
          "ULA",
          "SpaceX",
          "CASC",
          "Arianespace",
          "CASC",
          "ULA",
          "Northrop",
          "CASC",
          "MHI",
          "ISRO",
          "Arianespace",
          "ULA",
          "CASC",
          "ULA",
          "CASC",
          "MHI",
          "Northrop",
          "Arianespace",
          "ISRO",
          "Arianespace",
          "ULA",
          "ISRO",
          "Arianespace",
          "ULA",
          "CASC",
          "SpaceX",
          "CASC",
          "CASC",
          "ULA",
          "SpaceX",
          "CASC",
          "ULA",
          "ISRO",
          "Arianespace",
          "SpaceX",
          "ULA",
          "ILS",
          "VKS RF",
          "CASC",
          "VKS RF",
          "SpaceX",
          "CASC",
          "SpaceX",
          "ISRO",
          "SpaceX",
          "CASC",
          "Roscosmos",
          "CASC",
          "VKS RF",
          "ULA",
          "Roscosmos",
          "Roscosmos",
          "ISRO",
          "Arianespace",
          "SpaceX",
          "MHI",
          "Eurockot",
          "VKS RF",
          "ULA",
          "ILS",
          "Arianespace",
          "ISRO",
          "SpaceX",
          "CASC",
          "SpaceX",
          "ISRO",
          "ULA",
          "Arianespace",
          "Arianespace",
          "ULA",
          "ULA",
          "ULA",
          "Arianespace",
          "ISRO",
          "CASC",
          "VKS RF",
          "ULA",
          "ISRO",
          "Arianespace",
          "MHI",
          "Arianespace",
          "ULA",
          "ISRO",
          "Arianespace",
          "Arianespace",
          "ULA",
          "SpaceX",
          "Arianespace",
          "SpaceX",
          "VKS RF",
          "ISRO",
          "MHI",
          "Kosmotras",
          "ULA",
          "ULA",
          "SpaceX",
          "SpaceX",
          "Arianespace",
          "MHI",
          "ULA",
          "SpaceX",
          "ISRO",
          "ULA",
          "Arianespace",
          "ULA",
          "MHI",
          "Kosmotras",
          "ULA",
          "Arianespace",
          "ISRO",
          "MHI",
          "SpaceX",
          "ULA",
          "Arianespace",
          "SpaceX",
          "ULA",
          "SpaceX",
          "ULA",
          "ULA",
          "SpaceX",
          "Northrop",
          "VKS RF",
          "ISRO",
          "Kosmotras",
          "MHI",
          "VKS RF",
          "ULA",
          "ULA",
          "Arianespace",
          "SpaceX",
          "ULA",
          "ISRO",
          "ULA",
          "Arianespace",
          "MHI",
          "ULA",
          "Arianespace",
          "ULA",
          "Northrop",
          "SpaceX",
          "ISRO",
          "VKS RF",
          "ULA",
          "SpaceX",
          "VKS RF",
          "Kosmotras",
          "Northrop",
          "ULA",
          "ISRO",
          "SpaceX",
          "ULA",
          "Northrop",
          "VKS RF",
          "Northrop",
          "Arianespace",
          "ULA",
          "Kosmotras",
          "MHI",
          "Arianespace",
          "ULA",
          "ISRO",
          "Northrop",
          "ULA",
          "Arianespace",
          "Northrop",
          "ULA",
          "SpaceX",
          "ISRO",
          "ULA",
          "Arianespace",
          "ULA",
          "MHI",
          "Arianespace",
          "ULA",
          "Arianespace",
          "Arianespace",
          "ULA",
          "Arianespace",
          "ULA",
          "ISRO",
          "ULA",
          "Arianespace",
          "VKS RF",
          "MHI",
          "Arianespace",
          "ULA",
          "ULA",
          "Northrop",
          "SpaceX",
          "MHI",
          "Arianespace",
          "ULA",
          "ISRO",
          "ISRO",
          "ULA",
          "ESA",
          "Arianespace",
          "MHI",
          "ULA",
          "ISRO",
          "Northrop",
          "MHI",
          "Arianespace",
          "MHI",
          "Kosmotras",
          "Arianespace",
          "ULA",
          "ULA",
          "ISRO",
          "NASA",
          "Northrop",
          "Arianespace",
          "NASA",
          "ULA",
          "Arianespace",
          "ISRO",
          "ULA",
          "ULA",
          "ULA",
          "NASA",
          "Northrop",
          "MHI",
          "ULA",
          "Arianespace",
          "SpaceX",
          "Arianespace",
          "ULA",
          "Northrop",
          "Arianespace",
          "Northrop",
          "ULA",
          "VKS RF",
          "ULA",
          "Arianespace",
          "ISRO",
          "Arianespace",
          "Kosmotras",
          "Kosmotras",
          "SpaceX",
          "Eurockot",
          "ULA",
          "Arianespace",
          "NASA",
          "MHI",
          "ULA",
          "Kosmotras",
          "NASA",
          "ULA",
          "ULA",
          "NASA",
          "MHI",
          "ULA",
          "NASA",
          "Eurockot",
          "Arianespace",
          "NASA",
          "ULA",
          "Arianespace",
          "ISRO",
          "MHI",
          "ULA",
          "NASA",
          "Arianespace",
          "Kosmotras",
          "NASA",
          "SpaceX",
          "VKS RF",
          "Arianespace",
          "ULA",
          "ULA",
          "Northrop",
          "Arianespace",
          "NASA",
          "ISRO",
          "ULA",
          "Eurockot",
          "NASA",
          "Arianespace",
          "MHI",
          "ULA",
          "Arianespace",
          "NASA",
          "CASC",
          "CASC",
          "CASC",
          "CASC",
          "ISRO",
          "Northrop",
          "Kosmotras",
          "SpaceX",
          "Kosmotras",
          "Arianespace",
          "Arianespace",
          "Arianespace",
          "NASA",
          "CASC",
          "VKS RF",
          "ISRO",
          "CASC",
          "Arianespace",
          "Northrop",
          "ULA",
          "ULA",
          "NASA",
          "MHI",
          "NASA",
          "ISRO",
          "ULA",
          "Arianespace",
          "CASC",
          "ULA",
          "NASA",
          "ULA",
          "CASC",
          "Arianespace",
          "NASA",
          "Kosmotras",
          "Kosmotras",
          "NASA",
          "CASC",
          "CASC",
          "CASC",
          "Arianespace",
          "Northrop",
          "Northrop",
          "ISRO",
          "Kosmotras",
          "CASC",
          "CASC",
          "Arianespace",
          "ULA",
          "CASC",
          "ISRO",
          "Northrop",
          "NASA",
          "Arianespace",
          "CASC",
          "Boeing",
          "CASC",
          "Arianespace",
          "CASC",
          "MHI",
          "NASA",
          "CASC",
          "Arianespace",
          "Eurockot",
          "Kosmotras",
          "NASA",
          "Boeing",
          "Arianespace",
          "Boeing",
          "CASC",
          "ILS",
          "Northrop",
          "Northrop",
          "Arianespace",
          "ILS",
          "Arianespace",
          "Northrop",
          "CASC",
          "VKS RF",
          "Kosmotras",
          "ILS",
          "CASC",
          "NASA",
          "CASC",
          "ISRO",
          "Northrop",
          "Northrop",
          "ILS",
          "Arianespace",
          "Arianespace",
          "ILS",
          "CASC",
          "VKS RF",
          "CASC",
          "CASC",
          "CASC",
          "ISRO",
          "CASC",
          "CASC",
          "CASC",
          "Arianespace",
          "Kosmotras",
          "Northrop",
          "CASC",
          "Arianespace",
          "CASC",
          "CASC",
          "CASC",
          "Eurockot",
          "CASC",
          "Lockheed",
          "ISRO",
          "Boeing",
          "Northrop",
          "ILS",
          "Eurockot",
          "Northrop",
          "CASC",
          "ILS",
          "ISRO",
          "Northrop",
          "Boeing",
          "Northrop",
          "Lockheed",
          "Kosmotras",
          "MHI",
          "NASA",
          "Boeing",
          "CASC",
          "NASA",
          "ISRO",
          "ILS",
          "Lockheed",
          "Eurockot",
          "NASA",
          "CASC",
          "NASA",
          "Eurockot",
          "NASA",
          "Northrop",
          "NASA",
          "ISRO",
          "MHI",
          "NASA",
          "NASA",
          "NASA",
          "NASA",
          "NASA",
          "CASC",
          "NASA",
          "CASC",
          "NASA",
          "Northrop",
          "Kosmotras",
          "Lockheed",
          "NASA",
          "Northrop",
          "Northrop",
          "NASA",
          "Eurockot",
          "Northrop",
          "NASA",
          "Northrop",
          "CASC",
          "Northrop",
          "NASA",
          "Lockheed",
          "Northrop",
          "CASC",
          "NASA",
          "Lockheed",
          "CASC",
          "ISRO",
          "NASA",
          "Northrop",
          "CASC",
          "Kosmotras",
          "Northrop",
          "CASC",
          "Northrop",
          "NASA",
          "NASA",
          "Northrop",
          "Northrop",
          "Northrop",
          "CASC",
          "Northrop",
          "NASA",
          "Lockheed",
          "CASC",
          "NASA",
          "Northrop",
          "CASC",
          "Northrop",
          "Northrop",
          "NASA",
          "Northrop",
          "CASC",
          "NASA",
          "Northrop",
          "NASA",
          "CASC",
          "Northrop",
          "NASA",
          "Northrop",
          "NASA",
          "NASA",
          "CASC",
          "Northrop",
          "NASA",
          "Lockheed",
          "NASA",
          "NASA",
          "NASA",
          "CASC",
          "NASA",
          "Northrop",
          "Northrop",
          "NASA",
          "NASA",
          "Northrop",
          "NASA",
          "ISRO",
          "Northrop",
          "NASA",
          "NASA",
          "NASA",
          "NASA",
          "NASA",
          "NASA",
          "NASA",
          "Northrop",
          "NASA",
          "NASA",
          "NASA",
          "ISRO",
          "NASA",
          "NASA",
          "Northrop",
          "NASA",
          "CASC",
          "NASA",
          "Northrop",
          "NASA",
          "CASC",
          "NASA",
          "Martin Marietta",
          "NASA",
          "NASA",
          "CASC",
          "NASA",
          "NASA",
          "NASA",
          "Northrop",
          "NASA",
          "Northrop",
          "NASA",
          "NASA",
          "NASA",
          "CASC",
          "Martin Marietta",
          "NASA",
          "CASC",
          "NASA",
          "NASA",
          "NASA",
          "Martin Marietta",
          "NASA",
          "NASA",
          "NASA",
          "NASA",
          "NASA",
          "NASA",
          "NASA",
          "NASA",
          "NASA",
          "NASA",
          "NASA",
          "CASC",
          "Martin Marietta",
          "NASA",
          "Northrop",
          "NASA",
          "NASA",
          "Martin Marietta",
          "NASA",
          "NASA",
          "Martin Marietta",
          "NASA",
          "NASA",
          "NASA",
          "NASA",
          "NASA",
          "Martin Marietta",
          "CASC",
          "CASC",
          "CASC",
          "CASC",
          "NASA",
          "NASA",
          "NASA",
          "CASC",
          "NASA",
          "NASA",
          "NASA",
          "NASA",
          "NASA",
          "NASA",
          "NASA",
          "NASA",
          "NASA",
          "CASC",
          "NASA",
          "NASA",
          "NASA",
          "NASA",
          "NASA",
          "CASC",
          "NASA",
          "NASA",
          "NASA",
          "CASC",
          "NASA",
          "NASA",
          "NASA",
          "NASA",
          "NASA",
          "NASA",
          "NASA",
          "NASA",
          "NASA",
          "NASA",
          "NASA",
          "NASA",
          "US Air Force",
          "NASA",
          "US Air Force",
          "US Air Force",
          "NASA",
          "US Air Force",
          "NASA",
          "US Air Force",
          "US Air Force",
          "US Air Force",
          "US Air Force",
          "US Air Force",
          "US Air Force",
          "US Air Force",
          "US Air Force",
          "US Air Force",
          "NASA",
          "US Air Force",
          "US Air Force",
          "US Air Force",
          "US Air Force",
          "US Air Force",
          "US Air Force",
          "US Air Force",
          "US Air Force",
          "US Air Force",
          "US Air Force"
         ],
         "yaxis": "y"
        },
        {
         "hovertemplate": "Status Mission=Failure<br>Year=%{x}<br>Company Name=%{y}<br>Rocket Cost=%{marker.size}<extra></extra>",
         "legendgroup": "Failure",
         "marker": {
          "color": "Crimson",
          "size": [
           28.3,
           7.5,
           12,
           29.15,
           37,
           64.68,
           31,
           7.5,
           64.68,
           15,
           56.5,
           80,
           65,
           45,
           47,
           47,
           45,
           7,
           7,
           29,
           47,
           7,
           41.8,
           450,
           200,
           45,
           40,
           20,
           40,
           40,
           35,
           25,
           136.6,
           450,
           59,
           63.23
          ],
          "sizemode": "area",
          "sizeref": 1.5912208504801097,
          "symbol": "circle"
         },
         "mode": "markers",
         "name": "Failure",
         "orientation": "h",
         "showlegend": true,
         "type": "scatter",
         "x": [
          2020,
          2020,
          2020,
          2020,
          2019,
          2019,
          2017,
          2017,
          2016,
          2015,
          2015,
          2014,
          2013,
          2011,
          2010,
          2010,
          2009,
          2008,
          2007,
          2006,
          2006,
          2006,
          2005,
          2003,
          2002,
          2001,
          1996,
          1995,
          1995,
          1994,
          1993,
          1993,
          1990,
          1986,
          1967,
          1964
         ],
         "xaxis": "x",
         "y": [
          "ExPace",
          "Rocket Lab",
          "Virgin Orbit",
          "CASC",
          "Arianespace",
          "CASC",
          "ISRO",
          "Rocket Lab",
          "CASC",
          "Sandia",
          "SpaceX",
          "Northrop",
          "VKS RF",
          "Northrop",
          "ISRO",
          "ISRO",
          "Northrop",
          "SpaceX",
          "SpaceX",
          "Kosmotras",
          "ISRO",
          "SpaceX",
          "Eurockot",
          "NASA",
          "Arianespace",
          "Northrop",
          "Northrop",
          "EER",
          "Northrop",
          "Northrop",
          "Martin Marietta",
          "ISRO",
          "Martin Marietta",
          "NASA",
          "US Air Force",
          "US Air Force"
         ],
         "yaxis": "y"
        },
        {
         "hovertemplate": "Status Mission=Partial Failure<br>Year=%{x}<br>Company Name=%{y}<br>Rocket Cost=%{marker.size}<extra></extra>",
         "legendgroup": "Partial Failure",
         "marker": {
          "color": "Gold",
          "size": [
           200,
           48.5,
           29.15,
           29.75,
           41.8,
           59.5,
           41.8,
           47,
           109,
           350,
           47,
           25,
           69.7,
           40,
           40,
           1160,
           59
          ],
          "sizemode": "area",
          "sizeref": 1.5912208504801097,
          "symbol": "circle"
         },
         "mode": "markers",
         "name": "Partial Failure",
         "orientation": "h",
         "showlegend": true,
         "type": "scatter",
         "x": [
          2018,
          2017,
          2017,
          2016,
          2013,
          2012,
          2011,
          2007,
          2007,
          2004,
          2001,
          1997,
          1994,
          1994,
          1991,
          1968,
          1967
         ],
         "xaxis": "x",
         "y": [
          "Arianespace",
          "Roscosmos",
          "CASC",
          "CASC",
          "VKS RF",
          "SpaceX",
          "VKS RF",
          "ISRO",
          "ULA",
          "Boeing",
          "ISRO",
          "ISRO",
          "CASC",
          "Northrop",
          "Northrop",
          "NASA",
          "US Air Force"
         ],
         "yaxis": "y"
        },
        {
         "hovertemplate": "Status Mission=Prelaunch Failure<br>Year=%{x}<br>Company Name=%{y}<br>Rocket Cost=%{marker.size}<extra></extra>",
         "legendgroup": "Prelaunch Failure",
         "marker": {
          "color": "AquaMarine",
          "size": [
           62
          ],
          "sizemode": "area",
          "sizeref": 1.5912208504801097,
          "symbol": "circle"
         },
         "mode": "markers",
         "name": "Prelaunch Failure",
         "orientation": "h",
         "showlegend": true,
         "type": "scatter",
         "x": [
          2016
         ],
         "xaxis": "x",
         "y": [
          "SpaceX"
         ],
         "yaxis": "y"
        }
       ],
       "layout": {
        "legend": {
         "itemsizing": "constant",
         "title": {
          "text": "Status Mission"
         },
         "tracegroupgap": 0
        },
        "margin": {
         "b": 10,
         "l": 80,
         "r": 80,
         "t": 50
        },
        "template": {
         "data": {
          "bar": [
           {
            "error_x": {
             "color": "rgb(36,36,36)"
            },
            "error_y": {
             "color": "rgb(36,36,36)"
            },
            "marker": {
             "line": {
              "color": "white",
              "width": 0.5
             },
             "pattern": {
              "fillmode": "overlay",
              "size": 10,
              "solidity": 0.2
             }
            },
            "type": "bar"
           }
          ],
          "barpolar": [
           {
            "marker": {
             "line": {
              "color": "white",
              "width": 0.5
             },
             "pattern": {
              "fillmode": "overlay",
              "size": 10,
              "solidity": 0.2
             }
            },
            "type": "barpolar"
           }
          ],
          "carpet": [
           {
            "aaxis": {
             "endlinecolor": "rgb(36,36,36)",
             "gridcolor": "white",
             "linecolor": "white",
             "minorgridcolor": "white",
             "startlinecolor": "rgb(36,36,36)"
            },
            "baxis": {
             "endlinecolor": "rgb(36,36,36)",
             "gridcolor": "white",
             "linecolor": "white",
             "minorgridcolor": "white",
             "startlinecolor": "rgb(36,36,36)"
            },
            "type": "carpet"
           }
          ],
          "choropleth": [
           {
            "colorbar": {
             "outlinewidth": 1,
             "tickcolor": "rgb(36,36,36)",
             "ticks": "outside"
            },
            "type": "choropleth"
           }
          ],
          "contour": [
           {
            "colorbar": {
             "outlinewidth": 1,
             "tickcolor": "rgb(36,36,36)",
             "ticks": "outside"
            },
            "colorscale": [
             [
              0,
              "#440154"
             ],
             [
              0.1111111111111111,
              "#482878"
             ],
             [
              0.2222222222222222,
              "#3e4989"
             ],
             [
              0.3333333333333333,
              "#31688e"
             ],
             [
              0.4444444444444444,
              "#26828e"
             ],
             [
              0.5555555555555556,
              "#1f9e89"
             ],
             [
              0.6666666666666666,
              "#35b779"
             ],
             [
              0.7777777777777778,
              "#6ece58"
             ],
             [
              0.8888888888888888,
              "#b5de2b"
             ],
             [
              1,
              "#fde725"
             ]
            ],
            "type": "contour"
           }
          ],
          "contourcarpet": [
           {
            "colorbar": {
             "outlinewidth": 1,
             "tickcolor": "rgb(36,36,36)",
             "ticks": "outside"
            },
            "type": "contourcarpet"
           }
          ],
          "heatmap": [
           {
            "colorbar": {
             "outlinewidth": 1,
             "tickcolor": "rgb(36,36,36)",
             "ticks": "outside"
            },
            "colorscale": [
             [
              0,
              "#440154"
             ],
             [
              0.1111111111111111,
              "#482878"
             ],
             [
              0.2222222222222222,
              "#3e4989"
             ],
             [
              0.3333333333333333,
              "#31688e"
             ],
             [
              0.4444444444444444,
              "#26828e"
             ],
             [
              0.5555555555555556,
              "#1f9e89"
             ],
             [
              0.6666666666666666,
              "#35b779"
             ],
             [
              0.7777777777777778,
              "#6ece58"
             ],
             [
              0.8888888888888888,
              "#b5de2b"
             ],
             [
              1,
              "#fde725"
             ]
            ],
            "type": "heatmap"
           }
          ],
          "heatmapgl": [
           {
            "colorbar": {
             "outlinewidth": 1,
             "tickcolor": "rgb(36,36,36)",
             "ticks": "outside"
            },
            "colorscale": [
             [
              0,
              "#440154"
             ],
             [
              0.1111111111111111,
              "#482878"
             ],
             [
              0.2222222222222222,
              "#3e4989"
             ],
             [
              0.3333333333333333,
              "#31688e"
             ],
             [
              0.4444444444444444,
              "#26828e"
             ],
             [
              0.5555555555555556,
              "#1f9e89"
             ],
             [
              0.6666666666666666,
              "#35b779"
             ],
             [
              0.7777777777777778,
              "#6ece58"
             ],
             [
              0.8888888888888888,
              "#b5de2b"
             ],
             [
              1,
              "#fde725"
             ]
            ],
            "type": "heatmapgl"
           }
          ],
          "histogram": [
           {
            "marker": {
             "line": {
              "color": "white",
              "width": 0.6
             }
            },
            "type": "histogram"
           }
          ],
          "histogram2d": [
           {
            "colorbar": {
             "outlinewidth": 1,
             "tickcolor": "rgb(36,36,36)",
             "ticks": "outside"
            },
            "colorscale": [
             [
              0,
              "#440154"
             ],
             [
              0.1111111111111111,
              "#482878"
             ],
             [
              0.2222222222222222,
              "#3e4989"
             ],
             [
              0.3333333333333333,
              "#31688e"
             ],
             [
              0.4444444444444444,
              "#26828e"
             ],
             [
              0.5555555555555556,
              "#1f9e89"
             ],
             [
              0.6666666666666666,
              "#35b779"
             ],
             [
              0.7777777777777778,
              "#6ece58"
             ],
             [
              0.8888888888888888,
              "#b5de2b"
             ],
             [
              1,
              "#fde725"
             ]
            ],
            "type": "histogram2d"
           }
          ],
          "histogram2dcontour": [
           {
            "colorbar": {
             "outlinewidth": 1,
             "tickcolor": "rgb(36,36,36)",
             "ticks": "outside"
            },
            "colorscale": [
             [
              0,
              "#440154"
             ],
             [
              0.1111111111111111,
              "#482878"
             ],
             [
              0.2222222222222222,
              "#3e4989"
             ],
             [
              0.3333333333333333,
              "#31688e"
             ],
             [
              0.4444444444444444,
              "#26828e"
             ],
             [
              0.5555555555555556,
              "#1f9e89"
             ],
             [
              0.6666666666666666,
              "#35b779"
             ],
             [
              0.7777777777777778,
              "#6ece58"
             ],
             [
              0.8888888888888888,
              "#b5de2b"
             ],
             [
              1,
              "#fde725"
             ]
            ],
            "type": "histogram2dcontour"
           }
          ],
          "mesh3d": [
           {
            "colorbar": {
             "outlinewidth": 1,
             "tickcolor": "rgb(36,36,36)",
             "ticks": "outside"
            },
            "type": "mesh3d"
           }
          ],
          "parcoords": [
           {
            "line": {
             "colorbar": {
              "outlinewidth": 1,
              "tickcolor": "rgb(36,36,36)",
              "ticks": "outside"
             }
            },
            "type": "parcoords"
           }
          ],
          "pie": [
           {
            "automargin": true,
            "type": "pie"
           }
          ],
          "scatter": [
           {
            "fillpattern": {
             "fillmode": "overlay",
             "size": 10,
             "solidity": 0.2
            },
            "type": "scatter"
           }
          ],
          "scatter3d": [
           {
            "line": {
             "colorbar": {
              "outlinewidth": 1,
              "tickcolor": "rgb(36,36,36)",
              "ticks": "outside"
             }
            },
            "marker": {
             "colorbar": {
              "outlinewidth": 1,
              "tickcolor": "rgb(36,36,36)",
              "ticks": "outside"
             }
            },
            "type": "scatter3d"
           }
          ],
          "scattercarpet": [
           {
            "marker": {
             "colorbar": {
              "outlinewidth": 1,
              "tickcolor": "rgb(36,36,36)",
              "ticks": "outside"
             }
            },
            "type": "scattercarpet"
           }
          ],
          "scattergeo": [
           {
            "marker": {
             "colorbar": {
              "outlinewidth": 1,
              "tickcolor": "rgb(36,36,36)",
              "ticks": "outside"
             }
            },
            "type": "scattergeo"
           }
          ],
          "scattergl": [
           {
            "marker": {
             "colorbar": {
              "outlinewidth": 1,
              "tickcolor": "rgb(36,36,36)",
              "ticks": "outside"
             }
            },
            "type": "scattergl"
           }
          ],
          "scattermapbox": [
           {
            "marker": {
             "colorbar": {
              "outlinewidth": 1,
              "tickcolor": "rgb(36,36,36)",
              "ticks": "outside"
             }
            },
            "type": "scattermapbox"
           }
          ],
          "scatterpolar": [
           {
            "marker": {
             "colorbar": {
              "outlinewidth": 1,
              "tickcolor": "rgb(36,36,36)",
              "ticks": "outside"
             }
            },
            "type": "scatterpolar"
           }
          ],
          "scatterpolargl": [
           {
            "marker": {
             "colorbar": {
              "outlinewidth": 1,
              "tickcolor": "rgb(36,36,36)",
              "ticks": "outside"
             }
            },
            "type": "scatterpolargl"
           }
          ],
          "scatterternary": [
           {
            "marker": {
             "colorbar": {
              "outlinewidth": 1,
              "tickcolor": "rgb(36,36,36)",
              "ticks": "outside"
             }
            },
            "type": "scatterternary"
           }
          ],
          "surface": [
           {
            "colorbar": {
             "outlinewidth": 1,
             "tickcolor": "rgb(36,36,36)",
             "ticks": "outside"
            },
            "colorscale": [
             [
              0,
              "#440154"
             ],
             [
              0.1111111111111111,
              "#482878"
             ],
             [
              0.2222222222222222,
              "#3e4989"
             ],
             [
              0.3333333333333333,
              "#31688e"
             ],
             [
              0.4444444444444444,
              "#26828e"
             ],
             [
              0.5555555555555556,
              "#1f9e89"
             ],
             [
              0.6666666666666666,
              "#35b779"
             ],
             [
              0.7777777777777778,
              "#6ece58"
             ],
             [
              0.8888888888888888,
              "#b5de2b"
             ],
             [
              1,
              "#fde725"
             ]
            ],
            "type": "surface"
           }
          ],
          "table": [
           {
            "cells": {
             "fill": {
              "color": "rgb(237,237,237)"
             },
             "line": {
              "color": "white"
             }
            },
            "header": {
             "fill": {
              "color": "rgb(217,217,217)"
             },
             "line": {
              "color": "white"
             }
            },
            "type": "table"
           }
          ]
         },
         "layout": {
          "annotationdefaults": {
           "arrowhead": 0,
           "arrowwidth": 1
          },
          "autotypenumbers": "strict",
          "coloraxis": {
           "colorbar": {
            "outlinewidth": 1,
            "tickcolor": "rgb(36,36,36)",
            "ticks": "outside"
           }
          },
          "colorscale": {
           "diverging": [
            [
             0,
             "rgb(103,0,31)"
            ],
            [
             0.1,
             "rgb(178,24,43)"
            ],
            [
             0.2,
             "rgb(214,96,77)"
            ],
            [
             0.3,
             "rgb(244,165,130)"
            ],
            [
             0.4,
             "rgb(253,219,199)"
            ],
            [
             0.5,
             "rgb(247,247,247)"
            ],
            [
             0.6,
             "rgb(209,229,240)"
            ],
            [
             0.7,
             "rgb(146,197,222)"
            ],
            [
             0.8,
             "rgb(67,147,195)"
            ],
            [
             0.9,
             "rgb(33,102,172)"
            ],
            [
             1,
             "rgb(5,48,97)"
            ]
           ],
           "sequential": [
            [
             0,
             "#440154"
            ],
            [
             0.1111111111111111,
             "#482878"
            ],
            [
             0.2222222222222222,
             "#3e4989"
            ],
            [
             0.3333333333333333,
             "#31688e"
            ],
            [
             0.4444444444444444,
             "#26828e"
            ],
            [
             0.5555555555555556,
             "#1f9e89"
            ],
            [
             0.6666666666666666,
             "#35b779"
            ],
            [
             0.7777777777777778,
             "#6ece58"
            ],
            [
             0.8888888888888888,
             "#b5de2b"
            ],
            [
             1,
             "#fde725"
            ]
           ],
           "sequentialminus": [
            [
             0,
             "#440154"
            ],
            [
             0.1111111111111111,
             "#482878"
            ],
            [
             0.2222222222222222,
             "#3e4989"
            ],
            [
             0.3333333333333333,
             "#31688e"
            ],
            [
             0.4444444444444444,
             "#26828e"
            ],
            [
             0.5555555555555556,
             "#1f9e89"
            ],
            [
             0.6666666666666666,
             "#35b779"
            ],
            [
             0.7777777777777778,
             "#6ece58"
            ],
            [
             0.8888888888888888,
             "#b5de2b"
            ],
            [
             1,
             "#fde725"
            ]
           ]
          },
          "colorway": [
           "#1F77B4",
           "#FF7F0E",
           "#2CA02C",
           "#D62728",
           "#9467BD",
           "#8C564B",
           "#E377C2",
           "#7F7F7F",
           "#BCBD22",
           "#17BECF"
          ],
          "font": {
           "color": "rgb(36,36,36)"
          },
          "geo": {
           "bgcolor": "white",
           "lakecolor": "white",
           "landcolor": "white",
           "showlakes": true,
           "showland": true,
           "subunitcolor": "white"
          },
          "hoverlabel": {
           "align": "left"
          },
          "hovermode": "closest",
          "mapbox": {
           "style": "light"
          },
          "paper_bgcolor": "white",
          "plot_bgcolor": "white",
          "polar": {
           "angularaxis": {
            "gridcolor": "rgb(232,232,232)",
            "linecolor": "rgb(36,36,36)",
            "showgrid": false,
            "showline": true,
            "ticks": "outside"
           },
           "bgcolor": "white",
           "radialaxis": {
            "gridcolor": "rgb(232,232,232)",
            "linecolor": "rgb(36,36,36)",
            "showgrid": false,
            "showline": true,
            "ticks": "outside"
           }
          },
          "scene": {
           "xaxis": {
            "backgroundcolor": "white",
            "gridcolor": "rgb(232,232,232)",
            "gridwidth": 2,
            "linecolor": "rgb(36,36,36)",
            "showbackground": true,
            "showgrid": false,
            "showline": true,
            "ticks": "outside",
            "zeroline": false,
            "zerolinecolor": "rgb(36,36,36)"
           },
           "yaxis": {
            "backgroundcolor": "white",
            "gridcolor": "rgb(232,232,232)",
            "gridwidth": 2,
            "linecolor": "rgb(36,36,36)",
            "showbackground": true,
            "showgrid": false,
            "showline": true,
            "ticks": "outside",
            "zeroline": false,
            "zerolinecolor": "rgb(36,36,36)"
           },
           "zaxis": {
            "backgroundcolor": "white",
            "gridcolor": "rgb(232,232,232)",
            "gridwidth": 2,
            "linecolor": "rgb(36,36,36)",
            "showbackground": true,
            "showgrid": false,
            "showline": true,
            "ticks": "outside",
            "zeroline": false,
            "zerolinecolor": "rgb(36,36,36)"
           }
          },
          "shapedefaults": {
           "fillcolor": "black",
           "line": {
            "width": 0
           },
           "opacity": 0.3
          },
          "ternary": {
           "aaxis": {
            "gridcolor": "rgb(232,232,232)",
            "linecolor": "rgb(36,36,36)",
            "showgrid": false,
            "showline": true,
            "ticks": "outside"
           },
           "baxis": {
            "gridcolor": "rgb(232,232,232)",
            "linecolor": "rgb(36,36,36)",
            "showgrid": false,
            "showline": true,
            "ticks": "outside"
           },
           "bgcolor": "white",
           "caxis": {
            "gridcolor": "rgb(232,232,232)",
            "linecolor": "rgb(36,36,36)",
            "showgrid": false,
            "showline": true,
            "ticks": "outside"
           }
          },
          "title": {
           "x": 0.05
          },
          "xaxis": {
           "automargin": true,
           "gridcolor": "rgb(232,232,232)",
           "linecolor": "rgb(36,36,36)",
           "showgrid": false,
           "showline": true,
           "ticks": "outside",
           "title": {
            "standoff": 15
           },
           "zeroline": false,
           "zerolinecolor": "rgb(36,36,36)"
          },
          "yaxis": {
           "automargin": true,
           "gridcolor": "rgb(232,232,232)",
           "linecolor": "rgb(36,36,36)",
           "showgrid": false,
           "showline": true,
           "ticks": "outside",
           "title": {
            "standoff": 15
           },
           "zeroline": false,
           "zerolinecolor": "rgb(36,36,36)"
          }
         }
        },
        "title": {
         "text": "<b>Total Mission Cost (millions) by Organisation</b>",
         "x": 0.5
        },
        "xaxis": {
         "anchor": "y",
         "domain": [
          0,
          1
         ],
         "title": {
          "text": "Year"
         }
        },
        "yaxis": {
         "anchor": "x",
         "domain": [
          0,
          1
         ],
         "title": {
          "text": "Company Name"
         }
        }
       }
      },
      "text/html": [
       "<div>                            <div id=\"ae6e9a9e-64d7-4d8b-9755-222430acfd0f\" class=\"plotly-graph-div\" style=\"height:525px; width:100%;\"></div>            <script type=\"text/javascript\">                require([\"plotly\"], function(Plotly) {                    window.PLOTLYENV=window.PLOTLYENV || {};                                    if (document.getElementById(\"ae6e9a9e-64d7-4d8b-9755-222430acfd0f\")) {                    Plotly.newPlot(                        \"ae6e9a9e-64d7-4d8b-9755-222430acfd0f\",                        [{\"hovertemplate\":\"Status Mission=Success<br>Year=%{x}<br>Company Name=%{y}<br>Rocket Cost=%{marker.size}<extra></extra>\",\"legendgroup\":\"Success\",\"marker\":{\"color\":\"RebeccaPurple\",\"size\":[50.0,29.75,65.0,145.0,64.68,48.5,50.0,90.0,46.0,29.15,29.75,64.68,50.0,29.15,29.75,50.0,7.5,30.8,50.0,29.75,50.0,5.3,112.5,120.0,48.5,50.0,48.5,153.0,30.8,48.5,50.0,29.15,50.0,48.5,29.75,200.0,50.0,85.0,115.0,90.0,48.5,7.5,50.0,50.0,200.0,29.75,29.15,50.0,41.8,65.0,64.68,50.0,21.0,48.5,48.5,7.5,50.0,64.68,31.0,200.0,50.0,29.15,64.68,85.0,29.15,7.5,40.0,65.0,64.68,48.5,29.75,112.5,5.3,64.68,41.8,164.0,48.5,7.5,29.15,7.5,153.0,50.0,200.0,65.0,48.5,48.5,30.8,50.0,62.0,65.0,7.5,90.0,29.15,200.0,50.0,5.3,65.0,50.0,21.0,7.5,50.0,64.68,29.15,85.0,90.0,48.5,21.0,29.15,7.5,37.0,29.15,50.0,50.0,200.0,5.3,350.0,39.0,50.0,29.15,48.5,50.0,5.3,65.0,47.0,7.5,29.15,29.75,50.0,200.0,50.0,41.8,21.0,37.0,29.75,85.0,50.0,62.0,7.5,48.5,29.15,90.0,30.8,35.0,64.68,200.0,153.0,30.8,50.0,200.0,112.5,21.0,50.0,30.8,37.0,350.0,50.0,64.68,50.0,50.0,48.5,69.7,30.8,62.0,30.8,90.0,69.7,62.0,29.75,62.0,85.0,64.68,50.0,64.68,109.0,29.15,5.3,41.8,62.0,65.0,153.0,31.0,64.68,200.0,62.0,64.68,62.0,47.0,29.75,62.0,145.0,90.0,62.0,48.5,90.0,29.75,48.5,62.0,30.8,7.5,115.0,5.3,39.0,29.75,31.0,29.75,62.0,30.8,29.75,62.0,90.0,62.0,29.15,29.75,35.0,30.8,64.68,85.0,37.0,45.0,62.0,123.0,48.5,41.8,62.0,90.0,62.0,29.75,200.0,30.8,65.0,145.0,65.0,62.0,46.0,62.0,109.0,65.0,62.0,37.0,62.0,200.0,62.0,62.0,31.0,64.68,48.5,65.0,62.0,62.0,200.0,90.0,62.0,47.0,200.0,62.0,109.0,29.15,62.0,90.0,62.0,37.0,109.0,62.0,31.0,200.0,109.0,62.0,29.15,200.0,29.75,130.0,40.0,29.15,112.5,31.0,37.0,145.0,29.75,109.0,5.3,90.0,85.0,200.0,25.0,37.0,115.0,47.0,200.0,164.0,29.75,62.0,64.68,29.15,123.0,62.0,64.68,153.0,31.0,200.0,62.0,350.0,65.0,41.8,64.68,48.5,62.0,29.75,62.0,31.0,62.0,29.75,48.5,69.7,48.5,109.0,65.0,35.0,31.0,200.0,62.0,90.0,41.8,48.5,109.0,65.0,200.0,31.0,56.5,29.15,62.0,21.0,109.0,37.0,200.0,109.0,109.0,123.0,200.0,31.0,5.3,41.8,153.0,47.0,200.0,112.5,200.0,109.0,31.0,37.0,200.0,120.0,56.5,200.0,56.5,41.8,31.0,90.0,29.0,164.0,123.0,56.5,56.5,37.0,90.0,153.0,56.5,62.0,145.0,200.0,350.0,90.0,29.0,109.0,200.0,31.0,90.0,56.5,109.0,200.0,56.5,109.0,56.5,109.0,164.0,56.5,80.0,41.8,21.0,29.0,90.0,41.8,109.0,164.0,37.0,56.5,145.0,31.0,109.0,200.0,90.0,164.0,200.0,109.0,80.0,56.5,47.0,41.8,120.0,56.5,41.8,29.0,40.0,109.0,31.0,56.5,140.0,80.0,41.8,55.0,200.0,350.0,29.0,112.5,200.0,153.0,31.0,40.0,109.0,37.0,80.0,109.0,59.5,21.0,109.0,200.0,109.0,90.0,200.0,120.0,80.0,200.0,164.0,200.0,109.0,21.0,109.0,200.0,41.8,112.5,200.0,350.0,109.0,40.0,59.5,90.0,200.0,140.0,31.0,31.0,153.0,37.0,80.0,90.0,145.0,21.0,46.0,90.0,200.0,90.0,29.0,200.0,153.0,164.0,31.0,450.0,40.0,200.0,450.0,109.0,200.0,25.0,115.0,164.0,120.0,450.0,40.0,112.5,350.0,200.0,59.5,200.0,350.0,46.0,200.0,46.0,120.0,41.8,140.0,200.0,21.0,200.0,29.0,29.0,59.5,41.8,164.0,200.0,450.0,90.0,120.0,29.0,450.0,164.0,109.0,450.0,90.0,130.0,450.0,41.8,200.0,450.0,109.0,200.0,21.0,112.5,109.0,450.0,200.0,29.0,450.0,7.0,41.8,200.0,164.0,123.0,40.0,200.0,450.0,21.0,123.0,41.8,450.0,200.0,90.0,350.0,200.0,450.0,29.75,29.75,29.15,64.68,31.0,40.0,29.0,7.0,29.0,200.0,200.0,200.0,450.0,64.68,41.8,21.0,20.14,200.0,40.0,123.0,115.0,450.0,90.0,450.0,21.0,109.0,200.0,64.68,350.0,450.0,123.0,64.68,200.0,450.0,29.0,29.0,450.0,69.7,29.75,29.15,200.0,40.0,40.0,21.0,29.0,69.7,30.8,200.0,109.0,69.7,25.0,40.0,450.0,200.0,69.7,133.0,64.68,200.0,69.7,90.0,450.0,30.8,200.0,41.8,29.0,450.0,164.0,200.0,164.0,64.68,115.0,40.0,40.0,200.0,153.0,200.0,40.0,29.75,41.8,29.0,109.0,30.8,450.0,29.75,25.0,40.0,40.0,130.0,200.0,190.0,135.0,30.8,48.5,64.68,69.7,29.75,47.0,64.68,30.8,30.8,190.0,29.0,45.0,30.8,190.0,30.8,69.7,29.75,41.8,64.68,35.0,25.0,133.0,40.0,135.0,41.8,40.0,69.7,109.0,47.0,40.0,133.0,40.0,35.0,29.0,90.0,450.0,164.0,64.68,450.0,25.0,109.0,35.0,41.8,450.0,64.68,450.0,41.8,450.0,40.0,450.0,25.0,90.0,450.0,450.0,450.0,450.0,450.0,69.7,450.0,69.7,450.0,40.0,29.0,35.0,450.0,40.0,40.0,450.0,41.8,45.0,450.0,40.0,69.7,45.0,450.0,35.0,40.0,64.68,450.0,35.0,30.8,25.0,450.0,40.0,64.68,29.0,40.0,30.8,40.0,450.0,450.0,40.0,45.0,40.0,30.8,40.0,450.0,35.0,30.8,450.0,40.0,30.8,40.0,45.0,450.0,40.0,30.8,450.0,40.0,450.0,30.8,40.0,450.0,40.0,450.0,450.0,69.7,40.0,450.0,35.0,450.0,450.0,450.0,29.75,450.0,40.0,40.0,450.0,450.0,40.0,450.0,25.0,40.0,450.0,450.0,450.0,450.0,450.0,450.0,450.0,40.0,450.0,450.0,450.0,25.0,450.0,450.0,40.0,450.0,29.75,450.0,45.0,450.0,69.7,450.0,35.0,450.0,450.0,30.8,450.0,450.0,450.0,40.0,450.0,40.0,450.0,450.0,450.0,30.8,136.6,450.0,29.75,450.0,450.0,450.0,35.0,450.0,450.0,450.0,450.0,450.0,450.0,450.0,450.0,450.0,450.0,450.0,30.8,136.6,450.0,40.0,450.0,450.0,136.6,450.0,450.0,35.0,450.0,450.0,450.0,450.0,450.0,35.0,30.8,30.8,30.8,30.8,450.0,450.0,450.0,30.8,450.0,450.0,450.0,450.0,450.0,450.0,450.0,450.0,450.0,30.8,450.0,450.0,450.0,450.0,450.0,30.8,450.0,450.0,450.0,30.8,450.0,450.0,450.0,450.0,1160.0,1160.0,1160.0,1160.0,1160.0,1160.0,1160.0,1160.0,59.0,1160.0,59.0,59.0,1160.0,59.0,1160.0,59.0,59.0,59.0,59.0,59.0,59.0,59.0,59.0,59.0,1160.0,59.0,59.0,59.0,59.0,59.0,59.0,59.0,63.23,63.23,63.23],\"sizemode\":\"area\",\"sizeref\":1.5912208504801097,\"symbol\":\"circle\"},\"mode\":\"markers\",\"name\":\"Success\",\"orientation\":\"h\",\"showlegend\":true,\"x\":[2020,2020,2020,2020,2020,2020,2020,2020,2020,2020,2020,2020,2020,2020,2020,2020,2020,2020,2020,2020,2020,2020,2020,2020,2020,2020,2020,2020,2020,2020,2020,2020,2020,2020,2020,2020,2020,2020,2020,2020,2020,2020,2020,2020,2020,2020,2020,2020,2019,2019,2019,2019,2019,2019,2019,2019,2019,2019,2019,2019,2019,2019,2019,2019,2019,2019,2019,2019,2019,2019,2019,2019,2019,2019,2019,2019,2019,2019,2019,2019,2019,2019,2019,2019,2019,2019,2019,2019,2019,2019,2019,2019,2019,2019,2019,2019,2019,2019,2019,2019,2019,2019,2019,2019,2019,2019,2019,2019,2019,2019,2019,2019,2019,2019,2019,2019,2019,2019,2019,2018,2018,2018,2018,2018,2018,2018,2018,2018,2018,2018,2018,2018,2018,2018,2018,2018,2018,2018,2018,2018,2018,2018,2018,2018,2018,2018,2018,2018,2018,2018,2018,2018,2018,2018,2018,2018,2018,2018,2018,2018,2018,2018,2018,2018,2018,2018,2018,2018,2018,2018,2018,2018,2018,2018,2018,2018,2018,2018,2018,2018,2018,2018,2018,2018,2018,2018,2018,2018,2018,2018,2018,2018,2018,2018,2018,2018,2018,2018,2018,2018,2018,2018,2018,2018,2018,2018,2017,2017,2017,2017,2017,2017,2017,2017,2017,2017,2017,2017,2017,2017,2017,2017,2017,2017,2017,2017,2017,2017,2017,2017,2017,2017,2017,2017,2017,2017,2017,2017,2017,2017,2017,2017,2017,2017,2017,2017,2017,2017,2017,2017,2017,2017,2017,2017,2017,2017,2017,2017,2017,2017,2017,2017,2017,2017,2017,2017,2017,2017,2016,2016,2016,2016,2016,2016,2016,2016,2016,2016,2016,2016,2016,2016,2016,2016,2016,2016,2016,2016,2016,2016,2016,2016,2016,2016,2016,2016,2016,2016,2016,2016,2016,2016,2016,2016,2016,2016,2016,2016,2016,2016,2016,2016,2016,2016,2016,2016,2016,2016,2016,2016,2016,2016,2016,2016,2016,2016,2016,2016,2016,2015,2015,2015,2015,2015,2015,2015,2015,2015,2015,2015,2015,2015,2015,2015,2015,2015,2015,2015,2015,2015,2015,2015,2015,2015,2015,2015,2015,2015,2015,2015,2015,2015,2015,2015,2015,2015,2014,2014,2014,2014,2014,2014,2014,2014,2014,2014,2014,2014,2014,2014,2014,2014,2014,2014,2014,2014,2014,2014,2014,2014,2014,2014,2014,2014,2014,2014,2014,2014,2014,2014,2014,2014,2014,2014,2014,2014,2013,2013,2013,2013,2013,2013,2013,2013,2013,2013,2013,2013,2013,2013,2013,2013,2013,2013,2013,2013,2013,2013,2013,2013,2013,2013,2013,2013,2013,2013,2013,2012,2012,2012,2012,2012,2012,2012,2012,2012,2012,2012,2012,2012,2012,2012,2012,2012,2012,2012,2012,2012,2012,2012,2012,2011,2011,2011,2011,2011,2011,2011,2011,2011,2011,2011,2011,2011,2011,2011,2011,2011,2011,2011,2011,2011,2011,2011,2011,2011,2011,2011,2010,2010,2010,2010,2010,2010,2010,2010,2010,2010,2010,2010,2010,2010,2010,2010,2010,2010,2010,2010,2010,2010,2010,2010,2010,2010,2010,2009,2009,2009,2009,2009,2009,2009,2009,2009,2009,2009,2009,2009,2009,2009,2009,2009,2009,2009,2009,2009,2009,2009,2009,2009,2009,2009,2009,2009,2009,2008,2008,2008,2008,2008,2008,2008,2008,2008,2008,2008,2008,2008,2008,2008,2008,2008,2008,2008,2008,2008,2008,2008,2008,2008,2008,2008,2007,2007,2007,2007,2007,2007,2007,2007,2007,2007,2007,2007,2007,2007,2007,2007,2007,2007,2007,2007,2007,2007,2007,2007,2007,2007,2006,2006,2006,2006,2006,2006,2006,2006,2006,2006,2006,2006,2006,2006,2006,2006,2006,2006,2006,2006,2006,2006,2006,2006,2005,2005,2005,2005,2005,2005,2005,2005,2005,2005,2005,2005,2005,2005,2004,2004,2004,2004,2004,2004,2004,2004,2004,2004,2004,2004,2004,2004,2004,2004,2003,2003,2003,2003,2003,2003,2003,2003,2003,2003,2003,2003,2003,2003,2003,2003,2003,2003,2003,2002,2002,2002,2002,2002,2002,2002,2002,2002,2002,2002,2002,2002,2002,2002,2002,2001,2001,2001,2001,2001,2001,2001,2001,2000,2000,2000,2000,2000,2000,2000,2000,2000,2000,2000,2000,2000,2000,2000,2000,1999,1999,1999,1999,1999,1999,1999,1999,1999,1999,1999,1999,1999,1999,1998,1998,1998,1998,1998,1998,1998,1998,1998,1998,1998,1998,1998,1998,1998,1998,1998,1998,1997,1997,1997,1997,1997,1997,1997,1997,1997,1997,1997,1997,1997,1997,1997,1997,1997,1996,1996,1996,1996,1996,1996,1996,1996,1996,1996,1996,1996,1996,1995,1995,1995,1995,1995,1995,1995,1995,1994,1994,1994,1994,1994,1994,1994,1994,1994,1994,1994,1994,1994,1993,1993,1993,1993,1993,1993,1993,1993,1993,1993,1992,1992,1992,1992,1992,1992,1992,1992,1992,1992,1992,1992,1991,1991,1991,1991,1991,1991,1990,1990,1990,1990,1990,1990,1990,1990,1990,1990,1989,1989,1989,1989,1989,1989,1988,1988,1988,1988,1987,1987,1986,1986,1985,1985,1985,1985,1985,1985,1985,1985,1985,1985,1984,1984,1984,1984,1984,1984,1983,1983,1983,1983,1983,1982,1982,1982,1982,1981,1981,1973,1972,1972,1971,1971,1970,1969,1969,1969,1969,1969,1969,1969,1969,1968,1968,1968,1968,1968,1968,1968,1968,1968,1967,1967,1967,1967,1967,1967,1966,1966,1966,1965,1965,1964],\"xaxis\":\"x\",\"y\":[\"SpaceX\",\"CASC\",\"Roscosmos\",\"ULA\",\"CASC\",\"Roscosmos\",\"SpaceX\",\"JAXA\",\"Northrop\",\"CASC\",\"CASC\",\"CASC\",\"SpaceX\",\"CASC\",\"CASC\",\"SpaceX\",\"Rocket Lab\",\"CASC\",\"SpaceX\",\"CASC\",\"SpaceX\",\"CASC\",\"MHI\",\"ULA\",\"Roscosmos\",\"SpaceX\",\"Roscosmos\",\"ULA\",\"CASC\",\"Arianespace\",\"SpaceX\",\"CASC\",\"SpaceX\",\"VKS RF\",\"CASC\",\"Arianespace\",\"SpaceX\",\"Northrop\",\"ULA\",\"MHI\",\"Arianespace\",\"Rocket Lab\",\"SpaceX\",\"SpaceX\",\"Arianespace\",\"CASC\",\"CASC\",\"SpaceX\",\"VKS RF\",\"Roscosmos\",\"CASC\",\"SpaceX\",\"ISRO\",\"VKS RF\",\"Roscosmos\",\"Rocket Lab\",\"SpaceX\",\"CASC\",\"ISRO\",\"Arianespace\",\"SpaceX\",\"CASC\",\"CASC\",\"Northrop\",\"CASC\",\"Rocket Lab\",\"Northrop\",\"ILS\",\"CASC\",\"VKS RF\",\"CASC\",\"MHI\",\"CASC\",\"CASC\",\"VKS RF\",\"ULA\",\"Roscosmos\",\"Rocket Lab\",\"CASC\",\"CASC\",\"ULA\",\"SpaceX\",\"Arianespace\",\"Roscosmos\",\"Roscosmos\",\"VKS RF\",\"CASC\",\"SpaceX\",\"ISRO\",\"Roscosmos\",\"Rocket Lab\",\"SpaceX\",\"CASC\",\"Arianespace\",\"SpaceX\",\"CASC\",\"Roscosmos\",\"SpaceX\",\"ISRO\",\"Rocket Lab\",\"SpaceX\",\"CASC\",\"CASC\",\"Northrop\",\"SpaceX\",\"Roscosmos\",\"ISRO\",\"CASC\",\"Rocket Lab\",\"Arianespace\",\"CASC\",\"SpaceX\",\"SpaceX\",\"Arianespace\",\"CASC\",\"ULA\",\"JAXA\",\"SpaceX\",\"CASC\",\"Roscosmos\",\"SpaceX\",\"CASC\",\"VKS RF\",\"ISRO\",\"Rocket Lab\",\"CASC\",\"CASC\",\"SpaceX\",\"Arianespace\",\"SpaceX\",\"VKS RF\",\"ISRO\",\"Arianespace\",\"CASC\",\"Northrop\",\"SpaceX\",\"ISRO\",\"Rocket Lab\",\"VKS RF\",\"CASC\",\"MHI\",\"CASC\",\"Roscosmos\",\"CASC\",\"Arianespace\",\"ULA\",\"CASC\",\"SpaceX\",\"Arianespace\",\"MHI\",\"ISRO\",\"SpaceX\",\"CASC\",\"Arianespace\",\"ULA\",\"SpaceX\",\"CASC\",\"SpaceX\",\"SpaceX\",\"Roscosmos\",\"CASC\",\"CASC\",\"SpaceX\",\"CASC\",\"MHI\",\"CASC\",\"SpaceX\",\"CASC\",\"SpaceX\",\"Northrop\",\"CASC\",\"SpaceX\",\"CASC\",\"ULA\",\"CASC\",\"CASC\",\"Eurockot\",\"SpaceX\",\"VKS RF\",\"ULA\",\"ISRO\",\"CASC\",\"Arianespace\",\"SpaceX\",\"CASC\",\"SpaceX\",\"ISRO\",\"CASC\",\"SpaceX\",\"ULA\",\"MHI\",\"SpaceX\",\"Roscosmos\",\"SpaceX\",\"CASC\",\"Roscosmos\",\"SpaceX\",\"CASC\",\"Rocket Lab\",\"ULA\",\"CASC\",\"JAXA\",\"CASC\",\"ISRO\",\"CASC\",\"SpaceX\",\"CASC\",\"CASC\",\"SpaceX\",\"MHI\",\"SpaceX\",\"CASC\",\"CASC\",\"VKS RF\",\"CASC\",\"CASC\",\"Northrop\",\"Arianespace\",\"Northrop\",\"SpaceX\",\"ULA\",\"Roscosmos\",\"Eurockot\",\"SpaceX\",\"MHI\",\"SpaceX\",\"CASC\",\"Arianespace\",\"CASC\",\"VKS RF\",\"ULA\",\"ILS\",\"SpaceX\",\"Northrop\",\"SpaceX\",\"ULA\",\"VKS RF\",\"SpaceX\",\"Arianespace\",\"SpaceX\",\"Arianespace\",\"SpaceX\",\"SpaceX\",\"ISRO\",\"CASC\",\"Roscosmos\",\"ILS\",\"ISRO\",\"SpaceX\",\"Arianespace\",\"MHI\",\"SpaceX\",\"ISRO\",\"Arianespace\",\"SpaceX\",\"ULA\",\"CASC\",\"SpaceX\",\"MHI\",\"SpaceX\",\"Arianespace\",\"ULA\",\"SpaceX\",\"ISRO\",\"Arianespace\",\"ULA\",\"SpaceX\",\"CASC\",\"Arianespace\",\"CASC\",\"ULA\",\"Northrop\",\"CASC\",\"MHI\",\"ISRO\",\"Arianespace\",\"ULA\",\"CASC\",\"ULA\",\"CASC\",\"MHI\",\"Northrop\",\"Arianespace\",\"ISRO\",\"Arianespace\",\"ULA\",\"ISRO\",\"Arianespace\",\"ULA\",\"CASC\",\"SpaceX\",\"CASC\",\"CASC\",\"ULA\",\"SpaceX\",\"CASC\",\"ULA\",\"ISRO\",\"Arianespace\",\"SpaceX\",\"ULA\",\"ILS\",\"VKS RF\",\"CASC\",\"VKS RF\",\"SpaceX\",\"CASC\",\"SpaceX\",\"ISRO\",\"SpaceX\",\"CASC\",\"Roscosmos\",\"CASC\",\"VKS RF\",\"ULA\",\"Roscosmos\",\"Roscosmos\",\"ISRO\",\"Arianespace\",\"SpaceX\",\"MHI\",\"Eurockot\",\"VKS RF\",\"ULA\",\"ILS\",\"Arianespace\",\"ISRO\",\"SpaceX\",\"CASC\",\"SpaceX\",\"ISRO\",\"ULA\",\"Arianespace\",\"Arianespace\",\"ULA\",\"ULA\",\"ULA\",\"Arianespace\",\"ISRO\",\"CASC\",\"VKS RF\",\"ULA\",\"ISRO\",\"Arianespace\",\"MHI\",\"Arianespace\",\"ULA\",\"ISRO\",\"Arianespace\",\"Arianespace\",\"ULA\",\"SpaceX\",\"Arianespace\",\"SpaceX\",\"VKS RF\",\"ISRO\",\"MHI\",\"Kosmotras\",\"ULA\",\"ULA\",\"SpaceX\",\"SpaceX\",\"Arianespace\",\"MHI\",\"ULA\",\"SpaceX\",\"ISRO\",\"ULA\",\"Arianespace\",\"ULA\",\"MHI\",\"Kosmotras\",\"ULA\",\"Arianespace\",\"ISRO\",\"MHI\",\"SpaceX\",\"ULA\",\"Arianespace\",\"SpaceX\",\"ULA\",\"SpaceX\",\"ULA\",\"ULA\",\"SpaceX\",\"Northrop\",\"VKS RF\",\"ISRO\",\"Kosmotras\",\"MHI\",\"VKS RF\",\"ULA\",\"ULA\",\"Arianespace\",\"SpaceX\",\"ULA\",\"ISRO\",\"ULA\",\"Arianespace\",\"MHI\",\"ULA\",\"Arianespace\",\"ULA\",\"Northrop\",\"SpaceX\",\"ISRO\",\"VKS RF\",\"ULA\",\"SpaceX\",\"VKS RF\",\"Kosmotras\",\"Northrop\",\"ULA\",\"ISRO\",\"SpaceX\",\"ULA\",\"Northrop\",\"VKS RF\",\"Northrop\",\"Arianespace\",\"ULA\",\"Kosmotras\",\"MHI\",\"Arianespace\",\"ULA\",\"ISRO\",\"Northrop\",\"ULA\",\"Arianespace\",\"Northrop\",\"ULA\",\"SpaceX\",\"ISRO\",\"ULA\",\"Arianespace\",\"ULA\",\"MHI\",\"Arianespace\",\"ULA\",\"Arianespace\",\"Arianespace\",\"ULA\",\"Arianespace\",\"ULA\",\"ISRO\",\"ULA\",\"Arianespace\",\"VKS RF\",\"MHI\",\"Arianespace\",\"ULA\",\"ULA\",\"Northrop\",\"SpaceX\",\"MHI\",\"Arianespace\",\"ULA\",\"ISRO\",\"ISRO\",\"ULA\",\"ESA\",\"Arianespace\",\"MHI\",\"ULA\",\"ISRO\",\"Northrop\",\"MHI\",\"Arianespace\",\"MHI\",\"Kosmotras\",\"Arianespace\",\"ULA\",\"ULA\",\"ISRO\",\"NASA\",\"Northrop\",\"Arianespace\",\"NASA\",\"ULA\",\"Arianespace\",\"ISRO\",\"ULA\",\"ULA\",\"ULA\",\"NASA\",\"Northrop\",\"MHI\",\"ULA\",\"Arianespace\",\"SpaceX\",\"Arianespace\",\"ULA\",\"Northrop\",\"Arianespace\",\"Northrop\",\"ULA\",\"VKS RF\",\"ULA\",\"Arianespace\",\"ISRO\",\"Arianespace\",\"Kosmotras\",\"Kosmotras\",\"SpaceX\",\"Eurockot\",\"ULA\",\"Arianespace\",\"NASA\",\"MHI\",\"ULA\",\"Kosmotras\",\"NASA\",\"ULA\",\"ULA\",\"NASA\",\"MHI\",\"ULA\",\"NASA\",\"Eurockot\",\"Arianespace\",\"NASA\",\"ULA\",\"Arianespace\",\"ISRO\",\"MHI\",\"ULA\",\"NASA\",\"Arianespace\",\"Kosmotras\",\"NASA\",\"SpaceX\",\"VKS RF\",\"Arianespace\",\"ULA\",\"ULA\",\"Northrop\",\"Arianespace\",\"NASA\",\"ISRO\",\"ULA\",\"Eurockot\",\"NASA\",\"Arianespace\",\"MHI\",\"ULA\",\"Arianespace\",\"NASA\",\"CASC\",\"CASC\",\"CASC\",\"CASC\",\"ISRO\",\"Northrop\",\"Kosmotras\",\"SpaceX\",\"Kosmotras\",\"Arianespace\",\"Arianespace\",\"Arianespace\",\"NASA\",\"CASC\",\"VKS RF\",\"ISRO\",\"CASC\",\"Arianespace\",\"Northrop\",\"ULA\",\"ULA\",\"NASA\",\"MHI\",\"NASA\",\"ISRO\",\"ULA\",\"Arianespace\",\"CASC\",\"ULA\",\"NASA\",\"ULA\",\"CASC\",\"Arianespace\",\"NASA\",\"Kosmotras\",\"Kosmotras\",\"NASA\",\"CASC\",\"CASC\",\"CASC\",\"Arianespace\",\"Northrop\",\"Northrop\",\"ISRO\",\"Kosmotras\",\"CASC\",\"CASC\",\"Arianespace\",\"ULA\",\"CASC\",\"ISRO\",\"Northrop\",\"NASA\",\"Arianespace\",\"CASC\",\"Boeing\",\"CASC\",\"Arianespace\",\"CASC\",\"MHI\",\"NASA\",\"CASC\",\"Arianespace\",\"Eurockot\",\"Kosmotras\",\"NASA\",\"Boeing\",\"Arianespace\",\"Boeing\",\"CASC\",\"ILS\",\"Northrop\",\"Northrop\",\"Arianespace\",\"ILS\",\"Arianespace\",\"Northrop\",\"CASC\",\"VKS RF\",\"Kosmotras\",\"ILS\",\"CASC\",\"NASA\",\"CASC\",\"ISRO\",\"Northrop\",\"Northrop\",\"ILS\",\"Arianespace\",\"Arianespace\",\"ILS\",\"CASC\",\"VKS RF\",\"CASC\",\"CASC\",\"CASC\",\"ISRO\",\"CASC\",\"CASC\",\"CASC\",\"Arianespace\",\"Kosmotras\",\"Northrop\",\"CASC\",\"Arianespace\",\"CASC\",\"CASC\",\"CASC\",\"Eurockot\",\"CASC\",\"Lockheed\",\"ISRO\",\"Boeing\",\"Northrop\",\"ILS\",\"Eurockot\",\"Northrop\",\"CASC\",\"ILS\",\"ISRO\",\"Northrop\",\"Boeing\",\"Northrop\",\"Lockheed\",\"Kosmotras\",\"MHI\",\"NASA\",\"Boeing\",\"CASC\",\"NASA\",\"ISRO\",\"ILS\",\"Lockheed\",\"Eurockot\",\"NASA\",\"CASC\",\"NASA\",\"Eurockot\",\"NASA\",\"Northrop\",\"NASA\",\"ISRO\",\"MHI\",\"NASA\",\"NASA\",\"NASA\",\"NASA\",\"NASA\",\"CASC\",\"NASA\",\"CASC\",\"NASA\",\"Northrop\",\"Kosmotras\",\"Lockheed\",\"NASA\",\"Northrop\",\"Northrop\",\"NASA\",\"Eurockot\",\"Northrop\",\"NASA\",\"Northrop\",\"CASC\",\"Northrop\",\"NASA\",\"Lockheed\",\"Northrop\",\"CASC\",\"NASA\",\"Lockheed\",\"CASC\",\"ISRO\",\"NASA\",\"Northrop\",\"CASC\",\"Kosmotras\",\"Northrop\",\"CASC\",\"Northrop\",\"NASA\",\"NASA\",\"Northrop\",\"Northrop\",\"Northrop\",\"CASC\",\"Northrop\",\"NASA\",\"Lockheed\",\"CASC\",\"NASA\",\"Northrop\",\"CASC\",\"Northrop\",\"Northrop\",\"NASA\",\"Northrop\",\"CASC\",\"NASA\",\"Northrop\",\"NASA\",\"CASC\",\"Northrop\",\"NASA\",\"Northrop\",\"NASA\",\"NASA\",\"CASC\",\"Northrop\",\"NASA\",\"Lockheed\",\"NASA\",\"NASA\",\"NASA\",\"CASC\",\"NASA\",\"Northrop\",\"Northrop\",\"NASA\",\"NASA\",\"Northrop\",\"NASA\",\"ISRO\",\"Northrop\",\"NASA\",\"NASA\",\"NASA\",\"NASA\",\"NASA\",\"NASA\",\"NASA\",\"Northrop\",\"NASA\",\"NASA\",\"NASA\",\"ISRO\",\"NASA\",\"NASA\",\"Northrop\",\"NASA\",\"CASC\",\"NASA\",\"Northrop\",\"NASA\",\"CASC\",\"NASA\",\"Martin Marietta\",\"NASA\",\"NASA\",\"CASC\",\"NASA\",\"NASA\",\"NASA\",\"Northrop\",\"NASA\",\"Northrop\",\"NASA\",\"NASA\",\"NASA\",\"CASC\",\"Martin Marietta\",\"NASA\",\"CASC\",\"NASA\",\"NASA\",\"NASA\",\"Martin Marietta\",\"NASA\",\"NASA\",\"NASA\",\"NASA\",\"NASA\",\"NASA\",\"NASA\",\"NASA\",\"NASA\",\"NASA\",\"NASA\",\"CASC\",\"Martin Marietta\",\"NASA\",\"Northrop\",\"NASA\",\"NASA\",\"Martin Marietta\",\"NASA\",\"NASA\",\"Martin Marietta\",\"NASA\",\"NASA\",\"NASA\",\"NASA\",\"NASA\",\"Martin Marietta\",\"CASC\",\"CASC\",\"CASC\",\"CASC\",\"NASA\",\"NASA\",\"NASA\",\"CASC\",\"NASA\",\"NASA\",\"NASA\",\"NASA\",\"NASA\",\"NASA\",\"NASA\",\"NASA\",\"NASA\",\"CASC\",\"NASA\",\"NASA\",\"NASA\",\"NASA\",\"NASA\",\"CASC\",\"NASA\",\"NASA\",\"NASA\",\"CASC\",\"NASA\",\"NASA\",\"NASA\",\"NASA\",\"NASA\",\"NASA\",\"NASA\",\"NASA\",\"NASA\",\"NASA\",\"NASA\",\"NASA\",\"US Air Force\",\"NASA\",\"US Air Force\",\"US Air Force\",\"NASA\",\"US Air Force\",\"NASA\",\"US Air Force\",\"US Air Force\",\"US Air Force\",\"US Air Force\",\"US Air Force\",\"US Air Force\",\"US Air Force\",\"US Air Force\",\"US Air Force\",\"NASA\",\"US Air Force\",\"US Air Force\",\"US Air Force\",\"US Air Force\",\"US Air Force\",\"US Air Force\",\"US Air Force\",\"US Air Force\",\"US Air Force\",\"US Air Force\"],\"yaxis\":\"y\",\"type\":\"scatter\"},{\"hovertemplate\":\"Status Mission=Failure<br>Year=%{x}<br>Company Name=%{y}<br>Rocket Cost=%{marker.size}<extra></extra>\",\"legendgroup\":\"Failure\",\"marker\":{\"color\":\"Crimson\",\"size\":[28.3,7.5,12.0,29.15,37.0,64.68,31.0,7.5,64.68,15.0,56.5,80.0,65.0,45.0,47.0,47.0,45.0,7.0,7.0,29.0,47.0,7.0,41.8,450.0,200.0,45.0,40.0,20.0,40.0,40.0,35.0,25.0,136.6,450.0,59.0,63.23],\"sizemode\":\"area\",\"sizeref\":1.5912208504801097,\"symbol\":\"circle\"},\"mode\":\"markers\",\"name\":\"Failure\",\"orientation\":\"h\",\"showlegend\":true,\"x\":[2020,2020,2020,2020,2019,2019,2017,2017,2016,2015,2015,2014,2013,2011,2010,2010,2009,2008,2007,2006,2006,2006,2005,2003,2002,2001,1996,1995,1995,1994,1993,1993,1990,1986,1967,1964],\"xaxis\":\"x\",\"y\":[\"ExPace\",\"Rocket Lab\",\"Virgin Orbit\",\"CASC\",\"Arianespace\",\"CASC\",\"ISRO\",\"Rocket Lab\",\"CASC\",\"Sandia\",\"SpaceX\",\"Northrop\",\"VKS RF\",\"Northrop\",\"ISRO\",\"ISRO\",\"Northrop\",\"SpaceX\",\"SpaceX\",\"Kosmotras\",\"ISRO\",\"SpaceX\",\"Eurockot\",\"NASA\",\"Arianespace\",\"Northrop\",\"Northrop\",\"EER\",\"Northrop\",\"Northrop\",\"Martin Marietta\",\"ISRO\",\"Martin Marietta\",\"NASA\",\"US Air Force\",\"US Air Force\"],\"yaxis\":\"y\",\"type\":\"scatter\"},{\"hovertemplate\":\"Status Mission=Partial Failure<br>Year=%{x}<br>Company Name=%{y}<br>Rocket Cost=%{marker.size}<extra></extra>\",\"legendgroup\":\"Partial Failure\",\"marker\":{\"color\":\"Gold\",\"size\":[200.0,48.5,29.15,29.75,41.8,59.5,41.8,47.0,109.0,350.0,47.0,25.0,69.7,40.0,40.0,1160.0,59.0],\"sizemode\":\"area\",\"sizeref\":1.5912208504801097,\"symbol\":\"circle\"},\"mode\":\"markers\",\"name\":\"Partial Failure\",\"orientation\":\"h\",\"showlegend\":true,\"x\":[2018,2017,2017,2016,2013,2012,2011,2007,2007,2004,2001,1997,1994,1994,1991,1968,1967],\"xaxis\":\"x\",\"y\":[\"Arianespace\",\"Roscosmos\",\"CASC\",\"CASC\",\"VKS RF\",\"SpaceX\",\"VKS RF\",\"ISRO\",\"ULA\",\"Boeing\",\"ISRO\",\"ISRO\",\"CASC\",\"Northrop\",\"Northrop\",\"NASA\",\"US Air Force\"],\"yaxis\":\"y\",\"type\":\"scatter\"},{\"hovertemplate\":\"Status Mission=Prelaunch Failure<br>Year=%{x}<br>Company Name=%{y}<br>Rocket Cost=%{marker.size}<extra></extra>\",\"legendgroup\":\"Prelaunch Failure\",\"marker\":{\"color\":\"AquaMarine\",\"size\":[62.0],\"sizemode\":\"area\",\"sizeref\":1.5912208504801097,\"symbol\":\"circle\"},\"mode\":\"markers\",\"name\":\"Prelaunch Failure\",\"orientation\":\"h\",\"showlegend\":true,\"x\":[2016],\"xaxis\":\"x\",\"y\":[\"SpaceX\"],\"yaxis\":\"y\",\"type\":\"scatter\"}],                        {\"template\":{\"data\":{\"barpolar\":[{\"marker\":{\"line\":{\"color\":\"white\",\"width\":0.5},\"pattern\":{\"fillmode\":\"overlay\",\"size\":10,\"solidity\":0.2}},\"type\":\"barpolar\"}],\"bar\":[{\"error_x\":{\"color\":\"rgb(36,36,36)\"},\"error_y\":{\"color\":\"rgb(36,36,36)\"},\"marker\":{\"line\":{\"color\":\"white\",\"width\":0.5},\"pattern\":{\"fillmode\":\"overlay\",\"size\":10,\"solidity\":0.2}},\"type\":\"bar\"}],\"carpet\":[{\"aaxis\":{\"endlinecolor\":\"rgb(36,36,36)\",\"gridcolor\":\"white\",\"linecolor\":\"white\",\"minorgridcolor\":\"white\",\"startlinecolor\":\"rgb(36,36,36)\"},\"baxis\":{\"endlinecolor\":\"rgb(36,36,36)\",\"gridcolor\":\"white\",\"linecolor\":\"white\",\"minorgridcolor\":\"white\",\"startlinecolor\":\"rgb(36,36,36)\"},\"type\":\"carpet\"}],\"choropleth\":[{\"colorbar\":{\"outlinewidth\":1,\"tickcolor\":\"rgb(36,36,36)\",\"ticks\":\"outside\"},\"type\":\"choropleth\"}],\"contourcarpet\":[{\"colorbar\":{\"outlinewidth\":1,\"tickcolor\":\"rgb(36,36,36)\",\"ticks\":\"outside\"},\"type\":\"contourcarpet\"}],\"contour\":[{\"colorbar\":{\"outlinewidth\":1,\"tickcolor\":\"rgb(36,36,36)\",\"ticks\":\"outside\"},\"colorscale\":[[0.0,\"#440154\"],[0.1111111111111111,\"#482878\"],[0.2222222222222222,\"#3e4989\"],[0.3333333333333333,\"#31688e\"],[0.4444444444444444,\"#26828e\"],[0.5555555555555556,\"#1f9e89\"],[0.6666666666666666,\"#35b779\"],[0.7777777777777778,\"#6ece58\"],[0.8888888888888888,\"#b5de2b\"],[1.0,\"#fde725\"]],\"type\":\"contour\"}],\"heatmapgl\":[{\"colorbar\":{\"outlinewidth\":1,\"tickcolor\":\"rgb(36,36,36)\",\"ticks\":\"outside\"},\"colorscale\":[[0.0,\"#440154\"],[0.1111111111111111,\"#482878\"],[0.2222222222222222,\"#3e4989\"],[0.3333333333333333,\"#31688e\"],[0.4444444444444444,\"#26828e\"],[0.5555555555555556,\"#1f9e89\"],[0.6666666666666666,\"#35b779\"],[0.7777777777777778,\"#6ece58\"],[0.8888888888888888,\"#b5de2b\"],[1.0,\"#fde725\"]],\"type\":\"heatmapgl\"}],\"heatmap\":[{\"colorbar\":{\"outlinewidth\":1,\"tickcolor\":\"rgb(36,36,36)\",\"ticks\":\"outside\"},\"colorscale\":[[0.0,\"#440154\"],[0.1111111111111111,\"#482878\"],[0.2222222222222222,\"#3e4989\"],[0.3333333333333333,\"#31688e\"],[0.4444444444444444,\"#26828e\"],[0.5555555555555556,\"#1f9e89\"],[0.6666666666666666,\"#35b779\"],[0.7777777777777778,\"#6ece58\"],[0.8888888888888888,\"#b5de2b\"],[1.0,\"#fde725\"]],\"type\":\"heatmap\"}],\"histogram2dcontour\":[{\"colorbar\":{\"outlinewidth\":1,\"tickcolor\":\"rgb(36,36,36)\",\"ticks\":\"outside\"},\"colorscale\":[[0.0,\"#440154\"],[0.1111111111111111,\"#482878\"],[0.2222222222222222,\"#3e4989\"],[0.3333333333333333,\"#31688e\"],[0.4444444444444444,\"#26828e\"],[0.5555555555555556,\"#1f9e89\"],[0.6666666666666666,\"#35b779\"],[0.7777777777777778,\"#6ece58\"],[0.8888888888888888,\"#b5de2b\"],[1.0,\"#fde725\"]],\"type\":\"histogram2dcontour\"}],\"histogram2d\":[{\"colorbar\":{\"outlinewidth\":1,\"tickcolor\":\"rgb(36,36,36)\",\"ticks\":\"outside\"},\"colorscale\":[[0.0,\"#440154\"],[0.1111111111111111,\"#482878\"],[0.2222222222222222,\"#3e4989\"],[0.3333333333333333,\"#31688e\"],[0.4444444444444444,\"#26828e\"],[0.5555555555555556,\"#1f9e89\"],[0.6666666666666666,\"#35b779\"],[0.7777777777777778,\"#6ece58\"],[0.8888888888888888,\"#b5de2b\"],[1.0,\"#fde725\"]],\"type\":\"histogram2d\"}],\"histogram\":[{\"marker\":{\"line\":{\"color\":\"white\",\"width\":0.6}},\"type\":\"histogram\"}],\"mesh3d\":[{\"colorbar\":{\"outlinewidth\":1,\"tickcolor\":\"rgb(36,36,36)\",\"ticks\":\"outside\"},\"type\":\"mesh3d\"}],\"parcoords\":[{\"line\":{\"colorbar\":{\"outlinewidth\":1,\"tickcolor\":\"rgb(36,36,36)\",\"ticks\":\"outside\"}},\"type\":\"parcoords\"}],\"pie\":[{\"automargin\":true,\"type\":\"pie\"}],\"scatter3d\":[{\"line\":{\"colorbar\":{\"outlinewidth\":1,\"tickcolor\":\"rgb(36,36,36)\",\"ticks\":\"outside\"}},\"marker\":{\"colorbar\":{\"outlinewidth\":1,\"tickcolor\":\"rgb(36,36,36)\",\"ticks\":\"outside\"}},\"type\":\"scatter3d\"}],\"scattercarpet\":[{\"marker\":{\"colorbar\":{\"outlinewidth\":1,\"tickcolor\":\"rgb(36,36,36)\",\"ticks\":\"outside\"}},\"type\":\"scattercarpet\"}],\"scattergeo\":[{\"marker\":{\"colorbar\":{\"outlinewidth\":1,\"tickcolor\":\"rgb(36,36,36)\",\"ticks\":\"outside\"}},\"type\":\"scattergeo\"}],\"scattergl\":[{\"marker\":{\"colorbar\":{\"outlinewidth\":1,\"tickcolor\":\"rgb(36,36,36)\",\"ticks\":\"outside\"}},\"type\":\"scattergl\"}],\"scattermapbox\":[{\"marker\":{\"colorbar\":{\"outlinewidth\":1,\"tickcolor\":\"rgb(36,36,36)\",\"ticks\":\"outside\"}},\"type\":\"scattermapbox\"}],\"scatterpolargl\":[{\"marker\":{\"colorbar\":{\"outlinewidth\":1,\"tickcolor\":\"rgb(36,36,36)\",\"ticks\":\"outside\"}},\"type\":\"scatterpolargl\"}],\"scatterpolar\":[{\"marker\":{\"colorbar\":{\"outlinewidth\":1,\"tickcolor\":\"rgb(36,36,36)\",\"ticks\":\"outside\"}},\"type\":\"scatterpolar\"}],\"scatter\":[{\"fillpattern\":{\"fillmode\":\"overlay\",\"size\":10,\"solidity\":0.2},\"type\":\"scatter\"}],\"scatterternary\":[{\"marker\":{\"colorbar\":{\"outlinewidth\":1,\"tickcolor\":\"rgb(36,36,36)\",\"ticks\":\"outside\"}},\"type\":\"scatterternary\"}],\"surface\":[{\"colorbar\":{\"outlinewidth\":1,\"tickcolor\":\"rgb(36,36,36)\",\"ticks\":\"outside\"},\"colorscale\":[[0.0,\"#440154\"],[0.1111111111111111,\"#482878\"],[0.2222222222222222,\"#3e4989\"],[0.3333333333333333,\"#31688e\"],[0.4444444444444444,\"#26828e\"],[0.5555555555555556,\"#1f9e89\"],[0.6666666666666666,\"#35b779\"],[0.7777777777777778,\"#6ece58\"],[0.8888888888888888,\"#b5de2b\"],[1.0,\"#fde725\"]],\"type\":\"surface\"}],\"table\":[{\"cells\":{\"fill\":{\"color\":\"rgb(237,237,237)\"},\"line\":{\"color\":\"white\"}},\"header\":{\"fill\":{\"color\":\"rgb(217,217,217)\"},\"line\":{\"color\":\"white\"}},\"type\":\"table\"}]},\"layout\":{\"annotationdefaults\":{\"arrowhead\":0,\"arrowwidth\":1},\"autotypenumbers\":\"strict\",\"coloraxis\":{\"colorbar\":{\"outlinewidth\":1,\"tickcolor\":\"rgb(36,36,36)\",\"ticks\":\"outside\"}},\"colorscale\":{\"diverging\":[[0.0,\"rgb(103,0,31)\"],[0.1,\"rgb(178,24,43)\"],[0.2,\"rgb(214,96,77)\"],[0.3,\"rgb(244,165,130)\"],[0.4,\"rgb(253,219,199)\"],[0.5,\"rgb(247,247,247)\"],[0.6,\"rgb(209,229,240)\"],[0.7,\"rgb(146,197,222)\"],[0.8,\"rgb(67,147,195)\"],[0.9,\"rgb(33,102,172)\"],[1.0,\"rgb(5,48,97)\"]],\"sequential\":[[0.0,\"#440154\"],[0.1111111111111111,\"#482878\"],[0.2222222222222222,\"#3e4989\"],[0.3333333333333333,\"#31688e\"],[0.4444444444444444,\"#26828e\"],[0.5555555555555556,\"#1f9e89\"],[0.6666666666666666,\"#35b779\"],[0.7777777777777778,\"#6ece58\"],[0.8888888888888888,\"#b5de2b\"],[1.0,\"#fde725\"]],\"sequentialminus\":[[0.0,\"#440154\"],[0.1111111111111111,\"#482878\"],[0.2222222222222222,\"#3e4989\"],[0.3333333333333333,\"#31688e\"],[0.4444444444444444,\"#26828e\"],[0.5555555555555556,\"#1f9e89\"],[0.6666666666666666,\"#35b779\"],[0.7777777777777778,\"#6ece58\"],[0.8888888888888888,\"#b5de2b\"],[1.0,\"#fde725\"]]},\"colorway\":[\"#1F77B4\",\"#FF7F0E\",\"#2CA02C\",\"#D62728\",\"#9467BD\",\"#8C564B\",\"#E377C2\",\"#7F7F7F\",\"#BCBD22\",\"#17BECF\"],\"font\":{\"color\":\"rgb(36,36,36)\"},\"geo\":{\"bgcolor\":\"white\",\"lakecolor\":\"white\",\"landcolor\":\"white\",\"showlakes\":true,\"showland\":true,\"subunitcolor\":\"white\"},\"hoverlabel\":{\"align\":\"left\"},\"hovermode\":\"closest\",\"mapbox\":{\"style\":\"light\"},\"paper_bgcolor\":\"white\",\"plot_bgcolor\":\"white\",\"polar\":{\"angularaxis\":{\"gridcolor\":\"rgb(232,232,232)\",\"linecolor\":\"rgb(36,36,36)\",\"showgrid\":false,\"showline\":true,\"ticks\":\"outside\"},\"bgcolor\":\"white\",\"radialaxis\":{\"gridcolor\":\"rgb(232,232,232)\",\"linecolor\":\"rgb(36,36,36)\",\"showgrid\":false,\"showline\":true,\"ticks\":\"outside\"}},\"scene\":{\"xaxis\":{\"backgroundcolor\":\"white\",\"gridcolor\":\"rgb(232,232,232)\",\"gridwidth\":2,\"linecolor\":\"rgb(36,36,36)\",\"showbackground\":true,\"showgrid\":false,\"showline\":true,\"ticks\":\"outside\",\"zeroline\":false,\"zerolinecolor\":\"rgb(36,36,36)\"},\"yaxis\":{\"backgroundcolor\":\"white\",\"gridcolor\":\"rgb(232,232,232)\",\"gridwidth\":2,\"linecolor\":\"rgb(36,36,36)\",\"showbackground\":true,\"showgrid\":false,\"showline\":true,\"ticks\":\"outside\",\"zeroline\":false,\"zerolinecolor\":\"rgb(36,36,36)\"},\"zaxis\":{\"backgroundcolor\":\"white\",\"gridcolor\":\"rgb(232,232,232)\",\"gridwidth\":2,\"linecolor\":\"rgb(36,36,36)\",\"showbackground\":true,\"showgrid\":false,\"showline\":true,\"ticks\":\"outside\",\"zeroline\":false,\"zerolinecolor\":\"rgb(36,36,36)\"}},\"shapedefaults\":{\"fillcolor\":\"black\",\"line\":{\"width\":0},\"opacity\":0.3},\"ternary\":{\"aaxis\":{\"gridcolor\":\"rgb(232,232,232)\",\"linecolor\":\"rgb(36,36,36)\",\"showgrid\":false,\"showline\":true,\"ticks\":\"outside\"},\"baxis\":{\"gridcolor\":\"rgb(232,232,232)\",\"linecolor\":\"rgb(36,36,36)\",\"showgrid\":false,\"showline\":true,\"ticks\":\"outside\"},\"bgcolor\":\"white\",\"caxis\":{\"gridcolor\":\"rgb(232,232,232)\",\"linecolor\":\"rgb(36,36,36)\",\"showgrid\":false,\"showline\":true,\"ticks\":\"outside\"}},\"title\":{\"x\":0.05},\"xaxis\":{\"automargin\":true,\"gridcolor\":\"rgb(232,232,232)\",\"linecolor\":\"rgb(36,36,36)\",\"showgrid\":false,\"showline\":true,\"ticks\":\"outside\",\"title\":{\"standoff\":15},\"zeroline\":false,\"zerolinecolor\":\"rgb(36,36,36)\"},\"yaxis\":{\"automargin\":true,\"gridcolor\":\"rgb(232,232,232)\",\"linecolor\":\"rgb(36,36,36)\",\"showgrid\":false,\"showline\":true,\"ticks\":\"outside\",\"title\":{\"standoff\":15},\"zeroline\":false,\"zerolinecolor\":\"rgb(36,36,36)\"}}},\"xaxis\":{\"anchor\":\"y\",\"domain\":[0.0,1.0],\"title\":{\"text\":\"Year\"}},\"yaxis\":{\"anchor\":\"x\",\"domain\":[0.0,1.0],\"title\":{\"text\":\"Company Name\"}},\"legend\":{\"title\":{\"text\":\"Status Mission\"},\"tracegroupgap\":0,\"itemsizing\":\"constant\"},\"margin\":{\"t\":50,\"l\":80,\"r\":80,\"b\":10},\"title\":{\"text\":\"<b>Total Mission Cost (millions) by Organisation</b>\",\"x\":0.5}},                        {\"responsive\": true}                    ).then(function(){\n",
       "                            \n",
       "var gd = document.getElementById('ae6e9a9e-64d7-4d8b-9755-222430acfd0f');\n",
       "var x = new MutationObserver(function (mutations, observer) {{\n",
       "        var display = window.getComputedStyle(gd).display;\n",
       "        if (!display || display === 'none') {{\n",
       "            console.log([gd, 'removed!']);\n",
       "            Plotly.purge(gd);\n",
       "            observer.disconnect();\n",
       "        }}\n",
       "}});\n",
       "\n",
       "// Listen for the removal of the full notebook cells\n",
       "var notebookContainer = gd.closest('#notebook-container');\n",
       "if (notebookContainer) {{\n",
       "    x.observe(notebookContainer, {childList: true});\n",
       "}}\n",
       "\n",
       "// Listen for the clearing of the current output cell\n",
       "var outputEl = gd.closest('.output');\n",
       "if (outputEl) {{\n",
       "    x.observe(outputEl, {childList: true});\n",
       "}}\n",
       "\n",
       "                        })                };                });            </script>        </div>"
      ]
     },
     "metadata": {},
     "output_type": "display_data"
    }
   ],
   "source": [
    "#New scattter plot to show the relationship between cost per organisation over the years\n",
    "fig = px.scatter(sm[sm[\"Rocket Cost\"].between(1,4999)], \n",
    "                x=\"Year\", \n",
    "                y=\"Company Name\", \n",
    "                color=\"Status Mission\", \n",
    "                color_discrete_map={\n",
    "                    \"Success\":\"RebeccaPurple\",\n",
    "                    \"Failure\":\"Crimson\",\n",
    "                    \"Partial Failure\":\"Gold\",\n",
    "                    \"Prelaunch Failure\":\"AquaMarine\"},\n",
    "                size=\"Rocket Cost\", \n",
    "                size_max=27)\n",
    "fig.update_layout(margin = dict(l=80, r=80, t=50, b=10), template = \"simple_white\", \n",
    "                  title = { \"text\" : \"<b>Total Mission Cost (millions) by Organisation</b>\", \"x\" : 0.5})\n",
    "fig.show()"
   ]
  },
  {
   "cell_type": "markdown",
   "id": "bc82ee50",
   "metadata": {},
   "source": [
    "To strenghten our previous point, launches made by organisations past the year 2000 have been able to carry out more launches despite any sort of failures. Using SpaceX (a private space organisation) as an example, between 2006-2008, all 3 launches ended in failure. However the cost were very low for a rocket launch and they have been able to invest in more launches with higher success towards 2020. "
   ]
  },
  {
   "cell_type": "markdown",
   "id": "3b7263ff",
   "metadata": {},
   "source": [
    "More and more organisations are taking to the skies once more and continuous avdances in technology and resources have made future missions very promising and exciting.  "
   ]
  }
 ],
 "metadata": {
  "kernelspec": {
   "display_name": "Python 3 (ipykernel)",
   "language": "python",
   "name": "python3"
  },
  "language_info": {
   "codemirror_mode": {
    "name": "ipython",
    "version": 3
   },
   "file_extension": ".py",
   "mimetype": "text/x-python",
   "name": "python",
   "nbconvert_exporter": "python",
   "pygments_lexer": "ipython3",
   "version": "3.9.12"
  }
 },
 "nbformat": 4,
 "nbformat_minor": 5
}
